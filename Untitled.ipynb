{
 "cells": [
  {
   "cell_type": "code",
   "execution_count": 4,
   "id": "0b340cb2-33dc-4c86-a2d1-baf60d10f6f0",
   "metadata": {},
   "outputs": [],
   "source": [
    "import pandas as pd\n",
    "import numpy as np\n",
    "from datetime import datetime, timedelta"
   ]
  },
  {
   "cell_type": "code",
   "execution_count": 22,
   "id": "29bd2fe9-ebd4-4162-9531-893f186d04c3",
   "metadata": {},
   "outputs": [
    {
     "name": "stderr",
     "output_type": "stream",
     "text": [
      "/opt/anaconda3/lib/python3.12/site-packages/openpyxl/styles/stylesheet.py:237: UserWarning: Workbook contains no default style, apply openpyxl's default\n",
      "  warn(\"Workbook contains no default style, apply openpyxl's default\")\n"
     ]
    }
   ],
   "source": [
    "df = pd.read_excel('/Users/seanyu_mac/Downloads/주문내역_2024-02-26~2025-02-26.xlsx')"
   ]
  },
  {
   "cell_type": "code",
   "execution_count": 40,
   "id": "eae0e219-35bb-440d-b2b1-51ec3e2a5abb",
   "metadata": {},
   "outputs": [
    {
     "data": {
      "text/plain": [
       "array([50557, 50425, 50005, 50042, 50000, 50006, 50010, 50009, 50003,\n",
       "       50002, 50027, 50012, 50014, 50022, 50416, 50085, 50476, 50550,\n",
       "       50029, 50048, 50040, 50089, 50025, 50401, 50026, 50021, 50081,\n",
       "       50092, 50086, 50082, 50030, 50462, 50033, 50359, 50004, 50235,\n",
       "       50043, 50023, 50083, 50091])"
      ]
     },
     "execution_count": 40,
     "metadata": {},
     "output_type": "execute_result"
    }
   ],
   "source": [
    "con1 = df['주문 상태'] == '배송중'\n",
    "con2 = df['주문 상태'] == '배송완료'\n",
    "con3 = df['주문 상태'] == '구매확정'\n",
    "df = df[con1 | con2 | con3]\n",
    "df['상품 번호'].unique()"
   ]
  },
  {
   "cell_type": "code",
   "execution_count": 52,
   "id": "a9d0a558-52cc-4c16-9bb7-e6163d0f1ab0",
   "metadata": {},
   "outputs": [
    {
     "data": {
      "text/plain": [
       "40"
      ]
     },
     "execution_count": 52,
     "metadata": {},
     "output_type": "execute_result"
    }
   ],
   "source": [
    "remove_products = df['상품명'].unique().tolist()\n",
    "len(remove_products)"
   ]
  },
  {
   "cell_type": "code",
   "execution_count": 62,
   "id": "70389048-ae85-4f27-8177-2d5ca9bf3d1e",
   "metadata": {},
   "outputs": [
    {
     "name": "stdout",
     "output_type": "stream",
     "text": [
      "[공동구매] 위키약사 X YDY 포스트바이오틱스GX / 4박스 6박스 12박스\n",
      "임직원용 PB 상품 구매 페이지\n",
      "[스페셜할인코드/친한] YDY 프로바이오 에스엘비 1박스(2개월분)\n",
      "[스페셜할인코드/안재돈약사] YDY 퓨어리포좀글루타치온 1박스 (30일분)\n",
      "[스페셜할인코드/친한] YDY 폴라초임계오메가3 1박스 (1개월분)\n",
      "[스페셜할인코드/친한] YDY 코랄칼마디 1박스(1개월분) / 칼슘 마그네슘 비타민D\n",
      "[스페셜할인코드/친한] YDY 썬비타민 D3 & K2 1박스(60일분)\n",
      "[스페셜할인코드/친한] YDY 풀스펙멀티비타민 1박스(1개월분)\n",
      "[스페셜할인코드/친한] YDY 마그듀오 1박스(1개월분)\n",
      "[스페셜할인코드/친한] YDY 액티브비큐텐 1박스(1개월분)\n",
      "[스페셜할인코드/고상온약사] YDY 퓨어리포좀글루타치온 1박스 (30일분)\n",
      "[스페셜할인코드/친한] YDY 파이토 레드큐민 1박스(1개월분) /커큐민\n",
      "[스페셜할인코드/친한] YDY 퓨어리포좀비타민C 1박스(1개월분)\n",
      "[스페셜할인코드/고상온약사] YDY 액티브비큐텐 1박스(1개월분)\n",
      "[스페셜할인코드/위키약사] YDY 코랄칼마디 1박스(1개월분) / 칼슘 마그네슘 비타민D\n",
      "[스페셜할인코드/남기헌약사] YDY 프로바이오 에스엘비 1박스(2개월분)\n",
      "[스페셜할인코드/임상우약사] YDY 프로바이오 에스엘비 1박스(2개월분)\n",
      "[공동구매] 우리약사 X 센스밸런스 헤모츄 / 2box, 4box, 8box\n",
      "[스페셜할인코드/고상온약사] YDY 풀스펙멀티비타민 1박스(1개월분)\n",
      "[스페셜할인코드/안재돈약사] YDY 폴라초임계오메가3 1박스(1개월분)\n",
      "[스페셜할인코드/안재돈약사] YDY 풀스펙멀티비타민 1박스(1개월분)\n",
      "[스페셜할인코드/남기헌약사] YDY 풀스펙멀티비타민 1박스(1개월분)\n",
      "[스페셜할인코드/고상온약사] YDY 프로바이오 에스엘비 1박스(2개월분)\n",
      "[스페셜할인코드/약사임당] YDY 코랄칼마디 1박스(1개월분) / 칼슘 마그네슘 비타민D\n",
      "[스페셜할인코드/고상온약사] YDY 코랄칼마디 1박스(1개월분) / 칼슘 마그네슘 비타민D\n",
      "[스페셜할인코드/고상온약사] YDY 폴라초임계오메가3 1박스(1개월분)\n",
      "[스페셜할인코드/남기헌약사] YDY 폴라초임계오메가3 1박스(1개월분)\n",
      "[스페셜할인코드/남기헌약사] YDY 파이토 레드큐민 1박스(1개월분) /커큐민\n",
      "[스페셜할인코드/남기헌약사] YDY 코랄칼마디 1박스(1개월분) / 칼슘 마그네슘 비타민D\n",
      "[스페셜할인코드/남기헌약사] YDY 액티브비큐텐 1박스(1개월분)\n",
      "[스페셜할인코드/고상온약사] YDY 썬비타민 D3 & K2 1박스(60일분)\n",
      "[스페셜할인코드/이재연약사] YDY 코랄칼마디 1박스(1개월분) / 칼슘 마그네슘 비타민D\n",
      "[스페셜할인코드/고상온약사] YDY 액티브헴철 1박스 (30일분)\n",
      "[스페셜할인코드/쏘핏약사] YDY 풀스펙멀티비타민 1박스(1개월분)\n",
      "[스페셜할인코드/친한] YDY 오큐클리어 1박스(1개월분)\n",
      "[스페셜할인코드/봄약사] YDY 프로바이오 에스엘비 1박스(2개월분)\n",
      "[스페셜할인코드/안재돈약사] YDY 코랄칼마디 1박스(1개월분) / 칼슘 마그네슘 비타민D\n",
      "[스페셜할인코드/고상온약사] YDY 마그듀오 1박스(1개월분)\n",
      "[스페셜할인코드/남기헌약사] YDY 마그듀오 1박스(1개월분)\n",
      "[스페셜할인코드/남기헌약사] YDY 내몸에 효소가득 1박스 (30일분)\n"
     ]
    }
   ],
   "source": [
    "for i in remove_products:\n",
    "    print(i)"
   ]
  }
 ],
 "metadata": {
  "kernelspec": {
   "display_name": "Python 3 (ipykernel)",
   "language": "python",
   "name": "python3"
  },
  "language_info": {
   "codemirror_mode": {
    "name": "ipython",
    "version": 3
   },
   "file_extension": ".py",
   "mimetype": "text/x-python",
   "name": "python",
   "nbconvert_exporter": "python",
   "pygments_lexer": "ipython3",
   "version": "3.12.7"
  }
 },
 "nbformat": 4,
 "nbformat_minor": 5
}
