{
 "cells": [
  {
   "cell_type": "code",
   "execution_count": null,
   "id": "c859a5e4-eb20-4a48-9037-3abc43253ddf",
   "metadata": {},
   "outputs": [],
   "source": []
  }
 ],
 "metadata": {
  "kernelspec": {
   "display_name": "",
   "name": ""
  },
  "language_info": {
   "name": ""
  }
 },
 "nbformat": 4,
 "nbformat_minor": 5
}
