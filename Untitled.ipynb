{
 "cells": [
  {
   "cell_type": "code",
   "execution_count": 1,
   "id": "b04a99dc-e06f-4c25-821e-5aa18900edb6",
   "metadata": {},
   "outputs": [],
   "source": [
    "import pandas as pd\n",
    "import numpy as np\n",
    "from datetime import datetime, timedelta\n",
    "import warnings\n",
    "warnings.simplefilter('ignore')"
   ]
  },
  {
   "cell_type": "code",
   "execution_count": 2,
   "id": "4a6f3737-91e5-49a2-bfac-779eb338c12c",
   "metadata": {},
   "outputs": [],
   "source": [
    "df = pd.read_excel('/Users/seanyu_mac/Downloads/주문내역_51269_2024-04-22~2025-04-22.xlsx')"
   ]
  },
  {
   "cell_type": "code",
   "execution_count": 3,
   "id": "9bbd6eab-73eb-44c5-bf6c-e34118d504a8",
   "metadata": {},
   "outputs": [],
   "source": [
    "df = df[df['주문 상태'] == '결제완료']"
   ]
  },
  {
   "cell_type": "code",
   "execution_count": 4,
   "id": "c48040c7-5bd1-4e4b-9bae-9b2c6780dfb5",
   "metadata": {},
   "outputs": [],
   "source": [
    "df['결제 완료일'] = df['결제 완료일'].apply(lambda x: x.strftime('%Y-%m-%d'))\n",
    "temp_df = pd.pivot_table(df, index=['결제 완료일','옵션명'], values='정산가', aggfunc='sum', margins=True, margins_name='합계')"
   ]
  },
  {
   "cell_type": "code",
   "execution_count": 5,
   "id": "e31df1d0-1381-41c3-8591-499550d9577e",
   "metadata": {},
   "outputs": [],
   "source": [
    "col = pd.pivot_table(df, index=['결제 완료일','옵션명'], values='결제 번호', aggfunc='count', margins=True, margins_name='합계')['결제 번호']\n",
    "temp_df['주문수량'] = col"
   ]
  },
  {
   "cell_type": "code",
   "execution_count": 6,
   "id": "462a58b3-6127-44c3-9f3e-ff5b57c6325e",
   "metadata": {},
   "outputs": [],
   "source": [
    "temp_df.rename(columns={'정산가': '매출'})\n",
    "a = 12*3 +  3*2 + 6*9\n",
    "temp_df['박스수량'] = [12*3, 3*2, 6*9, a]\n"
   ]
  },
  {
   "cell_type": "code",
   "execution_count": 13,
   "id": "550b71dd-f316-4714-8e6a-b1bea6ae0189",
   "metadata": {},
   "outputs": [
    {
     "data": {
      "text/html": [
       "<div>\n",
       "<style scoped>\n",
       "    .dataframe tbody tr th:only-of-type {\n",
       "        vertical-align: middle;\n",
       "    }\n",
       "\n",
       "    .dataframe tbody tr th {\n",
       "        vertical-align: top;\n",
       "    }\n",
       "\n",
       "    .dataframe thead th {\n",
       "        text-align: right;\n",
       "    }\n",
       "</style>\n",
       "<table border=\"1\" class=\"dataframe\">\n",
       "  <thead>\n",
       "    <tr style=\"text-align: right;\">\n",
       "      <th></th>\n",
       "      <th></th>\n",
       "      <th>정산가</th>\n",
       "      <th>주문수량</th>\n",
       "      <th>박스수량</th>\n",
       "    </tr>\n",
       "    <tr>\n",
       "      <th>결제 완료일</th>\n",
       "      <th>옵션명</th>\n",
       "      <th></th>\n",
       "      <th></th>\n",
       "      <th></th>\n",
       "    </tr>\n",
       "  </thead>\n",
       "  <tbody>\n",
       "    <tr>\n",
       "      <th rowspan=\"3\" valign=\"top\">2025-04-22</th>\n",
       "      <th>12박스 (총 12개월분)_50%할인</th>\n",
       "      <td>780000</td>\n",
       "      <td>3</td>\n",
       "      <td>36</td>\n",
       "    </tr>\n",
       "    <tr>\n",
       "      <th>3박스 (총 3개월분)_31%할인</th>\n",
       "      <td>178000</td>\n",
       "      <td>2</td>\n",
       "      <td>6</td>\n",
       "    </tr>\n",
       "    <tr>\n",
       "      <th>6박스 (총 6개월분)_45%할인</th>\n",
       "      <td>1278000</td>\n",
       "      <td>9</td>\n",
       "      <td>54</td>\n",
       "    </tr>\n",
       "    <tr>\n",
       "      <th>합계</th>\n",
       "      <th></th>\n",
       "      <td>2236000</td>\n",
       "      <td>14</td>\n",
       "      <td>96</td>\n",
       "    </tr>\n",
       "  </tbody>\n",
       "</table>\n",
       "</div>"
      ],
      "text/plain": [
       "                                     정산가  주문수량  박스수량\n",
       "결제 완료일     옵션명                                      \n",
       "2025-04-22 12박스 (총 12개월분)_50%할인   780000     3    36\n",
       "           3박스 (총 3개월분)_31%할인     178000     2     6\n",
       "           6박스 (총 6개월분)_45%할인    1278000     9    54\n",
       "합계                               2236000    14    96"
      ]
     },
     "execution_count": 13,
     "metadata": {},
     "output_type": "execute_result"
    }
   ],
   "source": [
    "temp_df"
   ]
  }
 ],
 "metadata": {
  "kernelspec": {
   "display_name": "Python 3 (ipykernel)",
   "language": "python",
   "name": "python3"
  },
  "language_info": {
   "codemirror_mode": {
    "name": "ipython",
    "version": 3
   },
   "file_extension": ".py",
   "mimetype": "text/x-python",
   "name": "python",
   "nbconvert_exporter": "python",
   "pygments_lexer": "ipython3",
   "version": "3.12.7"
  }
 },
 "nbformat": 4,
 "nbformat_minor": 5
}
