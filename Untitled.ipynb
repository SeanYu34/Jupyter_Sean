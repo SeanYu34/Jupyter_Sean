{
 "cells": [
  {
   "cell_type": "code",
   "execution_count": 3,
   "id": "ae47e0c5-bf4b-4a77-8f80-9ee9653da26e",
   "metadata": {},
   "outputs": [
    {
     "name": "stderr",
     "output_type": "stream",
     "text": [
      "/opt/anaconda3/lib/python3.12/site-packages/openpyxl/styles/stylesheet.py:237: UserWarning: Workbook contains no default style, apply openpyxl's default\n",
      "  warn(\"Workbook contains no default style, apply openpyxl's default\")\n"
     ]
    },
    {
     "data": {
      "text/plain": [
       "array(['배송완료', '구매확정', '취소완료', '반품완료(반품완료)', '판매자취소'], dtype=object)"
      ]
     },
     "execution_count": 3,
     "metadata": {},
     "output_type": "execute_result"
    }
   ],
   "source": [
    "import pandas as pd\n",
    "df = pd.read_excel('/Users/seanyu_mac/Downloads/주문내역_50557_2024-03-12~2025-03-12.xlsx')\n",
    "df['주문 상태'].unique()"
   ]
  },
  {
   "cell_type": "code",
   "execution_count": 12,
   "id": "b44fae63-c682-4358-b752-41acda434a42",
   "metadata": {},
   "outputs": [
    {
     "data": {
      "text/plain": [
       "16178400"
      ]
     },
     "execution_count": 12,
     "metadata": {},
     "output_type": "execute_result"
    }
   ],
   "source": [
    "filter = ['배송완료', '구매확정']\n",
    "df = df[df['주문 상태'].isin(filter)]\n",
    "df['정산가'].sum()"
   ]
  },
  {
   "cell_type": "code",
   "execution_count": 22,
   "id": "e2fa66d0-f5f0-4ebd-8f4f-3b2a17086c40",
   "metadata": {},
   "outputs": [
    {
     "data": {
      "text/plain": [
       "결제 완료일\n",
       "2025-02-21    5524800\n",
       "2025-02-22    2812800\n",
       "2025-02-23    3232800\n",
       "2025-02-24    2419200\n",
       "2025-02-25     583200\n",
       "2025-02-26     799200\n",
       "2025-02-27     806400\n",
       "Freq: D, Name: 정산가, dtype: int64"
      ]
     },
     "execution_count": 22,
     "metadata": {},
     "output_type": "execute_result"
    }
   ],
   "source": [
    "df.groupby(pd.Grouper(key='결제 완료일', freq='D'))['정산가'].sum()"
   ]
  }
 ],
 "metadata": {
  "kernelspec": {
   "display_name": "Python 3 (ipykernel)",
   "language": "python",
   "name": "python3"
  },
  "language_info": {
   "codemirror_mode": {
    "name": "ipython",
    "version": 3
   },
   "file_extension": ".py",
   "mimetype": "text/x-python",
   "name": "python",
   "nbconvert_exporter": "python",
   "pygments_lexer": "ipython3",
   "version": "3.12.7"
  }
 },
 "nbformat": 4,
 "nbformat_minor": 5
}
