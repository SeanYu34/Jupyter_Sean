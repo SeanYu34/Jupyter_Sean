{
 "cells": [
  {
   "cell_type": "code",
   "execution_count": 41,
   "id": "d8518b2c-ffbc-4638-98a7-256940ca56ef",
   "metadata": {},
   "outputs": [],
   "source": [
    "import pandas as pd\n",
    "import numpy as np\n",
    "from datetime import datetime, timedelta\n",
    "import warnings\n",
    "warnings.simplefilter('ignore')\n",
    "\n",
    "pd.set_option('display.max_rows', None)      # 모든 행 출력\n",
    "pd.set_option('display.max_columns', None)   # 모든 열 출력"
   ]
  },
  {
   "cell_type": "code",
   "execution_count": 43,
   "id": "20ef8577-7a5c-49f4-8e1b-d71995352303",
   "metadata": {},
   "outputs": [],
   "source": [
    "df = pd.read_csv('/Users/seanyu_mac/Downloads/[친스-어드민] [MIG] 공동구매 상품 메인 정보 - 점검_2차.csv')"
   ]
  },
  {
   "cell_type": "code",
   "execution_count": 45,
   "id": "da5e7a65-26fd-42d9-b639-e29ea95685f5",
   "metadata": {},
   "outputs": [],
   "source": [
    "df.drop(0, inplace=True)"
   ]
  },
  {
   "cell_type": "code",
   "execution_count": 47,
   "id": "3eb31cef-9568-445b-a11a-905603c9c95e",
   "metadata": {},
   "outputs": [
    {
     "data": {
      "text/plain": [
       "Index([4, 24, 29, 31, 36, 45, 64, 75, 85, 86, 88], dtype='int64')"
      ]
     },
     "execution_count": 47,
     "metadata": {},
     "output_type": "execute_result"
    }
   ],
   "source": [
    "df[df['product_id'].isna()].index"
   ]
  },
  {
   "cell_type": "code",
   "execution_count": 49,
   "id": "01717024-0258-4acd-b4a7-55a4a2c58e38",
   "metadata": {},
   "outputs": [
    {
     "data": {
      "text/plain": [
       "Index([ 1,  2,  3,  5,  6,  7,  8,  9, 10, 11, 12, 13, 14, 15, 16, 17, 18, 19,\n",
       "       20, 21, 22, 23, 25, 26, 27, 28, 30, 32, 33, 34, 35, 37, 38, 39, 40, 41,\n",
       "       42, 43, 44, 46, 47, 48, 49, 50, 51, 52, 53, 54, 55, 56, 57, 58, 59, 60,\n",
       "       61, 62, 63, 65, 67, 68, 69, 70, 71, 72, 73, 74, 76, 77, 79, 80, 81, 82,\n",
       "       83, 84, 87, 89, 90],\n",
       "      dtype='int64')"
      ]
     },
     "execution_count": 49,
     "metadata": {},
     "output_type": "execute_result"
    }
   ],
   "source": [
    "df[df['product_id_check'].isna()].index"
   ]
  },
  {
   "cell_type": "code",
   "execution_count": 61,
   "id": "7a2f3ee0-6d50-45b3-abb0-f5d8adeeb768",
   "metadata": {},
   "outputs": [
    {
     "data": {
      "text/plain": [
       "True"
      ]
     },
     "execution_count": 61,
     "metadata": {},
     "output_type": "execute_result"
    }
   ],
   "source": [
    "merged = df[df['product_id'].isna()].index.tolist() + df[df['product_id_check'].isna()].index.tolist()\n",
    "merged = sorted(merged)\n",
    "len(merged) == len(set(merged))"
   ]
  }
 ],
 "metadata": {
  "kernelspec": {
   "display_name": "Python 3 (ipykernel)",
   "language": "python",
   "name": "python3"
  },
  "language_info": {
   "codemirror_mode": {
    "name": "ipython",
    "version": 3
   },
   "file_extension": ".py",
   "mimetype": "text/x-python",
   "name": "python",
   "nbconvert_exporter": "python",
   "pygments_lexer": "ipython3",
   "version": "3.12.7"
  }
 },
 "nbformat": 4,
 "nbformat_minor": 5
}
