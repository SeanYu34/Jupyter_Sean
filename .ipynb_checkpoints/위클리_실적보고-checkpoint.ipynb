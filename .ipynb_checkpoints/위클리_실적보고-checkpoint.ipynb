{
 "cells": [
  {
   "cell_type": "code",
   "execution_count": 103,
   "id": "152c6d19-807c-4608-8e1c-d80086f7afd8",
   "metadata": {},
   "outputs": [],
   "source": [
    "import pandas as pd\n",
    "import numpy as np\n",
    "from datetime import datetime, timedelta\n",
    "import warnings\n",
    "warnings.simplefilter('ignore')\n",
    "\n",
    "df = pd.read_csv('/Users/seanyu_mac/Downloads/[공구] 일정 신청 및 관리 시트 - 공구전체일정 (6).csv')\n",
    "fs_df = pd.read_excel('/Users/seanyu_mac/Downloads/주문내역_2024-03-19~2025-03-19.xlsx')\n",
    "auth_df = pd.read_csv('/Users/seanyu_mac/Downloads/public_pb_user_auth_info_export_2025-03-19_122333.csv')\n",
    "user_df = pd.read_csv('/Users/seanyu_mac/Downloads/query_2-2025-03-19_122424.csv')\n",
    "sales_df = pd.read_csv('/Users/seanyu_mac/Downloads/query_2-2025-03-19_122530.csv')"
   ]
  },
  {
   "cell_type": "code",
   "execution_count": 107,
   "id": "87d7def3-f201-4e66-abb6-e66968910f06",
   "metadata": {},
   "outputs": [
    {
     "data": {
      "text/html": [
       "<div>\n",
       "<style scoped>\n",
       "    .dataframe tbody tr th:only-of-type {\n",
       "        vertical-align: middle;\n",
       "    }\n",
       "\n",
       "    .dataframe tbody tr th {\n",
       "        vertical-align: top;\n",
       "    }\n",
       "\n",
       "    .dataframe thead th {\n",
       "        text-align: right;\n",
       "    }\n",
       "</style>\n",
       "<table border=\"1\" class=\"dataframe\">\n",
       "  <thead>\n",
       "    <tr style=\"text-align: right;\">\n",
       "      <th></th>\n",
       "      <th>결제 번호</th>\n",
       "      <th>상품 번호</th>\n",
       "      <th>주문 번호</th>\n",
       "      <th>결제 완료일</th>\n",
       "      <th>주문 상태</th>\n",
       "      <th>상품명</th>\n",
       "      <th>옵션명</th>\n",
       "      <th>수량</th>\n",
       "      <th>정상가</th>\n",
       "      <th>판매가</th>\n",
       "      <th>...</th>\n",
       "      <th>송장 번호</th>\n",
       "      <th>배송비 정책</th>\n",
       "      <th>배송비</th>\n",
       "      <th>도서산간 배송비</th>\n",
       "      <th>취소 완료일</th>\n",
       "      <th>판매자 취소일</th>\n",
       "      <th>반품 요청일</th>\n",
       "      <th>수거 요청일</th>\n",
       "      <th>수거 완료일</th>\n",
       "      <th>반품 완료일</th>\n",
       "    </tr>\n",
       "  </thead>\n",
       "  <tbody>\n",
       "    <tr>\n",
       "      <th>0</th>\n",
       "      <td>parma20250319115821ydOm4</td>\n",
       "      <td>51176</td>\n",
       "      <td>51271-51193</td>\n",
       "      <td>2025-03-19 11:58:43.894</td>\n",
       "      <td>결제완료</td>\n",
       "      <td>[공동구매] 쀼약사 X YDY 마그듀오 / 4박스 8박스 12박스</td>\n",
       "      <td>8박스(8개월분) (38%)</td>\n",
       "      <td>1</td>\n",
       "      <td>200000</td>\n",
       "      <td>124000</td>\n",
       "      <td>...</td>\n",
       "      <td>NaN</td>\n",
       "      <td>무료배송</td>\n",
       "      <td>0</td>\n",
       "      <td>0</td>\n",
       "      <td>NaT</td>\n",
       "      <td>NaT</td>\n",
       "      <td>NaT</td>\n",
       "      <td>NaT</td>\n",
       "      <td>NaT</td>\n",
       "      <td>NaT</td>\n",
       "    </tr>\n",
       "    <tr>\n",
       "      <th>1</th>\n",
       "      <td>parma20250319115600q7oS0</td>\n",
       "      <td>51176</td>\n",
       "      <td>51269-51192</td>\n",
       "      <td>2025-03-19 11:56:17.566</td>\n",
       "      <td>결제완료</td>\n",
       "      <td>[공동구매] 쀼약사 X YDY 마그듀오 / 4박스 8박스 12박스</td>\n",
       "      <td>4박스(4개월분) (28%)</td>\n",
       "      <td>1</td>\n",
       "      <td>100000</td>\n",
       "      <td>72000</td>\n",
       "      <td>...</td>\n",
       "      <td>NaN</td>\n",
       "      <td>무료배송</td>\n",
       "      <td>0</td>\n",
       "      <td>0</td>\n",
       "      <td>NaT</td>\n",
       "      <td>NaT</td>\n",
       "      <td>NaT</td>\n",
       "      <td>NaT</td>\n",
       "      <td>NaT</td>\n",
       "      <td>NaT</td>\n",
       "    </tr>\n",
       "    <tr>\n",
       "      <th>2</th>\n",
       "      <td>parma20250319114335m5vY2</td>\n",
       "      <td>51181</td>\n",
       "      <td>51268-51191</td>\n",
       "      <td>2025-03-19 11:44:42.979</td>\n",
       "      <td>결제완료</td>\n",
       "      <td>[공동구매] 쏘핏약사 x YDY 퓨어리포좀비타민C / 3박스 6박스 12박스</td>\n",
       "      <td>6박스(6개월분)_33%할인</td>\n",
       "      <td>1</td>\n",
       "      <td>174000</td>\n",
       "      <td>116500</td>\n",
       "      <td>...</td>\n",
       "      <td>NaN</td>\n",
       "      <td>무료배송</td>\n",
       "      <td>0</td>\n",
       "      <td>0</td>\n",
       "      <td>NaT</td>\n",
       "      <td>NaT</td>\n",
       "      <td>NaT</td>\n",
       "      <td>NaT</td>\n",
       "      <td>NaT</td>\n",
       "      <td>NaT</td>\n",
       "    </tr>\n",
       "    <tr>\n",
       "      <th>3</th>\n",
       "      <td>parma20250319113202m3Ha8</td>\n",
       "      <td>51177</td>\n",
       "      <td>51267-51190</td>\n",
       "      <td>2025-03-19 11:32:47.085</td>\n",
       "      <td>결제완료</td>\n",
       "      <td>[공동구매] 명훈약사 X YDY 퓨어리포좀글루타치온 / 3박스 6박스 12박스</td>\n",
       "      <td>6박스 (총 6개월분)_45%할인</td>\n",
       "      <td>1</td>\n",
       "      <td>258000</td>\n",
       "      <td>142000</td>\n",
       "      <td>...</td>\n",
       "      <td>NaN</td>\n",
       "      <td>무료배송</td>\n",
       "      <td>0</td>\n",
       "      <td>0</td>\n",
       "      <td>NaT</td>\n",
       "      <td>NaT</td>\n",
       "      <td>NaT</td>\n",
       "      <td>NaT</td>\n",
       "      <td>NaT</td>\n",
       "      <td>NaT</td>\n",
       "    </tr>\n",
       "    <tr>\n",
       "      <th>4</th>\n",
       "      <td>parma20250319112644jKI02</td>\n",
       "      <td>51181</td>\n",
       "      <td>51266-51189</td>\n",
       "      <td>2025-03-19 11:27:35.184</td>\n",
       "      <td>결제완료</td>\n",
       "      <td>[공동구매] 쏘핏약사 x YDY 퓨어리포좀비타민C / 3박스 6박스 12박스</td>\n",
       "      <td>3박스(3개월분)_26%할인</td>\n",
       "      <td>1</td>\n",
       "      <td>87000</td>\n",
       "      <td>64300</td>\n",
       "      <td>...</td>\n",
       "      <td>NaN</td>\n",
       "      <td>무료배송</td>\n",
       "      <td>0</td>\n",
       "      <td>0</td>\n",
       "      <td>NaT</td>\n",
       "      <td>NaT</td>\n",
       "      <td>NaT</td>\n",
       "      <td>NaT</td>\n",
       "      <td>NaT</td>\n",
       "      <td>NaT</td>\n",
       "    </tr>\n",
       "    <tr>\n",
       "      <th>...</th>\n",
       "      <td>...</td>\n",
       "      <td>...</td>\n",
       "      <td>...</td>\n",
       "      <td>...</td>\n",
       "      <td>...</td>\n",
       "      <td>...</td>\n",
       "      <td>...</td>\n",
       "      <td>...</td>\n",
       "      <td>...</td>\n",
       "      <td>...</td>\n",
       "      <td>...</td>\n",
       "      <td>...</td>\n",
       "      <td>...</td>\n",
       "      <td>...</td>\n",
       "      <td>...</td>\n",
       "      <td>...</td>\n",
       "      <td>...</td>\n",
       "      <td>...</td>\n",
       "      <td>...</td>\n",
       "      <td>...</td>\n",
       "      <td>...</td>\n",
       "    </tr>\n",
       "    <tr>\n",
       "      <th>419</th>\n",
       "      <td>parma20250221101518uSWO2</td>\n",
       "      <td>50557</td>\n",
       "      <td>50660-50774</td>\n",
       "      <td>2025-02-21 10:15:34.478</td>\n",
       "      <td>구매확정</td>\n",
       "      <td>[공동구매] 위키약사 X YDY 포스트바이오틱스GX / 4박스 6박스 12박스</td>\n",
       "      <td>4박스(4개월분)_28%</td>\n",
       "      <td>1</td>\n",
       "      <td>160000</td>\n",
       "      <td>115200</td>\n",
       "      <td>...</td>\n",
       "      <td>5.344289e+11</td>\n",
       "      <td>무료배송</td>\n",
       "      <td>0</td>\n",
       "      <td>0</td>\n",
       "      <td>NaT</td>\n",
       "      <td>NaT</td>\n",
       "      <td>NaT</td>\n",
       "      <td>NaT</td>\n",
       "      <td>NaT</td>\n",
       "      <td>NaT</td>\n",
       "    </tr>\n",
       "    <tr>\n",
       "      <th>420</th>\n",
       "      <td>parma20250221101305eu9u8</td>\n",
       "      <td>50557</td>\n",
       "      <td>50658-50773</td>\n",
       "      <td>2025-02-21 10:13:41.225</td>\n",
       "      <td>구매확정</td>\n",
       "      <td>[공동구매] 위키약사 X YDY 포스트바이오틱스GX / 4박스 6박스 12박스</td>\n",
       "      <td>6박스(6개월분)_35%</td>\n",
       "      <td>1</td>\n",
       "      <td>240000</td>\n",
       "      <td>156000</td>\n",
       "      <td>...</td>\n",
       "      <td>5.344289e+11</td>\n",
       "      <td>무료배송</td>\n",
       "      <td>0</td>\n",
       "      <td>0</td>\n",
       "      <td>NaT</td>\n",
       "      <td>NaT</td>\n",
       "      <td>NaT</td>\n",
       "      <td>NaT</td>\n",
       "      <td>NaT</td>\n",
       "      <td>NaT</td>\n",
       "    </tr>\n",
       "    <tr>\n",
       "      <th>421</th>\n",
       "      <td>parma20250221101112uRQt5</td>\n",
       "      <td>50557</td>\n",
       "      <td>50657-50772</td>\n",
       "      <td>2025-02-21 10:12:42.924</td>\n",
       "      <td>구매확정</td>\n",
       "      <td>[공동구매] 위키약사 X YDY 포스트바이오틱스GX / 4박스 6박스 12박스</td>\n",
       "      <td>6박스(6개월분)_35%</td>\n",
       "      <td>1</td>\n",
       "      <td>240000</td>\n",
       "      <td>156000</td>\n",
       "      <td>...</td>\n",
       "      <td>5.344289e+11</td>\n",
       "      <td>무료배송</td>\n",
       "      <td>0</td>\n",
       "      <td>0</td>\n",
       "      <td>NaT</td>\n",
       "      <td>NaT</td>\n",
       "      <td>NaT</td>\n",
       "      <td>NaT</td>\n",
       "      <td>NaT</td>\n",
       "      <td>NaT</td>\n",
       "    </tr>\n",
       "    <tr>\n",
       "      <th>423</th>\n",
       "      <td>parma20250221100922j7vl1</td>\n",
       "      <td>50557</td>\n",
       "      <td>50655-50770</td>\n",
       "      <td>2025-02-21 10:09:49.233</td>\n",
       "      <td>구매확정</td>\n",
       "      <td>[공동구매] 위키약사 X YDY 포스트바이오틱스GX / 4박스 6박스 12박스</td>\n",
       "      <td>4박스(4개월분)_28%</td>\n",
       "      <td>1</td>\n",
       "      <td>160000</td>\n",
       "      <td>115200</td>\n",
       "      <td>...</td>\n",
       "      <td>5.344289e+11</td>\n",
       "      <td>무료배송</td>\n",
       "      <td>0</td>\n",
       "      <td>0</td>\n",
       "      <td>NaT</td>\n",
       "      <td>NaT</td>\n",
       "      <td>NaT</td>\n",
       "      <td>NaT</td>\n",
       "      <td>NaT</td>\n",
       "      <td>NaT</td>\n",
       "    </tr>\n",
       "    <tr>\n",
       "      <th>424</th>\n",
       "      <td>parma20250221100622dp5A6</td>\n",
       "      <td>50557</td>\n",
       "      <td>50652-50769</td>\n",
       "      <td>2025-02-21 10:06:44.592</td>\n",
       "      <td>구매확정</td>\n",
       "      <td>[공동구매] 위키약사 X YDY 포스트바이오틱스GX / 4박스 6박스 12박스</td>\n",
       "      <td>6박스(6개월분)_35%</td>\n",
       "      <td>1</td>\n",
       "      <td>240000</td>\n",
       "      <td>156000</td>\n",
       "      <td>...</td>\n",
       "      <td>5.344289e+11</td>\n",
       "      <td>무료배송</td>\n",
       "      <td>0</td>\n",
       "      <td>0</td>\n",
       "      <td>NaT</td>\n",
       "      <td>NaT</td>\n",
       "      <td>NaT</td>\n",
       "      <td>NaT</td>\n",
       "      <td>NaT</td>\n",
       "      <td>NaT</td>\n",
       "    </tr>\n",
       "  </tbody>\n",
       "</table>\n",
       "<p>373 rows × 37 columns</p>\n",
       "</div>"
      ],
      "text/plain": [
       "                        결제 번호  상품 번호        주문 번호                  결제 완료일  \\\n",
       "0    parma20250319115821ydOm4  51176  51271-51193 2025-03-19 11:58:43.894   \n",
       "1    parma20250319115600q7oS0  51176  51269-51192 2025-03-19 11:56:17.566   \n",
       "2    parma20250319114335m5vY2  51181  51268-51191 2025-03-19 11:44:42.979   \n",
       "3    parma20250319113202m3Ha8  51177  51267-51190 2025-03-19 11:32:47.085   \n",
       "4    parma20250319112644jKI02  51181  51266-51189 2025-03-19 11:27:35.184   \n",
       "..                        ...    ...          ...                     ...   \n",
       "419  parma20250221101518uSWO2  50557  50660-50774 2025-02-21 10:15:34.478   \n",
       "420  parma20250221101305eu9u8  50557  50658-50773 2025-02-21 10:13:41.225   \n",
       "421  parma20250221101112uRQt5  50557  50657-50772 2025-02-21 10:12:42.924   \n",
       "423  parma20250221100922j7vl1  50557  50655-50770 2025-02-21 10:09:49.233   \n",
       "424  parma20250221100622dp5A6  50557  50652-50769 2025-02-21 10:06:44.592   \n",
       "\n",
       "    주문 상태                                          상품명                 옵션명  \\\n",
       "0    결제완료         [공동구매] 쀼약사 X YDY 마그듀오 / 4박스 8박스 12박스     8박스(8개월분) (38%)   \n",
       "1    결제완료         [공동구매] 쀼약사 X YDY 마그듀오 / 4박스 8박스 12박스     4박스(4개월분) (28%)   \n",
       "2    결제완료   [공동구매] 쏘핏약사 x YDY 퓨어리포좀비타민C / 3박스 6박스 12박스     6박스(6개월분)_33%할인   \n",
       "3    결제완료  [공동구매] 명훈약사 X YDY 퓨어리포좀글루타치온 / 3박스 6박스 12박스  6박스 (총 6개월분)_45%할인   \n",
       "4    결제완료   [공동구매] 쏘핏약사 x YDY 퓨어리포좀비타민C / 3박스 6박스 12박스     3박스(3개월분)_26%할인   \n",
       "..    ...                                          ...                 ...   \n",
       "419  구매확정  [공동구매] 위키약사 X YDY 포스트바이오틱스GX / 4박스 6박스 12박스       4박스(4개월분)_28%   \n",
       "420  구매확정  [공동구매] 위키약사 X YDY 포스트바이오틱스GX / 4박스 6박스 12박스       6박스(6개월분)_35%   \n",
       "421  구매확정  [공동구매] 위키약사 X YDY 포스트바이오틱스GX / 4박스 6박스 12박스       6박스(6개월분)_35%   \n",
       "423  구매확정  [공동구매] 위키약사 X YDY 포스트바이오틱스GX / 4박스 6박스 12박스       4박스(4개월분)_28%   \n",
       "424  구매확정  [공동구매] 위키약사 X YDY 포스트바이오틱스GX / 4박스 6박스 12박스       6박스(6개월분)_35%   \n",
       "\n",
       "     수량     정상가     판매가  ...         송장 번호  배송비 정책  배송비  도서산간 배송비 취소 완료일  \\\n",
       "0     1  200000  124000  ...           NaN    무료배송    0         0    NaT   \n",
       "1     1  100000   72000  ...           NaN    무료배송    0         0    NaT   \n",
       "2     1  174000  116500  ...           NaN    무료배송    0         0    NaT   \n",
       "3     1  258000  142000  ...           NaN    무료배송    0         0    NaT   \n",
       "4     1   87000   64300  ...           NaN    무료배송    0         0    NaT   \n",
       "..   ..     ...     ...  ...           ...     ...  ...       ...    ...   \n",
       "419   1  160000  115200  ...  5.344289e+11    무료배송    0         0    NaT   \n",
       "420   1  240000  156000  ...  5.344289e+11    무료배송    0         0    NaT   \n",
       "421   1  240000  156000  ...  5.344289e+11    무료배송    0         0    NaT   \n",
       "423   1  160000  115200  ...  5.344289e+11    무료배송    0         0    NaT   \n",
       "424   1  240000  156000  ...  5.344289e+11    무료배송    0         0    NaT   \n",
       "\n",
       "    판매자 취소일 반품 요청일 수거 요청일  수거 완료일 반품 완료일  \n",
       "0       NaT    NaT    NaT     NaT    NaT  \n",
       "1       NaT    NaT    NaT     NaT    NaT  \n",
       "2       NaT    NaT    NaT     NaT    NaT  \n",
       "3       NaT    NaT    NaT     NaT    NaT  \n",
       "4       NaT    NaT    NaT     NaT    NaT  \n",
       "..      ...    ...    ...     ...    ...  \n",
       "419     NaT    NaT    NaT     NaT    NaT  \n",
       "420     NaT    NaT    NaT     NaT    NaT  \n",
       "421     NaT    NaT    NaT     NaT    NaT  \n",
       "423     NaT    NaT    NaT     NaT    NaT  \n",
       "424     NaT    NaT    NaT     NaT    NaT  \n",
       "\n",
       "[373 rows x 37 columns]"
      ]
     },
     "execution_count": 107,
     "metadata": {},
     "output_type": "execute_result"
    }
   ],
   "source": [
    "status = ['배송중', '배송완료', '구매확정', '배송준비', '결제완료']\n",
    "gongu = [50557, 51174, 51176, 51177, 51181]\n",
    "\n",
    "fs_df = fs_df[fs_df['주문 상태'].isin(status)]\n",
    "fs_df = fs_df[fs_df['상품 번호'].isin(gongu)]\n",
    "\n",
    "fs_df"
   ]
  },
  {
   "cell_type": "code",
   "execution_count": 33,
   "id": "bf214401-3c13-4774-be0a-6a4ac31edb22",
   "metadata": {},
   "outputs": [],
   "source": [
    "df.columns = df.loc[1]\n",
    "df = df.drop([0,1])\n",
    "con1 = df['진행상황-업체'] == '업체-일정확정'\n",
    "con2 = df['진행상황-업체'] == '업체-공구종료'\n",
    "df = df[con1 | con2]\n",
    "df = df.reset_index()\n",
    "df.loc[df['시작일'].str.len() <= 8, '시작일'] = '25/' + df['시작일']\n",
    "df = df[df['시작일'].isna() == False]"
   ]
  },
  {
   "cell_type": "code",
   "execution_count": 35,
   "id": "3f8e6550-8df5-4883-ad30-6649927483b9",
   "metadata": {},
   "outputs": [
    {
     "data": {
      "text/plain": [
       "Timestamp('2025-03-19 11:32:11.523419904')"
      ]
     },
     "execution_count": 35,
     "metadata": {},
     "output_type": "execute_result"
    }
   ],
   "source": [
    "\n",
    "dates = []\n",
    "\n",
    "for i in df['시작일']:\n",
    "    date = i.split('(')[0].strip()\n",
    "    year = '20' + date.split('/')[0].strip()\n",
    "    month = date.split('/')[1].strip()\n",
    "    day = date.split('/')[2].strip()\n",
    "    final = year + '-' + month + '-' + day\n",
    "    dates.append(final)\n",
    "\n",
    "df['date'] = dates\n",
    "df['date'] = pd.to_datetime(df['date'])\n",
    "df = df[df['date'] >= datetime(2025, 2, 17)]\n",
    "\n",
    "sales_df['time'] = pd.to_datetime(sales_df['reg_dt']) + timedelta(hours=9)\n",
    "sales_df['minute'] = sales_df['time'].dt.strftime('%H:%M:%S')\n",
    "sales_df['minute'] = pd.to_datetime(sales_df['minute'])\n",
    "sales_df['minute'].mean()"
   ]
  },
  {
   "cell_type": "code",
   "execution_count": 37,
   "id": "9be77c14-7b45-43ec-9b1c-b3ff06c2959b",
   "metadata": {},
   "outputs": [
    {
     "name": "stdout",
     "output_type": "stream",
     "text": [
      "2월 4주차 부터 매주 예정된 공구건은\n"
     ]
    },
    {
     "data": {
      "text/plain": [
       "date\n",
       "2025-02-23    31\n",
       "2025-03-02    31\n",
       "2025-03-09    35\n",
       "2025-03-16    27\n",
       "2025-03-23    34\n",
       "2025-03-30    34\n",
       "2025-04-06    41\n",
       "2025-04-13    30\n",
       "2025-04-20    34\n",
       "2025-04-27    22\n",
       "Freq: W-SUN, Name: 진행상황-업체, dtype: int64"
      ]
     },
     "execution_count": 37,
     "metadata": {},
     "output_type": "execute_result"
    }
   ],
   "source": [
    "print('2월 4주차 부터 매주 예정된 공구건은')\n",
    "df.groupby(pd.Grouper(key='date', freq='W'))['진행상황-업체'].count()[:10]"
   ]
  },
  {
   "cell_type": "code",
   "execution_count": 39,
   "id": "7e630247-786a-4299-98dd-3e86585e108c",
   "metadata": {},
   "outputs": [
    {
     "name": "stdout",
     "output_type": "stream",
     "text": [
      "주간 파마브로스 전체 공구 매출\n"
     ]
    },
    {
     "data": {
      "text/plain": [
       "time\n",
       "2025-01-05     374943300\n",
       "2025-01-12    1559927300\n",
       "2025-01-19     979843550\n",
       "2025-01-26     661268200\n",
       "2025-02-02     217120000\n",
       "2025-02-09     388606700\n",
       "2025-02-16     504825200\n",
       "2025-02-23     367861300\n",
       "2025-03-02     118161500\n",
       "2025-03-09      59314650\n",
       "2025-03-16     177736900\n",
       "2025-03-23      99140100\n",
       "Freq: W-SUN, Name: order_price, dtype: int64"
      ]
     },
     "execution_count": 39,
     "metadata": {},
     "output_type": "execute_result"
    }
   ],
   "source": [
    "print('주간 파마브로스 전체 공구 매출')\n",
    "sales_df.groupby(pd.Grouper(key='time', freq='W'))['order_price'].sum()"
   ]
  },
  {
   "cell_type": "code",
   "execution_count": 109,
   "id": "6f2b5f90-2290-4923-baa0-14007e9b7c81",
   "metadata": {},
   "outputs": [
    {
     "name": "stdout",
     "output_type": "stream",
     "text": [
      "매주 친한스토어 공구 매출은\n"
     ]
    },
    {
     "data": {
      "text/plain": [
       "결제 완료일\n",
       "2025-02-23    11570400\n",
       "2025-03-02     4608000\n",
       "2025-03-09           0\n",
       "2025-03-16           0\n",
       "2025-03-23    35801100\n",
       "Freq: W-SUN, Name: 정산가, dtype: int64"
      ]
     },
     "execution_count": 109,
     "metadata": {},
     "output_type": "execute_result"
    }
   ],
   "source": [
    "print('매주 친한스토어 공구 매출은')\n",
    "fs_df.groupby(pd.Grouper(key='결제 완료일', freq='W'))['정산가'].sum()"
   ]
  },
  {
   "cell_type": "code",
   "execution_count": 83,
   "id": "34f9b9ec-be4c-4824-a0e5-5d08a722e9dc",
   "metadata": {},
   "outputs": [
    {
     "name": "stdout",
     "output_type": "stream",
     "text": [
      "주간 파마브로스 전체 공구 건수\n"
     ]
    },
    {
     "data": {
      "text/plain": [
       "time\n",
       "2025-01-05     3398\n",
       "2025-01-12    13723\n",
       "2025-01-19     9169\n",
       "2025-01-26     5958\n",
       "2025-02-02     2275\n",
       "2025-02-09     2809\n",
       "2025-02-16     5262\n",
       "2025-02-23     3608\n",
       "2025-03-02     1299\n",
       "2025-03-09      530\n",
       "2025-03-16     1150\n",
       "2025-03-23      819\n",
       "Freq: W-SUN, Name: order_no, dtype: int64"
      ]
     },
     "execution_count": 83,
     "metadata": {},
     "output_type": "execute_result"
    }
   ],
   "source": [
    "print('주간 파마브로스 전체 공구 건수')\n",
    "sales_df.groupby(pd.Grouper(key='time', freq='W'))['order_no'].count()"
   ]
  },
  {
   "cell_type": "code",
   "execution_count": 89,
   "id": "528919eb-e55f-49b2-b16f-f5958c36cd91",
   "metadata": {},
   "outputs": [
    {
     "name": "stdout",
     "output_type": "stream",
     "text": [
      "매주 친한스토어 공구 매출 건수는\n"
     ]
    },
    {
     "data": {
      "text/plain": [
       "결제 완료일\n",
       "2025-02-23    71\n",
       "2025-03-02    28\n",
       "Freq: W-SUN, Name: 결제 번호, dtype: int64"
      ]
     },
     "execution_count": 89,
     "metadata": {},
     "output_type": "execute_result"
    }
   ],
   "source": [
    "print('매주 친한스토어 공구 매출 건수는')\n",
    "fs_df.groupby(pd.Grouper(key='결제 완료일', freq='W'))['결제 번호'].size()"
   ]
  },
  {
   "cell_type": "code",
   "execution_count": 87,
   "id": "1ff601a6-d45e-4283-8d98-20f171fde67f",
   "metadata": {},
   "outputs": [
    {
     "name": "stdout",
     "output_type": "stream",
     "text": [
      "매주 목요일 기준 친한스토어 총 매출은\n"
     ]
    },
    {
     "data": {
      "text/plain": [
       "결제 완료일\n",
       "2025-02-23    11570400\n",
       "2025-03-02     4608000\n",
       "Freq: W-SUN, Name: 정산가, dtype: int64"
      ]
     },
     "execution_count": 87,
     "metadata": {},
     "output_type": "execute_result"
    }
   ],
   "source": [
    "status = ['배송중', '배송완료', '구매확정', '배송준비', '결제완료']\n",
    "fs_df = fs_df[fs_df['주문 상태'].isin(status)]\n",
    "\n",
    "print('매주 목요일 기준 친한스토어 총 매출은')\n",
    "fs_df.groupby(pd.Grouper(key='결제 완료일', freq='W'))['정산가'].sum()"
   ]
  },
  {
   "cell_type": "code",
   "execution_count": 53,
   "id": "995d37a0-c23e-4795-a7c5-d6b702c5ea3d",
   "metadata": {},
   "outputs": [
    {
     "name": "stdout",
     "output_type": "stream",
     "text": [
      "매주 친한스토어 친약+친스 회원가입자 수는\n"
     ]
    },
    {
     "data": {
      "text/plain": [
       "reg_dt\n",
       "2025-02-09    407\n",
       "2025-02-16    343\n",
       "2025-02-23    625\n",
       "2025-03-02    569\n",
       "2025-03-09    621\n",
       "2025-03-16    473\n",
       "2025-03-23    556\n",
       "Freq: W-SUN, dtype: int64"
      ]
     },
     "execution_count": 53,
     "metadata": {},
     "output_type": "execute_result"
    }
   ],
   "source": [
    "merged_df = user_df.merge(auth_df, left_on='id', right_on='user_id', how='inner')\n",
    "merged_df = user_df.merge(auth_df, left_on='id', right_on='user_id', how='inner')\n",
    "merged_df['reg_dt'] = pd.to_datetime(merged_df['reg_dt'], format='mixed')\n",
    "con1 = merged_df['reg_dt'] >= datetime(2025, 2, 17)\n",
    "con2 = merged_df['reg_dt'] < datetime(2025, 2, 24)\n",
    "print('매주 친한스토어 친약+친스 회원가입자 수는')\n",
    "merged_df.groupby(pd.Grouper(key='reg_dt', freq='W')).size()[5:]"
   ]
  },
  {
   "cell_type": "code",
   "execution_count": 55,
   "id": "00e2ab07-d93f-423c-ae0d-c5d0663008c4",
   "metadata": {},
   "outputs": [
    {
     "name": "stdout",
     "output_type": "stream",
     "text": [
      "친스 회원가입자 수는 (di 없는 유저만)\n"
     ]
    },
    {
     "data": {
      "text/plain": [
       "created_at\n",
       "2025-02-23    122\n",
       "2025-03-02     26\n",
       "2025-03-09      0\n",
       "2025-03-16      0\n",
       "2025-03-23    348\n",
       "Freq: W-SUN, dtype: int64"
      ]
     },
     "execution_count": 55,
     "metadata": {},
     "output_type": "execute_result"
    }
   ],
   "source": [
    "print('친스 회원가입자 수는 (di 없는 유저만)')\n",
    "auth_df_di = auth_df[auth_df['di'].isna()]\n",
    "auth_df_di['created_at'] = pd.to_datetime(auth_df_di['created_at'], format='mixed')\n",
    "auth_df_di.groupby(pd.Grouper(key='created_at', freq='W')).size()"
   ]
  },
  {
   "cell_type": "code",
   "execution_count": 77,
   "id": "1cc5a30c-4526-4a6a-abf5-a01415c95980",
   "metadata": {},
   "outputs": [
    {
     "data": {
      "text/plain": [
       "created_at\n",
       "2024-09-15 00:00:00+00:00      3\n",
       "2024-09-22 00:00:00+00:00      2\n",
       "2024-09-29 00:00:00+00:00     18\n",
       "2024-10-06 00:00:00+00:00     34\n",
       "2024-10-13 00:00:00+00:00     25\n",
       "2024-10-20 00:00:00+00:00     27\n",
       "2024-10-27 00:00:00+00:00     37\n",
       "2024-11-03 00:00:00+00:00     69\n",
       "2024-11-10 00:00:00+00:00     19\n",
       "2024-11-17 00:00:00+00:00     45\n",
       "2024-11-24 00:00:00+00:00      7\n",
       "2024-12-01 00:00:00+00:00      1\n",
       "2024-12-08 00:00:00+00:00      7\n",
       "2024-12-15 00:00:00+00:00      3\n",
       "2024-12-22 00:00:00+00:00      0\n",
       "2024-12-29 00:00:00+00:00      2\n",
       "2025-01-05 00:00:00+00:00      0\n",
       "2025-01-12 00:00:00+00:00      1\n",
       "2025-01-19 00:00:00+00:00      1\n",
       "2025-01-26 00:00:00+00:00      2\n",
       "2025-02-02 00:00:00+00:00      0\n",
       "2025-02-09 00:00:00+00:00     20\n",
       "2025-02-16 00:00:00+00:00     54\n",
       "2025-02-23 00:00:00+00:00    175\n",
       "2025-03-02 00:00:00+00:00     64\n",
       "2025-03-09 00:00:00+00:00     31\n",
       "2025-03-16 00:00:00+00:00      8\n",
       "2025-03-23 00:00:00+00:00    430\n",
       "Freq: W-SUN, dtype: int64"
      ]
     },
     "execution_count": 77,
     "metadata": {},
     "output_type": "execute_result"
    }
   ],
   "source": [
    "df = pd.read_csv('/Users/seanyu_mac/Downloads/store_t_user_export_2025-03-19_123339.csv')\n",
    "df['created_at'] = pd.to_datetime(df['created_at'])\n",
    "df['created_at'] = df['created_at'] + timedelta(hours=9)\n",
    "df.groupby(pd.Grouper(key='created_at', freq='W')).size()"
   ]
  }
 ],
 "metadata": {
  "kernelspec": {
   "display_name": "Python 3 (ipykernel)",
   "language": "python",
   "name": "python3"
  },
  "language_info": {
   "codemirror_mode": {
    "name": "ipython",
    "version": 3
   },
   "file_extension": ".py",
   "mimetype": "text/x-python",
   "name": "python",
   "nbconvert_exporter": "python",
   "pygments_lexer": "ipython3",
   "version": "3.12.7"
  }
 },
 "nbformat": 4,
 "nbformat_minor": 5
}
