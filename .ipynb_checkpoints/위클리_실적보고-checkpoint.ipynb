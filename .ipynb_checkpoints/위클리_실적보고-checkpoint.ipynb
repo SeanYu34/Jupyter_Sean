{
 "cells": [
  {
   "cell_type": "code",
   "execution_count": 44,
   "id": "152c6d19-807c-4608-8e1c-d80086f7afd8",
   "metadata": {},
   "outputs": [
    {
     "data": {
      "text/html": [
       "<div>\n",
       "<style scoped>\n",
       "    .dataframe tbody tr th:only-of-type {\n",
       "        vertical-align: middle;\n",
       "    }\n",
       "\n",
       "    .dataframe tbody tr th {\n",
       "        vertical-align: top;\n",
       "    }\n",
       "\n",
       "    .dataframe thead th {\n",
       "        text-align: right;\n",
       "    }\n",
       "</style>\n",
       "<table border=\"1\" class=\"dataframe\">\n",
       "  <thead>\n",
       "    <tr style=\"text-align: right;\">\n",
       "      <th>2</th>\n",
       "      <th>운영시트반영</th>\n",
       "      <th>진행상황-업체</th>\n",
       "      <th>닉네임</th>\n",
       "      <th>약사 이름</th>\n",
       "      <th>공급사</th>\n",
       "      <th>차수</th>\n",
       "      <th>제품명</th>\n",
       "      <th>시작일</th>\n",
       "      <th>종료일</th>\n",
       "      <th>연간 주차</th>\n",
       "      <th>제품카테고리</th>\n",
       "      <th>비고(특이사항 등)</th>\n",
       "      <th>이벤트</th>\n",
       "      <th>업체별 담당자</th>\n",
       "      <th>NaN</th>\n",
       "      <th>NaN</th>\n",
       "      <th>date</th>\n",
       "    </tr>\n",
       "  </thead>\n",
       "  <tbody>\n",
       "    <tr>\n",
       "      <th>0</th>\n",
       "      <td>O</td>\n",
       "      <td>업체-일정확정</td>\n",
       "      <td>위키약사</td>\n",
       "      <td>이평화</td>\n",
       "      <td>담백하루</td>\n",
       "      <td>1차</td>\n",
       "      <td>100만 활성 효소 골드(카무트)</td>\n",
       "      <td>2025. 2. 10</td>\n",
       "      <td>25/2/16(일)</td>\n",
       "      <td>25-7</td>\n",
       "      <td>효소</td>\n",
       "      <td>일정변경 1/2 &gt; 2/13 &gt; 1/20 &gt; 2/10</td>\n",
       "      <td>체험단 10명(약사선정), 최다구성 구매자 10명 동일제품 제공(업체램덤선정)</td>\n",
       "      <td>도로시</td>\n",
       "      <td>NaN</td>\n",
       "      <td>NaN</td>\n",
       "      <td>2025-02-10</td>\n",
       "    </tr>\n",
       "    <tr>\n",
       "      <th>1</th>\n",
       "      <td>O</td>\n",
       "      <td>업체-일정확정</td>\n",
       "      <td>약사명훈</td>\n",
       "      <td>최명훈</td>\n",
       "      <td>탑헬스</td>\n",
       "      <td>재진행</td>\n",
       "      <td>닥터라인 멜라젠</td>\n",
       "      <td>2025. 2. 10</td>\n",
       "      <td>25/2/16(일)</td>\n",
       "      <td>25-7</td>\n",
       "      <td>멜라토닌</td>\n",
       "      <td>NaN</td>\n",
       "      <td>체험단 10명(약사선정), 구매자 이벤트 10명(약사선정) 가능</td>\n",
       "      <td>안나</td>\n",
       "      <td>NaN</td>\n",
       "      <td>NaN</td>\n",
       "      <td>2025-02-10</td>\n",
       "    </tr>\n",
       "    <tr>\n",
       "      <th>2</th>\n",
       "      <td>O</td>\n",
       "      <td>업체-일정확정</td>\n",
       "      <td>은하약사</td>\n",
       "      <td>손혜림</td>\n",
       "      <td>트루엔</td>\n",
       "      <td>재진행</td>\n",
       "      <td>수분보급젤리</td>\n",
       "      <td>2025. 2. 10</td>\n",
       "      <td>25/2/16(일)</td>\n",
       "      <td>25-7</td>\n",
       "      <td>수분&amp;전해질</td>\n",
       "      <td>*일정변경 2/4 -&gt; 2/10</td>\n",
       "      <td>NaN</td>\n",
       "      <td>루비</td>\n",
       "      <td>NaN</td>\n",
       "      <td>NaN</td>\n",
       "      <td>2025-02-10</td>\n",
       "    </tr>\n",
       "    <tr>\n",
       "      <th>3</th>\n",
       "      <td>O</td>\n",
       "      <td>업체-일정확정</td>\n",
       "      <td>우리약사</td>\n",
       "      <td>배혜정</td>\n",
       "      <td>위타민</td>\n",
       "      <td>재진행</td>\n",
       "      <td>알래스카 오메가3 츄어블</td>\n",
       "      <td>2025. 2. 10</td>\n",
       "      <td>25/2/16(일)</td>\n",
       "      <td>25-7</td>\n",
       "      <td>오메가3</td>\n",
       "      <td>*일정변경 1/20 -&gt; 2/10\\n알래스타 오메가랑 함께 진행여부 확인하기</td>\n",
       "      <td>나눔이벤트 20명_약사선정 가능</td>\n",
       "      <td>루비</td>\n",
       "      <td>NaN</td>\n",
       "      <td>NaN</td>\n",
       "      <td>2025-02-10</td>\n",
       "    </tr>\n",
       "    <tr>\n",
       "      <th>4</th>\n",
       "      <td>O</td>\n",
       "      <td>업체-일정확정</td>\n",
       "      <td>베이지약사</td>\n",
       "      <td>우수빈</td>\n",
       "      <td>담백하루</td>\n",
       "      <td>1차</td>\n",
       "      <td>알래스카알티지오메가에센스 1000</td>\n",
       "      <td>2025. 2. 10</td>\n",
       "      <td>25/2/16(일)</td>\n",
       "      <td>25-7</td>\n",
       "      <td>오메가3</td>\n",
       "      <td>NaN</td>\n",
       "      <td>체험단 10명 (약사선정), 구매자 이벤트 10명(약사선정)</td>\n",
       "      <td>도로시</td>\n",
       "      <td>NaN</td>\n",
       "      <td>NaN</td>\n",
       "      <td>2025-02-10</td>\n",
       "    </tr>\n",
       "    <tr>\n",
       "      <th>...</th>\n",
       "      <td>...</td>\n",
       "      <td>...</td>\n",
       "      <td>...</td>\n",
       "      <td>...</td>\n",
       "      <td>...</td>\n",
       "      <td>...</td>\n",
       "      <td>...</td>\n",
       "      <td>...</td>\n",
       "      <td>...</td>\n",
       "      <td>...</td>\n",
       "      <td>...</td>\n",
       "      <td>...</td>\n",
       "      <td>...</td>\n",
       "      <td>...</td>\n",
       "      <td>...</td>\n",
       "      <td>...</td>\n",
       "      <td>...</td>\n",
       "    </tr>\n",
       "    <tr>\n",
       "      <th>397</th>\n",
       "      <td>NaN</td>\n",
       "      <td>업체-일정확정</td>\n",
       "      <td>릴리약사</td>\n",
       "      <td>김소정</td>\n",
       "      <td>더좋은</td>\n",
       "      <td>재진행</td>\n",
       "      <td>진짜진하고맛있는양배추</td>\n",
       "      <td>2025. 5. 6</td>\n",
       "      <td>25/5/12(월)</td>\n",
       "      <td>25-19</td>\n",
       "      <td>양배추추출물</td>\n",
       "      <td>NaN</td>\n",
       "      <td>NaN</td>\n",
       "      <td>도로시</td>\n",
       "      <td>NaN</td>\n",
       "      <td>NaN</td>\n",
       "      <td>2025-05-06</td>\n",
       "    </tr>\n",
       "    <tr>\n",
       "      <th>398</th>\n",
       "      <td>NaN</td>\n",
       "      <td>업체-일정확정</td>\n",
       "      <td>릴리약사</td>\n",
       "      <td>김소정</td>\n",
       "      <td>더좋은</td>\n",
       "      <td>재진행</td>\n",
       "      <td>베리굿빌베리</td>\n",
       "      <td>2025. 5. 20</td>\n",
       "      <td>25/5/26(월)</td>\n",
       "      <td>25-21</td>\n",
       "      <td>빌베리</td>\n",
       "      <td>NaN</td>\n",
       "      <td>NaN</td>\n",
       "      <td>도로시</td>\n",
       "      <td>NaN</td>\n",
       "      <td>NaN</td>\n",
       "      <td>2025-05-20</td>\n",
       "    </tr>\n",
       "    <tr>\n",
       "      <th>399</th>\n",
       "      <td>NaN</td>\n",
       "      <td>업체-일정확정</td>\n",
       "      <td>약사비책</td>\n",
       "      <td>고신형</td>\n",
       "      <td>더좋은</td>\n",
       "      <td>재진행</td>\n",
       "      <td>프로틴포뮬라</td>\n",
       "      <td>2025. 3. 4</td>\n",
       "      <td>25/3/6(목)</td>\n",
       "      <td>25-10</td>\n",
       "      <td>NaN</td>\n",
       "      <td>NaN</td>\n",
       "      <td>NaN</td>\n",
       "      <td>도로시</td>\n",
       "      <td>NaN</td>\n",
       "      <td>NaN</td>\n",
       "      <td>2025-03-04</td>\n",
       "    </tr>\n",
       "    <tr>\n",
       "      <th>400</th>\n",
       "      <td>NaN</td>\n",
       "      <td>업체-일정확정</td>\n",
       "      <td>릴리약사</td>\n",
       "      <td>김소정</td>\n",
       "      <td>닥터제안</td>\n",
       "      <td>재진행</td>\n",
       "      <td>비타포뮬러 리포좀 글루타치온 포르테</td>\n",
       "      <td>2025. 5. 12</td>\n",
       "      <td>25/5/18(일)</td>\n",
       "      <td>25-20</td>\n",
       "      <td>글루타치온</td>\n",
       "      <td>NaN</td>\n",
       "      <td>NaN</td>\n",
       "      <td>도로시</td>\n",
       "      <td>NaN</td>\n",
       "      <td>NaN</td>\n",
       "      <td>2025-05-12</td>\n",
       "    </tr>\n",
       "    <tr>\n",
       "      <th>401</th>\n",
       "      <td>NaN</td>\n",
       "      <td>업체-일정확정</td>\n",
       "      <td>릴리약사</td>\n",
       "      <td>김소정</td>\n",
       "      <td>파이토알엑스</td>\n",
       "      <td>재진행</td>\n",
       "      <td>이뮨 빌베리</td>\n",
       "      <td>2025. 4. 17</td>\n",
       "      <td>25/4/23(수)</td>\n",
       "      <td>25-16</td>\n",
       "      <td>빌베리</td>\n",
       "      <td>NaN</td>\n",
       "      <td>최다구성 구매자 10명 동일제품(업체랜덤선정)</td>\n",
       "      <td>도로시</td>\n",
       "      <td>NaN</td>\n",
       "      <td>NaN</td>\n",
       "      <td>2025-04-17</td>\n",
       "    </tr>\n",
       "  </tbody>\n",
       "</table>\n",
       "<p>402 rows × 17 columns</p>\n",
       "</div>"
      ],
      "text/plain": [
       "2   운영시트반영  진행상황-업체    닉네임 약사 이름     공급사   차수                  제품명  \\\n",
       "0        O  업체-일정확정   위키약사   이평화    담백하루   1차   100만 활성 효소 골드(카무트)   \n",
       "1        O  업체-일정확정   약사명훈   최명훈     탑헬스  재진행             닥터라인 멜라젠   \n",
       "2        O  업체-일정확정   은하약사   손혜림     트루엔  재진행               수분보급젤리   \n",
       "3        O  업체-일정확정   우리약사   배혜정     위타민  재진행        알래스카 오메가3 츄어블   \n",
       "4        O  업체-일정확정  베이지약사   우수빈    담백하루   1차   알래스카알티지오메가에센스 1000   \n",
       "..     ...      ...    ...   ...     ...  ...                  ...   \n",
       "397    NaN  업체-일정확정   릴리약사   김소정     더좋은  재진행          진짜진하고맛있는양배추   \n",
       "398    NaN  업체-일정확정   릴리약사   김소정     더좋은  재진행               베리굿빌베리   \n",
       "399    NaN  업체-일정확정   약사비책   고신형     더좋은  재진행               프로틴포뮬라   \n",
       "400    NaN  업체-일정확정   릴리약사   김소정    닥터제안  재진행  비타포뮬러 리포좀 글루타치온 포르테   \n",
       "401    NaN  업체-일정확정   릴리약사   김소정  파이토알엑스  재진행               이뮨 빌베리   \n",
       "\n",
       "2            시작일         종료일  연간 주차  제품카테고리  \\\n",
       "0    2025. 2. 10  25/2/16(일)   25-7      효소   \n",
       "1    2025. 2. 10  25/2/16(일)   25-7    멜라토닌   \n",
       "2    2025. 2. 10  25/2/16(일)   25-7  수분&전해질   \n",
       "3    2025. 2. 10  25/2/16(일)   25-7    오메가3   \n",
       "4    2025. 2. 10  25/2/16(일)   25-7    오메가3   \n",
       "..           ...         ...    ...     ...   \n",
       "397   2025. 5. 6  25/5/12(월)  25-19  양배추추출물   \n",
       "398  2025. 5. 20  25/5/26(월)  25-21     빌베리   \n",
       "399   2025. 3. 4   25/3/6(목)  25-10     NaN   \n",
       "400  2025. 5. 12  25/5/18(일)  25-20   글루타치온   \n",
       "401  2025. 4. 17  25/4/23(수)  25-16     빌베리   \n",
       "\n",
       "2                                    비고(특이사항 등)  \\\n",
       "0                 일정변경 1/2 > 2/13 > 1/20 > 2/10   \n",
       "1                                           NaN   \n",
       "2                             *일정변경 2/4 -> 2/10   \n",
       "3    *일정변경 1/20 -> 2/10\\n알래스타 오메가랑 함께 진행여부 확인하기   \n",
       "4                                           NaN   \n",
       "..                                          ...   \n",
       "397                                         NaN   \n",
       "398                                         NaN   \n",
       "399                                         NaN   \n",
       "400                                         NaN   \n",
       "401                                         NaN   \n",
       "\n",
       "2                                             이벤트 업체별 담당자  NaN  NaN       date  \n",
       "0    체험단 10명(약사선정), 최다구성 구매자 10명 동일제품 제공(업체램덤선정)      도로시  NaN  NaN 2025-02-10  \n",
       "1             체험단 10명(약사선정), 구매자 이벤트 10명(약사선정) 가능      안나  NaN  NaN 2025-02-10  \n",
       "2                                             NaN      루비  NaN  NaN 2025-02-10  \n",
       "3                               나눔이벤트 20명_약사선정 가능      루비  NaN  NaN 2025-02-10  \n",
       "4               체험단 10명 (약사선정), 구매자 이벤트 10명(약사선정)     도로시  NaN  NaN 2025-02-10  \n",
       "..                                            ...     ...  ...  ...        ...  \n",
       "397                                           NaN     도로시  NaN  NaN 2025-05-06  \n",
       "398                                           NaN     도로시  NaN  NaN 2025-05-20  \n",
       "399                                           NaN     도로시  NaN  NaN 2025-03-04  \n",
       "400                                           NaN     도로시  NaN  NaN 2025-05-12  \n",
       "401                     최다구성 구매자 10명 동일제품(업체랜덤선정)     도로시  NaN  NaN 2025-04-17  \n",
       "\n",
       "[402 rows x 17 columns]"
      ]
     },
     "execution_count": 44,
     "metadata": {},
     "output_type": "execute_result"
    }
   ],
   "source": [
    "import pandas as pd\n",
    "import numpy as np\n",
    "from datetime import datetime, timedelta\n",
    "import warnings\n",
    "warnings.simplefilter('ignore')\n",
    "\n",
    "df = pd.read_csv('/Users/seanyu_mac/Downloads/[공구] 일정 신청 및 관리 시트의 사본 - 공구전체일정 (2).csv')\n",
    "fs_df = pd.read_excel('/Users/seanyu_mac/Downloads/주문내역_2024-02-25~2025-02-25 (4).xlsx')\n",
    "auth_df = pd.read_csv('/Users/seanyu_mac/Downloads/public_pb_user_auth_info_export_2025-02-25_173740.csv')\n",
    "user_df = pd.read_csv('/Users/seanyu_mac/Downloads/public_pb_user_export_2025-02-27_095829.csv')\n",
    "\n",
    "df.drop([0,1], inplace=True)\n",
    "df.columns = df.loc[2]\n",
    "df.reset_index(drop=True, inplace=True)\n",
    "df.drop(0, inplace=True)\n",
    "df.reset_index(drop=True, inplace=True)\n",
    "df = df[df['진행상황-업체'] == '업체-일정확정']\n",
    "df.reset_index(drop=True, inplace=True)\n",
    "\n",
    "df['date'] = 0\n",
    "for i in range(df['시작일'].index.size):\n",
    "    date1 = df.loc[i, '시작일']\n",
    "    date2 = date1.split('(')[0]\n",
    "    date3 = date2.split('.')\n",
    "    year = date3[0].strip()\n",
    "    month = date3[1].strip()\n",
    "    day = date3[2].strip()\n",
    "    final = year + '-' + month + '-' + day\n",
    "    df.loc[i, 'date'] = final\n",
    "\n",
    "df['date'] = pd.to_datetime(df['date'])\n",
    "df"
   ]
  },
  {
   "cell_type": "code",
   "execution_count": 46,
   "id": "9be77c14-7b45-43ec-9b1c-b3ff06c2959b",
   "metadata": {},
   "outputs": [
    {
     "name": "stdout",
     "output_type": "stream",
     "text": [
      "2월 4주차 부터 매주 예정된 공구건은\n"
     ]
    },
    {
     "data": {
      "text/plain": [
       "array([30, 31, 35, 26, 33, 33, 27, 27, 28, 16, 22, 15, 13,  9,  0,  1,  1,\n",
       "        1,  0,  1,  1,  1,  2,  0,  2,  1,  1,  0,  0,  0,  1,  3,  0,  1,\n",
       "        1,  3,  0,  0,  1,  2,  1,  0,  2,  1,  0,  1])"
      ]
     },
     "execution_count": 46,
     "metadata": {},
     "output_type": "execute_result"
    }
   ],
   "source": [
    "print('2월 4주차 부터 매주 예정된 공구건은')\n",
    "df.groupby(pd.Grouper(key='date', freq='W'))['진행상황-업체'].count().values[1:]"
   ]
  },
  {
   "cell_type": "code",
   "execution_count": 66,
   "id": "1ff601a6-d45e-4283-8d98-20f171fde67f",
   "metadata": {},
   "outputs": [
    {
     "name": "stdout",
     "output_type": "stream",
     "text": [
      "매주 목요일 기준 친한스토어 총 매출은\n"
     ]
    },
    {
     "data": {
      "text/plain": [
       "결제 완료일\n",
       "2025-02-09       53500\n",
       "2025-02-16           0\n",
       "2025-02-23    11608900\n",
       "2025-03-02     3069600\n",
       "Freq: W-SUN, Name: 정산가, dtype: int64"
      ]
     },
     "execution_count": 66,
     "metadata": {},
     "output_type": "execute_result"
    }
   ],
   "source": [
    "status = ['배송중', '배송완료', '구매확정', '배송준비', '결제완료']\n",
    "fs_df = fs_df[fs_df['주문 상태'].isin(status)]\n",
    "\n",
    "print('매주 목요일 기준 친한스토어 총 매출은')\n",
    "fs_df.groupby(pd.Grouper(key='결제 완료일', freq='W'))['정산가'].sum()[20:]"
   ]
  },
  {
   "cell_type": "code",
   "execution_count": 68,
   "id": "6f2b5f90-2290-4923-baa0-14007e9b7c81",
   "metadata": {},
   "outputs": [
    {
     "name": "stdout",
     "output_type": "stream",
     "text": [
      "매주 친한스토어 공구 매출은\n"
     ]
    },
    {
     "data": {
      "text/plain": [
       "결제 완료일\n",
       "2025-02-23    11570400\n",
       "2025-03-02     3002400\n",
       "Freq: W-SUN, Name: 정산가, dtype: int64"
      ]
     },
     "execution_count": 68,
     "metadata": {},
     "output_type": "execute_result"
    }
   ],
   "source": [
    "# 공동구매 상품 번호 입력\n",
    "status = ['배송중', '배송완료', '구매확정', '배송준비', '결제완료']\n",
    "gongu = [50557]\n",
    "\n",
    "fs_df = fs_df[fs_df['주문 상태'].isin(status)]\n",
    "fs_df = fs_df[fs_df['상품 번호'].isin(gongu)]\n",
    "\n",
    "print('매주 친한스토어 공구 매출은')\n",
    "fs_df.groupby(pd.Grouper(key='결제 완료일', freq='W'))['정산가'].sum()"
   ]
  },
  {
   "cell_type": "code",
   "execution_count": 70,
   "id": "528919eb-e55f-49b2-b16f-f5958c36cd91",
   "metadata": {},
   "outputs": [
    {
     "name": "stdout",
     "output_type": "stream",
     "text": [
      "매주 친한스토어 공구 매출 건수는\n"
     ]
    },
    {
     "data": {
      "text/plain": [
       "결제 완료일\n",
       "2025-02-27    90\n",
       "Freq: W-THU, Name: 결제 번호, dtype: int64"
      ]
     },
     "execution_count": 70,
     "metadata": {},
     "output_type": "execute_result"
    }
   ],
   "source": [
    "print('매주 친한스토어 공구 매출 건수는')\n",
    "fs_df.groupby(pd.Grouper(key='결제 완료일', freq='W-THU'))['결제 번호'].size()"
   ]
  },
  {
   "cell_type": "code",
   "execution_count": 74,
   "id": "995d37a0-c23e-4795-a7c5-d6b702c5ea3d",
   "metadata": {},
   "outputs": [
    {
     "name": "stdout",
     "output_type": "stream",
     "text": [
      "매주 친한스토어 친약+친스 회원가입자 수는\n"
     ]
    },
    {
     "data": {
      "text/plain": [
       "reg_dt\n",
       "2025-01-05    476\n",
       "2025-01-12    507\n",
       "2025-01-19    431\n",
       "2025-01-26    309\n",
       "2025-02-02    428\n",
       "2025-02-09    407\n",
       "2025-02-16    344\n",
       "2025-02-23    626\n",
       "2025-03-02    155\n",
       "Freq: W-SUN, dtype: int64"
      ]
     },
     "execution_count": 74,
     "metadata": {},
     "output_type": "execute_result"
    }
   ],
   "source": [
    "merged_df = user_df.merge(auth_df, left_on='id', right_on='user_id', how='inner')\n",
    "merged_df = user_df.merge(auth_df, left_on='id', right_on='user_id', how='inner')\n",
    "merged_df['reg_dt'] = pd.to_datetime(merged_df['reg_dt'], format='mixed')\n",
    "con1 = merged_df['reg_dt'] >= datetime(2025, 2, 17)\n",
    "con2 = merged_df['reg_dt'] < datetime(2025, 2, 24)\n",
    "print('매주 친한스토어 친약+친스 회원가입자 수는')\n",
    "merged_df.groupby(pd.Grouper(key='reg_dt', freq='W')).size()[110:]"
   ]
  },
  {
   "cell_type": "code",
   "execution_count": 76,
   "id": "00e2ab07-d93f-423c-ae0d-c5d0663008c4",
   "metadata": {},
   "outputs": [
    {
     "name": "stdout",
     "output_type": "stream",
     "text": [
      "친스 회원가입자 수는 (di 없는 유저만)\n"
     ]
    },
    {
     "data": {
      "text/plain": [
       "created_at\n",
       "2025-02-16      1\n",
       "2025-02-23    124\n",
       "2025-03-02     28\n",
       "Freq: W-SUN, dtype: int64"
      ]
     },
     "execution_count": 76,
     "metadata": {},
     "output_type": "execute_result"
    }
   ],
   "source": [
    "print('친스 회원가입자 수는 (di 없는 유저만)')\n",
    "auth_df_di = auth_df[auth_df['di'].isna()]\n",
    "auth_df_di['created_at'] = pd.to_datetime(auth_df_di['created_at'], format='mixed')\n",
    "auth_df_di.groupby(pd.Grouper(key='created_at', freq='W')).size()"
   ]
  }
 ],
 "metadata": {
  "kernelspec": {
   "display_name": "Python 3 (ipykernel)",
   "language": "python",
   "name": "python3"
  },
  "language_info": {
   "codemirror_mode": {
    "name": "ipython",
    "version": 3
   },
   "file_extension": ".py",
   "mimetype": "text/x-python",
   "name": "python",
   "nbconvert_exporter": "python",
   "pygments_lexer": "ipython3",
   "version": "3.12.7"
  }
 },
 "nbformat": 4,
 "nbformat_minor": 5
}
