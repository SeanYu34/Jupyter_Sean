{
 "cells": [
  {
   "cell_type": "code",
   "execution_count": 349,
   "id": "9b885391-d540-453d-994a-cd8fe5291f29",
   "metadata": {},
   "outputs": [
    {
     "data": {
      "text/plain": [
       "['유한양행',\n",
       " '트루엔',\n",
       " '일동제약',\n",
       " '더좋은',\n",
       " '안국건강',\n",
       " '담백하루',\n",
       " '더리틀스',\n",
       " 'YDY뉴트리션',\n",
       " '탑헬스',\n",
       " '닥터제안',\n",
       " '어썸',\n",
       " '신일제약',\n",
       " '닥터메타',\n",
       " '센트럴팜',\n",
       " '휴럼',\n",
       " '닥터체크',\n",
       " '미밍',\n",
       " '뷰티셀렉션',\n",
       " '뉴칸',\n",
       " '한독',\n",
       " '아워뉴트리',\n",
       " '신일제약 ',\n",
       " '나프라우드',\n",
       " '로와컴퍼니',\n",
       " '위타민',\n",
       " '닥테메타',\n",
       " '파이토알엑스',\n",
       " '마이랩스',\n",
       " '신신제약',\n",
       " 'DN코스메틱',\n",
       " '저스트글로우',\n",
       " '코어뉴트리션',\n",
       " '퓨어젠']"
      ]
     },
     "execution_count": 349,
     "metadata": {},
     "output_type": "execute_result"
    }
   ],
   "source": [
    "import pandas as pd\n",
    "import numpy as np\n",
    "from datetime import datetime\n",
    "\n",
    "df = pd.read_csv('/Users/seanyu_mac/Downloads/[공구] 일정 신청 및 관리 시트 - 공구전체일정 (2).csv')\n",
    "df.columns = df.loc[1]\n",
    "df.drop([0,1], inplace=True)\n",
    "df.reset_index(drop=True, inplace=True)\n",
    "del df['운영시트반영']\n",
    "\n",
    "dates = []\n",
    "\n",
    "for i in df['시작일']: \n",
    "    split = i.split('/')\n",
    "    if len(split) >= 3:\n",
    "        year = '20' + i.split('/')[0].strip()\n",
    "        month = i.split('/')[1].strip()\n",
    "        day = i.split('/')[2].strip()\n",
    "        day = day.split('(')[0]\n",
    "        date = year + '-' + month + '-' + day\n",
    "    dates.append(date)\n",
    "\n",
    "df['start_day'] = dates\n",
    "df['start_day'] = pd.to_datetime(df['start_day'])\n",
    "df['공급사'].unique().tolist()"
   ]
  }
 ],
 "metadata": {
  "kernelspec": {
   "display_name": "Python 3 (ipykernel)",
   "language": "python",
   "name": "python3"
  },
  "language_info": {
   "codemirror_mode": {
    "name": "ipython",
    "version": 3
   },
   "file_extension": ".py",
   "mimetype": "text/x-python",
   "name": "python",
   "nbconvert_exporter": "python",
   "pygments_lexer": "ipython3",
   "version": "3.12.7"
  }
 },
 "nbformat": 4,
 "nbformat_minor": 5
}
