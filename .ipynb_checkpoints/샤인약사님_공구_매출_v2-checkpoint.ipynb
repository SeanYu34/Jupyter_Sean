{
 "cells": [
  {
   "cell_type": "code",
   "execution_count": 4,
   "id": "c2f5895e-e568-40e3-8231-1bbfc2e46489",
   "metadata": {},
   "outputs": [],
   "source": [
    "import pandas as pd\n",
    "import numpy as np\n",
    "from datetime import datetime, timedelta\n",
    "import warnings\n",
    "warnings.simplefilter('ignore')"
   ]
  },
  {
   "cell_type": "code",
   "execution_count": 296,
   "id": "355804ff-ea79-4464-ad03-dd71280d46e9",
   "metadata": {},
   "outputs": [],
   "source": [
    "fs_df = pd.read_excel('/Users/seanyu_mac/Downloads/주문내역_51259_2024-04-16~2025-04-16 (1).xlsx')\n",
    "ka_df = pd.read_excel('/Users/seanyu_mac/Downloads/20250416165128.xlsx')"
   ]
  },
  {
   "cell_type": "code",
   "execution_count": 298,
   "id": "818c9c6e-23b3-4a96-ab71-6a89b2225393",
   "metadata": {},
   "outputs": [
    {
     "data": {
      "text/plain": [
       "19"
      ]
     },
     "execution_count": 298,
     "metadata": {},
     "output_type": "execute_result"
    }
   ],
   "source": [
    "fs_df.index.size"
   ]
  },
  {
   "cell_type": "code",
   "execution_count": 260,
   "id": "f936efca-0f72-459e-83c2-735aa8b81692",
   "metadata": {},
   "outputs": [],
   "source": [
    "fs_df['구분'] = '친한스토어'"
   ]
  },
  {
   "cell_type": "code",
   "execution_count": 262,
   "id": "45c6f7de-5c19-4770-b4b5-bbe7a8edda2a",
   "metadata": {},
   "outputs": [],
   "source": [
    "fs_df = fs_df[['구분', '결제 번호', '상품 번호', '주문 번호', '결제 완료일', '주문 상태', '상품명', '옵션명', '수량', '정상가',\n",
    "       '판매가', '쿠폰 할인', '포인트 할인', '적립금', '정산가', '수령인명', '수령인 연락처', '구매자명',\n",
    "       '구매자 ID', '구매자 연락처', '주소', '우편번호', '배송 메모', '주문 확인일', '발주 요청일',\n",
    "       '배송 완료일', '구매 확정일', '배송택배사', '송장 번호', '배송비 정책', '배송비', '도서산간 배송비',\n",
    "       '취소 완료일', '판매자 취소일', '반품 요청일', '수거 요청일', '수거 완료일', '반품 완료일']]"
   ]
  },
  {
   "cell_type": "code",
   "execution_count": 264,
   "id": "d38466b9-1909-482d-866b-03de046094c8",
   "metadata": {},
   "outputs": [
    {
     "data": {
      "text/plain": [
       "Index(['구분', '결제 번호', '상품 번호', '주문 번호', '결제 완료일', '주문 상태', '상품명', '옵션명', '수량',\n",
       "       '정상가', '판매가', '쿠폰 할인', '포인트 할인', '적립금', '정산가', '수령인명', '수령인 연락처',\n",
       "       '구매자명', '구매자 ID', '구매자 연락처', '주소', '우편번호', '배송 메모', '주문 확인일', '발주 요청일',\n",
       "       '배송 완료일', '구매 확정일', '배송택배사', '송장 번호', '배송비 정책', '배송비', '도서산간 배송비',\n",
       "       '취소 완료일', '판매자 취소일', '반품 요청일', '수거 요청일', '수거 완료일', '반품 완료일'],\n",
       "      dtype='object')"
      ]
     },
     "execution_count": 264,
     "metadata": {},
     "output_type": "execute_result"
    }
   ],
   "source": [
    "fs_df.columns"
   ]
  },
  {
   "cell_type": "code",
   "execution_count": 266,
   "id": "d8cdc809-4a10-4025-af4a-a2e49d3b9095",
   "metadata": {},
   "outputs": [
    {
     "data": {
      "text/plain": [
       "['배송중', '배송완료']"
      ]
     },
     "execution_count": 266,
     "metadata": {},
     "output_type": "execute_result"
    }
   ],
   "source": [
    "fs_df['주문 상태'].unique().tolist()"
   ]
  },
  {
   "cell_type": "code",
   "execution_count": 268,
   "id": "57e150bf-a43a-4a5c-a64e-4ce279b001e3",
   "metadata": {},
   "outputs": [
    {
     "data": {
      "text/plain": [
       "['202 배송 요청', '304 배송 중', '305 배송 완료', '204 결제 취소 완료']"
      ]
     },
     "execution_count": 268,
     "metadata": {},
     "output_type": "execute_result"
    }
   ],
   "source": [
    "ka_df['주문상태'].unique().tolist()"
   ]
  },
  {
   "cell_type": "code",
   "execution_count": 270,
   "id": "d8ff8567-03c9-43c1-af08-25d1a13f0a33",
   "metadata": {},
   "outputs": [],
   "source": [
    "ka_df = ka_df[ka_df['주문상태'].isin(['202 배송 요청', '304 배송 중', '305 배송 완료'])]"
   ]
  },
  {
   "cell_type": "code",
   "execution_count": 272,
   "id": "e6dc26b1-82d6-4cd0-913c-5e94009f8dd6",
   "metadata": {},
   "outputs": [
    {
     "data": {
      "text/plain": [
       "['202 배송 요청', '304 배송 중', '305 배송 완료']"
      ]
     },
     "execution_count": 272,
     "metadata": {},
     "output_type": "execute_result"
    }
   ],
   "source": [
    "ka_df['주문상태'].unique().tolist()"
   ]
  },
  {
   "cell_type": "code",
   "execution_count": 274,
   "id": "86b77db7-fa68-4c2a-81cc-6d011fec46d0",
   "metadata": {},
   "outputs": [],
   "source": [
    "cancel_df = ka_df[ka_df['주문상태'].isin(['204 결제 취소 완료'])]"
   ]
  },
  {
   "cell_type": "code",
   "execution_count": 276,
   "id": "b0ac0ab1-86ec-4982-bb7d-4aa5b6710722",
   "metadata": {},
   "outputs": [],
   "source": [
    "ka_df['결제 번호'] = ka_df['결제번호']\n",
    "ka_df['상품 번호'] = ka_df['채널상품번호']\n",
    "ka_df['주문 번호'] = ka_df['주문번호']\n",
    "ka_df['결제 완료일'] = ka_df['주문일']\n",
    "ka_df['주문 상태'] = ka_df['주문상태']\n",
    "ka_df['상품명'] = ka_df['상품명']\n",
    "ka_df['옵션명'] = ka_df['옵션']\n",
    "ka_df['수량'] = ka_df['수량']\n",
    "ka_df['정상가'] = ka_df['상품금액']\n",
    "ka_df['판매가'] = ka_df['상품금액'] + ka_df['옵션금액'] - ka_df['판매자할인금액']\n",
    "ka_df['쿠폰 할인'] = 0\n",
    "ka_df['포인트 할인'] = 0\n",
    "ka_df['적립금'] = 0\n",
    "ka_df['정산가'] = ka_df['정산기준금액']\n",
    "ka_df['수령인명'] = '***'\n",
    "ka_df['수령인 연락처'] = '***'\n",
    "ka_df['구매자명'] = '***'\n",
    "ka_df['구매자 ID'] = '***'\n",
    "ka_df['구매자 연락처'] = '***'\n",
    "ka_df['주소'] = '***'\n",
    "ka_df['우편번호'] = '***'\n",
    "ka_df['배송 메모'] = '***'\n",
    "ka_df['주문 확인일'] = ka_df['주문일']\n",
    "ka_df['발주 요청일'] = ka_df['송장입력일']\n",
    "ka_df['배송 완료일'] = ka_df['배송예정일']\n",
    "ka_df['구매 확정일'] = ''\n",
    "ka_df['배송택배사'] = ka_df['택배사']\n",
    "ka_df['송장 번호'] = ka_df['송장번호']\n",
    "ka_df['배송비 정책'] = ka_df['배송비지불방법']\n",
    "ka_df['배송비'] = ka_df['기본배송비 금액']\n",
    "ka_df['도서산간 배송비'] = ka_df['도서산간 추가 배송비 금액']\n",
    "ka_df['취소 완료일'] = ka_df['취소완료일']\n",
    "ka_df['판매자 취소일'] = ka_df['취소완료일']\n",
    "ka_df['반품 요청일'] = ''\n",
    "ka_df['수거 요청일'] = ''\n",
    "ka_df['수거 완료일'] = ''\n",
    "ka_df['반품 완료일'] = ka_df['환불완료일']\n",
    "ka_df['구분'] = '톡스토어'"
   ]
  },
  {
   "cell_type": "code",
   "execution_count": 278,
   "id": "d41b7ddb-892e-4d31-aa8e-18a706883945",
   "metadata": {},
   "outputs": [],
   "source": [
    "ka_df = ka_df[fs_df.columns]"
   ]
  },
  {
   "cell_type": "code",
   "execution_count": 280,
   "id": "0beb8849-cb2b-472f-b70b-2794e6942581",
   "metadata": {},
   "outputs": [],
   "source": [
    "temp_df = pd.concat([fs_df[fs_df.columns], ka_df[fs_df.columns]], ignore_index=True)"
   ]
  },
  {
   "cell_type": "code",
   "execution_count": 282,
   "id": "717d847f-94fe-40bb-9b48-1a0fca92ef48",
   "metadata": {},
   "outputs": [],
   "source": [
    "temp_df.rename(columns={'정상가': '매출'}, inplace=True)\n",
    "temp_df = temp_df[temp_df['주문 상태'].isin(['결제완료', '배송중', '202 배송 요청', '304 배송 중'])]"
   ]
  },
  {
   "cell_type": "code",
   "execution_count": 284,
   "id": "76b442f6-096a-40fb-9a0f-95a88c425002",
   "metadata": {},
   "outputs": [
    {
     "data": {
      "text/plain": [
       "결제 완료일\n",
       "2025-04-14    10\n",
       "2025-04-15     9\n",
       "2025-04-16     7\n",
       "Freq: D, dtype: int64"
      ]
     },
     "execution_count": 284,
     "metadata": {},
     "output_type": "execute_result"
    }
   ],
   "source": [
    "temp_df['결제 완료일'] = pd.to_datetime(temp_df['결제 완료일'])\n",
    "df2 = temp_df.groupby(pd.Grouper(key='결제 완료일', freq='D'))[['결제 번호']].size()\n",
    "df2"
   ]
  },
  {
   "cell_type": "code",
   "execution_count": 286,
   "id": "f55ad0b7-6e29-4b20-940b-6f2675ca146e",
   "metadata": {
    "editable": true,
    "scrolled": true,
    "slideshow": {
     "slide_type": ""
    },
    "tags": []
   },
   "outputs": [
    {
     "data": {
      "text/html": [
       "<div>\n",
       "<style scoped>\n",
       "    .dataframe tbody tr th:only-of-type {\n",
       "        vertical-align: middle;\n",
       "    }\n",
       "\n",
       "    .dataframe tbody tr th {\n",
       "        vertical-align: top;\n",
       "    }\n",
       "\n",
       "    .dataframe thead tr th {\n",
       "        text-align: left;\n",
       "    }\n",
       "\n",
       "    .dataframe thead tr:last-of-type th {\n",
       "        text-align: right;\n",
       "    }\n",
       "</style>\n",
       "<table border=\"1\" class=\"dataframe\">\n",
       "  <thead>\n",
       "    <tr>\n",
       "      <th></th>\n",
       "      <th></th>\n",
       "      <th colspan=\"3\" halign=\"left\">sum</th>\n",
       "    </tr>\n",
       "    <tr>\n",
       "      <th></th>\n",
       "      <th></th>\n",
       "      <th>매출</th>\n",
       "      <th>박스수량</th>\n",
       "      <th>주문수량</th>\n",
       "    </tr>\n",
       "    <tr>\n",
       "      <th>주문일</th>\n",
       "      <th>옵션명</th>\n",
       "      <th></th>\n",
       "      <th></th>\n",
       "      <th></th>\n",
       "    </tr>\n",
       "  </thead>\n",
       "  <tbody>\n",
       "    <tr>\n",
       "      <th rowspan=\"8\" valign=\"top\">2025-04-14</th>\n",
       "      <th>선택: 파이토레드큐민(정제)_12박스(45%할인)</th>\n",
       "      <td>660000</td>\n",
       "      <td>24</td>\n",
       "      <td>2</td>\n",
       "    </tr>\n",
       "    <tr>\n",
       "      <th>선택: 파이토레드큐민(정제)_3박스(25%할인)</th>\n",
       "      <td>660000</td>\n",
       "      <td>6</td>\n",
       "      <td>2</td>\n",
       "    </tr>\n",
       "    <tr>\n",
       "      <th>선택: 파이토레드큐민(정제)_6박스(36%할인)</th>\n",
       "      <td>330000</td>\n",
       "      <td>6</td>\n",
       "      <td>1</td>\n",
       "    </tr>\n",
       "    <tr>\n",
       "      <th>선택: 퓨어레드큐민(분말)_3박스(46%할인)</th>\n",
       "      <td>330000</td>\n",
       "      <td>3</td>\n",
       "      <td>1</td>\n",
       "    </tr>\n",
       "    <tr>\n",
       "      <th>선택: 퓨어레드큐민(분말)_6박스(53%할인)</th>\n",
       "      <td>660000</td>\n",
       "      <td>6</td>\n",
       "      <td>1</td>\n",
       "    </tr>\n",
       "    <tr>\n",
       "      <th>파이토레드큐민(정제)_6박스(36%할인)</th>\n",
       "      <td>330000</td>\n",
       "      <td>6</td>\n",
       "      <td>1</td>\n",
       "    </tr>\n",
       "    <tr>\n",
       "      <th>퓨어레드큐민(분말)_3박스(46%할인)</th>\n",
       "      <td>147000</td>\n",
       "      <td>3</td>\n",
       "      <td>1</td>\n",
       "    </tr>\n",
       "    <tr>\n",
       "      <th>퓨어레드큐민(분말)_6박스(53%할인)</th>\n",
       "      <td>294000</td>\n",
       "      <td>6</td>\n",
       "      <td>1</td>\n",
       "    </tr>\n",
       "    <tr>\n",
       "      <th rowspan=\"5\" valign=\"top\">2025-04-15</th>\n",
       "      <th>선택: 파이토레드큐민(정제)_12박스(45%할인)</th>\n",
       "      <td>330000</td>\n",
       "      <td>12</td>\n",
       "      <td>1</td>\n",
       "    </tr>\n",
       "    <tr>\n",
       "      <th>선택: 파이토레드큐민(정제)_3박스(25%할인)</th>\n",
       "      <td>330000</td>\n",
       "      <td>3</td>\n",
       "      <td>1</td>\n",
       "    </tr>\n",
       "    <tr>\n",
       "      <th>선택: 파이토레드큐민(정제)_6박스(36%할인)</th>\n",
       "      <td>660000</td>\n",
       "      <td>12</td>\n",
       "      <td>2</td>\n",
       "    </tr>\n",
       "    <tr>\n",
       "      <th>선택: 퓨어레드큐민(분말)_3박스(46%할인)</th>\n",
       "      <td>1320000</td>\n",
       "      <td>12</td>\n",
       "      <td>4</td>\n",
       "    </tr>\n",
       "    <tr>\n",
       "      <th>퓨어레드큐민(분말)_12박스(55%할인)</th>\n",
       "      <td>588000</td>\n",
       "      <td>12</td>\n",
       "      <td>1</td>\n",
       "    </tr>\n",
       "    <tr>\n",
       "      <th rowspan=\"3\" valign=\"top\">2025-04-16</th>\n",
       "      <th>선택: 파이토레드큐민(정제)_6박스(36%할인)</th>\n",
       "      <td>660000</td>\n",
       "      <td>12</td>\n",
       "      <td>2</td>\n",
       "    </tr>\n",
       "    <tr>\n",
       "      <th>선택: 퓨어레드큐민(분말)_3박스(46%할인)</th>\n",
       "      <td>990000</td>\n",
       "      <td>9</td>\n",
       "      <td>3</td>\n",
       "    </tr>\n",
       "    <tr>\n",
       "      <th>선택: 퓨어레드큐민(분말)_6박스(53%할인)</th>\n",
       "      <td>660000</td>\n",
       "      <td>12</td>\n",
       "      <td>2</td>\n",
       "    </tr>\n",
       "    <tr>\n",
       "      <th>총합</th>\n",
       "      <th></th>\n",
       "      <td>8949000</td>\n",
       "      <td>144</td>\n",
       "      <td>26</td>\n",
       "    </tr>\n",
       "  </tbody>\n",
       "</table>\n",
       "</div>"
      ],
      "text/plain": [
       "                                            sum          \n",
       "                                             매출 박스수량 주문수량\n",
       "주문일        옵션명                                           \n",
       "2025-04-14 선택: 파이토레드큐민(정제)_12박스(45%할인)   660000   24    2\n",
       "           선택: 파이토레드큐민(정제)_3박스(25%할인)    660000    6    2\n",
       "           선택: 파이토레드큐민(정제)_6박스(36%할인)    330000    6    1\n",
       "           선택: 퓨어레드큐민(분말)_3박스(46%할인)     330000    3    1\n",
       "           선택: 퓨어레드큐민(분말)_6박스(53%할인)     660000    6    1\n",
       "           파이토레드큐민(정제)_6박스(36%할인)        330000    6    1\n",
       "           퓨어레드큐민(분말)_3박스(46%할인)         147000    3    1\n",
       "           퓨어레드큐민(분말)_6박스(53%할인)         294000    6    1\n",
       "2025-04-15 선택: 파이토레드큐민(정제)_12박스(45%할인)   330000   12    1\n",
       "           선택: 파이토레드큐민(정제)_3박스(25%할인)    330000    3    1\n",
       "           선택: 파이토레드큐민(정제)_6박스(36%할인)    660000   12    2\n",
       "           선택: 퓨어레드큐민(분말)_3박스(46%할인)    1320000   12    4\n",
       "           퓨어레드큐민(분말)_12박스(55%할인)        588000   12    1\n",
       "2025-04-16 선택: 파이토레드큐민(정제)_6박스(36%할인)    660000   12    2\n",
       "           선택: 퓨어레드큐민(분말)_3박스(46%할인)     990000    9    3\n",
       "           선택: 퓨어레드큐민(분말)_6박스(53%할인)     660000   12    2\n",
       "총합                                      8949000  144   26"
      ]
     },
     "execution_count": 286,
     "metadata": {},
     "output_type": "execute_result"
    }
   ],
   "source": [
    "temp_df['주문일'] = temp_df['결제 완료일'].apply(lambda x: x.strftime('%Y-%m-%d'))\n",
    "temp_df['박스수량'] = temp_df['옵션명'].apply(lambda x: int(x.split('_')[1].split('박스')[0].strip()))\n",
    "pivot_df = pd.pivot_table(temp_df, index=['주문일', '옵션명'], values=['매출', '박스수량'], aggfunc=['sum'], fill_value=0, margins=True, margins_name='총합')\n",
    "\n",
    "pivot_df2 = pd.pivot_table(temp_df, index=['주문일', '옵션명'], values=['결제 번호'], aggfunc=['count'], fill_value=0, margins=True, margins_name='총합')\n",
    "pivot_df2 = pd.DataFrame(pivot_df2)\n",
    "col1 = pivot_df2[('count', '결제 번호')]\n",
    "\n",
    "result_df = pd.DataFrame(pivot_df)\n",
    "result_df[('sum', '주문수량')] = col1\n",
    "\n",
    "result_df.to_excel(f'/Users/seanyu_mac/Downloads/샤인약사님_매출_{datetime.now()}.xlsx')\n",
    "result_df"
   ]
  },
  {
   "cell_type": "code",
   "execution_count": 288,
   "id": "2aae5ed8-4f88-492b-a5e0-baf5718af0a7",
   "metadata": {},
   "outputs": [],
   "source": [
    "types = []\n",
    "\n",
    "for i in temp_df['옵션명']:\n",
    "    if '정제' in i:\n",
    "        types.append('정제')\n",
    "    elif '분말' in i:\n",
    "        types.append('분말')\n",
    "\n",
    "temp_df['제형'] = types"
   ]
  },
  {
   "cell_type": "code",
   "execution_count": 290,
   "id": "b9aecc0a-20cb-4ac6-8ef8-a044bdd820f4",
   "metadata": {},
   "outputs": [
    {
     "data": {
      "text/html": [
       "<div>\n",
       "<style scoped>\n",
       "    .dataframe tbody tr th:only-of-type {\n",
       "        vertical-align: middle;\n",
       "    }\n",
       "\n",
       "    .dataframe tbody tr th {\n",
       "        vertical-align: top;\n",
       "    }\n",
       "\n",
       "    .dataframe thead tr th {\n",
       "        text-align: left;\n",
       "    }\n",
       "\n",
       "    .dataframe thead tr:last-of-type th {\n",
       "        text-align: right;\n",
       "    }\n",
       "</style>\n",
       "<table border=\"1\" class=\"dataframe\">\n",
       "  <thead>\n",
       "    <tr>\n",
       "      <th></th>\n",
       "      <th></th>\n",
       "      <th colspan=\"3\" halign=\"left\">sum</th>\n",
       "    </tr>\n",
       "    <tr>\n",
       "      <th></th>\n",
       "      <th></th>\n",
       "      <th>매출</th>\n",
       "      <th>박스수량</th>\n",
       "      <th>주문수량</th>\n",
       "    </tr>\n",
       "    <tr>\n",
       "      <th>주문일</th>\n",
       "      <th>제형</th>\n",
       "      <th></th>\n",
       "      <th></th>\n",
       "      <th></th>\n",
       "    </tr>\n",
       "  </thead>\n",
       "  <tbody>\n",
       "    <tr>\n",
       "      <th rowspan=\"2\" valign=\"top\">2025-04-14</th>\n",
       "      <th>분말</th>\n",
       "      <td>1431000</td>\n",
       "      <td>18</td>\n",
       "      <td>4</td>\n",
       "    </tr>\n",
       "    <tr>\n",
       "      <th>정제</th>\n",
       "      <td>1980000</td>\n",
       "      <td>42</td>\n",
       "      <td>6</td>\n",
       "    </tr>\n",
       "    <tr>\n",
       "      <th rowspan=\"2\" valign=\"top\">2025-04-15</th>\n",
       "      <th>분말</th>\n",
       "      <td>1908000</td>\n",
       "      <td>24</td>\n",
       "      <td>5</td>\n",
       "    </tr>\n",
       "    <tr>\n",
       "      <th>정제</th>\n",
       "      <td>1320000</td>\n",
       "      <td>27</td>\n",
       "      <td>4</td>\n",
       "    </tr>\n",
       "    <tr>\n",
       "      <th rowspan=\"2\" valign=\"top\">2025-04-16</th>\n",
       "      <th>분말</th>\n",
       "      <td>1650000</td>\n",
       "      <td>21</td>\n",
       "      <td>5</td>\n",
       "    </tr>\n",
       "    <tr>\n",
       "      <th>정제</th>\n",
       "      <td>660000</td>\n",
       "      <td>12</td>\n",
       "      <td>2</td>\n",
       "    </tr>\n",
       "    <tr>\n",
       "      <th>총합</th>\n",
       "      <th></th>\n",
       "      <td>8949000</td>\n",
       "      <td>144</td>\n",
       "      <td>26</td>\n",
       "    </tr>\n",
       "  </tbody>\n",
       "</table>\n",
       "</div>"
      ],
      "text/plain": [
       "                   sum          \n",
       "                    매출 박스수량 주문수량\n",
       "주문일        제형                   \n",
       "2025-04-14 분말  1431000   18    4\n",
       "           정제  1980000   42    6\n",
       "2025-04-15 분말  1908000   24    5\n",
       "           정제  1320000   27    4\n",
       "2025-04-16 분말  1650000   21    5\n",
       "           정제   660000   12    2\n",
       "총합             8949000  144   26"
      ]
     },
     "execution_count": 290,
     "metadata": {},
     "output_type": "execute_result"
    }
   ],
   "source": [
    "pivot_df3 = pd.pivot_table(temp_df, index=['주문일', '제형'], values=['매출', '박스수량'], aggfunc=['sum'], fill_value=0, margins=True, margins_name='총합')\n",
    "pivot_df4 = pd.pivot_table(temp_df, index=['주문일', '제형'], values=['결제 번호'], aggfunc=['count'], fill_value=0, margins=True, margins_name='총합')\n",
    "\n",
    "result_df2 = pd.DataFrame(pivot_df3)\n",
    "result_df2[('sum', '주문수량')] = pivot_df4[('count', '결제 번호')]\n",
    "\n",
    "result_df2.to_excel(f'/Users/seanyu_mac/Downloads/샤인약사님_매출_{datetime.now()}.xlsx')\n",
    "result_df2"
   ]
  },
  {
   "cell_type": "code",
   "execution_count": 294,
   "id": "5e1d75e2-08f4-4847-96fa-e05449503df0",
   "metadata": {},
   "outputs": [
    {
     "data": {
      "text/plain": [
       "31"
      ]
     },
     "execution_count": 294,
     "metadata": {},
     "output_type": "execute_result"
    }
   ],
   "source": [
    "ka_df.index.size"
   ]
  },
  {
   "cell_type": "code",
   "execution_count": null,
   "id": "d0e35654-851b-479f-8244-9813664e42df",
   "metadata": {},
   "outputs": [],
   "source": []
  }
 ],
 "metadata": {
  "kernelspec": {
   "display_name": "Python 3 (ipykernel)",
   "language": "python",
   "name": "python3"
  },
  "language_info": {
   "codemirror_mode": {
    "name": "ipython",
    "version": 3
   },
   "file_extension": ".py",
   "mimetype": "text/x-python",
   "name": "python",
   "nbconvert_exporter": "python",
   "pygments_lexer": "ipython3",
   "version": "3.12.7"
  }
 },
 "nbformat": 4,
 "nbformat_minor": 5
}
