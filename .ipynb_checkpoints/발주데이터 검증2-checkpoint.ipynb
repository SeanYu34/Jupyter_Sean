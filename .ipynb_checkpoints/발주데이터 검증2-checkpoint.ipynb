{
 "cells": [
  {
   "cell_type": "code",
   "execution_count": 101,
   "id": "ea73b7de-5b21-4b19-84db-2216d1bf9a4d",
   "metadata": {},
   "outputs": [],
   "source": [
    "import pandas as pd\n",
    "import numpy as np\n",
    "from datetime import datetime, timedelta\n",
    "import warnings\n",
    "warnings.simplefilter('ignore')"
   ]
  },
  {
   "cell_type": "code",
   "execution_count": 308,
   "id": "d1d5945f-912b-47a0-8e2c-99e9095df395",
   "metadata": {},
   "outputs": [
    {
     "data": {
      "text/plain": [
       "106"
      ]
     },
     "execution_count": 308,
     "metadata": {},
     "output_type": "execute_result"
    }
   ],
   "source": [
    "df = pd.read_excel('/Users/seanyu_mac/Downloads/주문내역_2024-03-24~2025-03-24 (1).xlsx')\n",
    "df1 = pd.read_csv('/Users/seanyu_mac/Downloads/제목 없는 스프레드시트 - 시트2.csv')\n",
    "df1.index.size"
   ]
  },
  {
   "cell_type": "code",
   "execution_count": 314,
   "id": "987205ad-11cf-4eff-b6d4-4e58e325d1ad",
   "metadata": {},
   "outputs": [],
   "source": [
    "df['phone'] = df['수령인 연락처'].apply(lambda x: x[-4:])\n",
    "df['phone'] = df['phone'].astype(int)\n",
    "df['우편번호'] = df['우편번호'].astype(int)\n",
    "df['key'] = df['phone'] + df['우편번호']\n",
    "df1['우편번호'] = df1['우편번호'].astype(int)\n",
    "df1['key'] = df1['전화번호1'] + df1['우편번호']"
   ]
  },
  {
   "cell_type": "code",
   "execution_count": 328,
   "id": "a1bef543-7cec-4c71-a80b-8fbc2896c2a4",
   "metadata": {},
   "outputs": [],
   "source": [
    "a = df['key'].sort_values().tolist()"
   ]
  },
  {
   "cell_type": "code",
   "execution_count": 330,
   "id": "e4349c1c-7082-46fe-91e0-25ba0b8b7d47",
   "metadata": {},
   "outputs": [],
   "source": [
    "b = df1['key'].sort_values().tolist()"
   ]
  },
  {
   "cell_type": "code",
   "execution_count": 352,
   "id": "fbeaf89d-1f42-4ca6-9cad-e7032e245ccd",
   "metadata": {},
   "outputs": [
    {
     "data": {
      "text/plain": [
       "True"
      ]
     },
     "execution_count": 352,
     "metadata": {},
     "output_type": "execute_result"
    }
   ],
   "source": [
    "a == b"
   ]
  }
 ],
 "metadata": {
  "kernelspec": {
   "display_name": "Python 3 (ipykernel)",
   "language": "python",
   "name": "python3"
  },
  "language_info": {
   "codemirror_mode": {
    "name": "ipython",
    "version": 3
   },
   "file_extension": ".py",
   "mimetype": "text/x-python",
   "name": "python",
   "nbconvert_exporter": "python",
   "pygments_lexer": "ipython3",
   "version": "3.12.7"
  }
 },
 "nbformat": 4,
 "nbformat_minor": 5
}
