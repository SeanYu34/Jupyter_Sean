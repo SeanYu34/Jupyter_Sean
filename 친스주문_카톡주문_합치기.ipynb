{
 "cells": [
  {
   "cell_type": "code",
   "execution_count": 3,
   "id": "cb7bb802-1eef-4aff-893f-29e0fa2b58d7",
   "metadata": {},
   "outputs": [],
   "source": [
    "import pandas as pd\n",
    "import numpy as np\n",
    "from datetime import datetime, timedelta\n",
    "import warnings\n",
    "warnings.simplefilter('ignore')"
   ]
  },
  {
   "cell_type": "code",
   "execution_count": 256,
   "id": "f814fa68-7d8b-44b0-9c37-d28ac96104a8",
   "metadata": {},
   "outputs": [],
   "source": [
    "fs_df = pd.read_excel('/Users/seanyu_mac/Downloads/주문내역_51182_2024-04-11~2025-04-11 (2).xlsx')\n",
    "ka_df = pd.read_excel('/Users/seanyu_mac/Downloads/20250410171503.xlsx')"
   ]
  },
  {
   "cell_type": "code",
   "execution_count": 258,
   "id": "0b0193f7-68fa-4ccc-9fba-2abdbb381028",
   "metadata": {},
   "outputs": [
    {
     "data": {
      "text/plain": [
       "['구매확정', '취소완료', '반품완료(반품완료)']"
      ]
     },
     "execution_count": 258,
     "metadata": {},
     "output_type": "execute_result"
    }
   ],
   "source": [
    "fs_df['주문 상태'].unique().tolist()"
   ]
  },
  {
   "cell_type": "code",
   "execution_count": 260,
   "id": "70b90a81-69b2-4c88-9502-4a618959ae74",
   "metadata": {},
   "outputs": [
    {
     "data": {
      "text/plain": [
       "['601 구매 결정']"
      ]
     },
     "execution_count": 260,
     "metadata": {},
     "output_type": "execute_result"
    }
   ],
   "source": [
    "ka_df['주문상태'].unique().tolist()"
   ]
  },
  {
   "cell_type": "code",
   "execution_count": 262,
   "id": "9a12290c-9e0e-487d-8915-209ee23e3039",
   "metadata": {},
   "outputs": [],
   "source": [
    "idx = fs_df[fs_df['주문 상태'].isin(['취소완료', '반품완료(반품완료)'])].index\n",
    "fs_df.loc[idx, '정산가'] = fs_df.loc[idx, '정산가'].apply(lambda x: -x)"
   ]
  },
  {
   "cell_type": "code",
   "execution_count": 264,
   "id": "e09a254d-5df8-4b73-ab7a-23ff07111da9",
   "metadata": {},
   "outputs": [],
   "source": [
    "fs_df['수수료'] = 0"
   ]
  },
  {
   "cell_type": "code",
   "execution_count": 266,
   "id": "baf28607-79e3-4178-a653-894f1d5ce268",
   "metadata": {},
   "outputs": [],
   "source": [
    "fs_df = fs_df[['결제 번호', '상품 번호', '주문 번호', '결제 완료일', '주문 상태', '상품명', '옵션명', '수량', '정상가',\n",
    "       '판매가', '쿠폰 할인', '포인트 할인', '적립금', '정산가', '수수료', '수령인명', '수령인 연락처', '구매자명',\n",
    "       '구매자 ID', '구매자 연락처', '주소', '우편번호', '배송 메모', '주문 확인일', '발주 요청일',\n",
    "       '배송 완료일', '구매 확정일', '배송택배사', '송장 번호', '배송비 정책', '배송비', '도서산간 배송비',\n",
    "       '취소 완료일', '판매자 취소일', '반품 요청일', '수거 요청일', '수거 완료일', '반품 완료일']]"
   ]
  },
  {
   "cell_type": "code",
   "execution_count": 268,
   "id": "33bddbdc-b9a6-46ce-9ecd-6465f4cc867d",
   "metadata": {},
   "outputs": [],
   "source": [
    "yaksa = fs_df['상품명'].unique()[0].split()[1]\n",
    "product = fs_df['상품명'].unique()[0].split()[4]\n",
    "min = fs_df['결제 완료일'].min().strftime('%Y-%m-%d')\n",
    "max = fs_df['결제 완료일'].max().strftime('%Y-%m-%d')"
   ]
  },
  {
   "cell_type": "code",
   "execution_count": 270,
   "id": "a7380418-cfd7-43f3-b2c8-94ebc3badc39",
   "metadata": {},
   "outputs": [
    {
     "data": {
      "text/plain": [
       "'유이약사'"
      ]
     },
     "execution_count": 270,
     "metadata": {},
     "output_type": "execute_result"
    }
   ],
   "source": [
    "yaksa"
   ]
  },
  {
   "cell_type": "code",
   "execution_count": 272,
   "id": "5a1b9db4-532a-4b03-a7ef-7321a29888f1",
   "metadata": {},
   "outputs": [],
   "source": [
    "# 만약에 타 플랫폼 매출자료가 없다면 바로 엑셀 추출\n",
    "\n",
    "fs_df.to_excel(f'/Users/seanyu_mac/Downloads/정산자료_{yaksa}_{product}_{min}_{max}.xlsx')"
   ]
  },
  {
   "cell_type": "code",
   "execution_count": 126,
   "id": "ded8d262-7e35-4319-a04f-73ed8c5e4283",
   "metadata": {},
   "outputs": [],
   "source": [
    "ka_df['결제 번호'] = ka_df['결제번호']\n",
    "ka_df['상품 번호'] = ka_df['채널상품번호']\n",
    "ka_df['주문 번호'] = ka_df['주문번호']\n",
    "ka_df['결제 완료일'] = ka_df['주문일']\n",
    "ka_df['주문 상태'] = ka_df['주문상태']\n",
    "ka_df['상품명'] = ka_df['상품명']\n",
    "ka_df['옵션명'] = ka_df['옵션']\n",
    "ka_df['수량'] = ka_df['수량']\n",
    "ka_df['정상가'] = ka_df['상품금액']\n",
    "ka_df['판매가'] = ka_df['상품금액'] + ka_df['옵션금액'] - ka_df['판매자할인금액']\n",
    "ka_df['쿠폰 할인'] = 0\n",
    "ka_df['포인트 할인'] = 0\n",
    "ka_df['적립금'] = 0\n",
    "ka_df['정산가'] = ka_df['정산기준금액']\n",
    "ka_df['수수료'] = ka_df['기본수수료'] + ka_df['노출추가수수료'] + ka_df['추천리워드수수료'] - ka_df['수수료할인금액']\n",
    "ka_df['수령인명'] = '***'\n",
    "ka_df['수령인 연락처'] = '***'\n",
    "ka_df['구매자명'] = '***'\n",
    "ka_df['구매자 ID'] = '***'\n",
    "ka_df['구매자 연락처'] = '***'\n",
    "ka_df['주소'] = '***'\n",
    "ka_df['우편번호'] = '***'\n",
    "ka_df['배송 메모'] = '***'\n",
    "ka_df['주문 확인일'] = ka_df['주문일']\n",
    "ka_df['발주 요청일'] = ka_df['송장입력일']\n",
    "ka_df['배송 완료일'] = ka_df['배송예정일']\n",
    "ka_df['구매 확정일'] = ''\n",
    "ka_df['배송택배사'] = ka_df['택배사']\n",
    "ka_df['송장 번호'] = ka_df['송장번호']\n",
    "ka_df['배송비 정책'] = ka_df['배송비지불방법']\n",
    "ka_df['배송비'] = ka_df['기본배송비 금액']\n",
    "ka_df['도서산간 배송비'] = ka_df['도서산간 추가 배송비 금액']\n",
    "ka_df['취소 완료일'] = ka_df['취소완료일']\n",
    "ka_df['판매자 취소일'] = ka_df['취소완료일']\n",
    "ka_df['반품 요청일'] = ''\n",
    "ka_df['수거 요청일'] = ''\n",
    "ka_df['수거 완료일'] = ''\n",
    "ka_df['반품 완료일'] = ka_df['환불완료일']"
   ]
  },
  {
   "cell_type": "code",
   "execution_count": 128,
   "id": "3aedbf6a-36e4-4637-8404-b7a1bdc086a1",
   "metadata": {},
   "outputs": [],
   "source": [
    "rows = ka_df[fs_df.columns]   # 첫 번째 행만 선택\n",
    "temp_df = pd.concat([fs_df, rows])          # 마지막에 추가"
   ]
  },
  {
   "cell_type": "code",
   "execution_count": 160,
   "id": "868062f9-1930-4799-bd6b-2a16f2884d38",
   "metadata": {},
   "outputs": [
    {
     "data": {
      "text/plain": [
       "42"
      ]
     },
     "execution_count": 160,
     "metadata": {},
     "output_type": "execute_result"
    }
   ],
   "source": [
    "fs_df.index.size"
   ]
  },
  {
   "cell_type": "code",
   "execution_count": 162,
   "id": "809f3359-7606-4b21-9f3d-76c60bbccee7",
   "metadata": {},
   "outputs": [
    {
     "data": {
      "text/plain": [
       "1"
      ]
     },
     "execution_count": 162,
     "metadata": {},
     "output_type": "execute_result"
    }
   ],
   "source": [
    "ka_df.index.size"
   ]
  },
  {
   "cell_type": "code",
   "execution_count": 164,
   "id": "a1e1332a-4c6f-47c2-8d8b-dc8fdb1a41a9",
   "metadata": {},
   "outputs": [
    {
     "data": {
      "text/plain": [
       "43"
      ]
     },
     "execution_count": 164,
     "metadata": {},
     "output_type": "execute_result"
    }
   ],
   "source": [
    "temp_df.index.size"
   ]
  },
  {
   "cell_type": "code",
   "execution_count": 158,
   "id": "6cea7883-51d7-4d7b-8ce2-5a9594cbe61f",
   "metadata": {},
   "outputs": [
    {
     "name": "stdout",
     "output_type": "stream",
     "text": [
      "['[공동구매] 명훈약사 X YDY 퓨어리포좀글루타치온 / 3박스 6박스 12박스']\n"
     ]
    }
   ],
   "source": [
    "name = temp_df['상품명'].unique()\n",
    "print(name)\n",
    "temp_df.to_excel(f'/Users/seanyu_mac/Downloads/정산자료_{yaksa}_{product}_{min}_{max}.xlsx')"
   ]
  }
 ],
 "metadata": {
  "kernelspec": {
   "display_name": "Python 3 (ipykernel)",
   "language": "python",
   "name": "python3"
  },
  "language_info": {
   "codemirror_mode": {
    "name": "ipython",
    "version": 3
   },
   "file_extension": ".py",
   "mimetype": "text/x-python",
   "name": "python",
   "nbconvert_exporter": "python",
   "pygments_lexer": "ipython3",
   "version": "3.12.7"
  }
 },
 "nbformat": 4,
 "nbformat_minor": 5
}
