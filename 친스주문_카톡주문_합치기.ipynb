{
 "cells": [
  {
   "cell_type": "code",
   "execution_count": 4,
   "id": "cb7bb802-1eef-4aff-893f-29e0fa2b58d7",
   "metadata": {},
   "outputs": [],
   "source": [
    "import pandas as pd\n",
    "import numpy as np\n",
    "from datetime import datetime, timedelta\n",
    "import warnings\n",
    "warnings.simplefilter('ignore')"
   ]
  },
  {
   "cell_type": "code",
   "execution_count": 181,
   "id": "f814fa68-7d8b-44b0-9c37-d28ac96104a8",
   "metadata": {},
   "outputs": [],
   "source": [
    "fs_df = pd.read_excel('/Users/seanyu_mac/Downloads/주문내역_51259_2024-05-02~2025-05-02.xlsx')\n",
    "ka_df = pd.read_excel('/Users/seanyu_mac/Downloads/20250502100659.xlsx')"
   ]
  },
  {
   "cell_type": "code",
   "execution_count": 183,
   "id": "0b0193f7-68fa-4ccc-9fba-2abdbb381028",
   "metadata": {},
   "outputs": [
    {
     "data": {
      "text/plain": [
       "['구매확정']"
      ]
     },
     "execution_count": 183,
     "metadata": {},
     "output_type": "execute_result"
    }
   ],
   "source": [
    "fs_df['주문 상태'].unique().tolist()"
   ]
  },
  {
   "cell_type": "code",
   "execution_count": 185,
   "id": "70b90a81-69b2-4c88-9502-4a618959ae74",
   "metadata": {},
   "outputs": [
    {
     "data": {
      "text/plain": [
       "['601 구매 결정', '204 결제 취소 완료']"
      ]
     },
     "execution_count": 185,
     "metadata": {},
     "output_type": "execute_result"
    }
   ],
   "source": [
    "ka_df['주문상태'].unique().tolist()"
   ]
  },
  {
   "cell_type": "code",
   "execution_count": 187,
   "id": "e09a254d-5df8-4b73-ab7a-23ff07111da9",
   "metadata": {},
   "outputs": [],
   "source": [
    "fs_df['수수료'] = 0"
   ]
  },
  {
   "cell_type": "code",
   "execution_count": 189,
   "id": "baf28607-79e3-4178-a653-894f1d5ce268",
   "metadata": {},
   "outputs": [],
   "source": [
    "fs_df = fs_df[['결제 번호', '상품 번호', '주문 번호', '결제 완료일', '주문 상태', '상품명', '옵션명', '수량', '정상가',\n",
    "       '판매가', '쿠폰 할인', '포인트 할인', '적립금', '정산가', '수수료', '수령인명', '수령인 연락처', '구매자명',\n",
    "       '구매자 ID', '구매자 연락처', '주소', '우편번호', '배송 메모', '주문 확인일', '발주 요청일',\n",
    "       '배송 완료일', '구매 확정일', '배송택배사', '송장 번호', '배송비 정책', '배송비', '도서산간 배송비',\n",
    "       '취소 완료일', '판매자 취소일', '반품 요청일', '수거 요청일', '수거 완료일', '반품 완료일']]"
   ]
  },
  {
   "cell_type": "code",
   "execution_count": 191,
   "id": "33bddbdc-b9a6-46ce-9ecd-6465f4cc867d",
   "metadata": {},
   "outputs": [],
   "source": [
    "yaksa = fs_df['상품명'].unique()[0].split()[1]\n",
    "product = fs_df['상품명'].unique()[0].split()[4]\n",
    "min = fs_df['결제 완료일'].min().strftime('%Y-%m-%d')\n",
    "max = fs_df['결제 완료일'].max().strftime('%Y-%m-%d')"
   ]
  },
  {
   "cell_type": "code",
   "execution_count": 193,
   "id": "a7380418-cfd7-43f3-b2c8-94ebc3badc39",
   "metadata": {},
   "outputs": [
    {
     "data": {
      "text/plain": [
       "'샤인약사'"
      ]
     },
     "execution_count": 193,
     "metadata": {},
     "output_type": "execute_result"
    }
   ],
   "source": [
    "yaksa"
   ]
  },
  {
   "cell_type": "code",
   "execution_count": 124,
   "id": "5a1b9db4-532a-4b03-a7ef-7321a29888f1",
   "metadata": {},
   "outputs": [],
   "source": [
    "# 만약에 타 플랫폼 매출자료가 없다면 바로 엑셀 추출\n",
    "\n",
    "fs_df.to_excel(f'/Users/seanyu_mac/Downloads/정산자료_{yaksa}_{product}_{min}_{max}.xlsx')"
   ]
  },
  {
   "cell_type": "code",
   "execution_count": 195,
   "id": "ded8d262-7e35-4319-a04f-73ed8c5e4283",
   "metadata": {},
   "outputs": [],
   "source": [
    "ka_df['결제 번호'] = ka_df['결제번호']\n",
    "ka_df['상품 번호'] = ka_df['채널상품번호']\n",
    "ka_df['주문 번호'] = ka_df['주문번호']\n",
    "ka_df['결제 완료일'] = ka_df['주문일']\n",
    "ka_df['주문 상태'] = ka_df['주문상태']\n",
    "ka_df['상품명'] = ka_df['상품명']\n",
    "ka_df['옵션명'] = ka_df['옵션']\n",
    "ka_df['수량'] = ka_df['수량']\n",
    "ka_df['정상가'] = ka_df['상품금액']\n",
    "ka_df['판매가'] = ka_df['상품금액'] + ka_df['옵션금액'] - ka_df['판매자할인금액']\n",
    "ka_df['쿠폰 할인'] = 0\n",
    "ka_df['포인트 할인'] = 0\n",
    "ka_df['적립금'] = 0\n",
    "ka_df['정산가'] = ka_df['정산기준금액']\n",
    "ka_df['수수료'] = ka_df['기본수수료'] + ka_df['노출추가수수료'] + ka_df['추천리워드수수료'] - ka_df['수수료할인금액']\n",
    "ka_df['수령인명'] = '***'\n",
    "ka_df['수령인 연락처'] = '***'\n",
    "ka_df['구매자명'] = '***'\n",
    "ka_df['구매자 ID'] = '***'\n",
    "ka_df['구매자 연락처'] = '***'\n",
    "ka_df['주소'] = '***'\n",
    "ka_df['우편번호'] = '***'\n",
    "ka_df['배송 메모'] = '***'\n",
    "ka_df['주문 확인일'] = ka_df['주문일']\n",
    "ka_df['발주 요청일'] = ka_df['송장입력일']\n",
    "ka_df['배송 완료일'] = ka_df['배송예정일']\n",
    "ka_df['구매 확정일'] = ''\n",
    "ka_df['배송택배사'] = ka_df['택배사']\n",
    "ka_df['송장 번호'] = ka_df['송장번호']\n",
    "ka_df['배송비 정책'] = ka_df['배송비지불방법']\n",
    "ka_df['배송비'] = ka_df['기본배송비 금액']\n",
    "ka_df['도서산간 배송비'] = ka_df['도서산간 추가 배송비 금액']\n",
    "ka_df['취소 완료일'] = ka_df['취소완료일']\n",
    "ka_df['판매자 취소일'] = ka_df['취소완료일']\n",
    "ka_df['반품 요청일'] = ''\n",
    "ka_df['수거 요청일'] = ''\n",
    "ka_df['수거 완료일'] = ''\n",
    "ka_df['반품 완료일'] = ka_df['환불완료일']"
   ]
  },
  {
   "cell_type": "code",
   "execution_count": 197,
   "id": "3aedbf6a-36e4-4637-8404-b7a1bdc086a1",
   "metadata": {},
   "outputs": [],
   "source": [
    "rows = ka_df[fs_df.columns]   # 첫 번째 행만 선택\n",
    "temp_df = pd.concat([fs_df, rows])          # 마지막에 추가"
   ]
  },
  {
   "cell_type": "code",
   "execution_count": 199,
   "id": "868062f9-1930-4799-bd6b-2a16f2884d38",
   "metadata": {},
   "outputs": [
    {
     "data": {
      "text/plain": [
       "25"
      ]
     },
     "execution_count": 199,
     "metadata": {},
     "output_type": "execute_result"
    }
   ],
   "source": [
    "fs_df.index.size"
   ]
  },
  {
   "cell_type": "code",
   "execution_count": 201,
   "id": "809f3359-7606-4b21-9f3d-76c60bbccee7",
   "metadata": {},
   "outputs": [
    {
     "data": {
      "text/plain": [
       "88"
      ]
     },
     "execution_count": 201,
     "metadata": {},
     "output_type": "execute_result"
    }
   ],
   "source": [
    "ka_df.index.size"
   ]
  },
  {
   "cell_type": "code",
   "execution_count": 203,
   "id": "a1e1332a-4c6f-47c2-8d8b-dc8fdb1a41a9",
   "metadata": {},
   "outputs": [
    {
     "data": {
      "text/plain": [
       "113"
      ]
     },
     "execution_count": 203,
     "metadata": {},
     "output_type": "execute_result"
    }
   ],
   "source": [
    "temp_df.index.size"
   ]
  },
  {
   "cell_type": "code",
   "execution_count": 205,
   "id": "7a3daa77-e7e8-4383-9c4d-ab9f57b9af67",
   "metadata": {},
   "outputs": [],
   "source": [
    "temp_df = temp_df.reset_index()"
   ]
  },
  {
   "cell_type": "code",
   "execution_count": 207,
   "id": "f08aa562-3840-4afb-ad19-bafb5e14d6fb",
   "metadata": {},
   "outputs": [
    {
     "data": {
      "text/plain": [
       "array(['구매확정', '601 구매 결정', '204 결제 취소 완료'], dtype=object)"
      ]
     },
     "execution_count": 207,
     "metadata": {},
     "output_type": "execute_result"
    }
   ],
   "source": [
    "temp_df['주문 상태'].unique()"
   ]
  },
  {
   "cell_type": "code",
   "execution_count": 209,
   "id": "ccb0392e-d295-4e85-9de1-11b27c9f3512",
   "metadata": {},
   "outputs": [
    {
     "data": {
      "text/plain": [
       "Index([40, 51, 72, 97, 111], dtype='int64')"
      ]
     },
     "execution_count": 209,
     "metadata": {},
     "output_type": "execute_result"
    }
   ],
   "source": [
    "temp_df[~(temp_df['주문 상태'].isin(['구매확정', '601 구매 결정']))].index"
   ]
  },
  {
   "cell_type": "code",
   "execution_count": 211,
   "id": "61307a6d-c5c1-4137-acae-5e1ad74b7d79",
   "metadata": {},
   "outputs": [],
   "source": [
    "for i in temp_df[~(temp_df['주문 상태'].isin(['구매확정', '601 구매 결정']))].index:\n",
    "    before = temp_df.loc[i, '정산가']\n",
    "    after = before * -1\n",
    "    temp_df.loc[i, '정산가'] = after"
   ]
  },
  {
   "cell_type": "code",
   "execution_count": 217,
   "id": "6cea7883-51d7-4d7b-8ce2-5a9594cbe61f",
   "metadata": {},
   "outputs": [
    {
     "name": "stdout",
     "output_type": "stream",
     "text": [
      "['[공동구매] 샤인약사 X YDY 파이토 레드큐민(정제) & 퓨어레드큐민(분말) / 3박스 6박스 12박스']\n"
     ]
    }
   ],
   "source": [
    "name = temp_df['상품명'].unique()\n",
    "print(name)\n",
    "temp_df.to_excel(f'/Users/seanyu_mac/Downloads/정산자료_{yaksa}_{product}_{min}_{max}.xlsx')"
   ]
  },
  {
   "cell_type": "code",
   "execution_count": 219,
   "id": "5fdeeb96-ed8d-4d51-a18c-2d996bfd2e4e",
   "metadata": {},
   "outputs": [
    {
     "data": {
      "text/plain": [
       "array(['구매확정', '601 구매 결정', '204 결제 취소 완료'], dtype=object)"
      ]
     },
     "execution_count": 219,
     "metadata": {},
     "output_type": "execute_result"
    }
   ],
   "source": [
    "temp_df['주문 상태'].unique()"
   ]
  }
 ],
 "metadata": {
  "kernelspec": {
   "display_name": "Python 3 (ipykernel)",
   "language": "python",
   "name": "python3"
  },
  "language_info": {
   "codemirror_mode": {
    "name": "ipython",
    "version": 3
   },
   "file_extension": ".py",
   "mimetype": "text/x-python",
   "name": "python",
   "nbconvert_exporter": "python",
   "pygments_lexer": "ipython3",
   "version": "3.12.7"
  }
 },
 "nbformat": 4,
 "nbformat_minor": 5
}
