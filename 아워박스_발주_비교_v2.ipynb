{
 "cells": [
  {
   "cell_type": "code",
   "execution_count": 2,
   "id": "9dd986f4-6d4c-47ea-848e-f218ce9c2c86",
   "metadata": {},
   "outputs": [],
   "source": [
    "import pandas as pd\n",
    "import numpy as np\n",
    "from datetime import datetime, timedelta\n",
    "import warnings\n",
    "import matplotlib.pyplot as plt\n",
    "warnings.simplefilter('ignore')"
   ]
  },
  {
   "cell_type": "code",
   "execution_count": 66,
   "id": "30449f6e-41ed-446d-ac06-1e18a4c20ca3",
   "metadata": {},
   "outputs": [
    {
     "data": {
      "text/plain": [
       "0     22189\n",
       "1     16068\n",
       "2     26446\n",
       "3     26446\n",
       "4     46765\n",
       "      ...  \n",
       "62    33442\n",
       "63    17559\n",
       "64    13521\n",
       "65    21443\n",
       "66    38183\n",
       "Name: 우편번호, Length: 67, dtype: int64"
      ]
     },
     "execution_count": 66,
     "metadata": {},
     "output_type": "execute_result"
    }
   ],
   "source": [
    "fs_df = pd.read_excel('/Users/seanyu_mac/Downloads/주문내역_2024-03-31~2025-03-31.xlsx')\n",
    "ob_df = pd.read_csv('/Users/seanyu_mac/Downloads/제목 없는 스프레드시트 - 시트1 (5).csv')\n",
    "fs_df['우편번호']"
   ]
  },
  {
   "cell_type": "code",
   "execution_count": 68,
   "id": "85a0e894-0efd-4cb1-aee9-34d4885ac785",
   "metadata": {},
   "outputs": [],
   "source": [
    "ob_df['주문번호'] = ob_df['주문번호'].apply(lambda x: x[:5])\n",
    "fs_df['주문 번호'] = fs_df['주문 번호'].apply(lambda x: x[:5])\n",
    "\n",
    "fs_df['정산가'] = fs_df['정산가'].astype(str)\n",
    "ob_df['결제금액'] = ob_df['결제금액'].astype(str)\n",
    "ob_df['결제금액'] = ob_df['결제금액'].astype(str)\n",
    "ob_df['우편번호'] = ob_df['이름'].apply(lambda x: x[-1:])\n",
    "\n",
    "fs_df['수령인 연락처'] = fs_df['수령인 연락처'].apply(lambda x: x[-4:])\n",
    "fs_df['우편번호'] = fs_df['우편번호'].astype(str)\n",
    "\n",
    "ob_df['전화번호'] = ob_df['전화번호'].apply(lambda x: x[-4:])"
   ]
  },
  {
   "cell_type": "code",
   "execution_count": 70,
   "id": "07028068-d630-4360-90b3-9ee012699e8f",
   "metadata": {},
   "outputs": [],
   "source": [
    "fs_df['key'] = fs_df['주문 번호'] + fs_df['정산가'] + fs_df['수령인 연락처']\n",
    "ob_df['key'] = ob_df['주문번호'] + ob_df['결제금액'] + ob_df['전화번호']"
   ]
  },
  {
   "cell_type": "code",
   "execution_count": 74,
   "id": "353ef9a2-4b09-4e60-b91e-81fbd8736a86",
   "metadata": {},
   "outputs": [
    {
     "name": "stdout",
     "output_type": "stream",
     "text": [
      "<class 'pandas.core.frame.DataFrame'>\n",
      "RangeIndex: 67 entries, 0 to 66\n",
      "Data columns (total 44 columns):\n",
      " #   Column    Non-Null Count  Dtype         \n",
      "---  ------    --------------  -----         \n",
      " 0   결제 번호     67 non-null     object        \n",
      " 1   상품 번호     67 non-null     int64         \n",
      " 2   주문 번호     67 non-null     object        \n",
      " 3   결제 완료일    67 non-null     datetime64[ns]\n",
      " 4   주문 상태     67 non-null     object        \n",
      " 5   상품명       67 non-null     object        \n",
      " 6   옵션명       67 non-null     object        \n",
      " 7   수량        67 non-null     int64         \n",
      " 8   정상가       67 non-null     int64         \n",
      " 9   판매가       67 non-null     int64         \n",
      " 10  쿠폰 할인     67 non-null     int64         \n",
      " 11  포인트 할인    67 non-null     int64         \n",
      " 12  적립금       67 non-null     int64         \n",
      " 13  정산가       67 non-null     object        \n",
      " 14  수령인명      67 non-null     object        \n",
      " 15  수령인 연락처   67 non-null     object        \n",
      " 16  구매자명      67 non-null     object        \n",
      " 17  구매자 ID    67 non-null     object        \n",
      " 18  구매자 연락처   67 non-null     int64         \n",
      " 19  주소        67 non-null     object        \n",
      " 20  우편번호_x    67 non-null     object        \n",
      " 21  배송 메모     51 non-null     object        \n",
      " 22  주문 확인일    67 non-null     datetime64[ns]\n",
      " 23  발주 요청일    0 non-null      float64       \n",
      " 24  배송 완료일    0 non-null      float64       \n",
      " 25  구매 확정일    0 non-null      float64       \n",
      " 26  배송택배사     0 non-null      float64       \n",
      " 27  송장 번호     0 non-null      float64       \n",
      " 28  배송비 정책    67 non-null     object        \n",
      " 29  배송비       67 non-null     int64         \n",
      " 30  도서산간 배송비  67 non-null     int64         \n",
      " 31  취소 완료일    0 non-null      float64       \n",
      " 32  판매자 취소일   0 non-null      float64       \n",
      " 33  반품 요청일    0 non-null      float64       \n",
      " 34  수거 요청일    0 non-null      float64       \n",
      " 35  수거 완료일    0 non-null      float64       \n",
      " 36  반품 완료일    0 non-null      float64       \n",
      " 37  key       67 non-null     object        \n",
      " 38  주문번호      64 non-null     object        \n",
      " 39  아워박스_제품명  64 non-null     object        \n",
      " 40  결제금액      64 non-null     object        \n",
      " 41  이름        64 non-null     object        \n",
      " 42  전화번호      64 non-null     object        \n",
      " 43  우편번호_y    64 non-null     object        \n",
      "dtypes: datetime64[ns](2), float64(11), int64(10), object(21)\n",
      "memory usage: 23.2+ KB\n"
     ]
    }
   ],
   "source": [
    "temp_df = pd.merge(fs_df, ob_df, on='key', how='left')\n",
    "temp_df.info()"
   ]
  },
  {
   "cell_type": "code",
   "execution_count": 76,
   "id": "e9300906-1593-4357-86e7-42a3d6718cf9",
   "metadata": {},
   "outputs": [
    {
     "data": {
      "text/html": [
       "<div>\n",
       "<style scoped>\n",
       "    .dataframe tbody tr th:only-of-type {\n",
       "        vertical-align: middle;\n",
       "    }\n",
       "\n",
       "    .dataframe tbody tr th {\n",
       "        vertical-align: top;\n",
       "    }\n",
       "\n",
       "    .dataframe thead th {\n",
       "        text-align: right;\n",
       "    }\n",
       "</style>\n",
       "<table border=\"1\" class=\"dataframe\">\n",
       "  <thead>\n",
       "    <tr style=\"text-align: right;\">\n",
       "      <th></th>\n",
       "      <th>상품명</th>\n",
       "      <th>아워박스_제품명</th>\n",
       "    </tr>\n",
       "  </thead>\n",
       "  <tbody>\n",
       "    <tr>\n",
       "      <th>0</th>\n",
       "      <td>[공동구매] 유이약사 X YDY 폴라초임계오메가3 /rTG 저온 초임계 / 3박스 ...</td>\n",
       "      <td>&lt;span class='view-set-item' data-item='2010680...</td>\n",
       "    </tr>\n",
       "    <tr>\n",
       "      <th>1</th>\n",
       "      <td>[공동구매] 유이약사 X YDY 폴라초임계오메가3 /rTG 저온 초임계 / 3박스 ...</td>\n",
       "      <td>&lt;span class='view-set-item' data-item='2010680...</td>\n",
       "    </tr>\n",
       "    <tr>\n",
       "      <th>2</th>\n",
       "      <td>[스페셜할인코드/이재연약사] YDY 포스트바이오틱스GX 1박스 (30일분)</td>\n",
       "      <td>NaN</td>\n",
       "    </tr>\n",
       "    <tr>\n",
       "      <th>3</th>\n",
       "      <td>[스페셜할인코드/이재연약사] YDY 프로바이오 에스엘비 1박스(2개월분)</td>\n",
       "      <td>&lt;span style='color:#000;'&gt;&lt;span class='label l...</td>\n",
       "    </tr>\n",
       "    <tr>\n",
       "      <th>4</th>\n",
       "      <td>[공동구매] 유이약사 X YDY 폴라초임계오메가3 /rTG 저온 초임계 / 3박스 ...</td>\n",
       "      <td>&lt;span class='view-set-item' data-item='2010680...</td>\n",
       "    </tr>\n",
       "    <tr>\n",
       "      <th>...</th>\n",
       "      <td>...</td>\n",
       "      <td>...</td>\n",
       "    </tr>\n",
       "    <tr>\n",
       "      <th>62</th>\n",
       "      <td>[공동구매] 유이약사 X YDY 폴라초임계오메가3 /rTG 저온 초임계 / 3박스 ...</td>\n",
       "      <td>&lt;span class='view-set-item' data-item='2010680...</td>\n",
       "    </tr>\n",
       "    <tr>\n",
       "      <th>63</th>\n",
       "      <td>[공동구매] 유이약사 X YDY 폴라초임계오메가3 /rTG 저온 초임계 / 3박스 ...</td>\n",
       "      <td>&lt;span class='view-set-item' data-item='2010680...</td>\n",
       "    </tr>\n",
       "    <tr>\n",
       "      <th>64</th>\n",
       "      <td>[공동구매] 유이약사 X YDY 폴라초임계오메가3 /rTG 저온 초임계 / 3박스 ...</td>\n",
       "      <td>&lt;span class='view-set-item' data-item='2010680...</td>\n",
       "    </tr>\n",
       "    <tr>\n",
       "      <th>65</th>\n",
       "      <td>[공동구매] 유이약사 X YDY 폴라초임계오메가3 /rTG 저온 초임계 / 3박스 ...</td>\n",
       "      <td>&lt;span class='view-set-item' data-item='2010680...</td>\n",
       "    </tr>\n",
       "    <tr>\n",
       "      <th>66</th>\n",
       "      <td>[스페셜할인코드/최명훈약사] YDY 마그듀오 K2 1박스(1개월분)</td>\n",
       "      <td>NaN</td>\n",
       "    </tr>\n",
       "  </tbody>\n",
       "</table>\n",
       "<p>67 rows × 2 columns</p>\n",
       "</div>"
      ],
      "text/plain": [
       "                                                  상품명  \\\n",
       "0   [공동구매] 유이약사 X YDY 폴라초임계오메가3 /rTG 저온 초임계 / 3박스 ...   \n",
       "1   [공동구매] 유이약사 X YDY 폴라초임계오메가3 /rTG 저온 초임계 / 3박스 ...   \n",
       "2           [스페셜할인코드/이재연약사] YDY 포스트바이오틱스GX 1박스 (30일분)   \n",
       "3            [스페셜할인코드/이재연약사] YDY 프로바이오 에스엘비 1박스(2개월분)   \n",
       "4   [공동구매] 유이약사 X YDY 폴라초임계오메가3 /rTG 저온 초임계 / 3박스 ...   \n",
       "..                                                ...   \n",
       "62  [공동구매] 유이약사 X YDY 폴라초임계오메가3 /rTG 저온 초임계 / 3박스 ...   \n",
       "63  [공동구매] 유이약사 X YDY 폴라초임계오메가3 /rTG 저온 초임계 / 3박스 ...   \n",
       "64  [공동구매] 유이약사 X YDY 폴라초임계오메가3 /rTG 저온 초임계 / 3박스 ...   \n",
       "65  [공동구매] 유이약사 X YDY 폴라초임계오메가3 /rTG 저온 초임계 / 3박스 ...   \n",
       "66              [스페셜할인코드/최명훈약사] YDY 마그듀오 K2 1박스(1개월분)   \n",
       "\n",
       "                                             아워박스_제품명  \n",
       "0   <span class='view-set-item' data-item='2010680...  \n",
       "1   <span class='view-set-item' data-item='2010680...  \n",
       "2                                                 NaN  \n",
       "3   <span style='color:#000;'><span class='label l...  \n",
       "4   <span class='view-set-item' data-item='2010680...  \n",
       "..                                                ...  \n",
       "62  <span class='view-set-item' data-item='2010680...  \n",
       "63  <span class='view-set-item' data-item='2010680...  \n",
       "64  <span class='view-set-item' data-item='2010680...  \n",
       "65  <span class='view-set-item' data-item='2010680...  \n",
       "66                                                NaN  \n",
       "\n",
       "[67 rows x 2 columns]"
      ]
     },
     "execution_count": 76,
     "metadata": {},
     "output_type": "execute_result"
    }
   ],
   "source": [
    "temp_df[['상품명', '아워박스_제품명']]"
   ]
  },
  {
   "cell_type": "code",
   "execution_count": 90,
   "id": "a5832a4f-a8e1-415e-8d6b-2c7e404586cf",
   "metadata": {},
   "outputs": [],
   "source": [
    "temp_df.to_excel('/Users/seanyu_mac/Downloads/제목 없는 스프레드시트 - 시트1 (5)3.xlsx')"
   ]
  }
 ],
 "metadata": {
  "kernelspec": {
   "display_name": "Python 3 (ipykernel)",
   "language": "python",
   "name": "python3"
  },
  "language_info": {
   "codemirror_mode": {
    "name": "ipython",
    "version": 3
   },
   "file_extension": ".py",
   "mimetype": "text/x-python",
   "name": "python",
   "nbconvert_exporter": "python",
   "pygments_lexer": "ipython3",
   "version": "3.12.7"
  }
 },
 "nbformat": 4,
 "nbformat_minor": 5
}
