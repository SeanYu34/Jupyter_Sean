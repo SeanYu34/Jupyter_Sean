{
 "cells": [
  {
   "cell_type": "code",
   "execution_count": 41,
   "id": "3f195d6c-ae99-49e9-98f9-a08230acf55a",
   "metadata": {},
   "outputs": [],
   "source": [
    "import pandas as pd\n",
    "import numpy as np\n",
    "from datetime import datetime, timedelta\n",
    "import warnings\n",
    "warnings.simplefilter('ignore')"
   ]
  },
  {
   "cell_type": "code",
   "execution_count": 42,
   "id": "b2703988-0525-4e0e-a0c0-d12a150d8be4",
   "metadata": {},
   "outputs": [],
   "source": [
    "fs_df = pd.read_excel('/Users/mac/Downloads/주문내역_51273_2024-05-28~2025-05-28.xlsx')"
   ]
  },
  {
   "cell_type": "code",
   "execution_count": 43,
   "id": "40a41938-7940-440b-81dd-7de3f5d76722",
   "metadata": {},
   "outputs": [],
   "source": [
    "na_df = pd.read_csv('/Users/mac/Downloads/네이버스마트스토어 공구 - 시트1 (1).csv')"
   ]
  },
  {
   "cell_type": "code",
   "execution_count": 44,
   "id": "ed128745-ec01-42a9-9b1c-a8575395b95f",
   "metadata": {},
   "outputs": [],
   "source": [
    "today = datetime.today().strftime('%Y-%m-%d')"
   ]
  },
  {
   "cell_type": "code",
   "execution_count": 45,
   "id": "caf22752-3432-438d-84c1-3a60701fe0f7",
   "metadata": {},
   "outputs": [
    {
     "data": {
      "text/plain": [
       "array(['구매확정'], dtype=object)"
      ]
     },
     "execution_count": 45,
     "metadata": {},
     "output_type": "execute_result"
    }
   ],
   "source": [
    "fs_df['주문 상태'].unique()"
   ]
  },
  {
   "cell_type": "code",
   "execution_count": 46,
   "id": "bf9fce88-65ff-4528-beda-29f88988473d",
   "metadata": {},
   "outputs": [
    {
     "data": {
      "text/plain": [
       "'샤인약사'"
      ]
     },
     "execution_count": 46,
     "metadata": {},
     "output_type": "execute_result"
    }
   ],
   "source": [
    "yaksa = fs_df['상품명'].unique()[0].split()[1].strip()\n",
    "yaksa"
   ]
  },
  {
   "cell_type": "code",
   "execution_count": 47,
   "id": "d3bdbbac-5d3b-4e5a-bcaa-0a504ab9d1b3",
   "metadata": {},
   "outputs": [
    {
     "data": {
      "text/plain": [
       "Series([], Name: 정산가, dtype: int64)"
      ]
     },
     "execution_count": 47,
     "metadata": {},
     "output_type": "execute_result"
    }
   ],
   "source": [
    "for i in fs_df.loc[~(fs_df['주문 상태'] == '구매확정')].index:\n",
    "    data = fs_df.loc[i, '정산가'] * -1\n",
    "    print(data)\n",
    "    fs_df.loc[i, '정산가'] = data\n",
    "\n",
    "fs_df.loc[~(fs_df['주문 상태'] == '구매확정'), '정산가']"
   ]
  },
  {
   "cell_type": "code",
   "execution_count": 49,
   "id": "c5e0dcbd-ae58-4f8c-8e40-25f3233521e6",
   "metadata": {},
   "outputs": [],
   "source": [
    "# 타 스마트 스토어 판매건이 없으면 바로 정산자료 추출\n",
    "fs_df.to_excel(f'/Users/mac/Downloads/{yaksa}_정산자료_{today}.xlsx')"
   ]
  },
  {
   "cell_type": "code",
   "execution_count": 50,
   "id": "1f67f92c-a6aa-462e-bdfd-82d900ad2096",
   "metadata": {},
   "outputs": [],
   "source": [
    "fs_df.rename(columns={'정산가': '정산예정금액'}, inplace=True)\n",
    "fs_df['네이버페이 주문관리 수수료'] = '해당 없음'"
   ]
  },
  {
   "cell_type": "code",
   "execution_count": 51,
   "id": "2b632c5f-cee4-4b59-97a8-a82bc0c076d6",
   "metadata": {},
   "outputs": [],
   "source": [
    "fs_df = fs_df[['결제 번호', '상품 번호', '주문 번호', '결제 완료일', '주문 상태', '상품명', '옵션명', '수량', '정상가',\n",
    "       '판매가', '쿠폰 할인', '포인트 할인', '적립금', '네이버페이 주문관리 수수료', '정산예정금액', '수령인명', '수령인 연락처', '구매자명',\n",
    "       '구매자 ID', '구매자 연락처', '주소', '우편번호', '배송 메모', '주문 확인일', '발주 요청일',\n",
    "       '배송 완료일', '구매 확정일', '배송택배사', '송장 번호', '배송비 정책', '배송비', '도서산간 배송비',\n",
    "       '취소 완료일', '판매자 취소일', '반품 요청일', '수거 요청일', '수거 완료일', '반품 완료일']]"
   ]
  },
  {
   "cell_type": "code",
   "execution_count": 52,
   "id": "322b1013-157e-4fd2-877b-9c9e3d4b411c",
   "metadata": {},
   "outputs": [],
   "source": [
    "na_df['정산예정금액'] = na_df['정산예정금액'].apply(lambda x: x[1:])\n",
    "na_df['정산예정금액'] = na_df['정산예정금액'].apply(lambda x: x.replace(\",\", \"\"))\n",
    "na_df['정산예정금액'] = na_df['정산예정금액'].apply(lambda x: int(x))"
   ]
  },
  {
   "cell_type": "code",
   "execution_count": 53,
   "id": "47752c5f-db6f-405e-a744-2a87bd0a83bf",
   "metadata": {},
   "outputs": [
    {
     "data": {
      "text/plain": [
       "array([-2504, -8058, -2468, -4537, -3856, -2467, -4051, -4050,   -35,\n",
       "       -7219, -4536, -7252, -7220, -8022, -4083, -4068])"
      ]
     },
     "execution_count": 53,
     "metadata": {},
     "output_type": "execute_result"
    }
   ],
   "source": [
    "na_df['네이버페이 주문관리 수수료'] = na_df['네이버페이 주문관리 수수료'].astype(int)\n",
    "na_df['네이버페이 주문관리 수수료'].unique()"
   ]
  },
  {
   "cell_type": "code",
   "execution_count": 54,
   "id": "26c8ca0a-4492-4072-a0a7-935aba8c7a8f",
   "metadata": {},
   "outputs": [],
   "source": [
    "na_df.columns = ['결제 번호', '주문번호', '결제 완료일', '구매 확정일', '상품 번호', '상품명', '옵션명', '수량', '상품가격', '옵션가격', '판매자 부담 할인액', '최종 상품별 총 주문금액', '정산예정금액', '네이버페이 주문관리 수수료', '매출연동 수수료', '마지막 유입경로']"
   ]
  },
  {
   "cell_type": "code",
   "execution_count": 55,
   "id": "74773ff0-9473-48c0-9a1c-ffb68dc45dbe",
   "metadata": {},
   "outputs": [
    {
     "data": {
      "text/html": [
       "<div>\n",
       "<style scoped>\n",
       "    .dataframe tbody tr th:only-of-type {\n",
       "        vertical-align: middle;\n",
       "    }\n",
       "\n",
       "    .dataframe tbody tr th {\n",
       "        vertical-align: top;\n",
       "    }\n",
       "\n",
       "    .dataframe thead th {\n",
       "        text-align: right;\n",
       "    }\n",
       "</style>\n",
       "<table border=\"1\" class=\"dataframe\">\n",
       "  <thead>\n",
       "    <tr style=\"text-align: right;\">\n",
       "      <th></th>\n",
       "      <th>결제 번호</th>\n",
       "      <th>주문번호</th>\n",
       "      <th>결제 완료일</th>\n",
       "      <th>구매 확정일</th>\n",
       "      <th>상품 번호</th>\n",
       "      <th>상품명</th>\n",
       "      <th>옵션명</th>\n",
       "      <th>수량</th>\n",
       "      <th>상품가격</th>\n",
       "      <th>옵션가격</th>\n",
       "      <th>판매자 부담 할인액</th>\n",
       "      <th>최종 상품별 총 주문금액</th>\n",
       "      <th>정산예정금액</th>\n",
       "      <th>네이버페이 주문관리 수수료</th>\n",
       "      <th>매출연동 수수료</th>\n",
       "      <th>마지막 유입경로</th>\n",
       "    </tr>\n",
       "  </thead>\n",
       "  <tbody>\n",
       "    <tr>\n",
       "      <th>0</th>\n",
       "      <td>2025051472155811</td>\n",
       "      <td>2025051416423871</td>\n",
       "      <td>2025/05/14 19:21</td>\n",
       "      <td>2025/05/28 3:06:19</td>\n",
       "      <td>11745915535</td>\n",
       "      <td>[공동구매] 샤인약사 x YDY 콜라겐 비오틴 듀오 / 2박스 4박스 8박스</td>\n",
       "      <td>선택: 2박스</td>\n",
       "      <td>1</td>\n",
       "      <td>384000</td>\n",
       "      <td>-\\153,000</td>\n",
       "      <td>\\162,000</td>\n",
       "      <td>\\69,000</td>\n",
       "      <td>66496</td>\n",
       "      <td>-2504</td>\n",
       "      <td>0</td>\n",
       "      <td>네이버쇼핑 외</td>\n",
       "    </tr>\n",
       "    <tr>\n",
       "      <th>1</th>\n",
       "      <td>2025051472155801</td>\n",
       "      <td>2025051416423871</td>\n",
       "      <td>2025/05/14 19:21</td>\n",
       "      <td>2025/05/28 3:06:19</td>\n",
       "      <td>11745915535</td>\n",
       "      <td>[공동구매] 샤인약사 x YDY 콜라겐 비오틴 듀오 / 2박스 4박스 8박스</td>\n",
       "      <td>선택: 2박스</td>\n",
       "      <td>1</td>\n",
       "      <td>384000</td>\n",
       "      <td>-\\153,000</td>\n",
       "      <td>\\162,000</td>\n",
       "      <td>\\69,000</td>\n",
       "      <td>66496</td>\n",
       "      <td>-2504</td>\n",
       "      <td>0</td>\n",
       "      <td>네이버쇼핑 외</td>\n",
       "    </tr>\n",
       "    <tr>\n",
       "      <th>2</th>\n",
       "      <td>2025051477765621</td>\n",
       "      <td>2025051420246621</td>\n",
       "      <td>2025/05/14 22:15</td>\n",
       "      <td>2025/05/24 2:17:36</td>\n",
       "      <td>11745915535</td>\n",
       "      <td>[공동구매] 샤인약사 x YDY 콜라겐 비오틴 듀오 / 2박스 4박스 8박스</td>\n",
       "      <td>선택: 2박스</td>\n",
       "      <td>1</td>\n",
       "      <td>384000</td>\n",
       "      <td>-\\153,000</td>\n",
       "      <td>\\162,000</td>\n",
       "      <td>\\69,000</td>\n",
       "      <td>66496</td>\n",
       "      <td>-2504</td>\n",
       "      <td>0</td>\n",
       "      <td>네이버쇼핑 외</td>\n",
       "    </tr>\n",
       "    <tr>\n",
       "      <th>3</th>\n",
       "      <td>2025051463263551</td>\n",
       "      <td>2025051410410241</td>\n",
       "      <td>2025/05/14 15:03</td>\n",
       "      <td>2025/05/24 1:53:14</td>\n",
       "      <td>11745915535</td>\n",
       "      <td>[공동구매] 샤인약사 x YDY 콜라겐 비오틴 듀오 / 2박스 4박스 8박스</td>\n",
       "      <td>선택: 8박스</td>\n",
       "      <td>1</td>\n",
       "      <td>384000</td>\n",
       "      <td>\\0</td>\n",
       "      <td>\\162,000</td>\n",
       "      <td>\\222,000</td>\n",
       "      <td>213942</td>\n",
       "      <td>-8058</td>\n",
       "      <td>0</td>\n",
       "      <td>네이버쇼핑 외</td>\n",
       "    </tr>\n",
       "    <tr>\n",
       "      <th>4</th>\n",
       "      <td>2025051479003241</td>\n",
       "      <td>2025051421056191</td>\n",
       "      <td>2025/05/14 22:50</td>\n",
       "      <td>2025/05/24 1:52:42</td>\n",
       "      <td>11745915535</td>\n",
       "      <td>[공동구매] 샤인약사 x YDY 콜라겐 비오틴 듀오 / 2박스 4박스 8박스</td>\n",
       "      <td>선택: 2박스</td>\n",
       "      <td>1</td>\n",
       "      <td>384000</td>\n",
       "      <td>-\\153,000</td>\n",
       "      <td>\\163,000</td>\n",
       "      <td>\\68,000</td>\n",
       "      <td>65532</td>\n",
       "      <td>-2468</td>\n",
       "      <td>0</td>\n",
       "      <td>네이버쇼핑 외</td>\n",
       "    </tr>\n",
       "  </tbody>\n",
       "</table>\n",
       "</div>"
      ],
      "text/plain": [
       "              결제 번호              주문번호            결제 완료일              구매 확정일  \\\n",
       "0  2025051472155811  2025051416423871  2025/05/14 19:21  2025/05/28 3:06:19   \n",
       "1  2025051472155801  2025051416423871  2025/05/14 19:21  2025/05/28 3:06:19   \n",
       "2  2025051477765621  2025051420246621  2025/05/14 22:15  2025/05/24 2:17:36   \n",
       "3  2025051463263551  2025051410410241  2025/05/14 15:03  2025/05/24 1:53:14   \n",
       "4  2025051479003241  2025051421056191  2025/05/14 22:50  2025/05/24 1:52:42   \n",
       "\n",
       "         상품 번호                                         상품명      옵션명  수량  \\\n",
       "0  11745915535  [공동구매] 샤인약사 x YDY 콜라겐 비오틴 듀오 / 2박스 4박스 8박스  선택: 2박스   1   \n",
       "1  11745915535  [공동구매] 샤인약사 x YDY 콜라겐 비오틴 듀오 / 2박스 4박스 8박스  선택: 2박스   1   \n",
       "2  11745915535  [공동구매] 샤인약사 x YDY 콜라겐 비오틴 듀오 / 2박스 4박스 8박스  선택: 2박스   1   \n",
       "3  11745915535  [공동구매] 샤인약사 x YDY 콜라겐 비오틴 듀오 / 2박스 4박스 8박스  선택: 8박스   1   \n",
       "4  11745915535  [공동구매] 샤인약사 x YDY 콜라겐 비오틴 듀오 / 2박스 4박스 8박스  선택: 2박스   1   \n",
       "\n",
       "     상품가격       옵션가격 판매자 부담 할인액 최종 상품별 총 주문금액  정산예정금액  네이버페이 주문관리 수수료  \\\n",
       "0  384000  -\\153,000   \\162,000       \\69,000   66496           -2504   \n",
       "1  384000  -\\153,000   \\162,000       \\69,000   66496           -2504   \n",
       "2  384000  -\\153,000   \\162,000       \\69,000   66496           -2504   \n",
       "3  384000         \\0   \\162,000      \\222,000  213942           -8058   \n",
       "4  384000  -\\153,000   \\163,000       \\68,000   65532           -2468   \n",
       "\n",
       "   매출연동 수수료 마지막 유입경로  \n",
       "0         0  네이버쇼핑 외  \n",
       "1         0  네이버쇼핑 외  \n",
       "2         0  네이버쇼핑 외  \n",
       "3         0  네이버쇼핑 외  \n",
       "4         0  네이버쇼핑 외  "
      ]
     },
     "execution_count": 55,
     "metadata": {},
     "output_type": "execute_result"
    }
   ],
   "source": [
    "na_df['상품가격'] = na_df['상품가격'].apply(lambda x: x[1:])\n",
    "na_df['상품가격'] = na_df['상품가격'].apply(lambda x: x.replace(\",\", \"\"))\n",
    "na_df['상품가격'] = na_df['상품가격'].apply(lambda x: int(x))\n",
    "na_df.head(5)"
   ]
  },
  {
   "cell_type": "code",
   "execution_count": 56,
   "id": "4b3a19e3-faa9-4b55-a800-dc9d9a3f0e68",
   "metadata": {},
   "outputs": [],
   "source": [
    "na_df['판매가'] = na_df['정산예정금액'] - na_df['네이버페이 주문관리 수수료']"
   ]
  },
  {
   "cell_type": "code",
   "execution_count": 57,
   "id": "41622e3c-6ff6-4ed0-a561-5b26be73f323",
   "metadata": {},
   "outputs": [],
   "source": [
    "na_df['주문 상태'] = '구매확정'\n",
    "na_df['판매처'] = '네이버스토어'\n",
    "fs_df['판매처'] = '친한스토어'"
   ]
  },
  {
   "cell_type": "code",
   "execution_count": 58,
   "id": "a48935f1-01f3-4ca0-bfd7-0858c3668b82",
   "metadata": {},
   "outputs": [
    {
     "data": {
      "text/html": [
       "<div>\n",
       "<style scoped>\n",
       "    .dataframe tbody tr th:only-of-type {\n",
       "        vertical-align: middle;\n",
       "    }\n",
       "\n",
       "    .dataframe tbody tr th {\n",
       "        vertical-align: top;\n",
       "    }\n",
       "\n",
       "    .dataframe thead th {\n",
       "        text-align: right;\n",
       "    }\n",
       "</style>\n",
       "<table border=\"1\" class=\"dataframe\">\n",
       "  <thead>\n",
       "    <tr style=\"text-align: right;\">\n",
       "      <th></th>\n",
       "      <th>결제 번호</th>\n",
       "      <th>상품 번호</th>\n",
       "      <th>결제 완료일</th>\n",
       "      <th>주문 상태</th>\n",
       "      <th>상품명</th>\n",
       "      <th>옵션명</th>\n",
       "      <th>수량</th>\n",
       "      <th>판매가</th>\n",
       "      <th>네이버페이 주문관리 수수료</th>\n",
       "      <th>정산예정금액</th>\n",
       "      <th>구매 확정일</th>\n",
       "      <th>판매처</th>\n",
       "    </tr>\n",
       "  </thead>\n",
       "  <tbody>\n",
       "    <tr>\n",
       "      <th>0</th>\n",
       "      <td>parma20250510204935f7Cg0</td>\n",
       "      <td>51273</td>\n",
       "      <td>2025-05-10 20:49:59.050000</td>\n",
       "      <td>구매확정</td>\n",
       "      <td>[공동구매] 샤인약사 x YDY 콜라겐 비오틴 듀오 / 2박스 4박스 8박스</td>\n",
       "      <td>2박스</td>\n",
       "      <td>1</td>\n",
       "      <td>69000</td>\n",
       "      <td>해당 없음</td>\n",
       "      <td>69000</td>\n",
       "      <td>2025-05-22 14:00:00.010000</td>\n",
       "      <td>친한스토어</td>\n",
       "    </tr>\n",
       "    <tr>\n",
       "      <th>1</th>\n",
       "      <td>parma20250508100234mNu17</td>\n",
       "      <td>51273</td>\n",
       "      <td>2025-05-08 10:03:16.467000</td>\n",
       "      <td>구매확정</td>\n",
       "      <td>[공동구매] 샤인약사 x YDY 콜라겐 비오틴 듀오 / 2박스 4박스 8박스</td>\n",
       "      <td>2박스</td>\n",
       "      <td>1</td>\n",
       "      <td>69000</td>\n",
       "      <td>해당 없음</td>\n",
       "      <td>69000</td>\n",
       "      <td>2025-05-17 15:30:00.013000</td>\n",
       "      <td>친한스토어</td>\n",
       "    </tr>\n",
       "    <tr>\n",
       "      <th>2</th>\n",
       "      <td>2025051472155811</td>\n",
       "      <td>11745915535</td>\n",
       "      <td>2025/05/14 19:21</td>\n",
       "      <td>구매확정</td>\n",
       "      <td>[공동구매] 샤인약사 x YDY 콜라겐 비오틴 듀오 / 2박스 4박스 8박스</td>\n",
       "      <td>선택: 2박스</td>\n",
       "      <td>1</td>\n",
       "      <td>69000</td>\n",
       "      <td>-2504</td>\n",
       "      <td>66496</td>\n",
       "      <td>2025/05/28 3:06:19</td>\n",
       "      <td>네이버스토어</td>\n",
       "    </tr>\n",
       "    <tr>\n",
       "      <th>3</th>\n",
       "      <td>2025051472155801</td>\n",
       "      <td>11745915535</td>\n",
       "      <td>2025/05/14 19:21</td>\n",
       "      <td>구매확정</td>\n",
       "      <td>[공동구매] 샤인약사 x YDY 콜라겐 비오틴 듀오 / 2박스 4박스 8박스</td>\n",
       "      <td>선택: 2박스</td>\n",
       "      <td>1</td>\n",
       "      <td>69000</td>\n",
       "      <td>-2504</td>\n",
       "      <td>66496</td>\n",
       "      <td>2025/05/28 3:06:19</td>\n",
       "      <td>네이버스토어</td>\n",
       "    </tr>\n",
       "    <tr>\n",
       "      <th>4</th>\n",
       "      <td>2025051477765621</td>\n",
       "      <td>11745915535</td>\n",
       "      <td>2025/05/14 22:15</td>\n",
       "      <td>구매확정</td>\n",
       "      <td>[공동구매] 샤인약사 x YDY 콜라겐 비오틴 듀오 / 2박스 4박스 8박스</td>\n",
       "      <td>선택: 2박스</td>\n",
       "      <td>1</td>\n",
       "      <td>69000</td>\n",
       "      <td>-2504</td>\n",
       "      <td>66496</td>\n",
       "      <td>2025/05/24 2:17:36</td>\n",
       "      <td>네이버스토어</td>\n",
       "    </tr>\n",
       "    <tr>\n",
       "      <th>...</th>\n",
       "      <td>...</td>\n",
       "      <td>...</td>\n",
       "      <td>...</td>\n",
       "      <td>...</td>\n",
       "      <td>...</td>\n",
       "      <td>...</td>\n",
       "      <td>...</td>\n",
       "      <td>...</td>\n",
       "      <td>...</td>\n",
       "      <td>...</td>\n",
       "      <td>...</td>\n",
       "      <td>...</td>\n",
       "    </tr>\n",
       "    <tr>\n",
       "      <th>56</th>\n",
       "      <td>2025050847512251</td>\n",
       "      <td>11745915535</td>\n",
       "      <td>2025/05/08 23:25:20</td>\n",
       "      <td>구매확정</td>\n",
       "      <td>[공동구매] 샤인약사 x YDY 콜라겐 비오틴 듀오 / 2박스 4박스 8박스</td>\n",
       "      <td>선택: 2박스</td>\n",
       "      <td>1</td>\n",
       "      <td>69000</td>\n",
       "      <td>-2504</td>\n",
       "      <td>66496</td>\n",
       "      <td>2025/05/11 15:28:56</td>\n",
       "      <td>네이버스토어</td>\n",
       "    </tr>\n",
       "    <tr>\n",
       "      <th>57</th>\n",
       "      <td>2025050963064011</td>\n",
       "      <td>11745915535</td>\n",
       "      <td>2025/05/09 12:46:31</td>\n",
       "      <td>구매확정</td>\n",
       "      <td>[공동구매] 샤인약사 x YDY 콜라겐 비오틴 듀오 / 2박스 4박스 8박스</td>\n",
       "      <td>선택: 4박스</td>\n",
       "      <td>1</td>\n",
       "      <td>124000</td>\n",
       "      <td>-4051</td>\n",
       "      <td>119949</td>\n",
       "      <td>2025/05/11 11:18:13</td>\n",
       "      <td>네이버스토어</td>\n",
       "    </tr>\n",
       "    <tr>\n",
       "      <th>58</th>\n",
       "      <td>2025050818840271</td>\n",
       "      <td>11745915535</td>\n",
       "      <td>2025/05/08 10:11:06</td>\n",
       "      <td>구매확정</td>\n",
       "      <td>[공동구매] 샤인약사 x YDY 콜라겐 비오틴 듀오 / 2박스 4박스 8박스</td>\n",
       "      <td>선택: 8박스</td>\n",
       "      <td>1</td>\n",
       "      <td>221000</td>\n",
       "      <td>-7220</td>\n",
       "      <td>213780</td>\n",
       "      <td>2025/05/11 1:59:28</td>\n",
       "      <td>네이버스토어</td>\n",
       "    </tr>\n",
       "    <tr>\n",
       "      <th>59</th>\n",
       "      <td>2025050841943681</td>\n",
       "      <td>11745915535</td>\n",
       "      <td>2025/05/08 20:37:52</td>\n",
       "      <td>구매확정</td>\n",
       "      <td>[공동구매] 샤인약사 x YDY 콜라겐 비오틴 듀오 / 2박스 4박스 8박스</td>\n",
       "      <td>선택: 4박스</td>\n",
       "      <td>1</td>\n",
       "      <td>124000</td>\n",
       "      <td>-4050</td>\n",
       "      <td>119950</td>\n",
       "      <td>2025/05/10 18:31:43</td>\n",
       "      <td>네이버스토어</td>\n",
       "    </tr>\n",
       "    <tr>\n",
       "      <th>60</th>\n",
       "      <td>2025050959984561</td>\n",
       "      <td>11745915535</td>\n",
       "      <td>2025/05/09 11:26:34</td>\n",
       "      <td>구매확정</td>\n",
       "      <td>[공동구매] 샤인약사 x YDY 콜라겐 비오틴 듀오 / 2박스 4박스 8박스</td>\n",
       "      <td>선택: 4박스</td>\n",
       "      <td>1</td>\n",
       "      <td>125000</td>\n",
       "      <td>-4537</td>\n",
       "      <td>120463</td>\n",
       "      <td>2025/05/10 18:18:09</td>\n",
       "      <td>네이버스토어</td>\n",
       "    </tr>\n",
       "  </tbody>\n",
       "</table>\n",
       "<p>61 rows × 12 columns</p>\n",
       "</div>"
      ],
      "text/plain": [
       "                       결제 번호        상품 번호                      결제 완료일 주문 상태  \\\n",
       "0   parma20250510204935f7Cg0        51273  2025-05-10 20:49:59.050000  구매확정   \n",
       "1   parma20250508100234mNu17        51273  2025-05-08 10:03:16.467000  구매확정   \n",
       "2           2025051472155811  11745915535            2025/05/14 19:21  구매확정   \n",
       "3           2025051472155801  11745915535            2025/05/14 19:21  구매확정   \n",
       "4           2025051477765621  11745915535            2025/05/14 22:15  구매확정   \n",
       "..                       ...          ...                         ...   ...   \n",
       "56          2025050847512251  11745915535         2025/05/08 23:25:20  구매확정   \n",
       "57          2025050963064011  11745915535         2025/05/09 12:46:31  구매확정   \n",
       "58          2025050818840271  11745915535         2025/05/08 10:11:06  구매확정   \n",
       "59          2025050841943681  11745915535         2025/05/08 20:37:52  구매확정   \n",
       "60          2025050959984561  11745915535         2025/05/09 11:26:34  구매확정   \n",
       "\n",
       "                                           상품명      옵션명  수량     판매가  \\\n",
       "0   [공동구매] 샤인약사 x YDY 콜라겐 비오틴 듀오 / 2박스 4박스 8박스      2박스   1   69000   \n",
       "1   [공동구매] 샤인약사 x YDY 콜라겐 비오틴 듀오 / 2박스 4박스 8박스      2박스   1   69000   \n",
       "2   [공동구매] 샤인약사 x YDY 콜라겐 비오틴 듀오 / 2박스 4박스 8박스  선택: 2박스   1   69000   \n",
       "3   [공동구매] 샤인약사 x YDY 콜라겐 비오틴 듀오 / 2박스 4박스 8박스  선택: 2박스   1   69000   \n",
       "4   [공동구매] 샤인약사 x YDY 콜라겐 비오틴 듀오 / 2박스 4박스 8박스  선택: 2박스   1   69000   \n",
       "..                                         ...      ...  ..     ...   \n",
       "56  [공동구매] 샤인약사 x YDY 콜라겐 비오틴 듀오 / 2박스 4박스 8박스  선택: 2박스   1   69000   \n",
       "57  [공동구매] 샤인약사 x YDY 콜라겐 비오틴 듀오 / 2박스 4박스 8박스  선택: 4박스   1  124000   \n",
       "58  [공동구매] 샤인약사 x YDY 콜라겐 비오틴 듀오 / 2박스 4박스 8박스  선택: 8박스   1  221000   \n",
       "59  [공동구매] 샤인약사 x YDY 콜라겐 비오틴 듀오 / 2박스 4박스 8박스  선택: 4박스   1  124000   \n",
       "60  [공동구매] 샤인약사 x YDY 콜라겐 비오틴 듀오 / 2박스 4박스 8박스  선택: 4박스   1  125000   \n",
       "\n",
       "   네이버페이 주문관리 수수료  정산예정금액                      구매 확정일     판매처  \n",
       "0           해당 없음   69000  2025-05-22 14:00:00.010000   친한스토어  \n",
       "1           해당 없음   69000  2025-05-17 15:30:00.013000   친한스토어  \n",
       "2           -2504   66496          2025/05/28 3:06:19  네이버스토어  \n",
       "3           -2504   66496          2025/05/28 3:06:19  네이버스토어  \n",
       "4           -2504   66496          2025/05/24 2:17:36  네이버스토어  \n",
       "..            ...     ...                         ...     ...  \n",
       "56          -2504   66496         2025/05/11 15:28:56  네이버스토어  \n",
       "57          -4051  119949         2025/05/11 11:18:13  네이버스토어  \n",
       "58          -7220  213780          2025/05/11 1:59:28  네이버스토어  \n",
       "59          -4050  119950         2025/05/10 18:31:43  네이버스토어  \n",
       "60          -4537  120463         2025/05/10 18:18:09  네이버스토어  \n",
       "\n",
       "[61 rows x 12 columns]"
      ]
     },
     "execution_count": 58,
     "metadata": {},
     "output_type": "execute_result"
    }
   ],
   "source": [
    "common_cols = fs_df.columns.intersection(na_df.columns)\n",
    "combined_df = pd.concat([fs_df[common_cols], na_df[common_cols]], ignore_index=True)\n",
    "combined_df"
   ]
  },
  {
   "cell_type": "code",
   "execution_count": 59,
   "id": "f5a7197b-3387-4eb6-8d17-45f780fa3bd5",
   "metadata": {},
   "outputs": [
    {
     "data": {
      "text/plain": [
       "판매처\n",
       "네이버스토어    59\n",
       "친한스토어      2\n",
       "Name: 결제 번호, dtype: int64"
      ]
     },
     "execution_count": 59,
     "metadata": {},
     "output_type": "execute_result"
    }
   ],
   "source": [
    "combined_df.groupby('판매처')['결제 번호'].count()"
   ]
  },
  {
   "cell_type": "code",
   "execution_count": 60,
   "id": "35c49f6a-b0c9-4910-aed9-4bf974907d2c",
   "metadata": {},
   "outputs": [],
   "source": [
    "combined_df.to_excel(f'/Users/mac/Downloads/{yaksa}_정산자료_{today}.xlsx')"
   ]
  }
 ],
 "metadata": {
  "kernelspec": {
   "display_name": "Python [conda env:base] *",
   "language": "python",
   "name": "conda-base-py"
  },
  "language_info": {
   "codemirror_mode": {
    "name": "ipython",
    "version": 3
   },
   "file_extension": ".py",
   "mimetype": "text/x-python",
   "name": "python",
   "nbconvert_exporter": "python",
   "pygments_lexer": "ipython3",
   "version": "3.12.7"
  }
 },
 "nbformat": 4,
 "nbformat_minor": 5
}
