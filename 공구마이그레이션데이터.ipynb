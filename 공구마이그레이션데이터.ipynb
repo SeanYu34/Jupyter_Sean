{
 "cells": [
  {
   "cell_type": "code",
   "execution_count": 1,
   "id": "e6c0ec5b-e6a2-4a04-b0f2-3e0db38eeb21",
   "metadata": {},
   "outputs": [],
   "source": [
    "import pandas as pd\n",
    "import numpy as np\n",
    "from datetime import datetime, timedelta\n",
    "import warnings\n",
    "warnings.simplefilter('ignore')"
   ]
  },
  {
   "cell_type": "code",
   "execution_count": 2,
   "id": "d3d87dcf-d75f-4ec7-b37f-84819f398644",
   "metadata": {},
   "outputs": [],
   "source": [
    "df = pd.read_csv('/Users/mac/Downloads/★ [친스-어드민] [MIG] 공동구매 상품 메인 정보 - 커머스팀_작성.csv')"
   ]
  },
  {
   "cell_type": "code",
   "execution_count": 4,
   "id": "65c135e8-a22d-417e-8a25-d465458a9446",
   "metadata": {},
   "outputs": [
    {
     "data": {
      "text/plain": [
       "array(['seller_idx', '나프라우드', '뉴칸', '뉴트리션 스탠다드', '닥터제안', '닥터체크', '담백하루',\n",
       "       '더리틀스', '더좋은', '로와컴퍼니(벤더)', '미밍', '바른웰빙 ', '스타팜', '신신제약', '신일제약',\n",
       "       '아워뉴트리', '안국건강', '위타민', '일동제약', '저스트글로우', '코어뉴트리션', '탑헬스', '트루엔',\n",
       "       '파마브로스', '퓨어젠', '한독', 'DN코스메틱'], dtype=object)"
      ]
     },
     "execution_count": 4,
     "metadata": {},
     "output_type": "execute_result"
    }
   ],
   "source": [
    "df['공급사명'].unique()"
   ]
  }
 ],
 "metadata": {
  "kernelspec": {
   "display_name": "Python [conda env:base] *",
   "language": "python",
   "name": "conda-base-py"
  },
  "language_info": {
   "codemirror_mode": {
    "name": "ipython",
    "version": 3
   },
   "file_extension": ".py",
   "mimetype": "text/x-python",
   "name": "python",
   "nbconvert_exporter": "python",
   "pygments_lexer": "ipython3",
   "version": "3.12.7"
  }
 },
 "nbformat": 4,
 "nbformat_minor": 5
}
