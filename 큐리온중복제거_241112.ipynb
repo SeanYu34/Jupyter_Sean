{
 "cells": [
  {
   "cell_type": "code",
   "execution_count": 1,
   "id": "20bb9d0a-6e65-4cbd-b28f-2c18fa96cd82",
   "metadata": {},
   "outputs": [],
   "source": [
    "import pandas as pd\n",
    "import numpy as np\n",
    "from datetime import datetime, timedelta\n",
    "\n",
    "record_df = pd.read_excel('/Users/seanyu_mac/Downloads/202401112_1700/성분중복_삭제_레코드들.xlsx')\n",
    "df1 = pd.read_excel('/Users/seanyu_mac/Downloads/202401112_1700/원부_이미지_성분인식_결합_split_1.xlsx')\n",
    "df2 = pd.read_excel('/Users/seanyu_mac/Downloads/202401112_1700/원부_이미지_성분인식_결합_split_2.xlsx')\n",
    "df3 = pd.read_excel('/Users/seanyu_mac/Downloads/202401112_1700/원부_이미지_성분인식_결합_split_3.xlsx')\n",
    "df4 = pd.read_excel('/Users/seanyu_mac/Downloads/202401112_1700/원부_이미지_성분인식_결합_split_4.xlsx')\n",
    "\n",
    "df = pd.concat([df1, df2, df3, df4])"
   ]
  },
  {
   "cell_type": "code",
   "execution_count": 2,
   "id": "3be96e29-33c6-4c15-9657-f0ca71a4f6fb",
   "metadata": {},
   "outputs": [],
   "source": [
    "original_df = df"
   ]
  },
  {
   "cell_type": "code",
   "execution_count": 3,
   "id": "08459453-4f0c-46f5-85d1-8c16ebf27d93",
   "metadata": {},
   "outputs": [
    {
     "data": {
      "text/plain": [
       "158782"
      ]
     },
     "execution_count": 3,
     "metadata": {},
     "output_type": "execute_result"
    }
   ],
   "source": [
    "df = original_df\n",
    "df.index.size"
   ]
  },
  {
   "cell_type": "code",
   "execution_count": 4,
   "id": "ae784908-2760-48a2-9033-5eec1e376d12",
   "metadata": {},
   "outputs": [
    {
     "data": {
      "text/plain": [
       "156850"
      ]
     },
     "execution_count": 4,
     "metadata": {},
     "output_type": "execute_result"
    }
   ],
   "source": [
    "df = df[df['nutri'] != '[]']\n",
    "df.index.size"
   ]
  },
  {
   "cell_type": "code",
   "execution_count": 5,
   "id": "678e9685-3e62-42b0-b7cc-268d4d38c6e0",
   "metadata": {},
   "outputs": [
    {
     "data": {
      "text/plain": [
       "156844"
      ]
     },
     "execution_count": 5,
     "metadata": {},
     "output_type": "execute_result"
    }
   ],
   "source": [
    "df = df[df['nutri'] != 0]\n",
    "df.index.size"
   ]
  },
  {
   "cell_type": "code",
   "execution_count": 6,
   "id": "040996d1-90e4-4b03-9952-af00a46289f0",
   "metadata": {},
   "outputs": [
    {
     "data": {
      "text/plain": [
       "16234"
      ]
     },
     "execution_count": 6,
     "metadata": {},
     "output_type": "execute_result"
    }
   ],
   "source": [
    "df = df[df['nutri'].isna() != True]\n",
    "df.index.size"
   ]
  },
  {
   "cell_type": "code",
   "execution_count": 7,
   "id": "54c81c89-ba65-4216-8c00-1982bd87496a",
   "metadata": {},
   "outputs": [
    {
     "data": {
      "text/plain": [
       "13480"
      ]
     },
     "execution_count": 7,
     "metadata": {},
     "output_type": "execute_result"
    }
   ],
   "source": [
    "# pname 중복인 건 제외하면 15,025건\n",
    "df = df[df['pname'].duplicated() == False]\n",
    "df.index.size"
   ]
  },
  {
   "cell_type": "code",
   "execution_count": 8,
   "id": "f00f2473-9422-463c-98f6-97a97dffddff",
   "metadata": {},
   "outputs": [
    {
     "data": {
      "text/plain": [
       "12824"
      ]
     },
     "execution_count": 8,
     "metadata": {},
     "output_type": "execute_result"
    }
   ],
   "source": [
    "# pb_exported 값이 Y인 건들 제외 14,293건\n",
    "df = df[df['pb_exported'] == 'N']\n",
    "df.index.size"
   ]
  },
  {
   "cell_type": "code",
   "execution_count": 9,
   "id": "c51f2907-77ee-4fc1-83f0-c1655d45e487",
   "metadata": {},
   "outputs": [
    {
     "data": {
      "text/plain": [
       "10131"
      ]
     },
     "execution_count": 9,
     "metadata": {},
     "output_type": "execute_result"
    }
   ],
   "source": [
    "# seq_id가 0이고, nutri_str에 값이 있는 경우\n",
    "df = df[df['seq_id'] == 0]\n",
    "df.index.size"
   ]
  },
  {
   "cell_type": "code",
   "execution_count": 10,
   "id": "b2ed1eaa-8c60-4733-b083-3bddc30fcded",
   "metadata": {},
   "outputs": [],
   "source": [
    "df.to_excel('/Users/seanyu_mac/Downloads/수기검토본_큐리온_1120.xlsx')"
   ]
  },
  {
   "cell_type": "code",
   "execution_count": 11,
   "id": "c73cbd56-63e2-4153-85c2-8ce963677cd6",
   "metadata": {},
   "outputs": [],
   "source": [
    "df.reset_index(drop=True, inplace=True)\n",
    "df.columns\n",
    "df = df[['product_id', 'pname', 'img_url', 'nutri', 'url']]\n",
    "pre_cols = ['product_id', 'pname', 'img_url', 'nutri', 'url']\n",
    "post_cols = ['product_id', '제품명', '성분 이미지', '성분', '원본 이미지']\n",
    "cols = {}\n",
    "for i in range(len(pre_cols)):\n",
    "    key = pre_cols[i]\n",
    "    value = post_cols[i]\n",
    "    cols[key] = value\n",
    "df.rename(columns=cols, inplace=True)"
   ]
  },
  {
   "cell_type": "code",
   "execution_count": 12,
   "id": "0803322e-e90a-4f09-8ef4-3ff5b641d928",
   "metadata": {},
   "outputs": [
    {
     "data": {
      "text/html": [
       "<div>\n",
       "<style scoped>\n",
       "    .dataframe tbody tr th:only-of-type {\n",
       "        vertical-align: middle;\n",
       "    }\n",
       "\n",
       "    .dataframe tbody tr th {\n",
       "        vertical-align: top;\n",
       "    }\n",
       "\n",
       "    .dataframe thead th {\n",
       "        text-align: right;\n",
       "    }\n",
       "</style>\n",
       "<table border=\"1\" class=\"dataframe\">\n",
       "  <thead>\n",
       "    <tr style=\"text-align: right;\">\n",
       "      <th></th>\n",
       "      <th>product_id</th>\n",
       "      <th>제품명</th>\n",
       "      <th>성분 이미지</th>\n",
       "      <th>성분</th>\n",
       "      <th>원본 이미지</th>\n",
       "    </tr>\n",
       "  </thead>\n",
       "  <tbody>\n",
       "    <tr>\n",
       "      <th>0</th>\n",
       "      <td>20665129228</td>\n",
       "      <td>천호엔케어 데일리코어 밀크씨슬 600mg x 30정</td>\n",
       "      <td>https://shop-phinf.pstatic.net/20240716_247/17...</td>\n",
       "      <td>[{\"content\":\"0kcal\",\"ingredient\":\"열량\",\"nutri_s...</td>\n",
       "      <td>https://cr.shopping.naver.com/adcr.nhn?x=uTJhq...</td>\n",
       "    </tr>\n",
       "    <tr>\n",
       "      <th>1</th>\n",
       "      <td>41012538618</td>\n",
       "      <td>동국제약 마이핏V 멀티비타 액티브 워터톡 보틀세트 5g x 14포 x 2개입</td>\n",
       "      <td>https://shop-phinf.pstatic.net/20230601_32/168...</td>\n",
       "      <td>[{\"nutri_standards\":null,\"ingredient\":\"열량\",\"co...</td>\n",
       "      <td>https://cr.shopping.naver.com/adcr.nhn?x=AsF6s...</td>\n",
       "    </tr>\n",
       "    <tr>\n",
       "      <th>2</th>\n",
       "      <td>41300865624</td>\n",
       "      <td>닥터트루 프리미엄 마그네슘 맥스 1000mg x 135캡슐</td>\n",
       "      <td>https://shop-phinf.pstatic.net/20230728_138/16...</td>\n",
       "      <td>[{\"content\":\"10kcal\",\"ingredient\":\"열량\",\"nutri_...</td>\n",
       "      <td>https://cr.shopping.naver.com/adcr.nhn?x=my9VZ...</td>\n",
       "    </tr>\n",
       "  </tbody>\n",
       "</table>\n",
       "</div>"
      ],
      "text/plain": [
       "    product_id                                         제품명  \\\n",
       "0  20665129228                천호엔케어 데일리코어 밀크씨슬 600mg x 30정   \n",
       "1  41012538618  동국제약 마이핏V 멀티비타 액티브 워터톡 보틀세트 5g x 14포 x 2개입   \n",
       "2  41300865624            닥터트루 프리미엄 마그네슘 맥스 1000mg x 135캡슐   \n",
       "\n",
       "                                              성분 이미지  \\\n",
       "0  https://shop-phinf.pstatic.net/20240716_247/17...   \n",
       "1  https://shop-phinf.pstatic.net/20230601_32/168...   \n",
       "2  https://shop-phinf.pstatic.net/20230728_138/16...   \n",
       "\n",
       "                                                  성분  \\\n",
       "0  [{\"content\":\"0kcal\",\"ingredient\":\"열량\",\"nutri_s...   \n",
       "1  [{\"nutri_standards\":null,\"ingredient\":\"열량\",\"co...   \n",
       "2  [{\"content\":\"10kcal\",\"ingredient\":\"열량\",\"nutri_...   \n",
       "\n",
       "                                              원본 이미지  \n",
       "0  https://cr.shopping.naver.com/adcr.nhn?x=uTJhq...  \n",
       "1  https://cr.shopping.naver.com/adcr.nhn?x=AsF6s...  \n",
       "2  https://cr.shopping.naver.com/adcr.nhn?x=my9VZ...  "
      ]
     },
     "execution_count": 12,
     "metadata": {},
     "output_type": "execute_result"
    }
   ],
   "source": [
    "df.head(3)"
   ]
  },
  {
   "cell_type": "code",
   "execution_count": 18,
   "id": "4fc9b0c0-7510-4f9b-b056-0cd698e5fb3d",
   "metadata": {},
   "outputs": [],
   "source": [
    "nutri = []\n",
    "\n",
    "for i in df['성분']:\n",
    "    dict = json.loads(i)\n",
    "    values = []\n",
    "    for j in dict:\n",
    "        content = j['content']\n",
    "        ingredient = j['ingredient']\n",
    "        percent = j['nutri_standards']\n",
    "        value = f'{ingredient}: {content}({percent}), '\n",
    "        values.append(value)\n",
    "    nutri.append(values)    "
   ]
  },
  {
   "cell_type": "code",
   "execution_count": 24,
   "id": "f44f87bb-a072-4e8d-aaec-8f7217124a7d",
   "metadata": {},
   "outputs": [
    {
     "data": {
      "text/html": [
       "<div>\n",
       "<style scoped>\n",
       "    .dataframe tbody tr th:only-of-type {\n",
       "        vertical-align: middle;\n",
       "    }\n",
       "\n",
       "    .dataframe tbody tr th {\n",
       "        vertical-align: top;\n",
       "    }\n",
       "\n",
       "    .dataframe thead th {\n",
       "        text-align: right;\n",
       "    }\n",
       "</style>\n",
       "<table border=\"1\" class=\"dataframe\">\n",
       "  <thead>\n",
       "    <tr style=\"text-align: right;\">\n",
       "      <th></th>\n",
       "      <th>product_id</th>\n",
       "      <th>제품명</th>\n",
       "      <th>성분 이미지</th>\n",
       "      <th>성분</th>\n",
       "      <th>원본 이미지</th>\n",
       "    </tr>\n",
       "  </thead>\n",
       "  <tbody>\n",
       "    <tr>\n",
       "      <th>0</th>\n",
       "      <td>20665129228</td>\n",
       "      <td>천호엔케어 데일리코어 밀크씨슬 600mg x 30정</td>\n",
       "      <td>https://shop-phinf.pstatic.net/20240716_247/17...</td>\n",
       "      <td>[열량: 0kcal(None), , 탄수화물: 1g미만(0%), , 단백질: 0g(...</td>\n",
       "      <td>https://cr.shopping.naver.com/adcr.nhn?x=uTJhq...</td>\n",
       "    </tr>\n",
       "    <tr>\n",
       "      <th>1</th>\n",
       "      <td>41012538618</td>\n",
       "      <td>동국제약 마이핏V 멀티비타 액티브 워터톡 보틀세트 5g x 14포 x 2개입</td>\n",
       "      <td>https://shop-phinf.pstatic.net/20230601_32/168...</td>\n",
       "      <td>[열량: 20kcal(None), , 탄수화물: 5g(0%), , 단백질: 0g(0...</td>\n",
       "      <td>https://cr.shopping.naver.com/adcr.nhn?x=AsF6s...</td>\n",
       "    </tr>\n",
       "    <tr>\n",
       "      <th>2</th>\n",
       "      <td>41300865624</td>\n",
       "      <td>닥터트루 프리미엄 마그네슘 맥스 1000mg x 135캡슐</td>\n",
       "      <td>https://shop-phinf.pstatic.net/20230728_138/16...</td>\n",
       "      <td>[열량: 10kcal(None), , 탄수화물: 2g(1%), , 단백질: 0g(0...</td>\n",
       "      <td>https://cr.shopping.naver.com/adcr.nhn?x=my9VZ...</td>\n",
       "    </tr>\n",
       "    <tr>\n",
       "      <th>3</th>\n",
       "      <td>44469904618</td>\n",
       "      <td>동국제약 마이핏V 비오틴 판토텐산 플러스 600mg x 30캡슐</td>\n",
       "      <td>https://shop-phinf.pstatic.net/20231204_29/170...</td>\n",
       "      <td>[열량: 0kcal(None), , 탄수화물: 0g(0%), , 지방: 0g(0%)...</td>\n",
       "      <td>https://cr.shopping.naver.com/adcr.nhn?x=Z9Vt%...</td>\n",
       "    </tr>\n",
       "    <tr>\n",
       "      <th>4</th>\n",
       "      <td>46530295621</td>\n",
       "      <td>위시헬씨 하루엔진 이뮨 부스터샷 (액상 20ml + 정제 900mg + 캡슐 500...</td>\n",
       "      <td>https://shop-phinf.pstatic.net/20240319_107/17...</td>\n",
       "      <td>[열량: 35kcal(None), , 탄수화물: 6g(2%), , 당류: 3g(No...</td>\n",
       "      <td>https://cr.shopping.naver.com/adcr.nhn?x=aFOvc...</td>\n",
       "    </tr>\n",
       "    <tr>\n",
       "      <th>...</th>\n",
       "      <td>...</td>\n",
       "      <td>...</td>\n",
       "      <td>...</td>\n",
       "      <td>...</td>\n",
       "      <td>...</td>\n",
       "    </tr>\n",
       "    <tr>\n",
       "      <th>10126</th>\n",
       "      <td>87689677741</td>\n",
       "      <td>두 돌아기비타민D 주니어 영유아비타민D</td>\n",
       "      <td>https://shop-phinf.pstatic.net/20240331_120/17...</td>\n",
       "      <td>[열량: 0kcal(None), , 탄수화물: 0g(0%), , 단백질: 0g(0%...</td>\n",
       "      <td>https://cr.shopping.naver.com/adcr.nhn?x=DK2x5...</td>\n",
       "    </tr>\n",
       "    <tr>\n",
       "      <th>10127</th>\n",
       "      <td>87725359013</td>\n",
       "      <td>임신전엽산 임신준비엽산 임산부 600</td>\n",
       "      <td>https://gi.esmplus.com/joseph9993/%EC%97%BD%EC...</td>\n",
       "      <td>[엽산: 600ug(None), ]</td>\n",
       "      <td>https://cr.shopping.naver.com/adcr.nhn?x=3Q7TM...</td>\n",
       "    </tr>\n",
       "    <tr>\n",
       "      <th>10128</th>\n",
       "      <td>87767761373</td>\n",
       "      <td>전립선 자신감 세트 (쏘팔팔옥타 + 비타:B)</td>\n",
       "      <td>https://shop-phinf.pstatic.net/20240618_289/17...</td>\n",
       "      <td>[열량: 0kcal(None), , 탄수화물: 0g(0%), , 단백질: 0g(0%...</td>\n",
       "      <td>https://adcr.naver.com/adcr?x=Wh9ug/C9dVRc9MM6...</td>\n",
       "    </tr>\n",
       "    <tr>\n",
       "      <th>10129</th>\n",
       "      <td>88031420835</td>\n",
       "      <td>레이디밸런스 감마리놀렌산300(2개월분) / 보라지오일100프로 / 여성활력 건강기능식품</td>\n",
       "      <td>https://shop-phinf.pstatic.net/20240629_2/1719...</td>\n",
       "      <td>[열량: 13kcal(None), , 탄수화물: 0g(0%), , 단백질: 0g(0...</td>\n",
       "      <td>https://cr.shopping.naver.com/adcr.nhn?x=uqIcY...</td>\n",
       "    </tr>\n",
       "    <tr>\n",
       "      <th>10130</th>\n",
       "      <td>88043441459</td>\n",
       "      <td>[약국정품] 휴온스 메리트C 블랙 비타민씨 2000mg 비오틴 미네랄 영양</td>\n",
       "      <td>https://shop-phinf.pstatic.net/20240625_77/171...</td>\n",
       "      <td>[열량: 10kcal(None), , 나이아신: 15mg(100%), , 탄수화물:...</td>\n",
       "      <td>https://cr.shopping.naver.com/adcr.nhn?x=5mDMj...</td>\n",
       "    </tr>\n",
       "  </tbody>\n",
       "</table>\n",
       "<p>10131 rows × 5 columns</p>\n",
       "</div>"
      ],
      "text/plain": [
       "        product_id                                                제품명  \\\n",
       "0      20665129228                       천호엔케어 데일리코어 밀크씨슬 600mg x 30정   \n",
       "1      41012538618         동국제약 마이핏V 멀티비타 액티브 워터톡 보틀세트 5g x 14포 x 2개입   \n",
       "2      41300865624                   닥터트루 프리미엄 마그네슘 맥스 1000mg x 135캡슐   \n",
       "3      44469904618                동국제약 마이핏V 비오틴 판토텐산 플러스 600mg x 30캡슐   \n",
       "4      46530295621  위시헬씨 하루엔진 이뮨 부스터샷 (액상 20ml + 정제 900mg + 캡슐 500...   \n",
       "...            ...                                                ...   \n",
       "10126  87689677741                              두 돌아기비타민D 주니어 영유아비타민D   \n",
       "10127  87725359013                               임신전엽산 임신준비엽산 임산부 600   \n",
       "10128  87767761373                          전립선 자신감 세트 (쏘팔팔옥타 + 비타:B)   \n",
       "10129  88031420835  레이디밸런스 감마리놀렌산300(2개월분) / 보라지오일100프로 / 여성활력 건강기능식품   \n",
       "10130  88043441459          [약국정품] 휴온스 메리트C 블랙 비타민씨 2000mg 비오틴 미네랄 영양   \n",
       "\n",
       "                                                  성분 이미지  \\\n",
       "0      https://shop-phinf.pstatic.net/20240716_247/17...   \n",
       "1      https://shop-phinf.pstatic.net/20230601_32/168...   \n",
       "2      https://shop-phinf.pstatic.net/20230728_138/16...   \n",
       "3      https://shop-phinf.pstatic.net/20231204_29/170...   \n",
       "4      https://shop-phinf.pstatic.net/20240319_107/17...   \n",
       "...                                                  ...   \n",
       "10126  https://shop-phinf.pstatic.net/20240331_120/17...   \n",
       "10127  https://gi.esmplus.com/joseph9993/%EC%97%BD%EC...   \n",
       "10128  https://shop-phinf.pstatic.net/20240618_289/17...   \n",
       "10129  https://shop-phinf.pstatic.net/20240629_2/1719...   \n",
       "10130  https://shop-phinf.pstatic.net/20240625_77/171...   \n",
       "\n",
       "                                                      성분  \\\n",
       "0      [열량: 0kcal(None), , 탄수화물: 1g미만(0%), , 단백질: 0g(...   \n",
       "1      [열량: 20kcal(None), , 탄수화물: 5g(0%), , 단백질: 0g(0...   \n",
       "2      [열량: 10kcal(None), , 탄수화물: 2g(1%), , 단백질: 0g(0...   \n",
       "3      [열량: 0kcal(None), , 탄수화물: 0g(0%), , 지방: 0g(0%)...   \n",
       "4      [열량: 35kcal(None), , 탄수화물: 6g(2%), , 당류: 3g(No...   \n",
       "...                                                  ...   \n",
       "10126  [열량: 0kcal(None), , 탄수화물: 0g(0%), , 단백질: 0g(0%...   \n",
       "10127                                [엽산: 600ug(None), ]   \n",
       "10128  [열량: 0kcal(None), , 탄수화물: 0g(0%), , 단백질: 0g(0%...   \n",
       "10129  [열량: 13kcal(None), , 탄수화물: 0g(0%), , 단백질: 0g(0...   \n",
       "10130  [열량: 10kcal(None), , 나이아신: 15mg(100%), , 탄수화물:...   \n",
       "\n",
       "                                                  원본 이미지  \n",
       "0      https://cr.shopping.naver.com/adcr.nhn?x=uTJhq...  \n",
       "1      https://cr.shopping.naver.com/adcr.nhn?x=AsF6s...  \n",
       "2      https://cr.shopping.naver.com/adcr.nhn?x=my9VZ...  \n",
       "3      https://cr.shopping.naver.com/adcr.nhn?x=Z9Vt%...  \n",
       "4      https://cr.shopping.naver.com/adcr.nhn?x=aFOvc...  \n",
       "...                                                  ...  \n",
       "10126  https://cr.shopping.naver.com/adcr.nhn?x=DK2x5...  \n",
       "10127  https://cr.shopping.naver.com/adcr.nhn?x=3Q7TM...  \n",
       "10128  https://adcr.naver.com/adcr?x=Wh9ug/C9dVRc9MM6...  \n",
       "10129  https://cr.shopping.naver.com/adcr.nhn?x=uqIcY...  \n",
       "10130  https://cr.shopping.naver.com/adcr.nhn?x=5mDMj...  \n",
       "\n",
       "[10131 rows x 5 columns]"
      ]
     },
     "execution_count": 24,
     "metadata": {},
     "output_type": "execute_result"
    }
   ],
   "source": [
    "df['성분'] = nutri\n",
    "df"
   ]
  },
  {
   "cell_type": "code",
   "execution_count": 52,
   "id": "8216109a-a339-4a70-b125-fff3c625fabf",
   "metadata": {},
   "outputs": [
    {
     "data": {
      "text/html": [
       "<div>\n",
       "<style scoped>\n",
       "    .dataframe tbody tr th:only-of-type {\n",
       "        vertical-align: middle;\n",
       "    }\n",
       "\n",
       "    .dataframe tbody tr th {\n",
       "        vertical-align: top;\n",
       "    }\n",
       "\n",
       "    .dataframe thead th {\n",
       "        text-align: right;\n",
       "    }\n",
       "</style>\n",
       "<table border=\"1\" class=\"dataframe\">\n",
       "  <thead>\n",
       "    <tr style=\"text-align: right;\">\n",
       "      <th></th>\n",
       "      <th>product_id</th>\n",
       "      <th>제품명</th>\n",
       "      <th>성분 이미지</th>\n",
       "      <th>성분</th>\n",
       "      <th>원본 이미지</th>\n",
       "    </tr>\n",
       "  </thead>\n",
       "  <tbody>\n",
       "    <tr>\n",
       "      <th>0</th>\n",
       "      <td>20665129228</td>\n",
       "      <td>천호엔케어 데일리코어 밀크씨슬 600mg x 30정</td>\n",
       "      <td>https://shop-phinf.pstatic.net/20240716_247/17...</td>\n",
       "      <td>'열량: 0kcal(None), ', '탄수화물: 1g미만(0%), ', '단백질:...</td>\n",
       "      <td>https://cr.shopping.naver.com/adcr.nhn?x=uTJhq...</td>\n",
       "    </tr>\n",
       "    <tr>\n",
       "      <th>1</th>\n",
       "      <td>41012538618</td>\n",
       "      <td>동국제약 마이핏V 멀티비타 액티브 워터톡 보틀세트 5g x 14포 x 2개입</td>\n",
       "      <td>https://shop-phinf.pstatic.net/20230601_32/168...</td>\n",
       "      <td>'열량: 20kcal(None), ', '탄수화물: 5g(0%), ', '단백질: ...</td>\n",
       "      <td>https://cr.shopping.naver.com/adcr.nhn?x=AsF6s...</td>\n",
       "    </tr>\n",
       "    <tr>\n",
       "      <th>2</th>\n",
       "      <td>41300865624</td>\n",
       "      <td>닥터트루 프리미엄 마그네슘 맥스 1000mg x 135캡슐</td>\n",
       "      <td>https://shop-phinf.pstatic.net/20230728_138/16...</td>\n",
       "      <td>'열량: 10kcal(None), ', '탄수화물: 2g(1%), ', '단백질: ...</td>\n",
       "      <td>https://cr.shopping.naver.com/adcr.nhn?x=my9VZ...</td>\n",
       "    </tr>\n",
       "    <tr>\n",
       "      <th>3</th>\n",
       "      <td>44469904618</td>\n",
       "      <td>동국제약 마이핏V 비오틴 판토텐산 플러스 600mg x 30캡슐</td>\n",
       "      <td>https://shop-phinf.pstatic.net/20231204_29/170...</td>\n",
       "      <td>'열량: 0kcal(None), ', '탄수화물: 0g(0%), ', '지방: 0g...</td>\n",
       "      <td>https://cr.shopping.naver.com/adcr.nhn?x=Z9Vt%...</td>\n",
       "    </tr>\n",
       "    <tr>\n",
       "      <th>4</th>\n",
       "      <td>46530295621</td>\n",
       "      <td>위시헬씨 하루엔진 이뮨 부스터샷 (액상 20ml + 정제 900mg + 캡슐 500...</td>\n",
       "      <td>https://shop-phinf.pstatic.net/20240319_107/17...</td>\n",
       "      <td>'열량: 35kcal(None), ', '탄수화물: 6g(2%), ', '당류: 3...</td>\n",
       "      <td>https://cr.shopping.naver.com/adcr.nhn?x=aFOvc...</td>\n",
       "    </tr>\n",
       "    <tr>\n",
       "      <th>...</th>\n",
       "      <td>...</td>\n",
       "      <td>...</td>\n",
       "      <td>...</td>\n",
       "      <td>...</td>\n",
       "      <td>...</td>\n",
       "    </tr>\n",
       "    <tr>\n",
       "      <th>10126</th>\n",
       "      <td>87689677741</td>\n",
       "      <td>두 돌아기비타민D 주니어 영유아비타민D</td>\n",
       "      <td>https://shop-phinf.pstatic.net/20240331_120/17...</td>\n",
       "      <td>'열량: 0kcal(None), ', '탄수화물: 0g(0%), ', '단백질: 0...</td>\n",
       "      <td>https://cr.shopping.naver.com/adcr.nhn?x=DK2x5...</td>\n",
       "    </tr>\n",
       "    <tr>\n",
       "      <th>10127</th>\n",
       "      <td>87725359013</td>\n",
       "      <td>임신전엽산 임신준비엽산 임산부 600</td>\n",
       "      <td>https://gi.esmplus.com/joseph9993/%EC%97%BD%EC...</td>\n",
       "      <td>'엽산: 600ug(None), '</td>\n",
       "      <td>https://cr.shopping.naver.com/adcr.nhn?x=3Q7TM...</td>\n",
       "    </tr>\n",
       "    <tr>\n",
       "      <th>10128</th>\n",
       "      <td>87767761373</td>\n",
       "      <td>전립선 자신감 세트 (쏘팔팔옥타 + 비타:B)</td>\n",
       "      <td>https://shop-phinf.pstatic.net/20240618_289/17...</td>\n",
       "      <td>'열량: 0kcal(None), ', '탄수화물: 0g(0%), ', '단백질: 0...</td>\n",
       "      <td>https://adcr.naver.com/adcr?x=Wh9ug/C9dVRc9MM6...</td>\n",
       "    </tr>\n",
       "    <tr>\n",
       "      <th>10129</th>\n",
       "      <td>88031420835</td>\n",
       "      <td>레이디밸런스 감마리놀렌산300(2개월분) / 보라지오일100프로 / 여성활력 건강기능식품</td>\n",
       "      <td>https://shop-phinf.pstatic.net/20240629_2/1719...</td>\n",
       "      <td>'열량: 13kcal(None), ', '탄수화물: 0g(0%), ', '단백질: ...</td>\n",
       "      <td>https://cr.shopping.naver.com/adcr.nhn?x=uqIcY...</td>\n",
       "    </tr>\n",
       "    <tr>\n",
       "      <th>10130</th>\n",
       "      <td>88043441459</td>\n",
       "      <td>[약국정품] 휴온스 메리트C 블랙 비타민씨 2000mg 비오틴 미네랄 영양</td>\n",
       "      <td>https://shop-phinf.pstatic.net/20240625_77/171...</td>\n",
       "      <td>'열량: 10kcal(None), ', '나이아신: 15mg(100%), ', '탄...</td>\n",
       "      <td>https://cr.shopping.naver.com/adcr.nhn?x=5mDMj...</td>\n",
       "    </tr>\n",
       "  </tbody>\n",
       "</table>\n",
       "<p>10131 rows × 5 columns</p>\n",
       "</div>"
      ],
      "text/plain": [
       "        product_id                                                제품명  \\\n",
       "0      20665129228                       천호엔케어 데일리코어 밀크씨슬 600mg x 30정   \n",
       "1      41012538618         동국제약 마이핏V 멀티비타 액티브 워터톡 보틀세트 5g x 14포 x 2개입   \n",
       "2      41300865624                   닥터트루 프리미엄 마그네슘 맥스 1000mg x 135캡슐   \n",
       "3      44469904618                동국제약 마이핏V 비오틴 판토텐산 플러스 600mg x 30캡슐   \n",
       "4      46530295621  위시헬씨 하루엔진 이뮨 부스터샷 (액상 20ml + 정제 900mg + 캡슐 500...   \n",
       "...            ...                                                ...   \n",
       "10126  87689677741                              두 돌아기비타민D 주니어 영유아비타민D   \n",
       "10127  87725359013                               임신전엽산 임신준비엽산 임산부 600   \n",
       "10128  87767761373                          전립선 자신감 세트 (쏘팔팔옥타 + 비타:B)   \n",
       "10129  88031420835  레이디밸런스 감마리놀렌산300(2개월분) / 보라지오일100프로 / 여성활력 건강기능식품   \n",
       "10130  88043441459          [약국정품] 휴온스 메리트C 블랙 비타민씨 2000mg 비오틴 미네랄 영양   \n",
       "\n",
       "                                                  성분 이미지  \\\n",
       "0      https://shop-phinf.pstatic.net/20240716_247/17...   \n",
       "1      https://shop-phinf.pstatic.net/20230601_32/168...   \n",
       "2      https://shop-phinf.pstatic.net/20230728_138/16...   \n",
       "3      https://shop-phinf.pstatic.net/20231204_29/170...   \n",
       "4      https://shop-phinf.pstatic.net/20240319_107/17...   \n",
       "...                                                  ...   \n",
       "10126  https://shop-phinf.pstatic.net/20240331_120/17...   \n",
       "10127  https://gi.esmplus.com/joseph9993/%EC%97%BD%EC...   \n",
       "10128  https://shop-phinf.pstatic.net/20240618_289/17...   \n",
       "10129  https://shop-phinf.pstatic.net/20240629_2/1719...   \n",
       "10130  https://shop-phinf.pstatic.net/20240625_77/171...   \n",
       "\n",
       "                                                      성분  \\\n",
       "0      '열량: 0kcal(None), ', '탄수화물: 1g미만(0%), ', '단백질:...   \n",
       "1      '열량: 20kcal(None), ', '탄수화물: 5g(0%), ', '단백질: ...   \n",
       "2      '열량: 10kcal(None), ', '탄수화물: 2g(1%), ', '단백질: ...   \n",
       "3      '열량: 0kcal(None), ', '탄수화물: 0g(0%), ', '지방: 0g...   \n",
       "4      '열량: 35kcal(None), ', '탄수화물: 6g(2%), ', '당류: 3...   \n",
       "...                                                  ...   \n",
       "10126  '열량: 0kcal(None), ', '탄수화물: 0g(0%), ', '단백질: 0...   \n",
       "10127                                '엽산: 600ug(None), '   \n",
       "10128  '열량: 0kcal(None), ', '탄수화물: 0g(0%), ', '단백질: 0...   \n",
       "10129  '열량: 13kcal(None), ', '탄수화물: 0g(0%), ', '단백질: ...   \n",
       "10130  '열량: 10kcal(None), ', '나이아신: 15mg(100%), ', '탄...   \n",
       "\n",
       "                                                  원본 이미지  \n",
       "0      https://cr.shopping.naver.com/adcr.nhn?x=uTJhq...  \n",
       "1      https://cr.shopping.naver.com/adcr.nhn?x=AsF6s...  \n",
       "2      https://cr.shopping.naver.com/adcr.nhn?x=my9VZ...  \n",
       "3      https://cr.shopping.naver.com/adcr.nhn?x=Z9Vt%...  \n",
       "4      https://cr.shopping.naver.com/adcr.nhn?x=aFOvc...  \n",
       "...                                                  ...  \n",
       "10126  https://cr.shopping.naver.com/adcr.nhn?x=DK2x5...  \n",
       "10127  https://cr.shopping.naver.com/adcr.nhn?x=3Q7TM...  \n",
       "10128  https://adcr.naver.com/adcr?x=Wh9ug/C9dVRc9MM6...  \n",
       "10129  https://cr.shopping.naver.com/adcr.nhn?x=uqIcY...  \n",
       "10130  https://cr.shopping.naver.com/adcr.nhn?x=5mDMj...  \n",
       "\n",
       "[10131 rows x 5 columns]"
      ]
     },
     "execution_count": 52,
     "metadata": {},
     "output_type": "execute_result"
    }
   ],
   "source": [
    "df['성분'] = df['성분'].astype(str)\n",
    "new_nutri = []\n",
    "\n",
    "for i in df['성분']:\n",
    "    i = i[1:]\n",
    "    i = i[:-1]\n",
    "    new_nutri.append(i)\n",
    "\n",
    "df['성분'] = new_nutri\n",
    "df"
   ]
  },
  {
   "cell_type": "code",
   "execution_count": 54,
   "id": "25bddd47-3918-4f85-9e3e-051b773dcf83",
   "metadata": {},
   "outputs": [],
   "source": [
    "df.to_excel('/Users/seanyu_mac/Downloads/수기검토본_큐리온_1120.xlsx')"
   ]
  }
 ],
 "metadata": {
  "kernelspec": {
   "display_name": "Python 3 (ipykernel)",
   "language": "python",
   "name": "python3"
  },
  "language_info": {
   "codemirror_mode": {
    "name": "ipython",
    "version": 3
   },
   "file_extension": ".py",
   "mimetype": "text/x-python",
   "name": "python",
   "nbconvert_exporter": "python",
   "pygments_lexer": "ipython3",
   "version": "3.12.7"
  }
 },
 "nbformat": 4,
 "nbformat_minor": 5
}
