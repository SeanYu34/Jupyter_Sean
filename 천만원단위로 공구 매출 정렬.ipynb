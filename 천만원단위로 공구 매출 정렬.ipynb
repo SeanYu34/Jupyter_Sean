{
 "cells": [
  {
   "cell_type": "code",
   "execution_count": 100,
   "id": "0b340cb2-33dc-4c86-a2d1-baf60d10f6f0",
   "metadata": {},
   "outputs": [],
   "source": [
    "import pandas as pd\n",
    "import numpy as np\n",
    "from datetime import datetime, timedelta\n",
    "import warnings\n",
    "warnings.simplefilter('ignore')"
   ]
  },
  {
   "cell_type": "code",
   "execution_count": 102,
   "id": "29bd2fe9-ebd4-4162-9531-893f186d04c3",
   "metadata": {},
   "outputs": [],
   "source": [
    "df = pd.read_excel('/Users/seanyu_mac/Downloads/누적판매금액 (9).xlsx')"
   ]
  },
  {
   "cell_type": "code",
   "execution_count": 104,
   "id": "48a51558-b83b-4976-b440-d5d77fd6adf0",
   "metadata": {},
   "outputs": [
    {
     "name": "stdout",
     "output_type": "stream",
     "text": [
      "<class 'pandas.core.frame.DataFrame'>\n",
      "RangeIndex: 1113 entries, 0 to 1112\n",
      "Data columns (total 5 columns):\n",
      " #   Column           Non-Null Count  Dtype \n",
      "---  ------           --------------  ----- \n",
      " 0   group_buy_key    1113 non-null   int64 \n",
      " 1   group_buy_title  1113 non-null   object\n",
      " 2   order_amount     1113 non-null   int64 \n",
      " 3   order_count      1113 non-null   int64 \n",
      " 4   box_count        1113 non-null   int64 \n",
      "dtypes: int64(4), object(1)\n",
      "memory usage: 43.6+ KB\n"
     ]
    }
   ],
   "source": [
    "df.info()"
   ]
  },
  {
   "cell_type": "code",
   "execution_count": 106,
   "id": "b5f213e5-12b1-46fe-ac83-82666624884a",
   "metadata": {},
   "outputs": [],
   "source": [
    "df['1억 기준 구분'] = df['order_amount'].apply(lambda x: \"1억 미만\" if x < 100000000 else '1억 이상')"
   ]
  },
  {
   "cell_type": "code",
   "execution_count": 120,
   "id": "f6ac8e9d-8950-4bc1-8e23-1d64afce13f1",
   "metadata": {},
   "outputs": [
    {
     "data": {
      "text/plain": [
       "1억 기준 구분\n",
       "1억 미만    1031\n",
       "1억 이상      82\n",
       "Name: count, dtype: int64"
      ]
     },
     "execution_count": 120,
     "metadata": {},
     "output_type": "execute_result"
    }
   ],
   "source": [
    "df['1억 기준 구분'].value_counts()"
   ]
  },
  {
   "cell_type": "code",
   "execution_count": 124,
   "id": "eb9a7d22-1695-4a34-874d-d5d8f46a3666",
   "metadata": {},
   "outputs": [
    {
     "data": {
      "text/plain": [
       "0.07367475292003593"
      ]
     },
     "execution_count": 124,
     "metadata": {},
     "output_type": "execute_result"
    }
   ],
   "source": [
    "82 / 1113"
   ]
  },
  {
   "cell_type": "code",
   "execution_count": 128,
   "id": "a51a63be-0a82-4d88-b18f-2ecc0cb99ea9",
   "metadata": {},
   "outputs": [
    {
     "data": {
      "text/plain": [
       "1억 기준 구분\n",
       "1억 미만    2.328063e+07\n",
       "1억 이상    1.674137e+08\n",
       "Name: order_amount, dtype: float64"
      ]
     },
     "execution_count": 128,
     "metadata": {},
     "output_type": "execute_result"
    }
   ],
   "source": [
    "df.groupby('1억 기준 구분')['order_amount'].mean()"
   ]
  },
  {
   "cell_type": "code",
   "execution_count": 132,
   "id": "727d137f-81cf-4c78-8225-2dbab5863ef5",
   "metadata": {},
   "outputs": [
    {
     "data": {
      "text/plain": [
       "1억 기준 구분\n",
       "1억 미만     217.048497\n",
       "1억 이상    1596.353659\n",
       "Name: order_count, dtype: float64"
      ]
     },
     "execution_count": 132,
     "metadata": {},
     "output_type": "execute_result"
    }
   ],
   "source": [
    "df.groupby('1억 기준 구분')['order_count'].mean()"
   ]
  },
  {
   "cell_type": "code",
   "execution_count": 140,
   "id": "f96a6258-48b3-4174-adf1-434927e95608",
   "metadata": {},
   "outputs": [
    {
     "name": "stdout",
     "output_type": "stream",
     "text": [
      "33,899,598.00539084\n"
     ]
    }
   ],
   "source": [
    "print(f'{df['order_amount'].mean():,}')"
   ]
  },
  {
   "cell_type": "code",
   "execution_count": 266,
   "id": "8449ab90-c9dd-41a7-9ed0-2ab58c1e0910",
   "metadata": {},
   "outputs": [],
   "source": [
    "max_count = df['order_amount'].max() // 10000000\n",
    "keys = range(max_count + 1) \n",
    "values = [0] * len(keys)\n",
    "ten_million_standard_dict = dict(zip(keys, values))\n",
    "\n",
    "for i in df['order_amount']:\n",
    "    data = i // 10000000\n",
    "    temp_value = ten_million_standard_dict[data]\n",
    "    ten_million_standard_dict[data] = temp_value + 1"
   ]
  },
  {
   "cell_type": "code",
   "execution_count": 232,
   "id": "65c76b39-16a3-414b-a737-e4dd16e27968",
   "metadata": {},
   "outputs": [],
   "source": [
    "ten_million_dict = {}\n",
    "\n",
    "for key, value in ten_million_standard_dict.items():\n",
    "    ten_million_dict[key] = value"
   ]
  },
  {
   "cell_type": "code",
   "execution_count": 262,
   "id": "ea1b8009-ebf4-44b9-bf96-555cbc4acb2b",
   "metadata": {},
   "outputs": [],
   "source": [
    "ten_million_df = pd.DataFrame.from_dict(ten_million_dict, orient='index')\n",
    "idx = []\n",
    "\n",
    "for i in ten_million_df.index:\n",
    "    data = f'{i}~{i+1}천만원'\n",
    "    idx.append(data)\n",
    "\n",
    "ten_million_df.index = idx"
   ]
  },
  {
   "cell_type": "code",
   "execution_count": 270,
   "id": "5260a069-d7ff-4d06-873e-50230c95d697",
   "metadata": {},
   "outputs": [
    {
     "data": {
      "text/html": [
       "<div>\n",
       "<style scoped>\n",
       "    .dataframe tbody tr th:only-of-type {\n",
       "        vertical-align: middle;\n",
       "    }\n",
       "\n",
       "    .dataframe tbody tr th {\n",
       "        vertical-align: top;\n",
       "    }\n",
       "\n",
       "    .dataframe thead th {\n",
       "        text-align: right;\n",
       "    }\n",
       "</style>\n",
       "<table border=\"1\" class=\"dataframe\">\n",
       "  <thead>\n",
       "    <tr style=\"text-align: right;\">\n",
       "      <th></th>\n",
       "      <th>건수</th>\n",
       "    </tr>\n",
       "  </thead>\n",
       "  <tbody>\n",
       "    <tr>\n",
       "      <th>0~1천만원</th>\n",
       "      <td>332</td>\n",
       "    </tr>\n",
       "    <tr>\n",
       "      <th>1~2천만원</th>\n",
       "      <td>238</td>\n",
       "    </tr>\n",
       "    <tr>\n",
       "      <th>2~3천만원</th>\n",
       "      <td>162</td>\n",
       "    </tr>\n",
       "    <tr>\n",
       "      <th>3~4천만원</th>\n",
       "      <td>107</td>\n",
       "    </tr>\n",
       "    <tr>\n",
       "      <th>4~5천만원</th>\n",
       "      <td>69</td>\n",
       "    </tr>\n",
       "    <tr>\n",
       "      <th>5~6천만원</th>\n",
       "      <td>37</td>\n",
       "    </tr>\n",
       "    <tr>\n",
       "      <th>6~7천만원</th>\n",
       "      <td>34</td>\n",
       "    </tr>\n",
       "    <tr>\n",
       "      <th>7~8천만원</th>\n",
       "      <td>22</td>\n",
       "    </tr>\n",
       "    <tr>\n",
       "      <th>8~9천만원</th>\n",
       "      <td>23</td>\n",
       "    </tr>\n",
       "    <tr>\n",
       "      <th>9~10천만원</th>\n",
       "      <td>7</td>\n",
       "    </tr>\n",
       "    <tr>\n",
       "      <th>10~11천만원</th>\n",
       "      <td>17</td>\n",
       "    </tr>\n",
       "    <tr>\n",
       "      <th>11~12천만원</th>\n",
       "      <td>11</td>\n",
       "    </tr>\n",
       "    <tr>\n",
       "      <th>12~13천만원</th>\n",
       "      <td>10</td>\n",
       "    </tr>\n",
       "    <tr>\n",
       "      <th>13~14천만원</th>\n",
       "      <td>13</td>\n",
       "    </tr>\n",
       "    <tr>\n",
       "      <th>14~15천만원</th>\n",
       "      <td>3</td>\n",
       "    </tr>\n",
       "    <tr>\n",
       "      <th>15~16천만원</th>\n",
       "      <td>4</td>\n",
       "    </tr>\n",
       "    <tr>\n",
       "      <th>16~17천만원</th>\n",
       "      <td>2</td>\n",
       "    </tr>\n",
       "    <tr>\n",
       "      <th>17~18천만원</th>\n",
       "      <td>2</td>\n",
       "    </tr>\n",
       "    <tr>\n",
       "      <th>18~19천만원</th>\n",
       "      <td>3</td>\n",
       "    </tr>\n",
       "    <tr>\n",
       "      <th>19~20천만원</th>\n",
       "      <td>1</td>\n",
       "    </tr>\n",
       "    <tr>\n",
       "      <th>20~21천만원</th>\n",
       "      <td>0</td>\n",
       "    </tr>\n",
       "    <tr>\n",
       "      <th>21~22천만원</th>\n",
       "      <td>0</td>\n",
       "    </tr>\n",
       "    <tr>\n",
       "      <th>22~23천만원</th>\n",
       "      <td>0</td>\n",
       "    </tr>\n",
       "    <tr>\n",
       "      <th>23~24천만원</th>\n",
       "      <td>3</td>\n",
       "    </tr>\n",
       "    <tr>\n",
       "      <th>24~25천만원</th>\n",
       "      <td>1</td>\n",
       "    </tr>\n",
       "    <tr>\n",
       "      <th>25~26천만원</th>\n",
       "      <td>0</td>\n",
       "    </tr>\n",
       "    <tr>\n",
       "      <th>26~27천만원</th>\n",
       "      <td>2</td>\n",
       "    </tr>\n",
       "    <tr>\n",
       "      <th>27~28천만원</th>\n",
       "      <td>0</td>\n",
       "    </tr>\n",
       "    <tr>\n",
       "      <th>28~29천만원</th>\n",
       "      <td>0</td>\n",
       "    </tr>\n",
       "    <tr>\n",
       "      <th>29~30천만원</th>\n",
       "      <td>2</td>\n",
       "    </tr>\n",
       "    <tr>\n",
       "      <th>30~31천만원</th>\n",
       "      <td>0</td>\n",
       "    </tr>\n",
       "    <tr>\n",
       "      <th>31~32천만원</th>\n",
       "      <td>1</td>\n",
       "    </tr>\n",
       "    <tr>\n",
       "      <th>32~33천만원</th>\n",
       "      <td>2</td>\n",
       "    </tr>\n",
       "    <tr>\n",
       "      <th>33~34천만원</th>\n",
       "      <td>0</td>\n",
       "    </tr>\n",
       "    <tr>\n",
       "      <th>34~35천만원</th>\n",
       "      <td>0</td>\n",
       "    </tr>\n",
       "    <tr>\n",
       "      <th>35~36천만원</th>\n",
       "      <td>0</td>\n",
       "    </tr>\n",
       "    <tr>\n",
       "      <th>36~37천만원</th>\n",
       "      <td>1</td>\n",
       "    </tr>\n",
       "    <tr>\n",
       "      <th>37~38천만원</th>\n",
       "      <td>0</td>\n",
       "    </tr>\n",
       "    <tr>\n",
       "      <th>38~39천만원</th>\n",
       "      <td>0</td>\n",
       "    </tr>\n",
       "    <tr>\n",
       "      <th>39~40천만원</th>\n",
       "      <td>1</td>\n",
       "    </tr>\n",
       "    <tr>\n",
       "      <th>40~41천만원</th>\n",
       "      <td>0</td>\n",
       "    </tr>\n",
       "    <tr>\n",
       "      <th>41~42천만원</th>\n",
       "      <td>0</td>\n",
       "    </tr>\n",
       "    <tr>\n",
       "      <th>42~43천만원</th>\n",
       "      <td>2</td>\n",
       "    </tr>\n",
       "    <tr>\n",
       "      <th>43~44천만원</th>\n",
       "      <td>0</td>\n",
       "    </tr>\n",
       "    <tr>\n",
       "      <th>44~45천만원</th>\n",
       "      <td>0</td>\n",
       "    </tr>\n",
       "    <tr>\n",
       "      <th>45~46천만원</th>\n",
       "      <td>0</td>\n",
       "    </tr>\n",
       "    <tr>\n",
       "      <th>46~47천만원</th>\n",
       "      <td>0</td>\n",
       "    </tr>\n",
       "    <tr>\n",
       "      <th>47~48천만원</th>\n",
       "      <td>0</td>\n",
       "    </tr>\n",
       "    <tr>\n",
       "      <th>48~49천만원</th>\n",
       "      <td>0</td>\n",
       "    </tr>\n",
       "    <tr>\n",
       "      <th>49~50천만원</th>\n",
       "      <td>0</td>\n",
       "    </tr>\n",
       "    <tr>\n",
       "      <th>50~51천만원</th>\n",
       "      <td>0</td>\n",
       "    </tr>\n",
       "    <tr>\n",
       "      <th>51~52천만원</th>\n",
       "      <td>0</td>\n",
       "    </tr>\n",
       "    <tr>\n",
       "      <th>52~53천만원</th>\n",
       "      <td>0</td>\n",
       "    </tr>\n",
       "    <tr>\n",
       "      <th>53~54천만원</th>\n",
       "      <td>0</td>\n",
       "    </tr>\n",
       "    <tr>\n",
       "      <th>54~55천만원</th>\n",
       "      <td>0</td>\n",
       "    </tr>\n",
       "    <tr>\n",
       "      <th>55~56천만원</th>\n",
       "      <td>1</td>\n",
       "    </tr>\n",
       "  </tbody>\n",
       "</table>\n",
       "</div>"
      ],
      "text/plain": [
       "           건수\n",
       "0~1천만원    332\n",
       "1~2천만원    238\n",
       "2~3천만원    162\n",
       "3~4천만원    107\n",
       "4~5천만원     69\n",
       "5~6천만원     37\n",
       "6~7천만원     34\n",
       "7~8천만원     22\n",
       "8~9천만원     23\n",
       "9~10천만원     7\n",
       "10~11천만원   17\n",
       "11~12천만원   11\n",
       "12~13천만원   10\n",
       "13~14천만원   13\n",
       "14~15천만원    3\n",
       "15~16천만원    4\n",
       "16~17천만원    2\n",
       "17~18천만원    2\n",
       "18~19천만원    3\n",
       "19~20천만원    1\n",
       "20~21천만원    0\n",
       "21~22천만원    0\n",
       "22~23천만원    0\n",
       "23~24천만원    3\n",
       "24~25천만원    1\n",
       "25~26천만원    0\n",
       "26~27천만원    2\n",
       "27~28천만원    0\n",
       "28~29천만원    0\n",
       "29~30천만원    2\n",
       "30~31천만원    0\n",
       "31~32천만원    1\n",
       "32~33천만원    2\n",
       "33~34천만원    0\n",
       "34~35천만원    0\n",
       "35~36천만원    0\n",
       "36~37천만원    1\n",
       "37~38천만원    0\n",
       "38~39천만원    0\n",
       "39~40천만원    1\n",
       "40~41천만원    0\n",
       "41~42천만원    0\n",
       "42~43천만원    2\n",
       "43~44천만원    0\n",
       "44~45천만원    0\n",
       "45~46천만원    0\n",
       "46~47천만원    0\n",
       "47~48천만원    0\n",
       "48~49천만원    0\n",
       "49~50천만원    0\n",
       "50~51천만원    0\n",
       "51~52천만원    0\n",
       "52~53천만원    0\n",
       "53~54천만원    0\n",
       "54~55천만원    0\n",
       "55~56천만원    1"
      ]
     },
     "execution_count": 270,
     "metadata": {},
     "output_type": "execute_result"
    }
   ],
   "source": [
    "ten_million_df.rename(columns={0: '건수'}, inplace=True)\n",
    "ten_million_df"
   ]
  }
 ],
 "metadata": {
  "kernelspec": {
   "display_name": "Python 3 (ipykernel)",
   "language": "python",
   "name": "python3"
  },
  "language_info": {
   "codemirror_mode": {
    "name": "ipython",
    "version": 3
   },
   "file_extension": ".py",
   "mimetype": "text/x-python",
   "name": "python",
   "nbconvert_exporter": "python",
   "pygments_lexer": "ipython3",
   "version": "3.12.7"
  }
 },
 "nbformat": 4,
 "nbformat_minor": 5
}
