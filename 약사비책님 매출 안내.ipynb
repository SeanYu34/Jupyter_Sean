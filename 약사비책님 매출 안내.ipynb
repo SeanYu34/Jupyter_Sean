{
 "cells": [
  {
   "cell_type": "code",
   "execution_count": 1,
   "id": "c2f5895e-e568-40e3-8231-1bbfc2e46489",
   "metadata": {},
   "outputs": [],
   "source": [
    "import pandas as pd\n",
    "import numpy as np\n",
    "from datetime import datetime, timedelta\n",
    "import warnings\n",
    "warnings.simplefilter('ignore')"
   ]
  },
  {
   "cell_type": "code",
   "execution_count": 2,
   "id": "355804ff-ea79-4464-ad03-dd71280d46e9",
   "metadata": {},
   "outputs": [],
   "source": [
    "fs_df = pd.read_excel('/Users/mac/Downloads/주문내역_51174_2025-06-01~2025-06-13.xlsx')\n",
    "ka_df = pd.read_excel('/Users/mac/Downloads/20250613141530.xlsx')"
   ]
  },
  {
   "cell_type": "code",
   "execution_count": 3,
   "id": "7cbce5fc-add1-4a09-8237-46b940c2b992",
   "metadata": {},
   "outputs": [
    {
     "data": {
      "text/plain": [
       "array(['4박스 (8개월분) (28%)', '6박스(12개월분) (35%)', '2박스 (4개월분) (20%)'],\n",
       "      dtype=object)"
      ]
     },
     "execution_count": 3,
     "metadata": {},
     "output_type": "execute_result"
    }
   ],
   "source": [
    "fs_df['옵션명'].unique()"
   ]
  },
  {
   "cell_type": "code",
   "execution_count": 4,
   "id": "9d81bda5-fe44-4489-ad5e-60dbd4af7a46",
   "metadata": {},
   "outputs": [],
   "source": [
    "fs_df['박스수량'] = fs_df['옵션명'].apply(lambda x: x.split('박스')[0])\n",
    "fs_df['박스수량'] = fs_df['박스수량'].astype(int)"
   ]
  },
  {
   "cell_type": "code",
   "execution_count": 5,
   "id": "8750446e-ba4b-4188-af74-1ad5b0dc776b",
   "metadata": {},
   "outputs": [
    {
     "data": {
      "text/plain": [
       "array(['결제완료', '배송중', '취소완료', '배송완료', '구매확정'], dtype=object)"
      ]
     },
     "execution_count": 5,
     "metadata": {},
     "output_type": "execute_result"
    }
   ],
   "source": [
    "fs_df['주문 상태'].unique()"
   ]
  },
  {
   "cell_type": "code",
   "execution_count": 6,
   "id": "aee02260-5fe2-42ea-b1bd-2cc2fc9cf6a2",
   "metadata": {},
   "outputs": [],
   "source": [
    "ka_df['박스수량'] = ka_df['옵션'].apply(lambda x: x.split('박스')[0].split(': ')[1])\n",
    "ka_df['박스수량'] = ka_df['박스수량'].astype(int)"
   ]
  },
  {
   "cell_type": "code",
   "execution_count": 7,
   "id": "e3612b27-8b7e-455c-b4e5-d53c4cdbcf8f",
   "metadata": {},
   "outputs": [
    {
     "data": {
      "text/plain": [
       "array([2, 6, 4])"
      ]
     },
     "execution_count": 7,
     "metadata": {},
     "output_type": "execute_result"
    }
   ],
   "source": [
    "ka_df['박스수량'].unique()"
   ]
  },
  {
   "cell_type": "code",
   "execution_count": 8,
   "id": "a21057e6-c972-4187-bb73-aec3f378bb68",
   "metadata": {},
   "outputs": [],
   "source": [
    "fs_df['구분'] = '친한스토어'\n",
    "ka_df['구분'] = '톡스토어'"
   ]
  },
  {
   "cell_type": "code",
   "execution_count": 9,
   "id": "6d52e564-bf39-4313-9961-d64c333af2a6",
   "metadata": {},
   "outputs": [],
   "source": [
    "fs_df = fs_df[['결제 번호', '주문 상태','결제 완료일', '옵션명', '수량', '박스수량', '정산가', '구분']]"
   ]
  },
  {
   "cell_type": "code",
   "execution_count": 10,
   "id": "438f1dab-b9bb-4b5a-867a-3b4a7a8ff57f",
   "metadata": {},
   "outputs": [
    {
     "data": {
      "text/plain": [
       "array(['4박스 (8개월분) (28%)', '6박스(12개월분) (35%)', '2박스 (4개월분) (20%)'],\n",
       "      dtype=object)"
      ]
     },
     "execution_count": 10,
     "metadata": {},
     "output_type": "execute_result"
    }
   ],
   "source": [
    "fs_df['옵션명'].unique()"
   ]
  },
  {
   "cell_type": "code",
   "execution_count": 11,
   "id": "d42c4845-d388-4ecc-8cc6-fe14b4e6d560",
   "metadata": {},
   "outputs": [],
   "source": [
    "ka_df = ka_df[['결제번호', '주문상태', '발송요청일', '옵션', '수량', '박스수량', '정산기준금액', '구분']]"
   ]
  },
  {
   "cell_type": "code",
   "execution_count": 12,
   "id": "2cd83aa1-786b-4b2c-a426-9f940657059e",
   "metadata": {},
   "outputs": [],
   "source": [
    "con1 = ka_df['옵션'] == '선택: 2박스 (4개월분) (20%)'\n",
    "con2 = ka_df['옵션'] == '선택: 4박스 (8개월분) (28%)'\n",
    "con3 = ka_df['옵션'] == '선택: 6박스(12개월분) (35%)'\n",
    "\n",
    "ka_df.loc[con1, '옵션'] = '2박스 (4개월분) (20%)'\n",
    "ka_df.loc[con2, '옵션'] = '4박스 (8개월분) (28%)'\n",
    "ka_df.loc[con3, '옵션'] = '6박스(12개월분) (35%)'"
   ]
  },
  {
   "cell_type": "code",
   "execution_count": 13,
   "id": "8d551a7d-bd12-4bca-933c-fde5f0231fb2",
   "metadata": {},
   "outputs": [],
   "source": [
    "ka_df.columns = fs_df.columns"
   ]
  },
  {
   "cell_type": "code",
   "execution_count": 14,
   "id": "9f1596aa-b6f5-48f8-8486-abdac5a8c7e8",
   "metadata": {},
   "outputs": [],
   "source": [
    "df = pd.concat([fs_df, ka_df])"
   ]
  },
  {
   "cell_type": "code",
   "execution_count": 15,
   "id": "4f83b85a-e2b4-424a-a660-838d9f923590",
   "metadata": {},
   "outputs": [],
   "source": [
    "df.columns = ['결제 번호', '주문 상태', '결제 완료일', '옵션명', '수량', '박스수량', '매출', '구분']"
   ]
  },
  {
   "cell_type": "code",
   "execution_count": 16,
   "id": "f17d2e86-3808-4379-aa36-537108c543b7",
   "metadata": {},
   "outputs": [
    {
     "data": {
      "text/plain": [
       "array(['결제완료', '배송중', '취소완료', '배송완료', '구매확정', '304 배송 중', '305 배송 완료',\n",
       "       '601 구매 결정', '303 결제 취소 완료'], dtype=object)"
      ]
     },
     "execution_count": 16,
     "metadata": {},
     "output_type": "execute_result"
    }
   ],
   "source": [
    "df['주문 상태'].unique()"
   ]
  },
  {
   "cell_type": "code",
   "execution_count": 17,
   "id": "9721e719-ffc1-4a6c-872f-0e5fc9df0dc8",
   "metadata": {},
   "outputs": [],
   "source": [
    "status = ['결제완료', '배송준비', '배송완료', '배송중', '구매확정', '202 배송 요청', '304 배송 중', '305 배송 완료', '601 구매 결정']"
   ]
  },
  {
   "cell_type": "code",
   "execution_count": 21,
   "id": "2b547757-b8fe-4010-9736-e82a47e07935",
   "metadata": {},
   "outputs": [
    {
     "data": {
      "text/html": [
       "<div>\n",
       "<style scoped>\n",
       "    .dataframe tbody tr th:only-of-type {\n",
       "        vertical-align: middle;\n",
       "    }\n",
       "\n",
       "    .dataframe tbody tr th {\n",
       "        vertical-align: top;\n",
       "    }\n",
       "\n",
       "    .dataframe thead th {\n",
       "        text-align: right;\n",
       "    }\n",
       "</style>\n",
       "<table border=\"1\" class=\"dataframe\">\n",
       "  <thead>\n",
       "    <tr style=\"text-align: right;\">\n",
       "      <th></th>\n",
       "      <th>결제 번호</th>\n",
       "      <th>주문 상태</th>\n",
       "      <th>결제 완료일</th>\n",
       "      <th>옵션명</th>\n",
       "      <th>수량</th>\n",
       "      <th>박스수량</th>\n",
       "      <th>매출</th>\n",
       "      <th>구분</th>\n",
       "    </tr>\n",
       "  </thead>\n",
       "  <tbody>\n",
       "  </tbody>\n",
       "</table>\n",
       "</div>"
      ],
      "text/plain": [
       "Empty DataFrame\n",
       "Columns: [결제 번호, 주문 상태, 결제 완료일, 옵션명, 수량, 박스수량, 매출, 구분]\n",
       "Index: []"
      ]
     },
     "execution_count": 21,
     "metadata": {},
     "output_type": "execute_result"
    }
   ],
   "source": [
    "cancel_df = df[~df['주문 상태'].isin(status)]"
   ]
  },
  {
   "cell_type": "code",
   "execution_count": 18,
   "id": "841a9d1d-4a28-446b-9881-5c8a7dfdf977",
   "metadata": {},
   "outputs": [],
   "source": [
    "df = df[df['주문 상태'].isin(status)]"
   ]
  },
  {
   "cell_type": "code",
   "execution_count": 19,
   "id": "3bea2294-f3eb-405f-832d-139854073bbc",
   "metadata": {},
   "outputs": [
    {
     "data": {
      "text/plain": [
       "array(['결제완료', '배송중', '배송완료', '구매확정', '304 배송 중', '305 배송 완료',\n",
       "       '601 구매 결정'], dtype=object)"
      ]
     },
     "execution_count": 19,
     "metadata": {},
     "output_type": "execute_result"
    }
   ],
   "source": [
    "df['주문 상태'].unique()"
   ]
  },
  {
   "cell_type": "code",
   "execution_count": 20,
   "id": "37002e6a-b37f-4306-8e70-7cc433b0d2bf",
   "metadata": {},
   "outputs": [],
   "source": [
    "df['결제 완료일'] = pd.to_datetime(df['결제 완료일'])\n",
    "df['결제 완료일'] = df['결제 완료일'].apply(lambda x: x.strftime('%Y-%m-%d'))\n",
    "pivot_df = pd.pivot_table(df, index=['결제 완료일', '옵션명'], values=['매출', '박스수량'], aggfunc=['sum'], fill_value=0, margins=True, margins_name='총합')\n",
    "pivot_df.columns = pivot_df.columns.droplevel(0)\n",
    "temp_df = pd.DataFrame(pivot_df)\n",
    "\n",
    "pivot = pd.pivot_table(df, index=['결제 완료일', '옵션명'], values=['결제 번호'], aggfunc='count', fill_value=0, margins=True, margins_name='총합')\n",
    "temp_df2 = pd.DataFrame(pivot)\n",
    "\n",
    "result_df = pd.merge(temp_df, temp_df2, left_index=True, right_index=True, how='inner')\n",
    "result_df.rename(columns={'결제 번호': '주문수량'}, inplace=True)\n",
    "result_df = result_df.applymap(lambda x: f'{x:,}')\n",
    "final_df = pd.DataFrame(result_df)\n",
    "#final_df.to_excel(f'/Users/mac/Downloads/{datetime.today()}약사비책님.xlsx')\n"
   ]
  },
  {
   "cell_type": "code",
   "execution_count": 22,
   "id": "073a03a5-7878-4c29-b3f2-1f8655fdfda0",
   "metadata": {},
   "outputs": [
    {
     "data": {
      "text/html": [
       "<div>\n",
       "<style scoped>\n",
       "    .dataframe tbody tr th:only-of-type {\n",
       "        vertical-align: middle;\n",
       "    }\n",
       "\n",
       "    .dataframe tbody tr th {\n",
       "        vertical-align: top;\n",
       "    }\n",
       "\n",
       "    .dataframe thead th {\n",
       "        text-align: right;\n",
       "    }\n",
       "</style>\n",
       "<table border=\"1\" class=\"dataframe\">\n",
       "  <thead>\n",
       "    <tr style=\"text-align: right;\">\n",
       "      <th></th>\n",
       "      <th></th>\n",
       "      <th>매출</th>\n",
       "      <th>박스수량</th>\n",
       "      <th>주문수량</th>\n",
       "    </tr>\n",
       "    <tr>\n",
       "      <th>결제 완료일</th>\n",
       "      <th>옵션명</th>\n",
       "      <th></th>\n",
       "      <th></th>\n",
       "      <th></th>\n",
       "    </tr>\n",
       "  </thead>\n",
       "  <tbody>\n",
       "    <tr>\n",
       "      <th rowspan=\"3\" valign=\"top\">2025-06-09</th>\n",
       "      <th>2박스 (4개월분) (20%)</th>\n",
       "      <td>3,784,000</td>\n",
       "      <td>86</td>\n",
       "      <td>43</td>\n",
       "    </tr>\n",
       "    <tr>\n",
       "      <th>4박스 (8개월분) (28%)</th>\n",
       "      <td>3,484,800</td>\n",
       "      <td>88</td>\n",
       "      <td>22</td>\n",
       "    </tr>\n",
       "    <tr>\n",
       "      <th>6박스(12개월분) (35%)</th>\n",
       "      <td>1,501,500</td>\n",
       "      <td>42</td>\n",
       "      <td>7</td>\n",
       "    </tr>\n",
       "    <tr>\n",
       "      <th rowspan=\"3\" valign=\"top\">2025-06-10</th>\n",
       "      <th>2박스 (4개월분) (20%)</th>\n",
       "      <td>616,000</td>\n",
       "      <td>14</td>\n",
       "      <td>7</td>\n",
       "    </tr>\n",
       "    <tr>\n",
       "      <th>4박스 (8개월분) (28%)</th>\n",
       "      <td>1,108,800</td>\n",
       "      <td>28</td>\n",
       "      <td>7</td>\n",
       "    </tr>\n",
       "    <tr>\n",
       "      <th>6박스(12개월분) (35%)</th>\n",
       "      <td>858,000</td>\n",
       "      <td>24</td>\n",
       "      <td>4</td>\n",
       "    </tr>\n",
       "    <tr>\n",
       "      <th rowspan=\"3\" valign=\"top\">2025-06-11</th>\n",
       "      <th>2박스 (4개월분) (20%)</th>\n",
       "      <td>1,056,000</td>\n",
       "      <td>24</td>\n",
       "      <td>12</td>\n",
       "    </tr>\n",
       "    <tr>\n",
       "      <th>4박스 (8개월분) (28%)</th>\n",
       "      <td>950,400</td>\n",
       "      <td>24</td>\n",
       "      <td>6</td>\n",
       "    </tr>\n",
       "    <tr>\n",
       "      <th>6박스(12개월분) (35%)</th>\n",
       "      <td>429,000</td>\n",
       "      <td>12</td>\n",
       "      <td>2</td>\n",
       "    </tr>\n",
       "    <tr>\n",
       "      <th rowspan=\"3\" valign=\"top\">2025-06-12</th>\n",
       "      <th>2박스 (4개월분) (20%)</th>\n",
       "      <td>528,000</td>\n",
       "      <td>12</td>\n",
       "      <td>6</td>\n",
       "    </tr>\n",
       "    <tr>\n",
       "      <th>4박스 (8개월분) (28%)</th>\n",
       "      <td>316,800</td>\n",
       "      <td>8</td>\n",
       "      <td>2</td>\n",
       "    </tr>\n",
       "    <tr>\n",
       "      <th>6박스(12개월분) (35%)</th>\n",
       "      <td>214,500</td>\n",
       "      <td>6</td>\n",
       "      <td>1</td>\n",
       "    </tr>\n",
       "    <tr>\n",
       "      <th rowspan=\"3\" valign=\"top\">2025-06-13</th>\n",
       "      <th>2박스 (4개월분) (20%)</th>\n",
       "      <td>88,000</td>\n",
       "      <td>2</td>\n",
       "      <td>1</td>\n",
       "    </tr>\n",
       "    <tr>\n",
       "      <th>4박스 (8개월분) (28%)</th>\n",
       "      <td>475,200</td>\n",
       "      <td>12</td>\n",
       "      <td>3</td>\n",
       "    </tr>\n",
       "    <tr>\n",
       "      <th>6박스(12개월분) (35%)</th>\n",
       "      <td>214,500</td>\n",
       "      <td>6</td>\n",
       "      <td>1</td>\n",
       "    </tr>\n",
       "    <tr>\n",
       "      <th>총합</th>\n",
       "      <th></th>\n",
       "      <td>15,625,500</td>\n",
       "      <td>388</td>\n",
       "      <td>124</td>\n",
       "    </tr>\n",
       "  </tbody>\n",
       "</table>\n",
       "</div>"
      ],
      "text/plain": [
       "                                     매출 박스수량 주문수량\n",
       "결제 완료일     옵션명                                   \n",
       "2025-06-09 2박스 (4개월분) (20%)   3,784,000   86   43\n",
       "           4박스 (8개월분) (28%)   3,484,800   88   22\n",
       "           6박스(12개월분) (35%)   1,501,500   42    7\n",
       "2025-06-10 2박스 (4개월분) (20%)     616,000   14    7\n",
       "           4박스 (8개월분) (28%)   1,108,800   28    7\n",
       "           6박스(12개월분) (35%)     858,000   24    4\n",
       "2025-06-11 2박스 (4개월분) (20%)   1,056,000   24   12\n",
       "           4박스 (8개월분) (28%)     950,400   24    6\n",
       "           6박스(12개월분) (35%)     429,000   12    2\n",
       "2025-06-12 2박스 (4개월분) (20%)     528,000   12    6\n",
       "           4박스 (8개월분) (28%)     316,800    8    2\n",
       "           6박스(12개월분) (35%)     214,500    6    1\n",
       "2025-06-13 2박스 (4개월분) (20%)      88,000    2    1\n",
       "           4박스 (8개월분) (28%)     475,200   12    3\n",
       "           6박스(12개월분) (35%)     214,500    6    1\n",
       "총합                           15,625,500  388  124"
      ]
     },
     "execution_count": 22,
     "metadata": {},
     "output_type": "execute_result"
    }
   ],
   "source": [
    "final_df"
   ]
  },
  {
   "cell_type": "code",
   "execution_count": 23,
   "id": "46be3095-0cb9-44ae-9f54-b299570f313a",
   "metadata": {},
   "outputs": [
    {
     "data": {
      "text/html": [
       "<div>\n",
       "<style scoped>\n",
       "    .dataframe tbody tr th:only-of-type {\n",
       "        vertical-align: middle;\n",
       "    }\n",
       "\n",
       "    .dataframe tbody tr th {\n",
       "        vertical-align: top;\n",
       "    }\n",
       "\n",
       "    .dataframe thead th {\n",
       "        text-align: right;\n",
       "    }\n",
       "</style>\n",
       "<table border=\"1\" class=\"dataframe\">\n",
       "  <thead>\n",
       "    <tr style=\"text-align: right;\">\n",
       "      <th></th>\n",
       "      <th></th>\n",
       "      <th>매출</th>\n",
       "      <th>박스수량</th>\n",
       "      <th>주문수량</th>\n",
       "    </tr>\n",
       "    <tr>\n",
       "      <th>결제 완료일</th>\n",
       "      <th>구분</th>\n",
       "      <th></th>\n",
       "      <th></th>\n",
       "      <th></th>\n",
       "    </tr>\n",
       "  </thead>\n",
       "  <tbody>\n",
       "    <tr>\n",
       "      <th rowspan=\"2\" valign=\"top\">2025-06-09</th>\n",
       "      <th>친한스토어</th>\n",
       "      <td>5,894,900</td>\n",
       "      <td>146</td>\n",
       "      <td>47</td>\n",
       "    </tr>\n",
       "    <tr>\n",
       "      <th>톡스토어</th>\n",
       "      <td>2,875,400</td>\n",
       "      <td>70</td>\n",
       "      <td>25</td>\n",
       "    </tr>\n",
       "    <tr>\n",
       "      <th rowspan=\"2\" valign=\"top\">2025-06-10</th>\n",
       "      <th>친한스토어</th>\n",
       "      <td>1,502,600</td>\n",
       "      <td>38</td>\n",
       "      <td>11</td>\n",
       "    </tr>\n",
       "    <tr>\n",
       "      <th>톡스토어</th>\n",
       "      <td>1,080,200</td>\n",
       "      <td>28</td>\n",
       "      <td>7</td>\n",
       "    </tr>\n",
       "    <tr>\n",
       "      <th rowspan=\"2\" valign=\"top\">2025-06-11</th>\n",
       "      <th>친한스토어</th>\n",
       "      <td>1,696,200</td>\n",
       "      <td>42</td>\n",
       "      <td>14</td>\n",
       "    </tr>\n",
       "    <tr>\n",
       "      <th>톡스토어</th>\n",
       "      <td>739,200</td>\n",
       "      <td>18</td>\n",
       "      <td>6</td>\n",
       "    </tr>\n",
       "    <tr>\n",
       "      <th rowspan=\"2\" valign=\"top\">2025-06-12</th>\n",
       "      <th>친한스토어</th>\n",
       "      <td>580,800</td>\n",
       "      <td>14</td>\n",
       "      <td>5</td>\n",
       "    </tr>\n",
       "    <tr>\n",
       "      <th>톡스토어</th>\n",
       "      <td>478,500</td>\n",
       "      <td>12</td>\n",
       "      <td>4</td>\n",
       "    </tr>\n",
       "    <tr>\n",
       "      <th>2025-06-13</th>\n",
       "      <th>친한스토어</th>\n",
       "      <td>777,700</td>\n",
       "      <td>20</td>\n",
       "      <td>5</td>\n",
       "    </tr>\n",
       "  </tbody>\n",
       "</table>\n",
       "</div>"
      ],
      "text/plain": [
       "                         매출 박스수량 주문수량\n",
       "결제 완료일     구분                        \n",
       "2025-06-09 친한스토어  5,894,900  146   47\n",
       "           톡스토어   2,875,400   70   25\n",
       "2025-06-10 친한스토어  1,502,600   38   11\n",
       "           톡스토어   1,080,200   28    7\n",
       "2025-06-11 친한스토어  1,696,200   42   14\n",
       "           톡스토어     739,200   18    6\n",
       "2025-06-12 친한스토어    580,800   14    5\n",
       "           톡스토어     478,500   12    4\n",
       "2025-06-13 친한스토어    777,700   20    5"
      ]
     },
     "execution_count": 23,
     "metadata": {},
     "output_type": "execute_result"
    }
   ],
   "source": [
    "temp_df3 = pd.DataFrame(pd.pivot_table(df, index=['결제 완료일', '구분'], values=['매출', '박스수량'], aggfunc='sum'))\n",
    "temp = pd.DataFrame(pd.pivot_table(df, index=['결제 완료일', '구분'], values='결제 번호', aggfunc='count'))\n",
    "temp.rename(columns={'결제 번호': '주문수량'}, inplace=True)\n",
    "col = temp['주문수량']\n",
    "temp_df3['주문수량'] = col\n",
    "temp_df3.applymap(lambda x: f'{x:,}')"
   ]
  },
  {
   "cell_type": "code",
   "execution_count": 24,
   "id": "d31e129c-ab0a-49cf-8334-054a723276f1",
   "metadata": {},
   "outputs": [],
   "source": [
    "#df['제형'] = df['옵션명'].apply(lambda x: x.split('_')[0].split('(')[1])\n",
    "#df['제형'] = df['제형'].apply(lambda x: x[:2])\n",
    "#temp_df1 = pd.DataFrame(pd.pivot_table(df, index=['결제 완료일', '제형'], values=['매출', '박스수량'], aggfunc='sum', fill_value=0, margins=True, margins_name='총합'))\n",
    "#temp_df2 = pd.DataFrame(pd.pivot_table(df, index=['결제 완료일', '제형'], values=['결제 번호'], aggfunc='count', fill_value=0, margins=True, margins_name='총합'))\n",
    "#temp_df2.columns = ['주문수량']\n",
    "\n",
    "#result = pd.merge(temp_df1, temp_df2, left_index=True, right_index=True, how='inner')\n",
    "#result.applymap(lambda x: f'{x:,}')"
   ]
  }
 ],
 "metadata": {
  "kernelspec": {
   "display_name": "Python [conda env:base] *",
   "language": "python",
   "name": "conda-base-py"
  },
  "language_info": {
   "codemirror_mode": {
    "name": "ipython",
    "version": 3
   },
   "file_extension": ".py",
   "mimetype": "text/x-python",
   "name": "python",
   "nbconvert_exporter": "python",
   "pygments_lexer": "ipython3",
   "version": "3.12.7"
  }
 },
 "nbformat": 4,
 "nbformat_minor": 5
}
