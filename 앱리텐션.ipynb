{
 "cells": [
  {
   "cell_type": "code",
   "execution_count": 75,
   "id": "d17f1c7f-d10c-4157-b4e1-8d3c637e0ac4",
   "metadata": {},
   "outputs": [],
   "source": [
    "import pandas as pd\n",
    "from datetime import datetime\n",
    "\n",
    "df = pd.read_csv('/Users/seanyu_mac/Downloads/public_pb_user_auth_info_export_2024-11-27_114804.csv')\n",
    "\n",
    "# Convert created_at and updated_at columns to datetime\n",
    "df['created_at'] = pd.to_datetime(data['created_at'], format='mixed')\n",
    "df['updated_at'] = pd.to_datetime(data['updated_at'], format='mixed')\n",
    "\n",
    "# Calculate retention (within one month from created_at)\n",
    "df['gap'] = df['updated_at'] - data['created_at']\n",
    "df['is_retained'] = True"
   ]
  },
  {
   "cell_type": "code",
   "execution_count": 83,
   "id": "f1f23918-ce5c-4d3d-87a2-4e29aa6365c7",
   "metadata": {},
   "outputs": [
    {
     "data": {
      "text/plain": [
       "8427"
      ]
     },
     "execution_count": 83,
     "metadata": {},
     "output_type": "execute_result"
    }
   ],
   "source": [
    "con = df['created_at'] == df['updated_at']\n",
    "df[con].index.size"
   ]
  },
  {
   "cell_type": "code",
   "execution_count": 85,
   "id": "870d1867-48bd-4b3d-b865-85549745ce41",
   "metadata": {},
   "outputs": [
    {
     "data": {
      "text/plain": [
       "8436"
      ]
     },
     "execution_count": 85,
     "metadata": {},
     "output_type": "execute_result"
    }
   ],
   "source": [
    "df.index.size"
   ]
  }
 ],
 "metadata": {
  "kernelspec": {
   "display_name": "Python 3 (ipykernel)",
   "language": "python",
   "name": "python3"
  },
  "language_info": {
   "codemirror_mode": {
    "name": "ipython",
    "version": 3
   },
   "file_extension": ".py",
   "mimetype": "text/x-python",
   "name": "python",
   "nbconvert_exporter": "python",
   "pygments_lexer": "ipython3",
   "version": "3.12.7"
  }
 },
 "nbformat": 4,
 "nbformat_minor": 5
}
