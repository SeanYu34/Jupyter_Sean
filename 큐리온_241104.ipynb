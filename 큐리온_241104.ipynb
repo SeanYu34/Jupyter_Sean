{
 "cells": [
  {
   "cell_type": "code",
   "execution_count": 424,
   "id": "91358f7a-2803-4e31-bea9-285eaacdc38e",
   "metadata": {},
   "outputs": [],
   "source": [
    "import pandas as pd\n",
    "import numpy as np\n",
    "from datetime import datetime, timedelta\n",
    "\n",
    "df1 = pd.read_excel('/Users/seanyu_mac/Downloads/20241023_2300/원부_이미지_성분인식_결합_split_1.xlsx')\n",
    "df2 = pd.read_excel('/Users/seanyu_mac/Downloads/20241023_2300/원부_이미지_성분인식_결합_split_2.xlsx')\n",
    "df3 = pd.read_excel('/Users/seanyu_mac/Downloads/20241023_2300/원부_이미지_성분인식_결합_split_3.xlsx')\n",
    "df4 = pd.read_excel('/Users/seanyu_mac/Downloads/20241023_2300/원부_이미지_성분인식_결합_split_4.xlsx')\n",
    "\n",
    "df = pd.concat([df1, df2, df3, df4])"
   ]
  },
  {
   "cell_type": "code",
   "execution_count": 426,
   "id": "3310b16f-e0e3-48da-92fb-fa3672ecc1b9",
   "metadata": {},
   "outputs": [
    {
     "data": {
      "text/plain": [
       "Index(['group_id', 'seq_id', 'type', 'product_id', 'opr', 'opr_reason',\n",
       "       'pb_exported', 'pname', 'img_url', 'score', 'nutri', 'ug_err', 'no_std',\n",
       "       'big_cont', 'cont_err', 'std_pos', 'ambig_ingr', 'col_pos', 'std_fail',\n",
       "       'cont_kg', 'ingr_fail', 'num_cont', 'vitab', 'dup', 'ug_ingr', 'url'],\n",
       "      dtype='object')"
      ]
     },
     "execution_count": 426,
     "metadata": {},
     "output_type": "execute_result"
    }
   ],
   "source": [
    "original_df = df\n",
    "df.columns"
   ]
  },
  {
   "cell_type": "code",
   "execution_count": 340,
   "id": "da804b0d-d53a-4fad-b0de-71a8f0466cb0",
   "metadata": {},
   "outputs": [],
   "source": [
    "df = original_df"
   ]
  },
  {
   "cell_type": "code",
   "execution_count": 428,
   "id": "06aa1795-aa91-44ef-abec-04ca7a8b3bea",
   "metadata": {},
   "outputs": [
    {
     "name": "stdout",
     "output_type": "stream",
     "text": [
      "<class 'pandas.core.frame.DataFrame'>\n",
      "RangeIndex: 162390 entries, 0 to 162389\n",
      "Data columns (total 26 columns):\n",
      " #   Column       Non-Null Count   Dtype  \n",
      "---  ------       --------------   -----  \n",
      " 0   group_id     162390 non-null  object \n",
      " 1   seq_id       162389 non-null  float64\n",
      " 2   type         162390 non-null  object \n",
      " 3   product_id   162389 non-null  object \n",
      " 4   opr          162387 non-null  object \n",
      " 5   opr_reason   45058 non-null   object \n",
      " 6   pb_exported  162387 non-null  object \n",
      " 7   pname        162389 non-null  object \n",
      " 8   img_url      21041 non-null   object \n",
      " 9   score        162390 non-null  float64\n",
      " 10  nutri        21041 non-null   object \n",
      " 11  ug_err       162390 non-null  int64  \n",
      " 12  no_std       162390 non-null  int64  \n",
      " 13  big_cont     162390 non-null  int64  \n",
      " 14  cont_err     162390 non-null  int64  \n",
      " 15  std_pos      162390 non-null  int64  \n",
      " 16  ambig_ingr   162390 non-null  int64  \n",
      " 17  col_pos      162390 non-null  int64  \n",
      " 18  std_fail     162390 non-null  object \n",
      " 19  cont_kg      162389 non-null  float64\n",
      " 20  ingr_fail    162389 non-null  float64\n",
      " 21  num_cont     162389 non-null  object \n",
      " 22  vitab        162385 non-null  object \n",
      " 23  dup          162384 non-null  float64\n",
      " 24  ug_ingr      162384 non-null  float64\n",
      " 25  url          146850 non-null  object \n",
      "dtypes: float64(6), int64(7), object(13)\n",
      "memory usage: 32.2+ MB\n"
     ]
    }
   ],
   "source": [
    "df.reset_index(drop=True, inplace=True)\n",
    "df.info()"
   ]
  },
  {
   "cell_type": "code",
   "execution_count": 430,
   "id": "13cd9f99-b337-477a-8bfc-6e08b618e417",
   "metadata": {},
   "outputs": [
    {
     "name": "stderr",
     "output_type": "stream",
     "text": [
      "/var/folders/wl/txjbcgld2sngchsc7txxqppm0000gp/T/ipykernel_30566/2021006235.py:2: SettingWithCopyWarning: \n",
      "A value is trying to be set on a copy of a slice from a DataFrame\n",
      "\n",
      "See the caveats in the documentation: https://pandas.pydata.org/pandas-docs/stable/user_guide/indexing.html#returning-a-view-versus-a-copy\n",
      "  df.drop(df[df['nutri'] == '[]'].index, inplace=True)\n",
      "/var/folders/wl/txjbcgld2sngchsc7txxqppm0000gp/T/ipykernel_30566/2021006235.py:3: SettingWithCopyWarning: \n",
      "A value is trying to be set on a copy of a slice from a DataFrame\n",
      "\n",
      "See the caveats in the documentation: https://pandas.pydata.org/pandas-docs/stable/user_guide/indexing.html#returning-a-view-versus-a-copy\n",
      "  df.drop(df[df['nutri'] == 0].index, inplace=True)\n"
     ]
    },
    {
     "data": {
      "text/plain": [
       "19085"
      ]
     },
     "execution_count": 430,
     "metadata": {},
     "output_type": "execute_result"
    }
   ],
   "source": [
    "df = df[df['nutri'].isna() == False]\n",
    "df.drop(df[df['nutri'] == '[]'].index, inplace=True)\n",
    "df.drop(df[df['nutri'] == 0].index, inplace=True)\n",
    "len(df.index)"
   ]
  },
  {
   "cell_type": "code",
   "execution_count": 346,
   "id": "a8768b77-11b9-4452-87b4-3e59feea53cf",
   "metadata": {},
   "outputs": [
    {
     "data": {
      "text/plain": [
       "15745"
      ]
     },
     "execution_count": 346,
     "metadata": {},
     "output_type": "execute_result"
    }
   ],
   "source": [
    "df = df.drop(df.loc[df['group_id'].duplicated()].index)\n",
    "len(df.index)"
   ]
  },
  {
   "cell_type": "code",
   "execution_count": 464,
   "id": "9aebb9ac-f66c-415f-90de-7dc6fc077eea",
   "metadata": {},
   "outputs": [
    {
     "data": {
      "text/plain": [
       "15702"
      ]
     },
     "execution_count": 464,
     "metadata": {},
     "output_type": "execute_result"
    }
   ],
   "source": [
    "df = df.drop(df.loc[df['pname'].duplicated()].index)\n",
    "len(df.index)"
   ]
  },
  {
   "cell_type": "code",
   "execution_count": 350,
   "id": "d7d8ff5d-021c-4e1a-93b6-a52f3adab668",
   "metadata": {},
   "outputs": [
    {
     "data": {
      "text/plain": [
       "14293"
      ]
     },
     "execution_count": 350,
     "metadata": {},
     "output_type": "execute_result"
    }
   ],
   "source": [
    "df.drop(df[df['pb_exported'] == 'Y'].index, inplace=True)\n",
    "len(df.index)"
   ]
  },
  {
   "cell_type": "code",
   "execution_count": 352,
   "id": "9825b10a-71da-4318-bc6f-2bd88bc622c3",
   "metadata": {},
   "outputs": [],
   "source": [
    "df.reset_index(drop=True, inplace=True)"
   ]
  },
  {
   "cell_type": "code",
   "execution_count": 360,
   "id": "155913bf-ee5b-49c3-915c-ce5bac61bb90",
   "metadata": {},
   "outputs": [
    {
     "data": {
      "text/plain": [
       "[{'content': '0kcal', 'ingredient': '열량', 'nutri_standards': None},\n",
       " {'ingredient': '탄수화물', 'content': '1g미만', 'nutri_standards': '0%'},\n",
       " {'nutri_standards': '0%', 'content': '0g', 'ingredient': '단백질'},\n",
       " {'nutri_standards': '0%', 'content': '0g', 'ingredient': '지방'},\n",
       " {'content': '0mg', 'ingredient': '나트륨', 'nutri_standards': '0%'},\n",
       " {'ingredient': '실리마린', 'content': '130mg', 'nutri_standards': None},\n",
       " {'nutri_standards': '100%', 'content': '1.2mg', 'ingredient': '비타민b1'},\n",
       " {'nutri_standards': '100%', 'ingredient': '비타민b2', 'content': '1.4mg'},\n",
       " {'nutri_standards': '100%', 'ingredient': '비타민b6', 'content': '1.5mg'}]"
      ]
     },
     "execution_count": 360,
     "metadata": {},
     "output_type": "execute_result"
    }
   ],
   "source": [
    "nutritions = []\n",
    "\n",
    "for i in df['nutri'].tolist():\n",
    "    i = json.loads(i)\n",
    "    nutritions.append(i)\n",
    "\n",
    "df['nutrition'] = nutritions\n",
    "df.loc[0, 'nutrition']"
   ]
  },
  {
   "cell_type": "code",
   "execution_count": 366,
   "id": "f8c36462-7ab4-4d7e-85c8-70304b37dcf9",
   "metadata": {},
   "outputs": [],
   "source": [
    "nutris = []\n",
    "\n",
    "for i in df['nutrition']:\n",
    "    data_list = []\n",
    "    for j in range(len(i)):\n",
    "        data_dict = i[j]\n",
    "        content = data_dict['content']\n",
    "        ingredient = data_dict['ingredient']\n",
    "        nutri_standards = data_dict['nutri_standards']\n",
    "        data_str = f'{ingredient} : {content} ({nutri_standards})'\n",
    "        data_list.append(data_str)\n",
    "    nutris.append(data_list)"
   ]
  },
  {
   "cell_type": "code",
   "execution_count": 374,
   "id": "9257bb71-477f-47d3-85cb-935b63a14b1c",
   "metadata": {},
   "outputs": [],
   "source": [
    "df['nutrition'] = nutris\n",
    "df.to_csv('/Users/seanyu_mac/Downloads/큐리온중복제거_20241105.csv')"
   ]
  }
 ],
 "metadata": {
  "kernelspec": {
   "display_name": "Python 3 (ipykernel)",
   "language": "python",
   "name": "python3"
  },
  "language_info": {
   "codemirror_mode": {
    "name": "ipython",
    "version": 3
   },
   "file_extension": ".py",
   "mimetype": "text/x-python",
   "name": "python",
   "nbconvert_exporter": "python",
   "pygments_lexer": "ipython3",
   "version": "3.12.7"
  }
 },
 "nbformat": 4,
 "nbformat_minor": 5
}
