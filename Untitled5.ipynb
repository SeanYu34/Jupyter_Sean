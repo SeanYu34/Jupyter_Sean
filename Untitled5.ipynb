{
 "cells": [
  {
   "cell_type": "code",
   "execution_count": 8,
   "id": "8e24d0d5-3f03-482d-b338-765fdb2bc575",
   "metadata": {},
   "outputs": [],
   "source": [
    "import pandas as pd\n",
    "import numpy as np\n",
    "from datetime import datetime, timedelta\n",
    "import warnings\n",
    "import matplotlib.pyplot as plt\n",
    "warnings.simplefilter('ignore')"
   ]
  },
  {
   "cell_type": "code",
   "execution_count": 9,
   "id": "91a2b1df-692d-45f6-a12b-746b21236ce7",
   "metadata": {},
   "outputs": [],
   "source": [
    "ob_df = pd.read_csv('/Users/mac/Downloads/아워박스_통합관리_조회_초안 - 시트1 (5).csv')\n",
    "fs_df = pd.read_excel('/Users/mac/Downloads/주문내역_2024-06-13~2025-06-13.xlsx')\n",
    "code_df = pd.read_csv('/Users/mac/Downloads/store_t_product_option_export_2025-06-12_174426.csv')"
   ]
  },
  {
   "cell_type": "code",
   "execution_count": 10,
   "id": "9ab3d85f-b9bb-4f63-ae06-c1ffed828b64",
   "metadata": {},
   "outputs": [
    {
     "data": {
      "text/plain": [
       "Index(['처리단계', '도서산간여부', '고유번호', '합포장번호', '주문서상태', '주문번호', '상품주문번호', '품목코드',\n",
       "       '업체품목코드', '품목추가정보', '품목명', '채널상품명', '옵션1', '채널명', '채널아이디', '쇼핑몰명', '수량',\n",
       "       '판매단가', '실결제금액', '할인금액', '수취인명', '수취인 전화번호', '수취인 핸드폰번호', '우편번호', '주소',\n",
       "       '상세주소', '(정제) 우편번호', '(정제) 주소', '(정제) 상세주소', '배송 메시지',\n",
       "       '(팀프레시 전용) 공동현관 비밀번호', '배송사', '송장번호', '배송비구분', '배송비', '추가운임', '발송인명',\n",
       "       '발송인 우편번호', '발송인 주소', '발송인 연락처', '판매처', '주문자명', '주문자ID', '주문자 연락처',\n",
       "       '주문일시', '결제일시', '등록일시', '출고등록일시', '출고완료일시', '출고 PLANT', '비고', '발송기한일'],\n",
       "      dtype='object')"
      ]
     },
     "execution_count": 10,
     "metadata": {},
     "output_type": "execute_result"
    }
   ],
   "source": [
    "ob_df.columns"
   ]
  },
  {
   "cell_type": "code",
   "execution_count": null,
   "id": "19fee659-cc07-453a-bf37-5a0945c67a85",
   "metadata": {},
   "outputs": [],
   "source": []
  }
 ],
 "metadata": {
  "kernelspec": {
   "display_name": "Python [conda env:base] *",
   "language": "python",
   "name": "conda-base-py"
  },
  "language_info": {
   "codemirror_mode": {
    "name": "ipython",
    "version": 3
   },
   "file_extension": ".py",
   "mimetype": "text/x-python",
   "name": "python",
   "nbconvert_exporter": "python",
   "pygments_lexer": "ipython3",
   "version": "3.12.7"
  }
 },
 "nbformat": 4,
 "nbformat_minor": 5
}
