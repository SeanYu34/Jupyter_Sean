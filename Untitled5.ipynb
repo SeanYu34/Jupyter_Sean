{
 "cells": [
  {
   "cell_type": "code",
   "execution_count": 1,
   "id": "8e24d0d5-3f03-482d-b338-765fdb2bc575",
   "metadata": {},
   "outputs": [],
   "source": [
    "import pandas as pd\n",
    "import numpy as np\n",
    "from datetime import datetime, timedelta\n",
    "import warnings\n",
    "warnings.simplefilter('ignore')"
   ]
  },
  {
   "cell_type": "code",
   "execution_count": 40,
   "id": "91a2b1df-692d-45f6-a12b-746b21236ce7",
   "metadata": {},
   "outputs": [],
   "source": [
    "df = pd.read_csv('/Users/mac/Downloads/store_t_product_option_export_2025-05-29_134716.csv')"
   ]
  },
  {
   "cell_type": "code",
   "execution_count": 41,
   "id": "7d7533cc-7396-40b2-9ecd-7815e87eca43",
   "metadata": {},
   "outputs": [],
   "source": [
    "df = df[df['status_yn'] == 'Y']"
   ]
  },
  {
   "cell_type": "code",
   "execution_count": 42,
   "id": "43991979-b17d-413f-aa4f-56fbe1891b73",
   "metadata": {},
   "outputs": [],
   "source": [
    "df = df[df['option_name'].isna() == False]\n",
    "df = df[df['option_name'].str.contains('스페셜')]"
   ]
  },
  {
   "cell_type": "code",
   "execution_count": 43,
   "id": "c43bba85-4465-4459-8438-07fed47255aa",
   "metadata": {},
   "outputs": [],
   "source": [
    "stock_list = df.loc[df['stock_quantity'] < 90000, 'product_idx'].tolist()"
   ]
  },
  {
   "cell_type": "code",
   "execution_count": 44,
   "id": "9e1d19fb-4d9e-4c0c-a188-f8963fcdf420",
   "metadata": {},
   "outputs": [],
   "source": [
    "df2 = pd.read_csv('/Users/mac/Downloads/store_t_product_export_2025-05-29_134655.csv')"
   ]
  },
  {
   "cell_type": "code",
   "execution_count": 45,
   "id": "01f293e5-401b-41de-8a63-01a47210c516",
   "metadata": {},
   "outputs": [
    {
     "data": {
      "text/plain": [
       "Index(['product_idx', 'product_name', 'sale_start_dttm', 'sale_end_dttm',\n",
       "       'influencer_idx', 'external_purchase_link', 'product_id', 'option_name',\n",
       "       'sale_price', 'discount_rate', 'discounted_price',\n",
       "       'free_shipping_limit', 'point_use_limit', 'coupon_use_yn',\n",
       "       'coupon_use_limit', 'main_image_url', 'hidden_yn', 'sold_out_yn',\n",
       "       'shipping_comcode', 'shipping_address', 'return_shipping_comcode',\n",
       "       'return_address', 'detail_image_html_yn', 'detail_image_html_text',\n",
       "       'information_image_html_yn', 'information_image_html_text',\n",
       "       'basic_info_product_status', 'basic_info_origin',\n",
       "       'basic_info_receipt_issue', 'noinfo_product_name', 'noinfo_food_type',\n",
       "       'noinfo_producer_location', 'noinfo_manufacture_date',\n",
       "       'noinfo_package_contents', 'noinfo_ingredients',\n",
       "       'noinfo_nutrition_info', 'noinfo_gmo', 'noinfo_safety_notice',\n",
       "       'noinfo_imported_yn', 'seller_idx', 'created_at', 'updated_at',\n",
       "       'status_tryn'],\n",
       "      dtype='object')"
      ]
     },
     "execution_count": 45,
     "metadata": {},
     "output_type": "execute_result"
    }
   ],
   "source": [
    "df2.columns"
   ]
  },
  {
   "cell_type": "code",
   "execution_count": 46,
   "id": "ec079a81-f3cc-4020-943a-30dada4edd80",
   "metadata": {},
   "outputs": [],
   "source": [
    "on_list = df2.loc[df2['status_tryn'] == 'Y', 'product_idx'].tolist()"
   ]
  },
  {
   "cell_type": "code",
   "execution_count": 47,
   "id": "b6f9abab-9e38-4621-aef0-f90a91ca26f1",
   "metadata": {},
   "outputs": [
    {
     "data": {
      "text/plain": [
       "[50625]"
      ]
     },
     "execution_count": 47,
     "metadata": {},
     "output_type": "execute_result"
    }
   ],
   "source": [
    "final_list = []\n",
    "\n",
    "for i in stock_list:\n",
    "    if i in on_list:\n",
    "        final_list.append(i)\n",
    "\n",
    "sorted(final_list)"
   ]
  }
 ],
 "metadata": {
  "kernelspec": {
   "display_name": "Python [conda env:base] *",
   "language": "python",
   "name": "conda-base-py"
  },
  "language_info": {
   "codemirror_mode": {
    "name": "ipython",
    "version": 3
   },
   "file_extension": ".py",
   "mimetype": "text/x-python",
   "name": "python",
   "nbconvert_exporter": "python",
   "pygments_lexer": "ipython3",
   "version": "3.12.7"
  }
 },
 "nbformat": 4,
 "nbformat_minor": 5
}
