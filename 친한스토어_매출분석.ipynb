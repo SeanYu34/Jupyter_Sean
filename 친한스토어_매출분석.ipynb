{
 "cells": [
  {
   "cell_type": "code",
   "execution_count": 286,
   "id": "584d2e25-7d4c-40fb-b696-3fc0c0edb83e",
   "metadata": {},
   "outputs": [
    {
     "name": "stdout",
     "output_type": "stream",
     "text": [
      "누적 매출액 : 5,531,690원 / 누적 판매건수 : 134건 / 일평균 매출액 : 149,505.1원 / 객단가 : 64,322.0원 / 구매취소율 : 14.8%\n"
     ]
    },
    {
     "name": "stderr",
     "output_type": "stream",
     "text": [
      "/opt/anaconda3/lib/python3.12/site-packages/openpyxl/styles/stylesheet.py:237: UserWarning: Workbook contains no default style, apply openpyxl's default\n",
      "  warn(\"Workbook contains no default style, apply openpyxl's default\")\n",
      "/opt/anaconda3/lib/python3.12/site-packages/openpyxl/styles/stylesheet.py:237: UserWarning: Workbook contains no default style, apply openpyxl's default\n",
      "  warn(\"Workbook contains no default style, apply openpyxl's default\")\n",
      "/var/folders/wl/txjbcgld2sngchsc7txxqppm0000gp/T/ipykernel_35630/3129200865.py:18: SettingWithCopyWarning: \n",
      "A value is trying to be set on a copy of a slice from a DataFrame.\n",
      "Try using .loc[row_indexer,col_indexer] = value instead\n",
      "\n",
      "See the caveats in the documentation: https://pandas.pydata.org/pandas-docs/stable/user_guide/indexing.html#returning-a-view-versus-a-copy\n",
      "  df['order_id'] = df['주문 번호']\n",
      "/var/folders/wl/txjbcgld2sngchsc7txxqppm0000gp/T/ipykernel_35630/3129200865.py:19: SettingWithCopyWarning: \n",
      "A value is trying to be set on a copy of a slice from a DataFrame.\n",
      "Try using .loc[row_indexer,col_indexer] = value instead\n",
      "\n",
      "See the caveats in the documentation: https://pandas.pydata.org/pandas-docs/stable/user_guide/indexing.html#returning-a-view-versus-a-copy\n",
      "  df['date'] = df['결제 완료일'].dt.strftime('%Y-%m-%d')\n",
      "/var/folders/wl/txjbcgld2sngchsc7txxqppm0000gp/T/ipykernel_35630/3129200865.py:20: SettingWithCopyWarning: \n",
      "A value is trying to be set on a copy of a slice from a DataFrame.\n",
      "Try using .loc[row_indexer,col_indexer] = value instead\n",
      "\n",
      "See the caveats in the documentation: https://pandas.pydata.org/pandas-docs/stable/user_guide/indexing.html#returning-a-view-versus-a-copy\n",
      "  df['product'] = df['상품명']\n",
      "/var/folders/wl/txjbcgld2sngchsc7txxqppm0000gp/T/ipykernel_35630/3129200865.py:21: SettingWithCopyWarning: \n",
      "A value is trying to be set on a copy of a slice from a DataFrame.\n",
      "Try using .loc[row_indexer,col_indexer] = value instead\n",
      "\n",
      "See the caveats in the documentation: https://pandas.pydata.org/pandas-docs/stable/user_guide/indexing.html#returning-a-view-versus-a-copy\n",
      "  df['sales'] = df['정산가']\n",
      "/var/folders/wl/txjbcgld2sngchsc7txxqppm0000gp/T/ipykernel_35630/3129200865.py:22: SettingWithCopyWarning: \n",
      "A value is trying to be set on a copy of a slice from a DataFrame.\n",
      "Try using .loc[row_indexer,col_indexer] = value instead\n",
      "\n",
      "See the caveats in the documentation: https://pandas.pydata.org/pandas-docs/stable/user_guide/indexing.html#returning-a-view-versus-a-copy\n",
      "  df['option'] = df['옵션명']\n",
      "/var/folders/wl/txjbcgld2sngchsc7txxqppm0000gp/T/ipykernel_35630/3129200865.py:23: SettingWithCopyWarning: \n",
      "A value is trying to be set on a copy of a slice from a DataFrame.\n",
      "Try using .loc[row_indexer,col_indexer] = value instead\n",
      "\n",
      "See the caveats in the documentation: https://pandas.pydata.org/pandas-docs/stable/user_guide/indexing.html#returning-a-view-versus-a-copy\n",
      "  df['name'] = df['구매자명']\n"
     ]
    }
   ],
   "source": [
    "import pandas as pd\n",
    "import numpy as np\n",
    "from datetime import datetime, timedelta\n",
    "\n",
    "df1 = pd.read_excel('/Users/seanyu_mac/Downloads/report (2).xlsx')\n",
    "df2 = pd.read_excel('/Users/seanyu_mac/Downloads/report (3).xlsx')\n",
    "\n",
    "df = pd.concat([df1, df2])\n",
    "original_df = df\n",
    "\n",
    "con1 = df['주문 상태'] == '배송완료'\n",
    "con2 = df['주문 상태'] == '구매확정'\n",
    "con3 = df['주문 상태'] == '배송중'\n",
    "con4 = df['주문 상태'] == '배송준비'\n",
    "\n",
    "df = df[con1 | con2 | con3 | con4]\n",
    "\n",
    "df['order_id'] = df['주문 번호']\n",
    "df['date'] = df['결제 완료일'].dt.strftime('%Y-%m-%d')\n",
    "df['product'] = df['상품명']\n",
    "df['sales'] = df['정산가']\n",
    "df['option'] = df['옵션명']\n",
    "df['name'] = df['구매자명']\n",
    "\n",
    "df = df[['order_id', 'date', 'product', 'option', 'name','sales']]\n",
    "df['date'] = pd.to_datetime(df['date'])\n",
    "\n",
    "sales_df = pd.DataFrame(df.groupby('date')['sales'].sum())\n",
    "sales_df['date'] = sales_df.index\n",
    "sales_df = sales_df[['date', 'sales']]\n",
    "sales_df.reset_index(drop=True, inplace=True)\n",
    "\n",
    "product_df = pd.DataFrame(df.groupby('product')['sales'].sum())\n",
    "product_df['product'] = product_df.index\n",
    "product_df = product_df[['product', 'sales']]\n",
    "product_df.reset_index(drop=True, inplace=True)\n",
    "\n",
    "with pd.ExcelWriter('/Users/seanyu_mac/Downloads/친한스토어매출.xlsx') as writer:\n",
    "    sales_df.to_excel(writer, sheet_name='일자별', index=False)\n",
    "    product_df.to_excel(writer, sheet_name='상품별', index=False)\n",
    "\n",
    "total_sales = np.round(df['sales'].sum(), 1)\n",
    "total_num = len(df['order_id'].unique())\n",
    "daily_sales = np.round(total_sales / len(df['date'].unique()), 1)\n",
    "arpu = np.round(total_sales / len(df['name'].unique()), 1)\n",
    "con1 = original_df['주문 상태'] == '취소완료'\n",
    "con2 = original_df['주문 상태'] == '판매자취소'\n",
    "cancel_rate = np.round(original_df[con1 | con2].shape[0] / original_df.shape[0] * 100, 1)\n",
    "\n",
    "print(f'누적 매출액 : {total_sales:,}원 / 누적 판매건수 : {total_num:,}건 / 일평균 매출액 : {daily_sales:,}원 / 객단가 : {arpu:,}원 / 구매취소율 : {cancel_rate}%')"
   ]
  },
  {
   "cell_type": "code",
   "execution_count": 232,
   "id": "aedd96a8-999c-4e83-8eaf-fae90726262d",
   "metadata": {},
   "outputs": [
    {
     "data": {
      "text/plain": [
       "month\n",
       "09     386850\n",
       "10    4214330\n",
       "11     930510\n",
       "Name: sales, dtype: int64"
      ]
     },
     "execution_count": 232,
     "metadata": {},
     "output_type": "execute_result"
    }
   ],
   "source": [
    "df['month'] = df['date'].dt.strftime('%m')\n",
    "df.groupby('month')['sales'].sum()"
   ]
  },
  {
   "cell_type": "code",
   "execution_count": 302,
   "id": "d0825e3c-68ac-4e05-aef2-c8dd59d51018",
   "metadata": {},
   "outputs": [
    {
     "data": {
      "text/plain": [
       "판매가\n",
       "26600     1489600\n",
       "23750      950000\n",
       "42750      897750\n",
       "21370      854800\n",
       "33250      698250\n",
       "202000     606000\n",
       "48450      339150\n",
       "55000      330000\n",
       "56050      224200\n",
       "64000      128000\n",
       "27550      110200\n",
       "34200      102600\n",
       "28500       28500\n",
       "14000       14000\n",
       "Name: 정산가, dtype: int64"
      ]
     },
     "execution_count": 302,
     "metadata": {},
     "output_type": "execute_result"
    }
   ],
   "source": [
    "original_df.groupby('판매가')['정산가'].sum().sort_values(ascending=False)"
   ]
  }
 ],
 "metadata": {
  "kernelspec": {
   "display_name": "Python 3 (ipykernel)",
   "language": "python",
   "name": "python3"
  },
  "language_info": {
   "codemirror_mode": {
    "name": "ipython",
    "version": 3
   },
   "file_extension": ".py",
   "mimetype": "text/x-python",
   "name": "python",
   "nbconvert_exporter": "python",
   "pygments_lexer": "ipython3",
   "version": "3.12.7"
  }
 },
 "nbformat": 4,
 "nbformat_minor": 5
}
