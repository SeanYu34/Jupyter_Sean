{
 "cells": [
  {
   "cell_type": "code",
   "execution_count": 28,
   "id": "584d2e25-7d4c-40fb-b696-3fc0c0edb83e",
   "metadata": {},
   "outputs": [
    {
     "name": "stdout",
     "output_type": "stream",
     "text": [
      "누적 매출액 : 5,861,540원 / 누적 판매건수 : 151건 / 일평균 매출액 : 142,964.4원 / 객단가 : 65,128.2원 / 구매취소율 : 16.2%\n"
     ]
    },
    {
     "name": "stderr",
     "output_type": "stream",
     "text": [
      "/opt/anaconda3/lib/python3.12/site-packages/openpyxl/styles/stylesheet.py:237: UserWarning: Workbook contains no default style, apply openpyxl's default\n",
      "  warn(\"Workbook contains no default style, apply openpyxl's default\")\n",
      "/opt/anaconda3/lib/python3.12/site-packages/openpyxl/styles/stylesheet.py:237: UserWarning: Workbook contains no default style, apply openpyxl's default\n",
      "  warn(\"Workbook contains no default style, apply openpyxl's default\")\n",
      "/var/folders/wl/txjbcgld2sngchsc7txxqppm0000gp/T/ipykernel_39068/127966725.py:19: SettingWithCopyWarning: \n",
      "A value is trying to be set on a copy of a slice from a DataFrame.\n",
      "Try using .loc[row_indexer,col_indexer] = value instead\n",
      "\n",
      "See the caveats in the documentation: https://pandas.pydata.org/pandas-docs/stable/user_guide/indexing.html#returning-a-view-versus-a-copy\n",
      "  df['order_id'] = df['주문 번호']\n",
      "/var/folders/wl/txjbcgld2sngchsc7txxqppm0000gp/T/ipykernel_39068/127966725.py:20: SettingWithCopyWarning: \n",
      "A value is trying to be set on a copy of a slice from a DataFrame.\n",
      "Try using .loc[row_indexer,col_indexer] = value instead\n",
      "\n",
      "See the caveats in the documentation: https://pandas.pydata.org/pandas-docs/stable/user_guide/indexing.html#returning-a-view-versus-a-copy\n",
      "  df['date'] = df['결제 완료일'].dt.strftime('%Y-%m-%d')\n",
      "/var/folders/wl/txjbcgld2sngchsc7txxqppm0000gp/T/ipykernel_39068/127966725.py:21: SettingWithCopyWarning: \n",
      "A value is trying to be set on a copy of a slice from a DataFrame.\n",
      "Try using .loc[row_indexer,col_indexer] = value instead\n",
      "\n",
      "See the caveats in the documentation: https://pandas.pydata.org/pandas-docs/stable/user_guide/indexing.html#returning-a-view-versus-a-copy\n",
      "  df['product'] = df['상품명']\n",
      "/var/folders/wl/txjbcgld2sngchsc7txxqppm0000gp/T/ipykernel_39068/127966725.py:22: SettingWithCopyWarning: \n",
      "A value is trying to be set on a copy of a slice from a DataFrame.\n",
      "Try using .loc[row_indexer,col_indexer] = value instead\n",
      "\n",
      "See the caveats in the documentation: https://pandas.pydata.org/pandas-docs/stable/user_guide/indexing.html#returning-a-view-versus-a-copy\n",
      "  df['sales'] = df['정산가']\n",
      "/var/folders/wl/txjbcgld2sngchsc7txxqppm0000gp/T/ipykernel_39068/127966725.py:23: SettingWithCopyWarning: \n",
      "A value is trying to be set on a copy of a slice from a DataFrame.\n",
      "Try using .loc[row_indexer,col_indexer] = value instead\n",
      "\n",
      "See the caveats in the documentation: https://pandas.pydata.org/pandas-docs/stable/user_guide/indexing.html#returning-a-view-versus-a-copy\n",
      "  df['option'] = df['옵션명']\n",
      "/var/folders/wl/txjbcgld2sngchsc7txxqppm0000gp/T/ipykernel_39068/127966725.py:24: SettingWithCopyWarning: \n",
      "A value is trying to be set on a copy of a slice from a DataFrame.\n",
      "Try using .loc[row_indexer,col_indexer] = value instead\n",
      "\n",
      "See the caveats in the documentation: https://pandas.pydata.org/pandas-docs/stable/user_guide/indexing.html#returning-a-view-versus-a-copy\n",
      "  df['name'] = df['구매자명']\n"
     ]
    }
   ],
   "source": [
    "import pandas as pd\n",
    "import numpy as np\n",
    "from datetime import datetime, timedelta\n",
    "\n",
    "df1 = pd.read_excel('/Users/seanyu_mac/Downloads/report (7).xlsx')\n",
    "df2 = pd.read_excel('/Users/seanyu_mac/Downloads/report (8).xlsx')\n",
    "\n",
    "df = pd.concat([df1, df2])\n",
    "original_df = df\n",
    "\n",
    "con1 = df['주문 상태'] == '배송완료'\n",
    "con2 = df['주문 상태'] == '구매확정'\n",
    "con3 = df['주문 상태'] == '배송중'\n",
    "con4 = df['주문 상태'] == '배송준비'\n",
    "con5 = df['주문 상태'] == '결제완료'\n",
    "\n",
    "df = df[con1 | con2 | con3 | con4 | con5]\n",
    "\n",
    "df['order_id'] = df['주문 번호']\n",
    "df['date'] = df['결제 완료일'].dt.strftime('%Y-%m-%d')\n",
    "df['product'] = df['상품명']\n",
    "df['sales'] = df['정산가']\n",
    "df['option'] = df['옵션명']\n",
    "df['name'] = df['구매자명']\n",
    "\n",
    "df = df[['order_id', 'date', 'product', 'option', 'name','sales']]\n",
    "df['date'] = pd.to_datetime(df['date'])\n",
    "\n",
    "sales_df = pd.DataFrame(df.groupby('date')['sales'].sum())\n",
    "sales_df['date'] = sales_df.index\n",
    "sales_df = sales_df[['date', 'sales']]\n",
    "sales_df.reset_index(drop=True, inplace=True)\n",
    "\n",
    "product_df = pd.DataFrame(df.groupby('product')['sales'].sum())\n",
    "product_df['product'] = product_df.index\n",
    "product_df = product_df[['product', 'sales']]\n",
    "product_df.reset_index(drop=True, inplace=True)\n",
    "\n",
    "with pd.ExcelWriter('/Users/seanyu_mac/Downloads/친한스토어매출.xlsx') as writer:\n",
    "    sales_df.to_excel(writer, sheet_name='일자별', index=False)\n",
    "    product_df.to_excel(writer, sheet_name='상품별', index=False)\n",
    "\n",
    "total_sales = np.round(df['sales'].sum(), 1)\n",
    "total_num = len(df['order_id'].unique())\n",
    "daily_sales = np.round(total_sales / len(df['date'].unique()), 1)\n",
    "arpu = np.round(total_sales / len(df['name'].unique()), 1)\n",
    "con1 = original_df['주문 상태'] == '취소완료'\n",
    "con2 = original_df['주문 상태'] == '판매자취소'\n",
    "cancel_rate = np.round(original_df[con1 | con2].shape[0] / original_df.shape[0] * 100, 1)\n",
    "\n",
    "print(f'누적 매출액 : {total_sales:,}원 / 누적 판매건수 : {total_num:,}건 / 일평균 매출액 : {daily_sales:,}원 / 객단가 : {arpu:,}원 / 구매취소율 : {cancel_rate}%')"
   ]
  },
  {
   "cell_type": "code",
   "execution_count": 14,
   "id": "aedd96a8-999c-4e83-8eaf-fae90726262d",
   "metadata": {},
   "outputs": [
    {
     "data": {
      "text/plain": [
       "month\n",
       "09     386850\n",
       "10    4214330\n",
       "11    1186960\n",
       "Name: sales, dtype: int64"
      ]
     },
     "execution_count": 14,
     "metadata": {},
     "output_type": "execute_result"
    }
   ],
   "source": [
    "df['month'] = df['date'].dt.strftime('%m')\n",
    "df.groupby('month')['sales'].sum()"
   ]
  },
  {
   "cell_type": "code",
   "execution_count": 39,
   "id": "d0825e3c-68ac-4e05-aef2-c8dd59d51018",
   "metadata": {},
   "outputs": [
    {
     "data": {
      "text/plain": [
       "117"
      ]
     },
     "execution_count": 39,
     "metadata": {},
     "output_type": "execute_result"
    }
   ],
   "source": [
    "con1 = original_df['결제 완료일'] >= datetime(2024, 10, 1)\n",
    "con2 = original_df['결제 완료일'] < datetime(2024, 11, 1)\n",
    "original_df[con1 & con2].index.size"
   ]
  },
  {
   "cell_type": "code",
   "execution_count": 59,
   "id": "ab543ecd-fcb1-44c0-9101-b4cbd2dfe7de",
   "metadata": {},
   "outputs": [
    {
     "data": {
      "text/plain": [
       "array(['[스페셜할인코드/안재돈약사] YDY 퓨어리포좀글루타치온 1박스 (30일분)',\n",
       "       '[스페셜할인코드/남기헌약사] YDY 폴라초임계오메가3 1박스(1개월분)',\n",
       "       '[스페셜할인코드/남기헌약사] YDY 파이토 레드큐민 1박스(1개월분) /커큐민',\n",
       "       '[스페셜할인코드/남기헌약사] YDY 액티브비큐텐 1박스(1개월분)',\n",
       "       '[스페셜할인코드/남기헌약사] YDY 코랄칼마디 1박스(1개월분) / 칼슘 마그네슘 비타민D',\n",
       "       '[스페셜할인코드/고상온약사] YDY 썬비타민D3 2500IU 1박스(60일분)',\n",
       "       '[스페셜할인코드/친한] YDY 액티브비큐텐 1박스(1개월분)',\n",
       "       '[공동구매] 우리약사 X 센스밸런스 헤모츄 / 2box, 4box, 8box',\n",
       "       '[스페셜할인코드/친한] YDY 파이토 레드큐민 1박스(1개월분) /커큐민',\n",
       "       '[스페셜할인코드/친한] YDY 마그듀오 1박스(1개월분)',\n",
       "       '[스페셜할인코드/남기헌약사] YDY 풀스펙멀티비타민 1박스(1개월분)',\n",
       "       '[스페셜할인코드/친한] YDY 프로바이오 에스엘비 1박스(2개월분)',\n",
       "       '[스페셜할인코드/남기헌약사] YDY 프로바이오 에스엘비 1박스(2개월분)',\n",
       "       '[스페셜할인코드/약사임당] YDY 코랄칼마디 1박스(1개월분) / 칼슘 마그네슘 비타민D',\n",
       "       '[스페셜할인코드/형제약사] YDY 썬비타민D3 2500IU 1박스(60일분)',\n",
       "       '[스페셜할인코드/고상온약사] YDY 폴라초임계오메가3 1박스(1개월분)',\n",
       "       '[스페셜할인코드/고상온약사] YDY 코랄칼마디 1박스(1개월분) / 칼슘 마그네슘 비타민D',\n",
       "       '[스페셜할인코드/친한] YDY 폴라초임계오메가3 1박스 (1개월분)',\n",
       "       '[스페셜할인코드/안재돈약사] YDY 폴라초임계오메가3 1박스(1개월분)',\n",
       "       '[스페셜할인코드/안재돈약사] YDY 풀스펙멀티비타민 1박스(1개월분)',\n",
       "       '[스페셜할인코드/고상온약사] YDY 프로바이오 에스엘비 1박스(2개월분)', '임직원용 PB 상품 구매 페이지',\n",
       "       '[스페셜할인코드/임상우약사] YDY 프로바이오 에스엘비 1박스(2개월분)',\n",
       "       '[스페셜할인코드/친한] YDY 퓨어리포좀비타민C 1박스(1개월분)',\n",
       "       '[스페셜할인코드/고상온약사] YDY 풀스펙멀티비타민 1박스(1개월분)',\n",
       "       '[스페셜할인코드/친한] YDY 풀스펙멀티비타민 1박스(1개월분)',\n",
       "       '[스페셜할인코드/위키약사] YDY 코랄칼마디 1박스(1개월분) / 칼슘 마그네슘 비타민D',\n",
       "       '[스페셜할인코드/고상온약사] YDY 액티브비큐텐 1박스(1개월분)',\n",
       "       '[스페셜할인코드/고상온약사] YDY 퓨어리포좀글루타치온 1박스 (30일분)',\n",
       "       '[스페셜할인코드/형제약사] YDY 파이토 레드큐민 1박스(1개월분) /커큐민',\n",
       "       '[스페셜할인코드/친한] YDY 썬비타민D3 2500IU 1박스(60일분)',\n",
       "       '[스페셜할인코드/친한] YDY 코랄칼마디 1박스(1개월분) / 칼슘 마그네슘 비타민D',\n",
       "       '[QA] 2024_09_26', '[스페셜할인코드/고상온약사] YDY 마그듀오 1박스(1개월분)',\n",
       "       '[스페셜할인코드/남기헌약사] YDY 내몸에 효소가득 1박스 (30일분)',\n",
       "       '[스페셜할인코드/친한] YDY 오큐클리어 1박스(1개월분)',\n",
       "       '[스페셜할인코드/남기헌약사] YDY 마그듀오 1박스(1개월분)',\n",
       "       '[스페셜할인코드/쏘핏약사] YDY 풀스펙멀티비타민 1박스(1개월분)',\n",
       "       '[스페셜할인코드/안재돈약사] YDY 코랄칼마디 1박스(1개월분) / 칼슘 마그네슘 비타민D',\n",
       "       '[스페셜할인코드/봄약사] YDY 프로바이오 에스엘비 1박스(2개월분)',\n",
       "       '[스페셜할인코드/고상온약사] YDY 액티브헴철 1박스 (30일분)',\n",
       "       '[스페셜할인코드/이재연약사] YDY 코랄칼마디 1박스(1개월분) / 칼슘 마그네슘 비타민D'], dtype=object)"
      ]
     },
     "execution_count": 59,
     "metadata": {},
     "output_type": "execute_result"
    }
   ],
   "source": [
    "original_df['상품명'].unique()"
   ]
  }
 ],
 "metadata": {
  "kernelspec": {
   "display_name": "Python 3 (ipykernel)",
   "language": "python",
   "name": "python3"
  },
  "language_info": {
   "codemirror_mode": {
    "name": "ipython",
    "version": 3
   },
   "file_extension": ".py",
   "mimetype": "text/x-python",
   "name": "python",
   "nbconvert_exporter": "python",
   "pygments_lexer": "ipython3",
   "version": "3.12.7"
  }
 },
 "nbformat": 4,
 "nbformat_minor": 5
}
