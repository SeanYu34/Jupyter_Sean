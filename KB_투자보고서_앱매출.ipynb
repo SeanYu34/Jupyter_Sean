{
 "cells": [
  {
   "cell_type": "code",
   "execution_count": 114,
   "id": "982b7a40-8697-4e45-a893-5396efe90111",
   "metadata": {},
   "outputs": [
    {
     "name": "stderr",
     "output_type": "stream",
     "text": [
      "/opt/anaconda3/lib/python3.12/site-packages/openpyxl/styles/stylesheet.py:237: UserWarning: Workbook contains no default style, apply openpyxl's default\n",
      "  warn(\"Workbook contains no default style, apply openpyxl's default\")\n",
      "/opt/anaconda3/lib/python3.12/site-packages/openpyxl/styles/stylesheet.py:237: UserWarning: Workbook contains no default style, apply openpyxl's default\n",
      "  warn(\"Workbook contains no default style, apply openpyxl's default\")\n",
      "/opt/anaconda3/lib/python3.12/site-packages/openpyxl/styles/stylesheet.py:237: UserWarning: Workbook contains no default style, apply openpyxl's default\n",
      "  warn(\"Workbook contains no default style, apply openpyxl's default\")\n",
      "/opt/anaconda3/lib/python3.12/site-packages/openpyxl/styles/stylesheet.py:237: UserWarning: Workbook contains no default style, apply openpyxl's default\n",
      "  warn(\"Workbook contains no default style, apply openpyxl's default\")\n",
      "/opt/anaconda3/lib/python3.12/site-packages/openpyxl/styles/stylesheet.py:237: UserWarning: Workbook contains no default style, apply openpyxl's default\n",
      "  warn(\"Workbook contains no default style, apply openpyxl's default\")\n"
     ]
    },
    {
     "data": {
      "text/html": [
       "<div>\n",
       "<style scoped>\n",
       "    .dataframe tbody tr th:only-of-type {\n",
       "        vertical-align: middle;\n",
       "    }\n",
       "\n",
       "    .dataframe tbody tr th {\n",
       "        vertical-align: top;\n",
       "    }\n",
       "\n",
       "    .dataframe thead th {\n",
       "        text-align: right;\n",
       "    }\n",
       "</style>\n",
       "<table border=\"1\" class=\"dataframe\">\n",
       "  <thead>\n",
       "    <tr style=\"text-align: right;\">\n",
       "      <th></th>\n",
       "      <th>order_id</th>\n",
       "      <th>date</th>\n",
       "      <th>name</th>\n",
       "      <th>quantity</th>\n",
       "      <th>sales</th>\n",
       "      <th>month</th>\n",
       "      <th>day</th>\n",
       "    </tr>\n",
       "  </thead>\n",
       "  <tbody>\n",
       "    <tr>\n",
       "      <th>0</th>\n",
       "      <td>2365385819</td>\n",
       "      <td>2024-01-17 15:22:16.000</td>\n",
       "      <td>[상담전용/위키약사] YDY 폴라초임계오메가3 1박스(1개월분)</td>\n",
       "      <td>2</td>\n",
       "      <td>53200</td>\n",
       "      <td>01</td>\n",
       "      <td>2024-01-17</td>\n",
       "    </tr>\n",
       "    <tr>\n",
       "      <th>1</th>\n",
       "      <td>2365317363</td>\n",
       "      <td>2024-01-17 14:04:26.000</td>\n",
       "      <td>[상담전용/위키약사] YDY 파이토 레드큐민 1박스(1개월분) /커큐민</td>\n",
       "      <td>1</td>\n",
       "      <td>48450</td>\n",
       "      <td>01</td>\n",
       "      <td>2024-01-17</td>\n",
       "    </tr>\n",
       "    <tr>\n",
       "      <th>3</th>\n",
       "      <td>2364669586</td>\n",
       "      <td>2024-01-16 20:28:56.000</td>\n",
       "      <td>[상담전용/위키약사] YDY 폴라초임계오메가3 1박스(1개월분)</td>\n",
       "      <td>1</td>\n",
       "      <td>26600</td>\n",
       "      <td>01</td>\n",
       "      <td>2024-01-16</td>\n",
       "    </tr>\n",
       "    <tr>\n",
       "      <th>4</th>\n",
       "      <td>2364647115</td>\n",
       "      <td>2024-01-16 20:03:24.000</td>\n",
       "      <td>[상담전용/위키약사] YDY 액티브비큐텐 1박스(1개월분)</td>\n",
       "      <td>1</td>\n",
       "      <td>33250</td>\n",
       "      <td>01</td>\n",
       "      <td>2024-01-16</td>\n",
       "    </tr>\n",
       "    <tr>\n",
       "      <th>5</th>\n",
       "      <td>2364635887</td>\n",
       "      <td>2024-01-16 19:50:40.000</td>\n",
       "      <td>[상담전용/친한약사] YDY 파이토 레드큐민 1박스(1개월분) /커큐민</td>\n",
       "      <td>1</td>\n",
       "      <td>48450</td>\n",
       "      <td>01</td>\n",
       "      <td>2024-01-16</td>\n",
       "    </tr>\n",
       "    <tr>\n",
       "      <th>...</th>\n",
       "      <td>...</td>\n",
       "      <td>...</td>\n",
       "      <td>...</td>\n",
       "      <td>...</td>\n",
       "      <td>...</td>\n",
       "      <td>...</td>\n",
       "      <td>...</td>\n",
       "    </tr>\n",
       "    <tr>\n",
       "      <th>54</th>\n",
       "      <td>50041-50055</td>\n",
       "      <td>2024-10-06 21:55:24.155</td>\n",
       "      <td>[스페셜할인코드/고상온약사] YDY 폴라초임계오메가3 1박스(1개월분)</td>\n",
       "      <td>1</td>\n",
       "      <td>26600</td>\n",
       "      <td>10</td>\n",
       "      <td>2024-10-06</td>\n",
       "    </tr>\n",
       "    <tr>\n",
       "      <th>55</th>\n",
       "      <td>50041-50056</td>\n",
       "      <td>2024-10-06 21:55:24.155</td>\n",
       "      <td>[스페셜할인코드/고상온약사] YDY 액티브비큐텐 1박스(1개월분)</td>\n",
       "      <td>1</td>\n",
       "      <td>33250</td>\n",
       "      <td>10</td>\n",
       "      <td>2024-10-06</td>\n",
       "    </tr>\n",
       "    <tr>\n",
       "      <th>56</th>\n",
       "      <td>50053-50075</td>\n",
       "      <td>2024-10-09 21:14:33.550</td>\n",
       "      <td>[스페셜할인코드/봄약사] YDY 프로바이오 에스엘비 1박스(2개월분)</td>\n",
       "      <td>1</td>\n",
       "      <td>42750</td>\n",
       "      <td>10</td>\n",
       "      <td>2024-10-09</td>\n",
       "    </tr>\n",
       "    <tr>\n",
       "      <th>58</th>\n",
       "      <td>50032-50043</td>\n",
       "      <td>2024-10-05 00:10:10.254</td>\n",
       "      <td>[스페셜할인코드/남기헌약사] YDY 풀스펙멀티비타민 1박스(1개월분)</td>\n",
       "      <td>1</td>\n",
       "      <td>21370</td>\n",
       "      <td>10</td>\n",
       "      <td>2024-10-05</td>\n",
       "    </tr>\n",
       "    <tr>\n",
       "      <th>59</th>\n",
       "      <td>50026-50034</td>\n",
       "      <td>2024-10-01 11:59:43.657</td>\n",
       "      <td>[스페셜할인코드/남기헌약사] YDY 내몸에 효소가득 1박스 (30일분)</td>\n",
       "      <td>1</td>\n",
       "      <td>28500</td>\n",
       "      <td>10</td>\n",
       "      <td>2024-10-01</td>\n",
       "    </tr>\n",
       "  </tbody>\n",
       "</table>\n",
       "<p>3404 rows × 7 columns</p>\n",
       "</div>"
      ],
      "text/plain": [
       "       order_id                    date  \\\n",
       "0    2365385819 2024-01-17 15:22:16.000   \n",
       "1    2365317363 2024-01-17 14:04:26.000   \n",
       "3    2364669586 2024-01-16 20:28:56.000   \n",
       "4    2364647115 2024-01-16 20:03:24.000   \n",
       "5    2364635887 2024-01-16 19:50:40.000   \n",
       "..          ...                     ...   \n",
       "54  50041-50055 2024-10-06 21:55:24.155   \n",
       "55  50041-50056 2024-10-06 21:55:24.155   \n",
       "56  50053-50075 2024-10-09 21:14:33.550   \n",
       "58  50032-50043 2024-10-05 00:10:10.254   \n",
       "59  50026-50034 2024-10-01 11:59:43.657   \n",
       "\n",
       "                                       name  quantity  sales month         day  \n",
       "0       [상담전용/위키약사] YDY 폴라초임계오메가3 1박스(1개월분)         2  53200    01  2024-01-17  \n",
       "1   [상담전용/위키약사] YDY 파이토 레드큐민 1박스(1개월분) /커큐민         1  48450    01  2024-01-17  \n",
       "3       [상담전용/위키약사] YDY 폴라초임계오메가3 1박스(1개월분)         1  26600    01  2024-01-16  \n",
       "4          [상담전용/위키약사] YDY 액티브비큐텐 1박스(1개월분)         1  33250    01  2024-01-16  \n",
       "5   [상담전용/친한약사] YDY 파이토 레드큐민 1박스(1개월분) /커큐민         1  48450    01  2024-01-16  \n",
       "..                                      ...       ...    ...   ...         ...  \n",
       "54  [스페셜할인코드/고상온약사] YDY 폴라초임계오메가3 1박스(1개월분)         1  26600    10  2024-10-06  \n",
       "55     [스페셜할인코드/고상온약사] YDY 액티브비큐텐 1박스(1개월분)         1  33250    10  2024-10-06  \n",
       "56   [스페셜할인코드/봄약사] YDY 프로바이오 에스엘비 1박스(2개월분)         1  42750    10  2024-10-09  \n",
       "58   [스페셜할인코드/남기헌약사] YDY 풀스펙멀티비타민 1박스(1개월분)         1  21370    10  2024-10-05  \n",
       "59  [스페셜할인코드/남기헌약사] YDY 내몸에 효소가득 1박스 (30일분)         1  28500    10  2024-10-01  \n",
       "\n",
       "[3404 rows x 7 columns]"
      ]
     },
     "execution_count": 114,
     "metadata": {},
     "output_type": "execute_result"
    }
   ],
   "source": [
    "import pandas as pd\n",
    "import numpy as np\n",
    "from datetime import datetime, timedelta\n",
    "\n",
    "# df1은 고칠필요 없음\n",
    "# df2 = 스타팜\n",
    "# df3 = 파마브로스\n",
    "# df4~ = 친한스토어\n",
    "\n",
    "df1 = pd.read_excel('/Users/seanyu_mac/Downloads/20241104162337.xlsx')\n",
    "df2 = pd.read_excel('/Users/seanyu_mac/Downloads/20241104162506.xlsx')\n",
    "df3 = pd.read_excel('/Users/seanyu_mac/Downloads/20241104162558.xlsx')\n",
    "df4 = pd.read_excel('/Users/seanyu_mac/Downloads/report.xlsx')\n",
    "df5 = pd.read_excel('/Users/seanyu_mac/Downloads/report (1).xlsx')\n",
    "\n",
    "# rate function\n",
    "def rate(before, after):\n",
    "    data = (after - before) / before * 100\n",
    "    data = np.round(data, 1)\n",
    "    return data\n",
    "    \n",
    "kakao_df = pd.concat([df1, df2, df3])\n",
    "cs_df = pd.concat([df4, df5])\n",
    "\n",
    "kakao_df.drop(kakao_df[kakao_df['취소완료일'].isna() == False].index, inplace=True)\n",
    "cs_df.drop(cs_df[(cs_df['주문 상태'] == '반품완료') | (cs_df['주문 상태'] == '취소완료') | (cs_df['주문 상태'] == '판매자취소')].index, inplace=True)\n",
    "\n",
    "kakao_df['date'] = kakao_df['발송요청일']\n",
    "kakao_df['order_id'] = kakao_df['주문번호']\n",
    "kakao_df['name'] = kakao_df['상품명']\n",
    "kakao_df['quantity'] = kakao_df['수량']\n",
    "kakao_df['sales'] = kakao_df['정산기준금액']\n",
    "\n",
    "cs_df['date'] = cs_df['결제 완료일']\n",
    "cs_df['order_id'] = cs_df['주문 번호']\n",
    "cs_df['name'] = cs_df['옵션명']\n",
    "cs_df['quantity'] = cs_df['수량']\n",
    "cs_df['sales'] = cs_df['정산가']\n",
    "\n",
    "kakao_df = kakao_df[['order_id', 'date', 'name', 'quantity', 'sales']]\n",
    "cs_df = cs_df[['order_id', 'date', 'name', 'quantity', 'sales']]\n",
    "df = pd.concat([kakao_df, cs_df])\n",
    "df['date'] = pd.to_datetime(df['date'])\n",
    "df['month'] = df['date'].dt.strftime('%m')\n",
    "df['day'] = df['date'].dt.strftime('%Y-%m-%d')\n",
    "df"
   ]
  },
  {
   "cell_type": "code",
   "execution_count": 102,
   "id": "e35c3cda-e575-4754-bbe5-d781f1b3c49e",
   "metadata": {},
   "outputs": [
    {
     "data": {
      "text/html": [
       "<div>\n",
       "<style scoped>\n",
       "    .dataframe tbody tr th:only-of-type {\n",
       "        vertical-align: middle;\n",
       "    }\n",
       "\n",
       "    .dataframe tbody tr th {\n",
       "        vertical-align: top;\n",
       "    }\n",
       "\n",
       "    .dataframe thead th {\n",
       "        text-align: right;\n",
       "    }\n",
       "</style>\n",
       "<table border=\"1\" class=\"dataframe\">\n",
       "  <thead>\n",
       "    <tr style=\"text-align: right;\">\n",
       "      <th></th>\n",
       "      <th>sales</th>\n",
       "    </tr>\n",
       "    <tr>\n",
       "      <th>month</th>\n",
       "      <th></th>\n",
       "    </tr>\n",
       "  </thead>\n",
       "  <tbody>\n",
       "    <tr>\n",
       "      <th>01</th>\n",
       "      <td>7006530</td>\n",
       "    </tr>\n",
       "    <tr>\n",
       "      <th>02</th>\n",
       "      <td>11598430</td>\n",
       "    </tr>\n",
       "    <tr>\n",
       "      <th>03</th>\n",
       "      <td>18082730</td>\n",
       "    </tr>\n",
       "    <tr>\n",
       "      <th>04</th>\n",
       "      <td>22880270</td>\n",
       "    </tr>\n",
       "    <tr>\n",
       "      <th>05</th>\n",
       "      <td>17024170</td>\n",
       "    </tr>\n",
       "    <tr>\n",
       "      <th>06</th>\n",
       "      <td>13690920</td>\n",
       "    </tr>\n",
       "    <tr>\n",
       "      <th>07</th>\n",
       "      <td>15546860</td>\n",
       "    </tr>\n",
       "    <tr>\n",
       "      <th>08</th>\n",
       "      <td>19558230</td>\n",
       "    </tr>\n",
       "    <tr>\n",
       "      <th>09</th>\n",
       "      <td>17133170</td>\n",
       "    </tr>\n",
       "    <tr>\n",
       "      <th>10</th>\n",
       "      <td>14507800</td>\n",
       "    </tr>\n",
       "    <tr>\n",
       "      <th>11</th>\n",
       "      <td>3002910</td>\n",
       "    </tr>\n",
       "  </tbody>\n",
       "</table>\n",
       "</div>"
      ],
      "text/plain": [
       "          sales\n",
       "month          \n",
       "01      7006530\n",
       "02     11598430\n",
       "03     18082730\n",
       "04     22880270\n",
       "05     17024170\n",
       "06     13690920\n",
       "07     15546860\n",
       "08     19558230\n",
       "09     17133170\n",
       "10     14507800\n",
       "11      3002910"
      ]
     },
     "execution_count": 102,
     "metadata": {},
     "output_type": "execute_result"
    }
   ],
   "source": [
    "monthly_sales_df = pd.DataFrame(df.groupby('month')['sales'].sum())\n",
    "monthly_sales_df"
   ]
  },
  {
   "cell_type": "code",
   "execution_count": 134,
   "id": "05bda96e-e5dd-4a21-ba34-3b0363752d4e",
   "metadata": {},
   "outputs": [
    {
     "data": {
      "text/plain": [
       "157029110"
      ]
     },
     "execution_count": 134,
     "metadata": {},
     "output_type": "execute_result"
    }
   ],
   "source": [
    "monthly_sales_df['sales'].sum() - 3002910"
   ]
  },
  {
   "cell_type": "code",
   "execution_count": 126,
   "id": "dee91d11-c602-42ba-91cf-f10f76e54f0c",
   "metadata": {},
   "outputs": [
    {
     "data": {
      "text/plain": [
       "535935.5290102389"
      ]
     },
     "execution_count": 126,
     "metadata": {},
     "output_type": "execute_result"
    }
   ],
   "source": [
    "# 2024년 9월 1일 이전까지 일별 매출\n",
    "con = df['date'] < datetime(2024, 11, 1)\n",
    "df.loc[con, 'sales'].sum() / len(df.loc[con, 'day'].unique())"
   ]
  },
  {
   "cell_type": "code",
   "execution_count": 128,
   "id": "81c35411-961c-4629-9fdd-6fecefaab67f",
   "metadata": {},
   "outputs": [
    {
     "data": {
      "text/plain": [
       "46944.42750373692"
      ]
     },
     "execution_count": 128,
     "metadata": {},
     "output_type": "execute_result"
    }
   ],
   "source": [
    "# 2024년 9월 1일 이전까지 arpu\n",
    "df.loc[con, 'sales'].sum() / len(df.loc[con, 'order_id'].unique())"
   ]
  },
  {
   "cell_type": "code",
   "execution_count": 130,
   "id": "6bb1cd2a-c517-4f1e-8497-5198c7196f41",
   "metadata": {},
   "outputs": [
    {
     "data": {
      "text/plain": [
       "-12.4"
      ]
     },
     "execution_count": 130,
     "metadata": {},
     "output_type": "execute_result"
    }
   ],
   "source": [
    "rate(19558230, 17133170)"
   ]
  },
  {
   "cell_type": "code",
   "execution_count": 148,
   "id": "5c1e5723-8af7-4cc8-80d7-6e526d38cad0",
   "metadata": {},
   "outputs": [
    {
     "name": "stderr",
     "output_type": "stream",
     "text": [
      "/opt/anaconda3/lib/python3.12/site-packages/openpyxl/styles/stylesheet.py:237: UserWarning: Workbook contains no default style, apply openpyxl's default\n",
      "  warn(\"Workbook contains no default style, apply openpyxl's default\")\n",
      "/opt/anaconda3/lib/python3.12/site-packages/openpyxl/styles/stylesheet.py:237: UserWarning: Workbook contains no default style, apply openpyxl's default\n",
      "  warn(\"Workbook contains no default style, apply openpyxl's default\")\n",
      "/opt/anaconda3/lib/python3.12/site-packages/openpyxl/styles/stylesheet.py:237: UserWarning: Workbook contains no default style, apply openpyxl's default\n",
      "  warn(\"Workbook contains no default style, apply openpyxl's default\")\n",
      "/opt/anaconda3/lib/python3.12/site-packages/openpyxl/styles/stylesheet.py:237: UserWarning: Workbook contains no default style, apply openpyxl's default\n",
      "  warn(\"Workbook contains no default style, apply openpyxl's default\")\n",
      "/opt/anaconda3/lib/python3.12/site-packages/openpyxl/styles/stylesheet.py:237: UserWarning: Workbook contains no default style, apply openpyxl's default\n",
      "  warn(\"Workbook contains no default style, apply openpyxl's default\")\n"
     ]
    },
    {
     "data": {
      "text/plain": [
       "Index(['결제 번호', '상품 번호', '주문 번호', '결제 완료일', '주문 상태', '상품명', '옵션명', '수량', '정상가',\n",
       "       '판매가', '쿠폰 할인', '포인트 할인', '적립금', '정산가', '수령인명', '수령인 연락처', '구매자명',\n",
       "       '구매자 ID', '구매자 연락처', '주소', '우편번호', '배송매모', '주문 확인일', '발주 요청일', '배송 완료일',\n",
       "       '구매 확정일', '배송택배사', '송장 번호', '배송비 정책', '배송비', '도서산간 배송비', '취소 완료일',\n",
       "       '판매자 취소일', '반품 요청일', '수거 요청일', '수거 완료일', '반품 완료일'],\n",
       "      dtype='object')"
      ]
     },
     "execution_count": 148,
     "metadata": {},
     "output_type": "execute_result"
    }
   ],
   "source": [
    "\n",
    "df1 = pd.read_excel('/Users/seanyu_mac/Downloads/20241104162337.xlsx')\n",
    "df2 = pd.read_excel('/Users/seanyu_mac/Downloads/20241104162506.xlsx')\n",
    "df3 = pd.read_excel('/Users/seanyu_mac/Downloads/20241104162558.xlsx')\n",
    "df4 = pd.read_excel('/Users/seanyu_mac/Downloads/report.xlsx')\n",
    "df5 = pd.read_excel('/Users/seanyu_mac/Downloads/report (1).xlsx')\n",
    "\n",
    "# rate function\n",
    "def rate(before, after):\n",
    "    data = (after - before) / before * 100\n",
    "    data = np.round(data, 1)\n",
    "    return data\n",
    "    \n",
    "kakao_df = pd.concat([df1, df2, df3])\n",
    "cs_df = pd.concat([df4, df5])\n",
    "\n",
    "cs_df.columns"
   ]
  },
  {
   "cell_type": "code",
   "execution_count": 154,
   "id": "bbf9dfa2-24ff-4d22-953c-4e2eeda0b2ac",
   "metadata": {},
   "outputs": [
    {
     "data": {
      "text/plain": [
       "array(['김용완', '류가인', '정사임', '유신홍', '유승우', '김가현', '김호윤', '황진환', '유지영',\n",
       "       '이지수', '한승연', '강유정', '최지현', '김인섭', '테스트', '김지수', '강미란', '김성호',\n",
       "       '강윤희', '이강미', '장수목', '소수진', '정희원', '이선홍', '황지율', '문혜진', '이성영',\n",
       "       '이소희', '이하영', '이민선', '김미진', '박은정', '조이진', '하지혜', '안지인', '김미숙',\n",
       "       '유영은', '박미주', '김건우', '고상원', '박성희', '이경희', '진영수', '이진선', '이윤란',\n",
       "       '진수지', '박주현', '형남길', '김판규', '김재윤', '이은영', '백소정', '김민정', '이경순',\n",
       "       '이현화', '박춘애', '오학자', '최보경', '신윤서', '강진혁', '박종찬', '이윤정', '김수진',\n",
       "       '정지은', '이세준', '한용운', '김도형', '황주영', '이금주', '김민기', '이인규', '장진선',\n",
       "       '박세란', '최인자', '김윤경', '서미림', '오헌준', '유휘수', '장혜옥', '이승욱', '전지원',\n",
       "       '신채민', '김채성', '김영진', '박영주', '이수진', '박미영', '김성옥', '정수경', '진영실',\n",
       "       '오영규', '내꺼', '석채현', '박종민', '이상민'], dtype=object)"
      ]
     },
     "execution_count": 154,
     "metadata": {},
     "output_type": "execute_result"
    }
   ],
   "source": [
    "cs_df['수령인명'].unique()"
   ]
  }
 ],
 "metadata": {
  "kernelspec": {
   "display_name": "Python 3 (ipykernel)",
   "language": "python",
   "name": "python3"
  },
  "language_info": {
   "codemirror_mode": {
    "name": "ipython",
    "version": 3
   },
   "file_extension": ".py",
   "mimetype": "text/x-python",
   "name": "python",
   "nbconvert_exporter": "python",
   "pygments_lexer": "ipython3",
   "version": "3.12.7"
  }
 },
 "nbformat": 4,
 "nbformat_minor": 5
}
