{
 "cells": [
  {
   "cell_type": "code",
   "execution_count": 4,
   "id": "6d40ee83-3b5a-4d35-919c-df366cb2c765",
   "metadata": {},
   "outputs": [],
   "source": [
    "import pandas as pd\n",
    "import numpy as np\n",
    "from datetime import datetime, timedelta\n",
    "import warnings\n",
    "import matplotlib.pyplot as plt\n",
    "warnings.simplefilter('ignore')"
   ]
  },
  {
   "cell_type": "code",
   "execution_count": 44,
   "id": "eb60e772-de69-4bc3-9a94-add396e4a897",
   "metadata": {},
   "outputs": [],
   "source": [
    "ob_df = pd.read_csv('/Users/seanyu_mac/Downloads/아워박스_통합관리_조회_초안 - 시트1 (5).csv')\n",
    "fs_df = pd.read_excel('/Users/seanyu_mac/Downloads/주문내역_2024-04-15~2025-04-15.xlsx')"
   ]
  },
  {
   "cell_type": "code",
   "execution_count": 46,
   "id": "aac0b0b0-7b57-460b-869d-d2cbde4fb251",
   "metadata": {},
   "outputs": [],
   "source": [
    "ob_df['주문번호'] = ob_df['주문번호'].apply(lambda x: x[:5])"
   ]
  },
  {
   "cell_type": "code",
   "execution_count": 48,
   "id": "f3de103a-2b65-4884-b6cb-46dba568e73b",
   "metadata": {},
   "outputs": [],
   "source": [
    "fs_df['주문 번호'] = fs_df['주문 번호'].apply(lambda x: x[:5])"
   ]
  },
  {
   "cell_type": "code",
   "execution_count": 50,
   "id": "6dd83183-1911-40b8-80f6-2834cc3ea2a7",
   "metadata": {},
   "outputs": [],
   "source": [
    "ob_df['주문일시'] = pd.to_datetime(ob_df['주문일시'])\n",
    "ob_df['주문일시'] = ob_df['주문일시'].apply(lambda x: x.strftime('%Y-%m-%d %H:%M:%S')) "
   ]
  },
  {
   "cell_type": "code",
   "execution_count": 52,
   "id": "5d868e19-943f-48db-bba7-1ee4ef20c3e1",
   "metadata": {},
   "outputs": [
    {
     "data": {
      "text/plain": [
       "['일반']"
      ]
     },
     "execution_count": 52,
     "metadata": {},
     "output_type": "execute_result"
    }
   ],
   "source": [
    "ob_df['도서산간여부'] = ob_df['도서산간여부'].str.replace(\"<span class='square square-gray'>\",\"\")\n",
    "ob_df['도서산간여부'] = ob_df['도서산간여부'].str.replace(\"</span>\",\"\")\n",
    "ob_df['도서산간여부'].unique().tolist()"
   ]
  },
  {
   "cell_type": "code",
   "execution_count": 54,
   "id": "1e0e60f7-5611-47ef-9df2-d84e25011b22",
   "metadata": {},
   "outputs": [
    {
     "data": {
      "text/plain": [
       "['정상', '반품']"
      ]
     },
     "execution_count": 54,
     "metadata": {},
     "output_type": "execute_result"
    }
   ],
   "source": [
    "ob_df['주문서상태'] = ob_df['주문서상태'].str.replace(\"<span class='square square-primary'>\",\"\")\n",
    "ob_df['주문서상태'] = ob_df['주문서상태'].str.replace(\"</span>\",\"\")\n",
    "ob_df['주문서상태'] = ob_df['주문서상태'].str.replace(\"<span class='square square-warning'>\",\"\")\n",
    "ob_df['주문서상태'].unique().tolist()"
   ]
  },
  {
   "cell_type": "code",
   "execution_count": 56,
   "id": "e465b28b-6448-451b-8324-0193c0815df0",
   "metadata": {},
   "outputs": [
    {
     "data": {
      "text/plain": [
       "['[YDY] 퓨어 리포좀 비타민C (8EA)',\n",
       " '[YDY] 퓨어 레드큐민 (3EA)',\n",
       " '[YDY] 파이토 레드큐민 (3EA)',\n",
       " '[파이토알엑스] 이뮨 빌베리 (8EA)',\n",
       " '[파이토알엑스] 이뮨 빌베리 (4EA)',\n",
       " '[YDY] 퓨어 리포좀 비타민C (2EA)',\n",
       " '[파이토알엑스] 이뮨 빌베리 (2EA)',\n",
       " '[YDY] 오큐클리어 (6EA)',\n",
       " '[YDY] 액티브비큐텐',\n",
       " '[YDY] 퓨어 리포좀 비타민C (4EA)',\n",
       " '[YDY] 퓨어 레드큐민 (12EA)',\n",
       " '[YDY] 썬 비타민D3 & K2_R1',\n",
       " '[YDY] 퓨어 리포좀 비타민C (12EA)',\n",
       " '[YDY] 퓨어 리포좀 글루타치온',\n",
       " '[파이토알엑스] 라이버 맥주효모 (4EA)',\n",
       " '[YDY] 오큐클리어 (12EA)',\n",
       " '[YDY] 파이토 레드큐민 (12EA)',\n",
       " '[파이토알엑스] 라이버 맥주효모 (8EA)',\n",
       " '[YDY] 퓨어 레드큐민 (6EA)',\n",
       " '[YDY] 오큐클리어 (3EA)',\n",
       " '[YDY] 포스트바이오틱스 GX',\n",
       " '[YDY] 프로바이오 에스엘비(SLB)',\n",
       " '[YDY] 마그듀오 K2_R1',\n",
       " '[파이토알엑스] 라이버 맥주효모 (12EA)',\n",
       " '[YDY] 폴라초임계오메가3',\n",
       " '[YDY] 오큐클리어 (2EA)',\n",
       " '[YDY] 퓨어 리포좀 비타민C',\n",
       " '[YDY] 풀스펙 멀티비타민',\n",
       " '[YDY] 파이토 레드큐민 (6EA)']"
      ]
     },
     "execution_count": 56,
     "metadata": {},
     "output_type": "execute_result"
    }
   ],
   "source": [
    "ob_df['품목명'] = ob_df['품목명'].apply(lambda x: x.split('</span> ')[1].split('</')[0].strip())\n",
    "ob_df['품목명'].unique().tolist()"
   ]
  },
  {
   "cell_type": "code",
   "execution_count": 58,
   "id": "fa0bb493-da4d-49ad-b3db-25ce75a9f4de",
   "metadata": {},
   "outputs": [],
   "source": [
    "fs_df['결제 완료일'] = fs_df['결제 완료일'].dt.strftime('%Y-%m-%d %H:%M:%S')"
   ]
  },
  {
   "cell_type": "code",
   "execution_count": 60,
   "id": "9b115a4f-a466-4fad-a87e-98bd4ad6169c",
   "metadata": {},
   "outputs": [],
   "source": [
    "temp_df = pd.merge(ob_df, fs_df[['결제 완료일', '옵션명', '상품명', '상품 번호']], left_on=['주문일시','채널상품명'], right_on=['결제 완료일','옵션명'], how='left')"
   ]
  },
  {
   "cell_type": "code",
   "execution_count": 62,
   "id": "7cacec15-1a3c-4deb-9506-5f874149ad22",
   "metadata": {},
   "outputs": [],
   "source": [
    "temp_df.columns.tolist()\n",
    "temp_df['채널상품명'] = temp_df['상품명']\n",
    "temp_df['옵션1'] = temp_df['옵션명']\n",
    "temp_df['채널아이디'] = temp_df['상품 번호']"
   ]
  },
  {
   "cell_type": "code",
   "execution_count": 64,
   "id": "be5b9f43-0b0a-4912-91e4-48be8b81d640",
   "metadata": {},
   "outputs": [],
   "source": [
    "temp_df[temp_df['채널상품명'].isna()]\n",
    "temp_df.loc[249, '채널상품명'] = '[공동구매] 베이지약사X 파이토알엑스 이뮨 빌베리 / 2박스 4박스 8박스'"
   ]
  },
  {
   "cell_type": "code",
   "execution_count": 66,
   "id": "4d23c561-14fa-49a5-a190-e8c4c048716e",
   "metadata": {},
   "outputs": [],
   "source": [
    "del temp_df['결제 완료일']\n",
    "del temp_df['옵션명']\n",
    "del temp_df['상품명']\n",
    "del temp_df['상품 번호']"
   ]
  },
  {
   "cell_type": "code",
   "execution_count": 68,
   "id": "e6fca609-b4fe-4fe7-8871-2d0da519d10d",
   "metadata": {},
   "outputs": [],
   "source": [
    "temp_df['구분'] = ''\n",
    "con1 = temp_df['채널상품명'].str.contains('임직')\n",
    "con2 = temp_df['채널상품명'].str.contains('공동구매')\n",
    "con3 = temp_df['채널상품명'].str.contains('스페셜')\n",
    "temp_df.loc[con1, '구분'] = '임직원몰 상품'\n",
    "temp_df.loc[con2, '구분'] = '공동구매'\n",
    "temp_df.loc[con3, '구분'] = '친한구매'"
   ]
  },
  {
   "cell_type": "code",
   "execution_count": 70,
   "id": "315f916b-d5ac-4594-aba3-8f71ed3a9b11",
   "metadata": {},
   "outputs": [
    {
     "data": {
      "text/plain": [
       "True"
      ]
     },
     "execution_count": 70,
     "metadata": {},
     "output_type": "execute_result"
    }
   ],
   "source": [
    "before = ob_df.index.size\n",
    "after = len(temp_df['채널상품명'])\n",
    "before == after"
   ]
  },
  {
   "cell_type": "code",
   "execution_count": 72,
   "id": "4e97d028-4a78-461b-b33d-8ebba2308164",
   "metadata": {},
   "outputs": [],
   "source": [
    "temp_df.to_excel(f'/Users/seanyu_mac/Downloads/아워박스_상품명_옵션명_업데이트_{datetime.now()}.xlsx')"
   ]
  }
 ],
 "metadata": {
  "kernelspec": {
   "display_name": "Python 3 (ipykernel)",
   "language": "python",
   "name": "python3"
  },
  "language_info": {
   "codemirror_mode": {
    "name": "ipython",
    "version": 3
   },
   "file_extension": ".py",
   "mimetype": "text/x-python",
   "name": "python",
   "nbconvert_exporter": "python",
   "pygments_lexer": "ipython3",
   "version": "3.12.7"
  }
 },
 "nbformat": 4,
 "nbformat_minor": 5
}
