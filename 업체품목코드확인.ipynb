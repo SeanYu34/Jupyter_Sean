{
 "cells": [
  {
   "cell_type": "code",
   "execution_count": 2,
   "id": "1f3e6dc8-6a86-4944-940f-20b8e8979637",
   "metadata": {},
   "outputs": [],
   "source": [
    "import pandas as pd\n",
    "import numpy as np\n",
    "from datetime import datetime, timedelta\n",
    "import warnings\n",
    "import matplotlib.pyplot as plt\n",
    "warnings.simplefilter('ignore')"
   ]
  },
  {
   "cell_type": "code",
   "execution_count": 96,
   "id": "1c6c06a5-51b9-48f5-bcc4-1073a6362c53",
   "metadata": {},
   "outputs": [],
   "source": [
    "df1 = pd.read_excel('/Users/seanyu_mac/Downloads/품목_현황-250321.xlsx')\n",
    "df2 = pd.read_excel('/Users/seanyu_mac/Downloads/세트_품목_현황-250321.xlsx')"
   ]
  },
  {
   "cell_type": "code",
   "execution_count": 98,
   "id": "1105be89-c3e2-4b32-b8ed-d808a94e73a4",
   "metadata": {},
   "outputs": [
    {
     "data": {
      "text/html": [
       "<div>\n",
       "<style scoped>\n",
       "    .dataframe tbody tr th:only-of-type {\n",
       "        vertical-align: middle;\n",
       "    }\n",
       "\n",
       "    .dataframe tbody tr th {\n",
       "        vertical-align: top;\n",
       "    }\n",
       "\n",
       "    .dataframe thead th {\n",
       "        text-align: right;\n",
       "    }\n",
       "</style>\n",
       "<table border=\"1\" class=\"dataframe\">\n",
       "  <thead>\n",
       "    <tr style=\"text-align: right;\">\n",
       "      <th></th>\n",
       "      <th>관리</th>\n",
       "      <th>입수량기준 출고</th>\n",
       "      <th>품목코드</th>\n",
       "      <th>구분</th>\n",
       "      <th>품목명</th>\n",
       "      <th>업체품목코드</th>\n",
       "      <th>입수량</th>\n",
       "      <th>품목추가정보</th>\n",
       "      <th>바코드</th>\n",
       "      <th>매입처</th>\n",
       "      <th>...</th>\n",
       "      <th>판매채널</th>\n",
       "      <th>매입단가</th>\n",
       "      <th>판매단가</th>\n",
       "      <th>보관온도</th>\n",
       "      <th>사용여부</th>\n",
       "      <th>너비</th>\n",
       "      <th>높이</th>\n",
       "      <th>깊이</th>\n",
       "      <th>무게</th>\n",
       "      <th>등록일</th>\n",
       "    </tr>\n",
       "  </thead>\n",
       "  <tbody>\n",
       "    <tr>\n",
       "      <th>25</th>\n",
       "      <td>NaN</td>\n",
       "      <td>미사용</td>\n",
       "      <td>201807000004</td>\n",
       "      <td>DN</td>\n",
       "      <td>[YDY] 썬 비타민D3 &amp; K2_R1</td>\n",
       "      <td>201067000008</td>\n",
       "      <td>1</td>\n",
       "      <td>NaN</td>\n",
       "      <td>NaN</td>\n",
       "      <td>NaN</td>\n",
       "      <td>...</td>\n",
       "      <td>NaN</td>\n",
       "      <td>0</td>\n",
       "      <td>0</td>\n",
       "      <td>상온</td>\n",
       "      <td>사용</td>\n",
       "      <td>62.0</td>\n",
       "      <td>52.0</td>\n",
       "      <td>101.0</td>\n",
       "      <td>NaN</td>\n",
       "      <td>2025-01-31 10:49:10</td>\n",
       "    </tr>\n",
       "  </tbody>\n",
       "</table>\n",
       "<p>1 rows × 21 columns</p>\n",
       "</div>"
      ],
      "text/plain": [
       "    관리 입수량기준 출고          품목코드  구분                    품목명        업체품목코드  입수량  \\\n",
       "25 NaN      미사용  201807000004  DN  [YDY] 썬 비타민D3 & K2_R1  201067000008    1   \n",
       "\n",
       "    품목추가정보  바코드  매입처  ... 판매채널  매입단가  판매단가  보관온도 사용여부    너비    높이     깊이  무게  \\\n",
       "25     NaN  NaN  NaN  ...  NaN     0     0    상온   사용  62.0  52.0  101.0 NaN   \n",
       "\n",
       "                    등록일  \n",
       "25  2025-01-31 10:49:10  \n",
       "\n",
       "[1 rows x 21 columns]"
      ]
     },
     "execution_count": 98,
     "metadata": {},
     "output_type": "execute_result"
    }
   ],
   "source": [
    "df1[df1['업체품목코드'] != df1['품목코드']]"
   ]
  },
  {
   "cell_type": "code",
   "execution_count": 100,
   "id": "14e76342-2db3-44e2-9a74-d10c41d3e1ed",
   "metadata": {},
   "outputs": [
    {
     "data": {
      "text/html": [
       "<div>\n",
       "<style scoped>\n",
       "    .dataframe tbody tr th:only-of-type {\n",
       "        vertical-align: middle;\n",
       "    }\n",
       "\n",
       "    .dataframe tbody tr th {\n",
       "        vertical-align: top;\n",
       "    }\n",
       "\n",
       "    .dataframe thead th {\n",
       "        text-align: right;\n",
       "    }\n",
       "</style>\n",
       "<table border=\"1\" class=\"dataframe\">\n",
       "  <thead>\n",
       "    <tr style=\"text-align: right;\">\n",
       "      <th></th>\n",
       "      <th>품목코드</th>\n",
       "      <th>구분</th>\n",
       "      <th>품목명</th>\n",
       "      <th>업체품목코드</th>\n",
       "      <th>품목추가정보</th>\n",
       "      <th>매입가</th>\n",
       "      <th>판매가</th>\n",
       "      <th>구성상품코드</th>\n",
       "      <th>구성상품 업체품목코드</th>\n",
       "      <th>구성상품명</th>\n",
       "      <th>...</th>\n",
       "      <th>보관온도</th>\n",
       "      <th>매입처</th>\n",
       "      <th>판매처</th>\n",
       "      <th>판매채널</th>\n",
       "      <th>사용여부</th>\n",
       "      <th>너비</th>\n",
       "      <th>높이</th>\n",
       "      <th>깊이</th>\n",
       "      <th>무게</th>\n",
       "      <th>등록일</th>\n",
       "    </tr>\n",
       "  </thead>\n",
       "  <tbody>\n",
       "  </tbody>\n",
       "</table>\n",
       "<p>0 rows × 22 columns</p>\n",
       "</div>"
      ],
      "text/plain": [
       "Empty DataFrame\n",
       "Columns: [품목코드, 구분, 품목명, 업체품목코드, 품목추가정보, 매입가, 판매가, 구성상품코드, 구성상품 업체품목코드, 구성상품명, 구성수량, 구성상품 가격, 보관온도, 매입처, 판매처, 판매채널, 사용여부, 너비, 높이, 깊이, 무게, 등록일]\n",
       "Index: []\n",
       "\n",
       "[0 rows x 22 columns]"
      ]
     },
     "execution_count": 100,
     "metadata": {},
     "output_type": "execute_result"
    }
   ],
   "source": [
    "df2[df2['업체품목코드'] != df2['품목코드']]"
   ]
  },
  {
   "cell_type": "code",
   "execution_count": 70,
   "id": "04783ea9-c42a-4fec-b1c1-4ea031702891",
   "metadata": {},
   "outputs": [
    {
     "name": "stdout",
     "output_type": "stream",
     "text": [
      "<class 'pandas.core.frame.DataFrame'>\n",
      "RangeIndex: 1261 entries, 0 to 1260\n",
      "Data columns (total 16 columns):\n",
      " #   Column                       Non-Null Count  Dtype  \n",
      "---  ------                       --------------  -----  \n",
      " 0   product_option_idx           1261 non-null   int64  \n",
      " 1   product_idx                  1261 non-null   int64  \n",
      " 2   fulfillment_item_code        1256 non-null   float64\n",
      " 3   option_name                  1257 non-null   object \n",
      " 4   sale_price                   1261 non-null   int64  \n",
      " 5   discount_rate                1261 non-null   int64  \n",
      " 6   discounted_price             1261 non-null   int64  \n",
      " 7   discount_influencer_rate     0 non-null      float64\n",
      " 8   discounted_influencer_price  0 non-null      float64\n",
      " 9   product_default_yn           1261 non-null   object \n",
      " 10  disp_order                   1261 non-null   int64  \n",
      " 11  stock_quantity               1261 non-null   int64  \n",
      " 12  created_at                   1261 non-null   object \n",
      " 13  updated_at                   1261 non-null   object \n",
      " 14  status_yn                    1261 non-null   object \n",
      " 15  box_count                    1252 non-null   float64\n",
      "dtypes: float64(4), int64(7), object(5)\n",
      "memory usage: 157.8+ KB\n"
     ]
    }
   ],
   "source": [
    "df = pd.read_csv('/Users/seanyu_mac/Downloads/store_t_product_option_export_2025-03-21_163642.csv')\n",
    "df.info()"
   ]
  },
  {
   "cell_type": "code",
   "execution_count": 94,
   "id": "e39b57b8-36b8-4c58-8780-78131a0c9709",
   "metadata": {},
   "outputs": [
    {
     "data": {
      "text/plain": [
       "201067000008.0"
      ]
     },
     "execution_count": 94,
     "metadata": {},
     "output_type": "execute_result"
    }
   ],
   "source": [
    "temp_df = df[df['option_name'].str.contains('썬', na=False)]\n",
    "temp_df['fulfillment_item_code'].unique()[0]"
   ]
  }
 ],
 "metadata": {
  "kernelspec": {
   "display_name": "Python 3 (ipykernel)",
   "language": "python",
   "name": "python3"
  },
  "language_info": {
   "codemirror_mode": {
    "name": "ipython",
    "version": 3
   },
   "file_extension": ".py",
   "mimetype": "text/x-python",
   "name": "python",
   "nbconvert_exporter": "python",
   "pygments_lexer": "ipython3",
   "version": "3.12.7"
  }
 },
 "nbformat": 4,
 "nbformat_minor": 5
}
