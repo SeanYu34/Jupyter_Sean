{
 "cells": [
  {
   "cell_type": "code",
   "execution_count": 56,
   "id": "152c6d19-807c-4608-8e1c-d80086f7afd8",
   "metadata": {},
   "outputs": [],
   "source": [
    "import pandas as pd\n",
    "import numpy as np\n",
    "from datetime import datetime, timedelta\n",
    "import warnings\n",
    "warnings.simplefilter('ignore')\n",
    "\n",
    "df = pd.read_csv('/Users/seanyu_mac/Downloads/[공구] 일정 신청 및 관리 시트 - 공구전체일정 (7).csv')\n",
    "fs_df = pd.read_excel('/Users/seanyu_mac/Downloads/주문내역_2024-03-24~2025-03-24.xlsx')\n",
    "\n",
    "auth_df = pd.read_csv('/Users/seanyu_mac/Downloads/query_3-2025-03-24_102819.csv')\n",
    "user_df = pd.read_csv('/Users/seanyu_mac/Downloads/query_1-2025-03-24_102731.csv')\n",
    "sales_df = pd.read_csv('/Users/seanyu_mac/Downloads/query_5-2025-03-24_102935.csv')\n",
    "t_user_df = pd.read_csv('/Users/seanyu_mac/Downloads/store_t_user_export_2025-03-24_104337.csv')\n",
    "\n",
    "gongu = [50557, 51174, 51176, 51177, 51178, 51181]"
   ]
  },
  {
   "cell_type": "code",
   "execution_count": 2,
   "id": "87d7def3-f201-4e66-abb6-e66968910f06",
   "metadata": {},
   "outputs": [
    {
     "data": {
      "text/html": [
       "<div>\n",
       "<style scoped>\n",
       "    .dataframe tbody tr th:only-of-type {\n",
       "        vertical-align: middle;\n",
       "    }\n",
       "\n",
       "    .dataframe tbody tr th {\n",
       "        vertical-align: top;\n",
       "    }\n",
       "\n",
       "    .dataframe thead th {\n",
       "        text-align: right;\n",
       "    }\n",
       "</style>\n",
       "<table border=\"1\" class=\"dataframe\">\n",
       "  <thead>\n",
       "    <tr style=\"text-align: right;\">\n",
       "      <th></th>\n",
       "      <th>결제 번호</th>\n",
       "      <th>상품 번호</th>\n",
       "      <th>주문 번호</th>\n",
       "      <th>결제 완료일</th>\n",
       "      <th>주문 상태</th>\n",
       "      <th>상품명</th>\n",
       "      <th>옵션명</th>\n",
       "      <th>수량</th>\n",
       "      <th>정상가</th>\n",
       "      <th>판매가</th>\n",
       "      <th>...</th>\n",
       "      <th>송장 번호</th>\n",
       "      <th>배송비 정책</th>\n",
       "      <th>배송비</th>\n",
       "      <th>도서산간 배송비</th>\n",
       "      <th>취소 완료일</th>\n",
       "      <th>판매자 취소일</th>\n",
       "      <th>반품 요청일</th>\n",
       "      <th>수거 요청일</th>\n",
       "      <th>수거 완료일</th>\n",
       "      <th>반품 완료일</th>\n",
       "    </tr>\n",
       "  </thead>\n",
       "  <tbody>\n",
       "    <tr>\n",
       "      <th>0</th>\n",
       "      <td>parma20250324092119qP7K4</td>\n",
       "      <td>51177</td>\n",
       "      <td>51597-51420</td>\n",
       "      <td>2025-03-24 09:21:54.461</td>\n",
       "      <td>결제완료</td>\n",
       "      <td>[공동구매] 명훈약사 X YDY 퓨어리포좀글루타치온 / 3박스 6박스 12박스</td>\n",
       "      <td>6박스 (총 6개월분)_45%할인</td>\n",
       "      <td>1</td>\n",
       "      <td>258000</td>\n",
       "      <td>142000</td>\n",
       "      <td>...</td>\n",
       "      <td>NaN</td>\n",
       "      <td>무료배송</td>\n",
       "      <td>0</td>\n",
       "      <td>0</td>\n",
       "      <td>NaT</td>\n",
       "      <td>NaT</td>\n",
       "      <td>NaT</td>\n",
       "      <td>NaT</td>\n",
       "      <td>NaT</td>\n",
       "      <td>NaT</td>\n",
       "    </tr>\n",
       "    <tr>\n",
       "      <th>1</th>\n",
       "      <td>parma20250324081431qz9s6</td>\n",
       "      <td>51177</td>\n",
       "      <td>51596-51419</td>\n",
       "      <td>2025-03-24 08:16:22.809</td>\n",
       "      <td>결제완료</td>\n",
       "      <td>[공동구매] 명훈약사 X YDY 퓨어리포좀글루타치온 / 3박스 6박스 12박스</td>\n",
       "      <td>3박스 (총 3개월분)_31%할인</td>\n",
       "      <td>1</td>\n",
       "      <td>129000</td>\n",
       "      <td>89000</td>\n",
       "      <td>...</td>\n",
       "      <td>NaN</td>\n",
       "      <td>무료배송</td>\n",
       "      <td>0</td>\n",
       "      <td>0</td>\n",
       "      <td>NaT</td>\n",
       "      <td>NaT</td>\n",
       "      <td>NaT</td>\n",
       "      <td>NaT</td>\n",
       "      <td>NaT</td>\n",
       "      <td>NaT</td>\n",
       "    </tr>\n",
       "    <tr>\n",
       "      <th>2</th>\n",
       "      <td>parma20250324013618qU866</td>\n",
       "      <td>51177</td>\n",
       "      <td>51595-51418</td>\n",
       "      <td>2025-03-24 01:36:51.741</td>\n",
       "      <td>결제완료</td>\n",
       "      <td>[공동구매] 명훈약사 X YDY 퓨어리포좀글루타치온 / 3박스 6박스 12박스</td>\n",
       "      <td>3박스 (총 3개월분)_31%할인</td>\n",
       "      <td>1</td>\n",
       "      <td>129000</td>\n",
       "      <td>89000</td>\n",
       "      <td>...</td>\n",
       "      <td>NaN</td>\n",
       "      <td>무료배송</td>\n",
       "      <td>0</td>\n",
       "      <td>0</td>\n",
       "      <td>NaT</td>\n",
       "      <td>NaT</td>\n",
       "      <td>NaT</td>\n",
       "      <td>NaT</td>\n",
       "      <td>NaT</td>\n",
       "      <td>NaT</td>\n",
       "    </tr>\n",
       "    <tr>\n",
       "      <th>3</th>\n",
       "      <td>parma20250324001530GO0v1</td>\n",
       "      <td>51178</td>\n",
       "      <td>51593-51417</td>\n",
       "      <td>2025-03-24 00:15:45.096</td>\n",
       "      <td>결제완료</td>\n",
       "      <td>[공동구매] 몸짱약사 X YDY 오큐클리어 / 2박스 6박스</td>\n",
       "      <td>오큐클리어 6박스(34%)</td>\n",
       "      <td>1</td>\n",
       "      <td>270000</td>\n",
       "      <td>177000</td>\n",
       "      <td>...</td>\n",
       "      <td>NaN</td>\n",
       "      <td>무료배송</td>\n",
       "      <td>0</td>\n",
       "      <td>0</td>\n",
       "      <td>NaT</td>\n",
       "      <td>NaT</td>\n",
       "      <td>NaT</td>\n",
       "      <td>NaT</td>\n",
       "      <td>NaT</td>\n",
       "      <td>NaT</td>\n",
       "    </tr>\n",
       "    <tr>\n",
       "      <th>4</th>\n",
       "      <td>parma20250323232756knL06</td>\n",
       "      <td>51177</td>\n",
       "      <td>51592-51416</td>\n",
       "      <td>2025-03-23 23:28:22.050</td>\n",
       "      <td>결제완료</td>\n",
       "      <td>[공동구매] 명훈약사 X YDY 퓨어리포좀글루타치온 / 3박스 6박스 12박스</td>\n",
       "      <td>3박스 (총 3개월분)_31%할인</td>\n",
       "      <td>1</td>\n",
       "      <td>129000</td>\n",
       "      <td>89000</td>\n",
       "      <td>...</td>\n",
       "      <td>NaN</td>\n",
       "      <td>무료배송</td>\n",
       "      <td>0</td>\n",
       "      <td>0</td>\n",
       "      <td>NaT</td>\n",
       "      <td>NaT</td>\n",
       "      <td>NaT</td>\n",
       "      <td>NaT</td>\n",
       "      <td>NaT</td>\n",
       "      <td>NaT</td>\n",
       "    </tr>\n",
       "    <tr>\n",
       "      <th>...</th>\n",
       "      <td>...</td>\n",
       "      <td>...</td>\n",
       "      <td>...</td>\n",
       "      <td>...</td>\n",
       "      <td>...</td>\n",
       "      <td>...</td>\n",
       "      <td>...</td>\n",
       "      <td>...</td>\n",
       "      <td>...</td>\n",
       "      <td>...</td>\n",
       "      <td>...</td>\n",
       "      <td>...</td>\n",
       "      <td>...</td>\n",
       "      <td>...</td>\n",
       "      <td>...</td>\n",
       "      <td>...</td>\n",
       "      <td>...</td>\n",
       "      <td>...</td>\n",
       "      <td>...</td>\n",
       "      <td>...</td>\n",
       "      <td>...</td>\n",
       "    </tr>\n",
       "    <tr>\n",
       "      <th>1076</th>\n",
       "      <td>parma20240928090515CkfQ2</td>\n",
       "      <td>50085</td>\n",
       "      <td>50016-50017</td>\n",
       "      <td>2024-09-28 09:05:13.391</td>\n",
       "      <td>구매확정</td>\n",
       "      <td>[스페셜할인코드/남기헌약사] YDY 프로바이오 에스엘비 1박스(2개월분)</td>\n",
       "      <td>[스페셜할인코드/남기헌약사] YDY 프로바이오 에스엘비 1박스(2개월분)</td>\n",
       "      <td>1</td>\n",
       "      <td>45000</td>\n",
       "      <td>42750</td>\n",
       "      <td>...</td>\n",
       "      <td>5.336987e+11</td>\n",
       "      <td>무료배송</td>\n",
       "      <td>0</td>\n",
       "      <td>0</td>\n",
       "      <td>NaT</td>\n",
       "      <td>NaT</td>\n",
       "      <td>NaT</td>\n",
       "      <td>NaT</td>\n",
       "      <td>NaT</td>\n",
       "      <td>NaT</td>\n",
       "    </tr>\n",
       "    <tr>\n",
       "      <th>1078</th>\n",
       "      <td>parma20240927134828DZU39</td>\n",
       "      <td>50006</td>\n",
       "      <td>50014-50015</td>\n",
       "      <td>2024-09-27 13:48:27.498</td>\n",
       "      <td>구매확정</td>\n",
       "      <td>[스페셜할인코드/친한] YDY 코랄칼마디 1박스(1개월분) / 칼슘 마그네슘 비타민D</td>\n",
       "      <td>[스페셜할인코드/친한] YDY 코랄칼마디 1박스(1개월분) / 칼슘 마그네슘 비타민D</td>\n",
       "      <td>1</td>\n",
       "      <td>25000</td>\n",
       "      <td>23750</td>\n",
       "      <td>...</td>\n",
       "      <td>5.336987e+11</td>\n",
       "      <td>무료배송</td>\n",
       "      <td>3000</td>\n",
       "      <td>0</td>\n",
       "      <td>NaT</td>\n",
       "      <td>NaT</td>\n",
       "      <td>NaT</td>\n",
       "      <td>NaT</td>\n",
       "      <td>NaT</td>\n",
       "      <td>NaT</td>\n",
       "    </tr>\n",
       "    <tr>\n",
       "      <th>1081</th>\n",
       "      <td>parma20240926130234OzMz1</td>\n",
       "      <td>50012</td>\n",
       "      <td>50012-50012</td>\n",
       "      <td>2024-09-26 13:02:33.557</td>\n",
       "      <td>구매확정</td>\n",
       "      <td>[스페셜할인코드/친한] YDY 파이토 레드큐민 1박스(1개월분) /커큐민</td>\n",
       "      <td>[스페셜할인코드/친한] YDY 파이토 레드큐민 1박스(1개월분) /커큐민</td>\n",
       "      <td>1</td>\n",
       "      <td>51000</td>\n",
       "      <td>48450</td>\n",
       "      <td>...</td>\n",
       "      <td>5.959922e+11</td>\n",
       "      <td>무료배송</td>\n",
       "      <td>0</td>\n",
       "      <td>0</td>\n",
       "      <td>NaT</td>\n",
       "      <td>NaT</td>\n",
       "      <td>NaT</td>\n",
       "      <td>NaT</td>\n",
       "      <td>NaT</td>\n",
       "      <td>NaT</td>\n",
       "    </tr>\n",
       "    <tr>\n",
       "      <th>1087</th>\n",
       "      <td>parma20240925133216CVxv5</td>\n",
       "      <td>50009</td>\n",
       "      <td>50005-50005</td>\n",
       "      <td>2024-09-25 13:32:16.307</td>\n",
       "      <td>구매확정</td>\n",
       "      <td>[스페셜할인코드/친한] YDY 풀스펙멀티비타민 1박스(1개월분)</td>\n",
       "      <td>[스페셜할인코드/친한] YDY 풀스펙멀티비타민 1박스(1개월분)</td>\n",
       "      <td>1</td>\n",
       "      <td>22500</td>\n",
       "      <td>21370</td>\n",
       "      <td>...</td>\n",
       "      <td>5.910963e+11</td>\n",
       "      <td>무료배송</td>\n",
       "      <td>3000</td>\n",
       "      <td>0</td>\n",
       "      <td>NaT</td>\n",
       "      <td>NaT</td>\n",
       "      <td>NaT</td>\n",
       "      <td>NaT</td>\n",
       "      <td>NaT</td>\n",
       "      <td>NaT</td>\n",
       "    </tr>\n",
       "    <tr>\n",
       "      <th>1089</th>\n",
       "      <td>parma20240920184127cDyU0</td>\n",
       "      <td>50000</td>\n",
       "      <td>50003-50003</td>\n",
       "      <td>2024-09-20 18:41:26.787</td>\n",
       "      <td>구매확정</td>\n",
       "      <td>[스페셜할인코드/친한] YDY 폴라초임계오메가3 1박스 (1개월분)</td>\n",
       "      <td>[스페셜할인코드/친한] YDY 폴라초임계오메가3 1박스 (1개월분)</td>\n",
       "      <td>1</td>\n",
       "      <td>28000</td>\n",
       "      <td>14000</td>\n",
       "      <td>...</td>\n",
       "      <td>5.959920e+11</td>\n",
       "      <td>무료배송</td>\n",
       "      <td>3000</td>\n",
       "      <td>0</td>\n",
       "      <td>NaT</td>\n",
       "      <td>NaT</td>\n",
       "      <td>NaT</td>\n",
       "      <td>NaT</td>\n",
       "      <td>NaT</td>\n",
       "      <td>NaT</td>\n",
       "    </tr>\n",
       "  </tbody>\n",
       "</table>\n",
       "<p>789 rows × 37 columns</p>\n",
       "</div>"
      ],
      "text/plain": [
       "                         결제 번호  상품 번호        주문 번호                  결제 완료일  \\\n",
       "0     parma20250324092119qP7K4  51177  51597-51420 2025-03-24 09:21:54.461   \n",
       "1     parma20250324081431qz9s6  51177  51596-51419 2025-03-24 08:16:22.809   \n",
       "2     parma20250324013618qU866  51177  51595-51418 2025-03-24 01:36:51.741   \n",
       "3     parma20250324001530GO0v1  51178  51593-51417 2025-03-24 00:15:45.096   \n",
       "4     parma20250323232756knL06  51177  51592-51416 2025-03-23 23:28:22.050   \n",
       "...                        ...    ...          ...                     ...   \n",
       "1076  parma20240928090515CkfQ2  50085  50016-50017 2024-09-28 09:05:13.391   \n",
       "1078  parma20240927134828DZU39  50006  50014-50015 2024-09-27 13:48:27.498   \n",
       "1081  parma20240926130234OzMz1  50012  50012-50012 2024-09-26 13:02:33.557   \n",
       "1087  parma20240925133216CVxv5  50009  50005-50005 2024-09-25 13:32:16.307   \n",
       "1089  parma20240920184127cDyU0  50000  50003-50003 2024-09-20 18:41:26.787   \n",
       "\n",
       "     주문 상태                                              상품명  \\\n",
       "0     결제완료      [공동구매] 명훈약사 X YDY 퓨어리포좀글루타치온 / 3박스 6박스 12박스   \n",
       "1     결제완료      [공동구매] 명훈약사 X YDY 퓨어리포좀글루타치온 / 3박스 6박스 12박스   \n",
       "2     결제완료      [공동구매] 명훈약사 X YDY 퓨어리포좀글루타치온 / 3박스 6박스 12박스   \n",
       "3     결제완료                [공동구매] 몸짱약사 X YDY 오큐클리어 / 2박스 6박스   \n",
       "4     결제완료      [공동구매] 명훈약사 X YDY 퓨어리포좀글루타치온 / 3박스 6박스 12박스   \n",
       "...    ...                                              ...   \n",
       "1076  구매확정         [스페셜할인코드/남기헌약사] YDY 프로바이오 에스엘비 1박스(2개월분)   \n",
       "1078  구매확정  [스페셜할인코드/친한] YDY 코랄칼마디 1박스(1개월분) / 칼슘 마그네슘 비타민D   \n",
       "1081  구매확정         [스페셜할인코드/친한] YDY 파이토 레드큐민 1박스(1개월분) /커큐민   \n",
       "1087  구매확정              [스페셜할인코드/친한] YDY 풀스펙멀티비타민 1박스(1개월분)   \n",
       "1089  구매확정            [스페셜할인코드/친한] YDY 폴라초임계오메가3 1박스 (1개월분)   \n",
       "\n",
       "                                                  옵션명  수량     정상가     판매가  \\\n",
       "0                                  6박스 (총 6개월분)_45%할인   1  258000  142000   \n",
       "1                                  3박스 (총 3개월분)_31%할인   1  129000   89000   \n",
       "2                                  3박스 (총 3개월분)_31%할인   1  129000   89000   \n",
       "3                                      오큐클리어 6박스(34%)   1  270000  177000   \n",
       "4                                  3박스 (총 3개월분)_31%할인   1  129000   89000   \n",
       "...                                               ...  ..     ...     ...   \n",
       "1076         [스페셜할인코드/남기헌약사] YDY 프로바이오 에스엘비 1박스(2개월분)   1   45000   42750   \n",
       "1078  [스페셜할인코드/친한] YDY 코랄칼마디 1박스(1개월분) / 칼슘 마그네슘 비타민D   1   25000   23750   \n",
       "1081         [스페셜할인코드/친한] YDY 파이토 레드큐민 1박스(1개월분) /커큐민   1   51000   48450   \n",
       "1087              [스페셜할인코드/친한] YDY 풀스펙멀티비타민 1박스(1개월분)   1   22500   21370   \n",
       "1089            [스페셜할인코드/친한] YDY 폴라초임계오메가3 1박스 (1개월분)   1   28000   14000   \n",
       "\n",
       "      ...         송장 번호  배송비 정책   배송비  도서산간 배송비 취소 완료일 판매자 취소일 반품 요청일 수거 요청일  \\\n",
       "0     ...           NaN    무료배송     0         0    NaT     NaT    NaT    NaT   \n",
       "1     ...           NaN    무료배송     0         0    NaT     NaT    NaT    NaT   \n",
       "2     ...           NaN    무료배송     0         0    NaT     NaT    NaT    NaT   \n",
       "3     ...           NaN    무료배송     0         0    NaT     NaT    NaT    NaT   \n",
       "4     ...           NaN    무료배송     0         0    NaT     NaT    NaT    NaT   \n",
       "...   ...           ...     ...   ...       ...    ...     ...    ...    ...   \n",
       "1076  ...  5.336987e+11    무료배송     0         0    NaT     NaT    NaT    NaT   \n",
       "1078  ...  5.336987e+11    무료배송  3000         0    NaT     NaT    NaT    NaT   \n",
       "1081  ...  5.959922e+11    무료배송     0         0    NaT     NaT    NaT    NaT   \n",
       "1087  ...  5.910963e+11    무료배송  3000         0    NaT     NaT    NaT    NaT   \n",
       "1089  ...  5.959920e+11    무료배송  3000         0    NaT     NaT    NaT    NaT   \n",
       "\n",
       "      수거 완료일 반품 완료일  \n",
       "0        NaT    NaT  \n",
       "1        NaT    NaT  \n",
       "2        NaT    NaT  \n",
       "3        NaT    NaT  \n",
       "4        NaT    NaT  \n",
       "...      ...    ...  \n",
       "1076     NaT    NaT  \n",
       "1078     NaT    NaT  \n",
       "1081     NaT    NaT  \n",
       "1087     NaT    NaT  \n",
       "1089     NaT    NaT  \n",
       "\n",
       "[789 rows x 37 columns]"
      ]
     },
     "execution_count": 2,
     "metadata": {},
     "output_type": "execute_result"
    }
   ],
   "source": [
    "status = ['배송중', '배송완료', '구매확정', '배송준비', '결제완료']\n",
    "\n",
    "fs_df = fs_df[fs_df['주문 상태'].isin(status)]\n",
    "fs_gongu_df = fs_df[fs_df['상품 번호'].isin(gongu)]\n",
    "\n",
    "fs_df"
   ]
  },
  {
   "cell_type": "code",
   "execution_count": 3,
   "id": "bf214401-3c13-4774-be0a-6a4ac31edb22",
   "metadata": {},
   "outputs": [
    {
     "data": {
      "text/plain": [
       "Timestamp('2025-03-24 11:32:08.795800064')"
      ]
     },
     "execution_count": 3,
     "metadata": {},
     "output_type": "execute_result"
    }
   ],
   "source": [
    "df.columns = df.loc[1]\n",
    "df = df.drop([0,1])\n",
    "con1 = df['진행상황-업체'] == '업체-일정확정'\n",
    "con2 = df['진행상황-업체'] == '업체-공구종료'\n",
    "df = df[con1 | con2]\n",
    "df = df.reset_index()\n",
    "df.loc[df['시작일'].str.len() <= 8, '시작일'] = '25/' + df['시작일']\n",
    "df = df[df['시작일'].isna() == False]\n",
    "\n",
    "dates = []\n",
    "\n",
    "for i in df['시작일']:\n",
    "    date = i.split('(')[0].strip()\n",
    "    year = '20' + date.split('/')[0].strip()\n",
    "    month = date.split('/')[1].strip()\n",
    "    day = date.split('/')[2].strip()\n",
    "    final = year + '-' + month + '-' + day\n",
    "    dates.append(final)\n",
    "\n",
    "df['date'] = dates\n",
    "df['date'] = pd.to_datetime(df['date'])\n",
    "df = df[df['date'] >= datetime(2025, 2, 17)]\n",
    "\n",
    "sales_df['time'] = pd.to_datetime(sales_df['reg_dt']) + timedelta(hours=9)\n",
    "sales_df['minute'] = sales_df['time'].dt.strftime('%H:%M:%S')\n",
    "sales_df['minute'] = pd.to_datetime(sales_df['minute'])\n",
    "sales_df['minute'].mean()"
   ]
  },
  {
   "cell_type": "code",
   "execution_count": 4,
   "id": "9be77c14-7b45-43ec-9b1c-b3ff06c2959b",
   "metadata": {},
   "outputs": [
    {
     "name": "stdout",
     "output_type": "stream",
     "text": [
      "2월 4주차 부터 매주 예정된 공구건은\n"
     ]
    },
    {
     "data": {
      "text/plain": [
       "date\n",
       "2025-02-23    31\n",
       "2025-03-02    31\n",
       "2025-03-09    35\n",
       "2025-03-16    27\n",
       "2025-03-23    34\n",
       "2025-03-30    34\n",
       "2025-04-06    41\n",
       "2025-04-13    30\n",
       "2025-04-20    34\n",
       "2025-04-27    25\n",
       "Freq: W-SUN, Name: 진행상황-업체, dtype: int64"
      ]
     },
     "execution_count": 4,
     "metadata": {},
     "output_type": "execute_result"
    }
   ],
   "source": [
    "print('2월 4주차 부터 매주 예정된 공구건은')\n",
    "df.groupby(pd.Grouper(key='date', freq='W'))['진행상황-업체'].count()[:10]"
   ]
  },
  {
   "cell_type": "code",
   "execution_count": 5,
   "id": "7a6e2ee8-c8af-4bf0-91b1-8fbda9b9e1c8",
   "metadata": {},
   "outputs": [
    {
     "name": "stdout",
     "output_type": "stream",
     "text": [
      "주간 친한스토어 주간 공구 진행 건수\n"
     ]
    },
    {
     "data": {
      "text/plain": [
       "date\n",
       "2025-02-23    1\n",
       "2025-03-02    0\n",
       "2025-03-09    0\n",
       "2025-03-16    0\n",
       "2025-03-23    5\n",
       "Freq: W-SUN, dtype: int64"
      ]
     },
     "execution_count": 5,
     "metadata": {},
     "output_type": "execute_result"
    }
   ],
   "source": [
    "print('주간 친한스토어 주간 공구 진행 건수')\n",
    "datas = {}\n",
    "\n",
    "for i in fs_gongu_df['상품명'].unique():\n",
    "    con = fs_gongu_df['상품명'] == i\n",
    "    value = fs_gongu_df.loc[con, '결제 완료일'].min()\n",
    "    key = i\n",
    "    datas[key] = value\n",
    "\n",
    "temp_df = pd.DataFrame.from_dict(datas, orient=\"index\", columns=['date'])\n",
    "temp_df.groupby(pd.Grouper(key='date', freq='W')).size()"
   ]
  },
  {
   "cell_type": "code",
   "execution_count": 6,
   "id": "7e630247-786a-4299-98dd-3e86585e108c",
   "metadata": {},
   "outputs": [
    {
     "name": "stdout",
     "output_type": "stream",
     "text": [
      "주간 파마브로스 전체 공구 매출\n"
     ]
    },
    {
     "data": {
      "text/plain": [
       "time\n",
       "2025-01-05     374943300\n",
       "2025-01-12    1559927300\n",
       "2025-01-19     979843550\n",
       "2025-01-26     660639700\n",
       "2025-02-02     214080000\n",
       "2025-02-09     388606700\n",
       "2025-02-16     504825200\n",
       "2025-02-23     367861300\n",
       "2025-03-02     117423300\n",
       "2025-03-09      57802650\n",
       "2025-03-16     177736900\n",
       "2025-03-23      99140100\n",
       "2025-03-30       3445100\n",
       "Freq: W-SUN, Name: order_price, dtype: int64"
      ]
     },
     "execution_count": 6,
     "metadata": {},
     "output_type": "execute_result"
    }
   ],
   "source": [
    "print('주간 파마브로스 전체 공구 매출')\n",
    "sales_df.groupby(pd.Grouper(key='time', freq='W'))['order_price'].sum()"
   ]
  },
  {
   "cell_type": "code",
   "execution_count": 8,
   "id": "247be1c8-b1cb-47ac-b439-29d1d4d62315",
   "metadata": {},
   "outputs": [
    {
     "name": "stdout",
     "output_type": "stream",
     "text": [
      "매주 친한스토어 공동구매 매출은\n"
     ]
    },
    {
     "data": {
      "text/plain": [
       "결제 완료일\n",
       "2025-02-23    11570400\n",
       "2025-03-02     4608000\n",
       "2025-03-09           0\n",
       "2025-03-16           0\n",
       "2025-03-23    62913300\n",
       "2025-03-30      497000\n",
       "Freq: W-SUN, Name: 정산가, dtype: int64"
      ]
     },
     "execution_count": 8,
     "metadata": {},
     "output_type": "execute_result"
    }
   ],
   "source": [
    "print('매주 친한스토어 공동구매 매출은')\n",
    "fs_gongu_df.groupby(pd.Grouper(key='결제 완료일', freq='W'))['정산가'].sum()"
   ]
  },
  {
   "cell_type": "code",
   "execution_count": 9,
   "id": "34f9b9ec-be4c-4824-a0e5-5d08a722e9dc",
   "metadata": {},
   "outputs": [
    {
     "name": "stdout",
     "output_type": "stream",
     "text": [
      "주간 파마브로스 전체 공구 건수\n"
     ]
    },
    {
     "data": {
      "text/plain": [
       "time\n",
       "2025-01-05     3398\n",
       "2025-01-12    13723\n",
       "2025-01-19     9169\n",
       "2025-01-26     5953\n",
       "2025-02-02     2248\n",
       "2025-02-09     2809\n",
       "2025-02-16     5262\n",
       "2025-02-23     3608\n",
       "2025-03-02     1294\n",
       "2025-03-09      525\n",
       "2025-03-16     1150\n",
       "2025-03-23      819\n",
       "2025-03-30       42\n",
       "Freq: W-SUN, Name: order_no, dtype: int64"
      ]
     },
     "execution_count": 9,
     "metadata": {},
     "output_type": "execute_result"
    }
   ],
   "source": [
    "print('주간 파마브로스 전체 공구 건수')\n",
    "sales_df.groupby(pd.Grouper(key='time', freq='W'))['order_no'].count()"
   ]
  },
  {
   "cell_type": "code",
   "execution_count": 10,
   "id": "528919eb-e55f-49b2-b16f-f5958c36cd91",
   "metadata": {},
   "outputs": [
    {
     "name": "stdout",
     "output_type": "stream",
     "text": [
      "매주 친한스토어 공구 매출 건수는\n"
     ]
    },
    {
     "data": {
      "text/plain": [
       "결제 완료일\n",
       "2025-02-23     71\n",
       "2025-03-02     28\n",
       "2025-03-09      0\n",
       "2025-03-16      0\n",
       "2025-03-23    489\n",
       "2025-03-30      4\n",
       "Freq: W-SUN, Name: 결제 번호, dtype: int64"
      ]
     },
     "execution_count": 10,
     "metadata": {},
     "output_type": "execute_result"
    }
   ],
   "source": [
    "print('매주 친한스토어 공구 매출 건수는')\n",
    "fs_gongu_df.groupby(pd.Grouper(key='결제 완료일', freq='W'))['결제 번호'].size()"
   ]
  },
  {
   "cell_type": "code",
   "execution_count": 7,
   "id": "1ff601a6-d45e-4283-8d98-20f171fde67f",
   "metadata": {},
   "outputs": [
    {
     "name": "stdout",
     "output_type": "stream",
     "text": [
      "매주 친한스토어 총 매출은\n"
     ]
    },
    {
     "data": {
      "text/plain": [
       "결제 완료일\n",
       "2024-09-22       14000\n",
       "2024-09-29      205660\n",
       "2024-10-06      763300\n",
       "2024-10-13      407070\n",
       "2024-10-20     1081060\n",
       "2024-10-27     1177000\n",
       "2024-11-03     1700250\n",
       "2024-11-10      183350\n",
       "2024-11-17       42750\n",
       "2024-11-24      213700\n",
       "2024-12-01       73400\n",
       "2024-12-08           0\n",
       "2024-12-15       42750\n",
       "2024-12-22      188300\n",
       "2024-12-29      105600\n",
       "2025-01-05       34900\n",
       "2025-01-12       17400\n",
       "2025-01-19           0\n",
       "2025-01-26      159600\n",
       "2025-02-02      117000\n",
       "2025-02-09       53500\n",
       "2025-02-16           0\n",
       "2025-02-23    11608900\n",
       "2025-03-02     4712200\n",
       "2025-03-09       57700\n",
       "2025-03-16         600\n",
       "2025-03-23    62969350\n",
       "2025-03-30      497000\n",
       "Freq: W-SUN, Name: 정산가, dtype: int64"
      ]
     },
     "execution_count": 7,
     "metadata": {},
     "output_type": "execute_result"
    }
   ],
   "source": [
    "print('매주 친한스토어 총 매출은')\n",
    "fs_df.groupby(pd.Grouper(key='결제 완료일', freq='W'))['정산가'].sum()"
   ]
  },
  {
   "cell_type": "code",
   "execution_count": 84,
   "id": "995d37a0-c23e-4795-a7c5-d6b702c5ea3d",
   "metadata": {},
   "outputs": [
    {
     "name": "stdout",
     "output_type": "stream",
     "text": [
      "매주 친한스토어 친약+친스 회원가입자 수는\n"
     ]
    },
    {
     "data": {
      "text/plain": [
       "reg_dt\n",
       "2025-02-09     407\n",
       "2025-02-16     343\n",
       "2025-02-23     625\n",
       "2025-03-02     569\n",
       "2025-03-09     621\n",
       "2025-03-16     473\n",
       "2025-03-23    1141\n",
       "2025-03-30       7\n",
       "Freq: W-SUN, dtype: int64"
      ]
     },
     "execution_count": 84,
     "metadata": {},
     "output_type": "execute_result"
    }
   ],
   "source": [
    "merged_df = user_df.merge(auth_df, left_on='id', right_on='user_id', how='inner')\n",
    "merged_df = user_df.merge(auth_df, left_on='id', right_on='user_id', how='inner')\n",
    "merged_df['reg_dt'] = pd.to_datetime(merged_df['reg_dt'], format='mixed')\n",
    "print('매주 친한스토어 친약+친스 회원가입자 수는')\n",
    "merged_df.groupby(pd.Grouper(key='reg_dt', freq='W')).size()[5:]"
   ]
  },
  {
   "cell_type": "code",
   "execution_count": 76,
   "id": "1cc5a30c-4526-4a6a-abf5-a01415c95980",
   "metadata": {},
   "outputs": [
    {
     "name": "stdout",
     "output_type": "stream",
     "text": [
      "친스 회원가입자 수는 (t_user 중에서 di 없는 유저만)\n"
     ]
    },
    {
     "data": {
      "text/plain": [
       "date\n",
       "2025-01-12      1\n",
       "2025-01-19      1\n",
       "2025-01-26      2\n",
       "2025-02-02      0\n",
       "2025-02-09     20\n",
       "2025-02-16     49\n",
       "2025-02-23    147\n",
       "2025-03-02     34\n",
       "2025-03-09     28\n",
       "2025-03-16      6\n",
       "2025-03-23    718\n",
       "2025-03-30      2\n",
       "Freq: W-SUN, dtype: int64"
      ]
     },
     "execution_count": 76,
     "metadata": {},
     "output_type": "execute_result"
    }
   ],
   "source": [
    "print('친스 회원가입자 수는 (t_user 중에서 di 없는 유저만)')\n",
    "t_user_df['date'] = t_user_df['created_at'].apply(lambda x: f'{x[:10]}')\n",
    "t_user_df['date'] = pd.to_datetime(t_user_df['date'])\n",
    "\n",
    "temp_df = t_user_df[t_user_df['date'] >= datetime(2025, 1, 1)]\n",
    "merge_df = pd.merge(temp_df, auth_df[['id', 'ci', 'di', 'user_id']], left_on='pbuser_id', right_on='user_id', how='left')\n",
    "merge_df = merge_df[merge_df['di'].isna()]\n",
    "merge_df.groupby(pd.Grouper(key='date', freq='W')).size()"
   ]
  },
  {
   "cell_type": "code",
   "execution_count": 82,
   "id": "00e2ab07-d93f-423c-ae0d-c5d0663008c4",
   "metadata": {},
   "outputs": [
    {
     "name": "stdout",
     "output_type": "stream",
     "text": [
      "친스 회원가입자 수는 (di 없는 유저만)\n"
     ]
    },
    {
     "data": {
      "text/plain": [
       "created_at\n",
       "2025-02-23    120\n",
       "2025-03-02     26\n",
       "2025-03-09      0\n",
       "2025-03-16      0\n",
       "2025-03-23    650\n",
       "2025-03-30      1\n",
       "Freq: W-SUN, dtype: int64"
      ]
     },
     "execution_count": 82,
     "metadata": {},
     "output_type": "execute_result"
    }
   ],
   "source": [
    "print('친스 회원가입자 수는 (di 없는 유저만)')\n",
    "auth_df_di = auth_df[auth_df['di'].isna()]\n",
    "auth_df_di['created_at'] = pd.to_datetime(auth_df_di['created_at'], format='mixed')\n",
    "auth_df_di.groupby(pd.Grouper(key='created_at', freq='W')).size()"
   ]
  }
 ],
 "metadata": {
  "kernelspec": {
   "display_name": "Python 3 (ipykernel)",
   "language": "python",
   "name": "python3"
  },
  "language_info": {
   "codemirror_mode": {
    "name": "ipython",
    "version": 3
   },
   "file_extension": ".py",
   "mimetype": "text/x-python",
   "name": "python",
   "nbconvert_exporter": "python",
   "pygments_lexer": "ipython3",
   "version": "3.12.7"
  }
 },
 "nbformat": 4,
 "nbformat_minor": 5
}
