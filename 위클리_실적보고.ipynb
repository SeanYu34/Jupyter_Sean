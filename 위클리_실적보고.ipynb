{
 "cells": [
  {
   "cell_type": "code",
   "execution_count": 1,
   "id": "152c6d19-807c-4608-8e1c-d80086f7afd8",
   "metadata": {},
   "outputs": [],
   "source": [
    "import pandas as pd\n",
    "import numpy as np\n",
    "from datetime import datetime, timedelta\n",
    "import warnings\n",
    "warnings.simplefilter('ignore')\n",
    "\n",
    "# 공구 일정 페이지 csv / 친스매출 최근 1년\n",
    "df = pd.read_csv('/Users/mac/Downloads/[공구] 일정 신청 및 관리 시트 - 공구전체일정 (2).csv')\n",
    "fs_df = pd.read_excel('/Users/mac/Downloads/주문내역_2024-06-02~2025-06-02.xlsx')\n",
    "\n",
    "# pb_user 테이블, auth_info 테이블, excel_group_buy_info 테이블 25년 1월~\n",
    "# t_user 테이블은 전체\n",
    "# excel_group_buy_info은 데이터가 커서 5만개 내로 쿼리 조정\n",
    "auth_df = pd.read_csv('/Users/mac/Downloads/query_1-2025-06-03_113935.csv')\n",
    "user_df = pd.read_csv('/Users/mac/Downloads/query_2-2025-06-03_114007.csv')\n",
    "sales_df = pd.read_csv('/Users/mac/Downloads/query_3-2025-06-03_114057.csv')\n",
    "t_user_df = pd.read_csv('/Users/mac/Downloads/store_t_user_export_2025-06-03_234130.csv')\n",
    "\n",
    "# 친스 판매중, 판매종료된 공구 상품번호 입력\n",
    "gongu = [51276,\n",
    "         51275,\n",
    "         51274,\n",
    "         51273,\n",
    "         51272,\n",
    "         51271,\n",
    "         51269,\n",
    "         51268,\n",
    "         51267,\n",
    "         51266,\n",
    "         51262,\n",
    "         51260,\n",
    "         51259,\n",
    "         51258,\n",
    "         51257,\n",
    "         51256,\n",
    "         51255,\n",
    "         51254,\n",
    "         51253,\n",
    "         51182,\n",
    "         51181,\n",
    "         51178,\n",
    "         51177,\n",
    "         51176,\n",
    "         51174,\n",
    "         50557]"
   ]
  },
  {
   "cell_type": "code",
   "execution_count": 2,
   "id": "87d7def3-f201-4e66-abb6-e66968910f06",
   "metadata": {},
   "outputs": [],
   "source": [
    "status = ['배송중', '배송완료', '구매확정', '배송준비', '결제완료']\n",
    "\n",
    "fs_df = fs_df[fs_df['주문 상태'].isin(status)]\n",
    "fs_gongu_df = fs_df[fs_df['상품 번호'].isin(gongu)]"
   ]
  },
  {
   "cell_type": "code",
   "execution_count": 3,
   "id": "90c458a7-95c7-456a-9fe4-8d31a12c53e5",
   "metadata": {},
   "outputs": [],
   "source": [
    "df.columns = df.loc[1]\n",
    "df = df.drop([0,1])\n",
    "con1 = df['진행상황-업체'] == '업체-일정확정'\n",
    "con2 = df['진행상황-업체'] == '업체-공구종료'\n",
    "df = df[con1 | con2]\n",
    "df = df.reset_index()\n",
    "df.loc[df['시작일'].str.len() <= 8, '시작일'] = '25/' + df['시작일']\n",
    "df = df[df['시작일'].isna() == False]"
   ]
  },
  {
   "cell_type": "code",
   "execution_count": 4,
   "id": "644800c4-eaa9-4cd4-a518-ef98ca9b765a",
   "metadata": {},
   "outputs": [],
   "source": [
    "df.drop(df[df['시작일'] == '약사님 일정 조율중'].index, inplace=True)"
   ]
  },
  {
   "cell_type": "code",
   "execution_count": 5,
   "id": "bf214401-3c13-4774-be0a-6a4ac31edb22",
   "metadata": {},
   "outputs": [
    {
     "data": {
      "text/plain": [
       "Timestamp('2025-06-03 11:21:00.910303488')"
      ]
     },
     "execution_count": 5,
     "metadata": {},
     "output_type": "execute_result"
    }
   ],
   "source": [
    "dates = []\n",
    "\n",
    "for i in df['시작일']:\n",
    "    date = i.split('(')[0].strip()\n",
    "    year = '20' + date.split('/')[0].strip()\n",
    "    month = date.split('/')[1].strip()\n",
    "    day = date.split('/')[2].strip()\n",
    "    final = year + '-' + month + '-' + day\n",
    "    dates.append(final)\n",
    "\n",
    "df['date'] = dates\n",
    "df['date'] = pd.to_datetime(df['date'])\n",
    "df = df[df['date'] >= datetime(2025, 2, 17)]\n",
    "\n",
    "sales_df['time'] = pd.to_datetime(sales_df['reg_dt']) + timedelta(hours=9)\n",
    "sales_df['minute'] = sales_df['time'].dt.strftime('%H:%M:%S')\n",
    "sales_df['minute'] = pd.to_datetime(sales_df['minute'])\n",
    "sales_df['minute'].mean()"
   ]
  },
  {
   "cell_type": "code",
   "execution_count": 6,
   "id": "9be77c14-7b45-43ec-9b1c-b3ff06c2959b",
   "metadata": {},
   "outputs": [
    {
     "name": "stdout",
     "output_type": "stream",
     "text": [
      "2월 4주차 부터 매주 예정된 공구건은\n"
     ]
    },
    {
     "data": {
      "text/plain": [
       "date\n",
       "2025-03-30    35\n",
       "2025-04-06    47\n",
       "2025-04-13    44\n",
       "2025-04-20    37\n",
       "2025-04-27    35\n",
       "2025-05-04    36\n",
       "2025-05-11    28\n",
       "2025-05-18    35\n",
       "2025-05-25    37\n",
       "2025-06-01    39\n",
       "2025-06-08    28\n",
       "2025-06-15    40\n",
       "2025-06-22    42\n",
       "2025-06-29    34\n",
       "2025-07-06    31\n",
       "Freq: W-SUN, Name: 진행상황-업체, dtype: int64"
      ]
     },
     "execution_count": 6,
     "metadata": {},
     "output_type": "execute_result"
    }
   ],
   "source": [
    "print('2월 4주차 부터 매주 예정된 공구건은')\n",
    "df.groupby(pd.Grouper(key='date', freq='W'))['진행상황-업체'].count()[5:20]"
   ]
  },
  {
   "cell_type": "code",
   "execution_count": 7,
   "id": "7a6e2ee8-c8af-4bf0-91b1-8fbda9b9e1c8",
   "metadata": {},
   "outputs": [
    {
     "name": "stdout",
     "output_type": "stream",
     "text": [
      "주간 친한스토어 주간 공구 진행 건수\n",
      "date\n",
      "2025-02-23    1\n",
      "2025-03-02    0\n",
      "2025-03-09    0\n",
      "2025-03-16    0\n",
      "2025-03-23    5\n",
      "2025-03-30    1\n",
      "2025-04-06    0\n",
      "2025-04-13    5\n",
      "2025-04-20    3\n",
      "2025-04-27    4\n",
      "2025-05-04    1\n",
      "2025-05-11    4\n",
      "Freq: W-SUN, dtype: int64\n"
     ]
    }
   ],
   "source": [
    "print('주간 친한스토어 주간 공구 진행 건수')\n",
    "datas = {}\n",
    "\n",
    "for i in fs_gongu_df['상품명'].unique():\n",
    "    con = fs_gongu_df['상품명'] == i\n",
    "    value = fs_gongu_df.loc[con, '결제 완료일'].min()\n",
    "    key = i\n",
    "    datas[key] = value\n",
    "\n",
    "temp_df = pd.DataFrame.from_dict(datas, orient=\"index\", columns=['date'])\n",
    "print(temp_df.groupby(pd.Grouper(key='date', freq='W')).size())"
   ]
  },
  {
   "cell_type": "code",
   "execution_count": 8,
   "id": "7e630247-786a-4299-98dd-3e86585e108c",
   "metadata": {},
   "outputs": [
    {
     "name": "stdout",
     "output_type": "stream",
     "text": [
      "주간 파마브로스 전체 공구 매출\n"
     ]
    },
    {
     "data": {
      "text/plain": [
       "time\n",
       "2025-05-11     909602100\n",
       "2025-05-18    1216797800\n",
       "2025-05-25    1349455360\n",
       "2025-06-01    1539659020\n",
       "2025-06-08     437846500\n",
       "Freq: W-SUN, Name: order_price, dtype: int64"
      ]
     },
     "execution_count": 8,
     "metadata": {},
     "output_type": "execute_result"
    }
   ],
   "source": [
    "print('주간 파마브로스 전체 공구 매출')\n",
    "sales_df.groupby(pd.Grouper(key='time', freq='W'))['order_price'].sum()"
   ]
  },
  {
   "cell_type": "code",
   "execution_count": 9,
   "id": "247be1c8-b1cb-47ac-b439-29d1d4d62315",
   "metadata": {},
   "outputs": [
    {
     "name": "stdout",
     "output_type": "stream",
     "text": [
      "매주 친한스토어 공동구매 매출은\n"
     ]
    },
    {
     "data": {
      "text/plain": [
       "결제 완료일\n",
       "2025-02-23    11570400\n",
       "2025-03-02     4608000\n",
       "2025-03-09           0\n",
       "2025-03-16           0\n",
       "2025-03-23    62824300\n",
       "2025-03-30    33188200\n",
       "2025-04-06     3813100\n",
       "2025-04-13    53078300\n",
       "2025-04-20    56088350\n",
       "2025-04-27    64174750\n",
       "2025-05-04    11777100\n",
       "2025-05-11    44815000\n",
       "2025-05-18    23645250\n",
       "Freq: W-SUN, Name: 정산가, dtype: int64"
      ]
     },
     "execution_count": 9,
     "metadata": {},
     "output_type": "execute_result"
    }
   ],
   "source": [
    "print('매주 친한스토어 공동구매 매출은')\n",
    "fs_gongu_df.groupby(pd.Grouper(key='결제 완료일', freq='W'))['정산가'].sum()"
   ]
  },
  {
   "cell_type": "code",
   "execution_count": 10,
   "id": "34f9b9ec-be4c-4824-a0e5-5d08a722e9dc",
   "metadata": {},
   "outputs": [
    {
     "name": "stdout",
     "output_type": "stream",
     "text": [
      "주간 파마브로스 전체 공구 건수\n"
     ]
    },
    {
     "data": {
      "text/plain": [
       "time\n",
       "2025-05-11     8493\n",
       "2025-05-18    11720\n",
       "2025-05-25    11450\n",
       "2025-06-01    13519\n",
       "2025-06-08     3995\n",
       "Freq: W-SUN, Name: order_no, dtype: int64"
      ]
     },
     "execution_count": 10,
     "metadata": {},
     "output_type": "execute_result"
    }
   ],
   "source": [
    "print('주간 파마브로스 전체 공구 건수')\n",
    "sales_df.groupby(pd.Grouper(key='time', freq='W'))['order_no'].count()"
   ]
  },
  {
   "cell_type": "code",
   "execution_count": 11,
   "id": "528919eb-e55f-49b2-b16f-f5958c36cd91",
   "metadata": {},
   "outputs": [
    {
     "name": "stdout",
     "output_type": "stream",
     "text": [
      "매주 친한스토어 공구 매출 건수는\n"
     ]
    },
    {
     "data": {
      "text/plain": [
       "결제 완료일\n",
       "2025-02-23     71\n",
       "2025-03-02     28\n",
       "2025-03-09      0\n",
       "2025-03-16      0\n",
       "2025-03-23    488\n",
       "2025-03-30    271\n",
       "2025-04-06     35\n",
       "2025-04-13    405\n",
       "2025-04-20    467\n",
       "2025-04-27    441\n",
       "2025-05-04     87\n",
       "2025-05-11    308\n",
       "2025-05-18    151\n",
       "Freq: W-SUN, Name: 결제 번호, dtype: int64"
      ]
     },
     "execution_count": 11,
     "metadata": {},
     "output_type": "execute_result"
    }
   ],
   "source": [
    "print('매주 친한스토어 공구 매출 건수는')\n",
    "fs_gongu_df.groupby(pd.Grouper(key='결제 완료일', freq='W'))['결제 번호'].size()"
   ]
  },
  {
   "cell_type": "code",
   "execution_count": 12,
   "id": "1ff601a6-d45e-4283-8d98-20f171fde67f",
   "metadata": {},
   "outputs": [
    {
     "name": "stdout",
     "output_type": "stream",
     "text": [
      "매주 친한스토어 일반 매출은\n"
     ]
    },
    {
     "data": {
      "text/plain": [
       "결제 완료일\n",
       "2024-09-22       14000\n",
       "2024-09-29      205660\n",
       "2024-10-06      763300\n",
       "2024-10-13      407070\n",
       "2024-10-20     1081060\n",
       "2024-10-27     1177000\n",
       "2024-11-03     1700250\n",
       "2024-11-10      183350\n",
       "2024-11-17       42750\n",
       "2024-11-24      213700\n",
       "2024-12-01       73400\n",
       "2024-12-08           0\n",
       "2024-12-15       42750\n",
       "2024-12-22      188300\n",
       "2024-12-29      105600\n",
       "2025-01-05       34900\n",
       "2025-01-12       17400\n",
       "2025-01-19           0\n",
       "2025-01-26      159600\n",
       "2025-02-02      117000\n",
       "2025-02-09       53500\n",
       "2025-02-16           0\n",
       "2025-02-23    11608900\n",
       "2025-03-02     4712200\n",
       "2025-03-09       57700\n",
       "2025-03-16         600\n",
       "2025-03-23    62880350\n",
       "2025-03-30    34114080\n",
       "2025-04-06     5376760\n",
       "2025-04-13    55443600\n",
       "2025-04-20    58516690\n",
       "2025-04-27    66326380\n",
       "2025-05-04    13491620\n",
       "2025-05-11    46545730\n",
       "2025-05-18    26080590\n",
       "2025-05-25     1385570\n",
       "2025-06-01     2133390\n",
       "2025-06-08     3574050\n",
       "Freq: W-SUN, Name: 정산가, dtype: int64"
      ]
     },
     "execution_count": 12,
     "metadata": {},
     "output_type": "execute_result"
    }
   ],
   "source": [
    "print('매주 친한스토어 일반 매출은')\n",
    "fs_df.groupby(pd.Grouper(key='결제 완료일', freq='W'))['정산가'].sum()"
   ]
  },
  {
   "cell_type": "code",
   "execution_count": 13,
   "id": "38bd8b42-b193-4872-b801-31a730c29b83",
   "metadata": {},
   "outputs": [
    {
     "name": "stdout",
     "output_type": "stream",
     "text": [
      "매주 친한스토어 친약+친스 회원가입자 수는\n"
     ]
    },
    {
     "data": {
      "text/plain": [
       "reg_dt\n",
       "2025-02-09     397\n",
       "2025-02-16     337\n",
       "2025-02-23     612\n",
       "2025-03-02     557\n",
       "2025-03-09     614\n",
       "2025-03-16     471\n",
       "2025-03-23    1133\n",
       "2025-03-30     809\n",
       "2025-04-06     472\n",
       "2025-04-13    1040\n",
       "2025-04-20    1068\n",
       "2025-04-27    1014\n",
       "2025-05-04     536\n",
       "2025-05-11     868\n",
       "2025-05-18     637\n",
       "2025-05-25     416\n",
       "2025-06-01     368\n",
       "2025-06-08     267\n",
       "Freq: W-SUN, dtype: int64"
      ]
     },
     "execution_count": 13,
     "metadata": {},
     "output_type": "execute_result"
    }
   ],
   "source": [
    "## merged_df = user_df.merge(auth_df, left_on='id', right_on='user_id', how='inner')\n",
    "merged_df = user_df.merge(auth_df, left_on='id', right_on='user_id', how='inner')\n",
    "merged_df['reg_dt'] = pd.to_datetime(merged_df['reg_dt'], format='mixed')\n",
    "print('매주 친한스토어 친약+친스 회원가입자 수는')\n",
    "merged_df.groupby(pd.Grouper(key='reg_dt', freq='W')).size()[5:]"
   ]
  },
  {
   "cell_type": "code",
   "execution_count": 14,
   "id": "1cc5a30c-4526-4a6a-abf5-a01415c95980",
   "metadata": {},
   "outputs": [
    {
     "name": "stdout",
     "output_type": "stream",
     "text": [
      "친스 회원가입자 수는 (t_user 중에서 di 없는 유저만)\n"
     ]
    },
    {
     "data": {
      "text/plain": [
       "date\n",
       "2025-01-12      1\n",
       "2025-01-19      1\n",
       "2025-01-26      2\n",
       "2025-02-02      0\n",
       "2025-02-09     20\n",
       "2025-02-16     50\n",
       "2025-02-23    132\n",
       "2025-03-02     32\n",
       "2025-03-09     30\n",
       "2025-03-16      8\n",
       "2025-03-23    702\n",
       "2025-03-30    430\n",
       "2025-04-06     60\n",
       "2025-04-13    573\n",
       "2025-04-20    642\n",
       "2025-04-27    579\n",
       "2025-05-04    152\n",
       "2025-05-11    367\n",
       "2025-05-18    182\n",
       "2025-05-25     21\n",
       "2025-06-01     27\n",
       "2025-06-08    201\n",
       "Freq: W-SUN, dtype: int64"
      ]
     },
     "execution_count": 14,
     "metadata": {},
     "output_type": "execute_result"
    }
   ],
   "source": [
    "print('친스 회원가입자 수는 (t_user 중에서 di 없는 유저만)')\n",
    "t_user_df['date'] = t_user_df['created_at'].apply(lambda x: f'{x[:10]}')\n",
    "t_user_df['date'] = pd.to_datetime(t_user_df['date'])\n",
    "\n",
    "temp_df = t_user_df[t_user_df['date'] >= datetime(2025, 1, 1)]\n",
    "merge_df = pd.merge(temp_df, auth_df[['id', 'ci', 'di', 'user_id']], left_on='pbuser_id', right_on='user_id', how='left')\n",
    "merge_df = merge_df[merge_df['di'].isna()]\n",
    "merge_df.groupby(pd.Grouper(key='date', freq='W')).size()"
   ]
  },
  {
   "cell_type": "code",
   "execution_count": 15,
   "id": "00e2ab07-d93f-423c-ae0d-c5d0663008c4",
   "metadata": {},
   "outputs": [
    {
     "name": "stdout",
     "output_type": "stream",
     "text": [
      "친스 회원가입자 수는 (di 없는 유저만)\n"
     ]
    },
    {
     "data": {
      "text/plain": [
       "created_at\n",
       "2025-02-23    105\n",
       "2025-03-02     23\n",
       "2025-03-09      0\n",
       "2025-03-16      0\n",
       "2025-03-23    632\n",
       "2025-03-30    369\n",
       "2025-04-06     46\n",
       "2025-04-13    517\n",
       "2025-04-20    592\n",
       "2025-04-27    539\n",
       "2025-05-04    141\n",
       "2025-05-11    340\n",
       "2025-05-18    156\n",
       "2025-05-25     24\n",
       "2025-06-01     24\n",
       "2025-06-08    188\n",
       "Freq: W-SUN, dtype: int64"
      ]
     },
     "execution_count": 15,
     "metadata": {},
     "output_type": "execute_result"
    }
   ],
   "source": [
    "print('친스 회원가입자 수는 (di 없는 유저만)')\n",
    "auth_df_di = auth_df[auth_df['di'].isna()]\n",
    "auth_df_di['created_at'] = pd.to_datetime(auth_df_di['created_at'], format='mixed')\n",
    "auth_df_di.groupby(pd.Grouper(key='created_at', freq='W')).size()"
   ]
  }
 ],
 "metadata": {
  "kernelspec": {
   "display_name": "Python [conda env:base] *",
   "language": "python",
   "name": "conda-base-py"
  },
  "language_info": {
   "codemirror_mode": {
    "name": "ipython",
    "version": 3
   },
   "file_extension": ".py",
   "mimetype": "text/x-python",
   "name": "python",
   "nbconvert_exporter": "python",
   "pygments_lexer": "ipython3",
   "version": "3.12.7"
  }
 },
 "nbformat": 4,
 "nbformat_minor": 5
}
