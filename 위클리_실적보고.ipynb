{
 "cells": [
  {
   "cell_type": "code",
   "execution_count": 472,
   "id": "152c6d19-807c-4608-8e1c-d80086f7afd8",
   "metadata": {},
   "outputs": [
    {
     "data": {
      "text/plain": [
       "Timestamp('2025-03-12 11:35:06.004580096')"
      ]
     },
     "execution_count": 472,
     "metadata": {},
     "output_type": "execute_result"
    }
   ],
   "source": [
    "import pandas as pd\n",
    "import numpy as np\n",
    "from datetime import datetime, timedelta\n",
    "import warnings\n",
    "warnings.simplefilter('ignore')\n",
    "\n",
    "df = pd.read_csv('/Users/seanyu_mac/Downloads/[공구] 일정 신청 및 관리 시트 - 공구전체일정 (4).csv')\n",
    "fs_df = pd.read_excel('/Users/seanyu_mac/Downloads/주문내역_2024-03-12~2025-03-12.xlsx')\n",
    "auth_df = pd.read_csv('/Users/seanyu_mac/Downloads/public_pb_user_auth_info_export_2025-03-12_103625.csv')\n",
    "user_df = pd.read_csv('/Users/seanyu_mac/Downloads/public_pb_user_export_2025-03-12_103644.csv')\n",
    "sales_df = pd.read_csv('/Users/seanyu_mac/Downloads/query_2-2025-03-12_103837.csv')\n",
    "\n",
    "df.columns = df.loc[1]\n",
    "df = df.drop([0,1])\n",
    "con1 = df['진행상황-업체'] == '업체-일정확정'\n",
    "con2 = df['진행상황-업체'] == '업체-공구종료'\n",
    "df = df[con1 | con2]\n",
    "df = df.reset_index()\n",
    "df.loc[df['시작일'].str.len() <= 8, '시작일'] = '25/' + df['시작일']\n",
    "\n",
    "dates = []\n",
    "\n",
    "for i in df['시작일']:\n",
    "    date = i.split('(')[0].strip()\n",
    "    year = '20' + date.split('/')[0].strip()\n",
    "    month = date.split('/')[1].strip()\n",
    "    day = date.split('/')[2].strip()\n",
    "    final = year + '-' + month + '-' + day\n",
    "    dates.append(final)\n",
    "\n",
    "df['date'] = dates\n",
    "df['date'] = pd.to_datetime(df['date'])\n",
    "df = df[df['date'] >= datetime(2025, 2, 17)]\n",
    "\n",
    "sales_df['time'] = pd.to_datetime(sales_df['reg_dt']) + timedelta(hours=9)\n",
    "sales_df['minute'] = sales_df['time'].dt.strftime('%H:%M:%S')\n",
    "sales_df['minute'] = pd.to_datetime(sales_df['minute'])\n",
    "sales_df['minute'].mean()"
   ]
  },
  {
   "cell_type": "code",
   "execution_count": 474,
   "id": "9be77c14-7b45-43ec-9b1c-b3ff06c2959b",
   "metadata": {},
   "outputs": [
    {
     "name": "stdout",
     "output_type": "stream",
     "text": [
      "2월 4주차 부터 매주 예정된 공구건은\n"
     ]
    },
    {
     "data": {
      "text/plain": [
       "date\n",
       "2025-02-23    31\n",
       "2025-03-02    31\n",
       "2025-03-09    35\n",
       "2025-03-16    26\n",
       "2025-03-23    36\n",
       "2025-03-30    34\n",
       "2025-04-06    41\n",
       "2025-04-13    29\n",
       "2025-04-20    32\n",
       "2025-04-27    21\n",
       "Freq: W-SUN, Name: 진행상황-업체, dtype: int64"
      ]
     },
     "execution_count": 474,
     "metadata": {},
     "output_type": "execute_result"
    }
   ],
   "source": [
    "print('2월 4주차 부터 매주 예정된 공구건은')\n",
    "df.groupby(pd.Grouper(key='date', freq='W'))['진행상황-업체'].count()[:10]"
   ]
  },
  {
   "cell_type": "code",
   "execution_count": 476,
   "id": "7e630247-786a-4299-98dd-3e86585e108c",
   "metadata": {},
   "outputs": [
    {
     "name": "stdout",
     "output_type": "stream",
     "text": [
      "주간 파마브로스 전체 공구 매출\n"
     ]
    },
    {
     "data": {
      "text/plain": [
       "time\n",
       "2025-01-05     374943300\n",
       "2025-01-12    1559927300\n",
       "2025-01-19     981915550\n",
       "2025-01-26     693340500\n",
       "2025-02-02     309597100\n",
       "2025-02-09     484714500\n",
       "2025-02-16     524649200\n",
       "2025-02-23     369626300\n",
       "2025-03-02     123291500\n",
       "2025-03-09      54438250\n",
       "2025-03-16       3663000\n",
       "Freq: W-SUN, Name: order_price, dtype: int64"
      ]
     },
     "execution_count": 476,
     "metadata": {},
     "output_type": "execute_result"
    }
   ],
   "source": [
    "print('주간 파마브로스 전체 공구 매출')\n",
    "sales_df.groupby(pd.Grouper(key='time', freq='W'))['order_price'].sum()"
   ]
  },
  {
   "cell_type": "code",
   "execution_count": 478,
   "id": "6f2b5f90-2290-4923-baa0-14007e9b7c81",
   "metadata": {},
   "outputs": [
    {
     "name": "stdout",
     "output_type": "stream",
     "text": [
      "매주 친한스토어 공구 매출은\n"
     ]
    },
    {
     "data": {
      "text/plain": [
       "결제 완료일\n",
       "2025-02-23    11570400\n",
       "2025-03-02     4608000\n",
       "Freq: W-SUN, Name: 정산가, dtype: int64"
      ]
     },
     "execution_count": 478,
     "metadata": {},
     "output_type": "execute_result"
    }
   ],
   "source": [
    "# 공동구매 상품 번호 입력\n",
    "status = ['배송중', '배송완료', '구매확정', '배송준비', '결제완료']\n",
    "gongu = [50557]\n",
    "\n",
    "fs_df = fs_df[fs_df['주문 상태'].isin(status)]\n",
    "fs_df = fs_df[fs_df['상품 번호'].isin(gongu)]\n",
    "\n",
    "print('매주 친한스토어 공구 매출은')\n",
    "fs_df.groupby(pd.Grouper(key='결제 완료일', freq='W'))['정산가'].sum()"
   ]
  },
  {
   "cell_type": "code",
   "execution_count": 480,
   "id": "34f9b9ec-be4c-4824-a0e5-5d08a722e9dc",
   "metadata": {},
   "outputs": [
    {
     "name": "stdout",
     "output_type": "stream",
     "text": [
      "주간 파마브로스 전체 공구 건수\n"
     ]
    },
    {
     "data": {
      "text/plain": [
       "time\n",
       "2025-01-05     3398\n",
       "2025-01-12    13723\n",
       "2025-01-19     9185\n",
       "2025-01-26     6301\n",
       "2025-02-02     3065\n",
       "2025-02-09     3428\n",
       "2025-02-16     5446\n",
       "2025-02-23     3623\n",
       "2025-03-02     1321\n",
       "2025-03-09      464\n",
       "2025-03-16       46\n",
       "Freq: W-SUN, Name: order_no, dtype: int64"
      ]
     },
     "execution_count": 480,
     "metadata": {},
     "output_type": "execute_result"
    }
   ],
   "source": [
    "print('주간 파마브로스 전체 공구 건수')\n",
    "sales_df.groupby(pd.Grouper(key='time', freq='W'))['order_no'].count()"
   ]
  },
  {
   "cell_type": "code",
   "execution_count": 482,
   "id": "528919eb-e55f-49b2-b16f-f5958c36cd91",
   "metadata": {},
   "outputs": [
    {
     "name": "stdout",
     "output_type": "stream",
     "text": [
      "매주 친한스토어 공구 매출 건수는\n"
     ]
    },
    {
     "data": {
      "text/plain": [
       "결제 완료일\n",
       "2025-02-23    71\n",
       "2025-03-02    28\n",
       "Freq: W-SUN, Name: 결제 번호, dtype: int64"
      ]
     },
     "execution_count": 482,
     "metadata": {},
     "output_type": "execute_result"
    }
   ],
   "source": [
    "print('매주 친한스토어 공구 매출 건수는')\n",
    "fs_df.groupby(pd.Grouper(key='결제 완료일', freq='W'))['결제 번호'].size()"
   ]
  },
  {
   "cell_type": "code",
   "execution_count": 504,
   "id": "1ff601a6-d45e-4283-8d98-20f171fde67f",
   "metadata": {},
   "outputs": [
    {
     "name": "stdout",
     "output_type": "stream",
     "text": [
      "매주 목요일 기준 친한스토어 총 매출은\n"
     ]
    },
    {
     "data": {
      "text/plain": [
       "결제 완료일\n",
       "2025-02-23    11570400\n",
       "2025-03-02     4608000\n",
       "Freq: W-SUN, Name: 정산가, dtype: int64"
      ]
     },
     "execution_count": 504,
     "metadata": {},
     "output_type": "execute_result"
    }
   ],
   "source": [
    "status = ['배송중', '배송완료', '구매확정', '배송준비', '결제완료']\n",
    "fs_df = fs_df[fs_df['주문 상태'].isin(status)]\n",
    "\n",
    "print('매주 목요일 기준 친한스토어 총 매출은')\n",
    "fs_df.groupby(pd.Grouper(key='결제 완료일', freq='W'))['정산가'].sum()"
   ]
  },
  {
   "cell_type": "code",
   "execution_count": 506,
   "id": "995d37a0-c23e-4795-a7c5-d6b702c5ea3d",
   "metadata": {},
   "outputs": [
    {
     "name": "stdout",
     "output_type": "stream",
     "text": [
      "매주 친한스토어 친약+친스 회원가입자 수는\n"
     ]
    },
    {
     "data": {
      "text/plain": [
       "reg_dt\n",
       "2025-01-05    476\n",
       "2025-01-12    507\n",
       "2025-01-19    431\n",
       "2025-01-26    309\n",
       "2025-02-02    428\n",
       "2025-02-09    407\n",
       "2025-02-16    343\n",
       "2025-02-23    625\n",
       "2025-03-02    569\n",
       "2025-03-09    622\n",
       "2025-03-16    173\n",
       "Freq: W-SUN, dtype: int64"
      ]
     },
     "execution_count": 506,
     "metadata": {},
     "output_type": "execute_result"
    }
   ],
   "source": [
    "merged_df = user_df.merge(auth_df, left_on='id', right_on='user_id', how='inner')\n",
    "merged_df = user_df.merge(auth_df, left_on='id', right_on='user_id', how='inner')\n",
    "merged_df['reg_dt'] = pd.to_datetime(merged_df['reg_dt'], format='mixed')\n",
    "con1 = merged_df['reg_dt'] >= datetime(2025, 2, 17)\n",
    "con2 = merged_df['reg_dt'] < datetime(2025, 2, 24)\n",
    "print('매주 친한스토어 친약+친스 회원가입자 수는')\n",
    "merged_df.groupby(pd.Grouper(key='reg_dt', freq='W')).size()[110:]"
   ]
  },
  {
   "cell_type": "code",
   "execution_count": 508,
   "id": "00e2ab07-d93f-423c-ae0d-c5d0663008c4",
   "metadata": {},
   "outputs": [
    {
     "name": "stdout",
     "output_type": "stream",
     "text": [
      "친스 회원가입자 수는 (di 없는 유저만)\n"
     ]
    },
    {
     "data": {
      "text/plain": [
       "created_at\n",
       "2025-02-23    123\n",
       "2025-03-02     26\n",
       "Freq: W-SUN, dtype: int64"
      ]
     },
     "execution_count": 508,
     "metadata": {},
     "output_type": "execute_result"
    }
   ],
   "source": [
    "print('친스 회원가입자 수는 (di 없는 유저만)')\n",
    "auth_df_di = auth_df[auth_df['di'].isna()]\n",
    "auth_df_di['created_at'] = pd.to_datetime(auth_df_di['created_at'], format='mixed')\n",
    "auth_df_di.groupby(pd.Grouper(key='created_at', freq='W')).size()"
   ]
  }
 ],
 "metadata": {
  "kernelspec": {
   "display_name": "Python 3 (ipykernel)",
   "language": "python",
   "name": "python3"
  },
  "language_info": {
   "codemirror_mode": {
    "name": "ipython",
    "version": 3
   },
   "file_extension": ".py",
   "mimetype": "text/x-python",
   "name": "python",
   "nbconvert_exporter": "python",
   "pygments_lexer": "ipython3",
   "version": "3.12.7"
  }
 },
 "nbformat": 4,
 "nbformat_minor": 5
}
