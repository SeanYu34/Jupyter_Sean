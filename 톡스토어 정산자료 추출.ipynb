{
 "cells": [
  {
   "cell_type": "code",
   "execution_count": 1,
   "id": "9fe4bf20-257a-40bc-9002-2bf390f93434",
   "metadata": {},
   "outputs": [],
   "source": [
    "import pandas as pd\n",
    "import numpy as np\n",
    "from datetime import datetime, timedelta\n",
    "import warnings\n",
    "warnings.simplefilter('ignore')"
   ]
  },
  {
   "cell_type": "code",
   "execution_count": 28,
   "id": "bf04efdb-5eec-4c1e-8e14-add148b745da",
   "metadata": {},
   "outputs": [],
   "source": [
    "fs_df = pd.read_excel('/Users/seanyu_mac/Downloads/주문내역_51268_2024-05-12~2025-05-12.xlsx')\n",
    "ka_df = pd.read_excel('/Users/seanyu_mac/Downloads/20250512161150.xlsx')"
   ]
  },
  {
   "cell_type": "code",
   "execution_count": 30,
   "id": "7d49e54a-df1e-4aae-b420-cbb716324251",
   "metadata": {},
   "outputs": [
    {
     "data": {
      "text/plain": [
       "array([0])"
      ]
     },
     "execution_count": 30,
     "metadata": {},
     "output_type": "execute_result"
    }
   ],
   "source": [
    "ka_df['수수료할인금액'].unique()"
   ]
  },
  {
   "cell_type": "code",
   "execution_count": 32,
   "id": "8f078194-fb04-43a2-9b05-e2815727b6fc",
   "metadata": {},
   "outputs": [
    {
     "data": {
      "text/plain": [
       "array(['[공동구매] 약사비책 X YDY 파이토 레드큐민(정제) & 퓨어레드큐민(분말) / 2박스 4박스 6박스 12박스'],\n",
       "      dtype=object)"
      ]
     },
     "execution_count": 32,
     "metadata": {},
     "output_type": "execute_result"
    }
   ],
   "source": [
    "ka_df['상품명'].unique()"
   ]
  },
  {
   "cell_type": "code",
   "execution_count": 34,
   "id": "ca72057f-a583-4cca-8a1f-ed4c89ab3ceb",
   "metadata": {},
   "outputs": [
    {
     "data": {
      "text/plain": [
       "array(['[공동구매] 약사비책 X YDY 파이토 레드큐민(정제) & 퓨어레드큐민(분말) / 2박스 4박스 6박스 12박스'],\n",
       "      dtype=object)"
      ]
     },
     "execution_count": 34,
     "metadata": {},
     "output_type": "execute_result"
    }
   ],
   "source": [
    "fs_df['상품명'].unique()"
   ]
  },
  {
   "cell_type": "code",
   "execution_count": 36,
   "id": "ec52501a-64f5-4dfb-b096-644d025583ba",
   "metadata": {},
   "outputs": [],
   "source": [
    "yaksa = fs_df['상품명'].unique()[0].split()[1].strip()"
   ]
  },
  {
   "cell_type": "code",
   "execution_count": 38,
   "id": "14547d72-4639-4851-9928-71a9aa15bd1b",
   "metadata": {},
   "outputs": [],
   "source": [
    "ka_df = ka_df[['결제번호', '주문번호', '주문일', '주문상태', '상품명', '옵션', '수량', '정산기준금액', '기본수수료', '노출추가수수료', '추천리워드수수료', '수수료할인금액', '발송요청일', '기본배송비 금액', '도서산간 추가 배송비 금액']]\n",
    "ka_df['판매처'] = '톡스토어'"
   ]
  },
  {
   "cell_type": "code",
   "execution_count": 40,
   "id": "e31b1af8-f355-43fd-85c1-f1d1f032289f",
   "metadata": {},
   "outputs": [],
   "source": [
    "fs_df['판매처'] = '친한스토어'\n",
    "fs_df['기본수수료'] = '해당 없음'\n",
    "fs_df['노출추가수수료'] = '해당 없음'\n",
    "fs_df['추천리워드수수료'] = '해당 없음'\n",
    "fs_df['수수료할인금액'] = '해당 없음'\n",
    "fs_df = fs_df[['결제 번호', '주문 번호', '결제 완료일', '주문 상태', '상품명', '옵션명', '수량', '정산가', '기본수수료', '노출추가수수료', '추천리워드수수료', '수수료할인금액', '주문 확인일', '배송비', '도서산간 배송비', '판매처']]\n",
    "fs_df.rename(columns={'정산가': '결제 금액'}, inplace=True)"
   ]
  },
  {
   "cell_type": "code",
   "execution_count": 42,
   "id": "f260ef23-ad05-446a-8e17-1cd2a62b49cc",
   "metadata": {},
   "outputs": [
    {
     "data": {
      "text/plain": [
       "array(['구매확정', '반품진행(수거진행)', '취소완료', '반품완료(반품완료)', '판매자취소', '601 구매 결정',\n",
       "       '204 결제 취소 완료'], dtype=object)"
      ]
     },
     "execution_count": 42,
     "metadata": {},
     "output_type": "execute_result"
    }
   ],
   "source": [
    "ka_df.columns = fs_df.columns\n",
    "df = pd.concat([fs_df, ka_df])\n",
    "df['주문 상태'].unique()"
   ]
  },
  {
   "cell_type": "code",
   "execution_count": 44,
   "id": "f97d4e14-f5cf-4273-8a70-9ce3571d314e",
   "metadata": {},
   "outputs": [],
   "source": [
    "status = ['구매확정', '601 구매 결정']"
   ]
  },
  {
   "cell_type": "code",
   "execution_count": 46,
   "id": "e1c9b9af-54e9-480b-a9b3-ba43d589365a",
   "metadata": {},
   "outputs": [],
   "source": [
    "df.loc[~df['주문 상태'].isin(status), '결제 금액'] = df.loc[~df['주문 상태'].isin(status), '결제 금액'].apply(lambda x: x * -1)"
   ]
  },
  {
   "cell_type": "code",
   "execution_count": 48,
   "id": "67ce4910-3590-470c-83ce-4ea16e1bfade",
   "metadata": {},
   "outputs": [
    {
     "data": {
      "text/plain": [
       "판매처\n",
       "친한스토어    227\n",
       "톡스토어      44\n",
       "Name: 결제 번호, dtype: int64"
      ]
     },
     "execution_count": 48,
     "metadata": {},
     "output_type": "execute_result"
    }
   ],
   "source": [
    "df.groupby('판매처')['결제 번호'].count()"
   ]
  },
  {
   "cell_type": "code",
   "execution_count": 50,
   "id": "f66a8d23-f51e-4ed2-9005-01b00ffd0986",
   "metadata": {},
   "outputs": [],
   "source": [
    "today = datetime.today().strftime('%Y-%m-%d')\n",
    "df.to_excel(f'/Users/seanyu_mac/Downloads/{yaksa}_정산자료_{today}.xlsx')"
   ]
  }
 ],
 "metadata": {
  "kernelspec": {
   "display_name": "Python 3 (ipykernel)",
   "language": "python",
   "name": "python3"
  },
  "language_info": {
   "codemirror_mode": {
    "name": "ipython",
    "version": 3
   },
   "file_extension": ".py",
   "mimetype": "text/x-python",
   "name": "python",
   "nbconvert_exporter": "python",
   "pygments_lexer": "ipython3",
   "version": "3.12.7"
  }
 },
 "nbformat": 4,
 "nbformat_minor": 5
}
