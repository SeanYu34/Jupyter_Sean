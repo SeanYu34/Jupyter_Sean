{
 "cells": [
  {
   "cell_type": "code",
   "execution_count": 1,
   "id": "9fe4bf20-257a-40bc-9002-2bf390f93434",
   "metadata": {},
   "outputs": [],
   "source": [
    "import pandas as pd\n",
    "import numpy as np\n",
    "from datetime import datetime, timedelta\n",
    "import warnings\n",
    "warnings.simplefilter('ignore')"
   ]
  },
  {
   "cell_type": "code",
   "execution_count": 2,
   "id": "bf04efdb-5eec-4c1e-8e14-add148b745da",
   "metadata": {},
   "outputs": [],
   "source": [
    "fs_df = pd.read_excel('/Users/mac/Downloads/주문내역_51272_2024-05-28~2025-05-28.xlsx')\n",
    "ka_df = pd.read_excel('/Users/mac/Downloads/20250528151152.xlsx')"
   ]
  },
  {
   "cell_type": "code",
   "execution_count": 3,
   "id": "ca72057f-a583-4cca-8a1f-ed4c89ab3ceb",
   "metadata": {},
   "outputs": [
    {
     "data": {
      "text/plain": [
       "array(['[공동구매] 도비약사 X YDY 포스트바이오틱스GX / 2박스 4박스 8박스 12박스'], dtype=object)"
      ]
     },
     "execution_count": 3,
     "metadata": {},
     "output_type": "execute_result"
    }
   ],
   "source": [
    "fs_df['상품명'].unique()"
   ]
  },
  {
   "cell_type": "code",
   "execution_count": 5,
   "id": "ec52501a-64f5-4dfb-b096-644d025583ba",
   "metadata": {},
   "outputs": [
    {
     "data": {
      "text/plain": [
       "'도비약사'"
      ]
     },
     "execution_count": 5,
     "metadata": {},
     "output_type": "execute_result"
    }
   ],
   "source": [
    "yaksa = fs_df['상품명'].unique()[0].split()[1].strip()\n",
    "yaksa"
   ]
  },
  {
   "cell_type": "code",
   "execution_count": 6,
   "id": "e31b1af8-f355-43fd-85c1-f1d1f032289f",
   "metadata": {},
   "outputs": [],
   "source": [
    "fs_df['판매처'] = '친한스토어'\n",
    "fs_df['기본수수료'] = '해당 없음'\n",
    "fs_df['노출추가수수료'] = '해당 없음'\n",
    "fs_df['추천리워드수수료'] = '해당 없음'\n",
    "fs_df['수수료할인금액'] = '해당 없음'\n",
    "fs_df = fs_df[['결제 번호', '주문 번호', '결제 완료일', '주문 상태', '상품명', '옵션명', '수량', '정산가', '기본수수료', '노출추가수수료', '추천리워드수수료', '수수료할인금액', '주문 확인일', '배송비', '도서산간 배송비', '판매처']]\n",
    "fs_df.rename(columns={'정산가': '결제 금액'}, inplace=True)"
   ]
  },
  {
   "cell_type": "code",
   "execution_count": 7,
   "id": "8cc28dcd-5d69-4ac3-b83f-990394ec9804",
   "metadata": {},
   "outputs": [
    {
     "data": {
      "text/plain": [
       "판매처\n",
       "친한스토어    99\n",
       "Name: 결제 번호, dtype: int64"
      ]
     },
     "execution_count": 7,
     "metadata": {},
     "output_type": "execute_result"
    }
   ],
   "source": [
    "# 카카오톡 정산자료 없으면 바로 출력\n",
    "df = fs_df\n",
    "df['주문 상태'].unique()\n",
    "status = ['구매확정', '601 구매 결정']\n",
    "df.loc[~df['주문 상태'].isin(status), '결제 금액'] = df.loc[~df['주문 상태'].isin(status), '결제 금액'].apply(lambda x: x * -1)\n",
    "df.groupby('판매처')['결제 번호'].count()"
   ]
  },
  {
   "cell_type": "code",
   "execution_count": 25,
   "id": "caaab840-a97f-4b58-b842-26b2da38d3d2",
   "metadata": {},
   "outputs": [],
   "source": [
    "today = datetime.today().strftime('%Y-%m-%d')\n",
    "df.to_excel(f'/Users/mac/Downloads/{yaksa}_정산자료_{today}.xlsx')"
   ]
  },
  {
   "cell_type": "code",
   "execution_count": 8,
   "id": "7d49e54a-df1e-4aae-b420-cbb716324251",
   "metadata": {},
   "outputs": [
    {
     "data": {
      "text/plain": [
       "array([0])"
      ]
     },
     "execution_count": 8,
     "metadata": {},
     "output_type": "execute_result"
    }
   ],
   "source": [
    "ka_df['수수료할인금액'].unique()"
   ]
  },
  {
   "cell_type": "code",
   "execution_count": 9,
   "id": "8f078194-fb04-43a2-9b05-e2815727b6fc",
   "metadata": {},
   "outputs": [
    {
     "data": {
      "text/plain": [
       "array(['[공동구매] 도비약사 X YDY 포스트바이오틱스GX / 2박스 4박스 8박스 12박스'], dtype=object)"
      ]
     },
     "execution_count": 9,
     "metadata": {},
     "output_type": "execute_result"
    }
   ],
   "source": [
    "ka_df['상품명'].unique()"
   ]
  },
  {
   "cell_type": "code",
   "execution_count": 10,
   "id": "14547d72-4639-4851-9928-71a9aa15bd1b",
   "metadata": {},
   "outputs": [],
   "source": [
    "ka_df = ka_df[['결제번호', '주문번호', '주문일', '주문상태', '상품명', '옵션', '수량', '정산기준금액', '기본수수료', '노출추가수수료', '추천리워드수수료', '수수료할인금액', '발송요청일', '기본배송비 금액', '도서산간 추가 배송비 금액']]\n",
    "ka_df['판매처'] = '톡스토어'"
   ]
  },
  {
   "cell_type": "code",
   "execution_count": 11,
   "id": "f260ef23-ad05-446a-8e17-1cd2a62b49cc",
   "metadata": {},
   "outputs": [
    {
     "data": {
      "text/plain": [
       "array(['구매확정', '취소완료', '반품완료(반품완료)', '601 구매 결정'], dtype=object)"
      ]
     },
     "execution_count": 11,
     "metadata": {},
     "output_type": "execute_result"
    }
   ],
   "source": [
    "ka_df.columns = fs_df.columns\n",
    "df = pd.concat([fs_df, ka_df])\n",
    "df['주문 상태'].unique()"
   ]
  },
  {
   "cell_type": "code",
   "execution_count": 12,
   "id": "f97d4e14-f5cf-4273-8a70-9ce3571d314e",
   "metadata": {},
   "outputs": [],
   "source": [
    "status = ['구매확정', '601 구매 결정']"
   ]
  },
  {
   "cell_type": "code",
   "execution_count": 13,
   "id": "e1c9b9af-54e9-480b-a9b3-ba43d589365a",
   "metadata": {},
   "outputs": [],
   "source": [
    "df.loc[~df['주문 상태'].isin(status), '결제 금액'] = df.loc[~df['주문 상태'].isin(status), '결제 금액'].apply(lambda x: x * -1)"
   ]
  },
  {
   "cell_type": "code",
   "execution_count": 14,
   "id": "67ce4910-3590-470c-83ce-4ea16e1bfade",
   "metadata": {},
   "outputs": [
    {
     "data": {
      "text/plain": [
       "판매처\n",
       "친한스토어    99\n",
       "톡스토어      2\n",
       "Name: 결제 번호, dtype: int64"
      ]
     },
     "execution_count": 14,
     "metadata": {},
     "output_type": "execute_result"
    }
   ],
   "source": [
    "df.groupby('판매처')['결제 번호'].count()"
   ]
  },
  {
   "cell_type": "code",
   "execution_count": 17,
   "id": "0502a8b3-e712-46f1-ab4b-6a9aee57a35f",
   "metadata": {},
   "outputs": [
    {
     "data": {
      "text/plain": [
       "array(['구매확정', '취소완료', '반품완료(반품완료)', '601 구매 결정'], dtype=object)"
      ]
     },
     "execution_count": 17,
     "metadata": {},
     "output_type": "execute_result"
    }
   ],
   "source": [
    "df['주문 상태'].unique()"
   ]
  },
  {
   "cell_type": "code",
   "execution_count": 19,
   "id": "f66a8d23-f51e-4ed2-9005-01b00ffd0986",
   "metadata": {},
   "outputs": [],
   "source": [
    "today = datetime.today().strftime('%Y-%m-%d')\n",
    "df.to_excel(f'/Users/mac/Downloads/{yaksa}_정산자료_{today}.xlsx')"
   ]
  }
 ],
 "metadata": {
  "kernelspec": {
   "display_name": "Python [conda env:base] *",
   "language": "python",
   "name": "conda-base-py"
  },
  "language_info": {
   "codemirror_mode": {
    "name": "ipython",
    "version": 3
   },
   "file_extension": ".py",
   "mimetype": "text/x-python",
   "name": "python",
   "nbconvert_exporter": "python",
   "pygments_lexer": "ipython3",
   "version": "3.12.7"
  }
 },
 "nbformat": 4,
 "nbformat_minor": 5
}
