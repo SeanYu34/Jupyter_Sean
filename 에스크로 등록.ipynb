{
 "cells": [
  {
   "cell_type": "code",
   "execution_count": 28,
   "id": "b04a99dc-e06f-4c25-821e-5aa18900edb6",
   "metadata": {},
   "outputs": [],
   "source": [
    "import pandas as pd\n",
    "import numpy as np\n",
    "from datetime import datetime, timedelta\n",
    "import warnings\n",
    "warnings.simplefilter('ignore')"
   ]
  },
  {
   "cell_type": "code",
   "execution_count": 30,
   "id": "4a6f3737-91e5-49a2-bfac-779eb338c12c",
   "metadata": {},
   "outputs": [],
   "source": [
    "df = pd.read_excel('/Users/seanyu_mac/Downloads/주문내역_2024-05-09~2025-05-09 (1).xlsx')"
   ]
  },
  {
   "cell_type": "code",
   "execution_count": 31,
   "id": "41c29794-a395-4e13-9f16-69a0e475a3a8",
   "metadata": {},
   "outputs": [],
   "source": [
    "check_idx = ['parma20250508203930eOt20', 'parma20250508130022g7sq0']"
   ]
  },
  {
   "cell_type": "code",
   "execution_count": 34,
   "id": "c0253e65-0eaa-4622-8687-3c778eab611a",
   "metadata": {},
   "outputs": [],
   "source": [
    "temp_df = df[df['결제 번호'].isin(check_idx)]"
   ]
  },
  {
   "cell_type": "code",
   "execution_count": 36,
   "id": "6dfba324-5cf0-41c3-ad87-75b8a5342e67",
   "metadata": {},
   "outputs": [
    {
     "data": {
      "text/html": [
       "<div>\n",
       "<style scoped>\n",
       "    .dataframe tbody tr th:only-of-type {\n",
       "        vertical-align: middle;\n",
       "    }\n",
       "\n",
       "    .dataframe tbody tr th {\n",
       "        vertical-align: top;\n",
       "    }\n",
       "\n",
       "    .dataframe thead th {\n",
       "        text-align: right;\n",
       "    }\n",
       "</style>\n",
       "<table border=\"1\" class=\"dataframe\">\n",
       "  <thead>\n",
       "    <tr style=\"text-align: right;\">\n",
       "      <th></th>\n",
       "      <th>주문 번호</th>\n",
       "      <th>결제 번호</th>\n",
       "      <th>상품명</th>\n",
       "      <th>송장 번호</th>\n",
       "      <th>주문 확인일</th>\n",
       "    </tr>\n",
       "  </thead>\n",
       "  <tbody>\n",
       "    <tr>\n",
       "      <th>47</th>\n",
       "      <td>55150-53722</td>\n",
       "      <td>parma20250508203930eOt20</td>\n",
       "      <td>[공동구매] 약사임당 X 파이토알엑스 이뮨 빌베리 / 2박스 4박스 8박스 12박스</td>\n",
       "      <td>n</td>\n",
       "      <td>2025-05-09 13:04:50.827</td>\n",
       "    </tr>\n",
       "    <tr>\n",
       "      <th>86</th>\n",
       "      <td>55080-53683</td>\n",
       "      <td>parma20250508130022g7sq0</td>\n",
       "      <td>[공동구매] 김약사TV X YDY 파이토 레드큐민(정제) &amp; 퓨어레드큐민(분말) /...</td>\n",
       "      <td>534878280926</td>\n",
       "      <td>2025-05-08 13:04:46.610</td>\n",
       "    </tr>\n",
       "  </tbody>\n",
       "</table>\n",
       "</div>"
      ],
      "text/plain": [
       "          주문 번호                     결제 번호  \\\n",
       "47  55150-53722  parma20250508203930eOt20   \n",
       "86  55080-53683  parma20250508130022g7sq0   \n",
       "\n",
       "                                                  상품명         송장 번호  \\\n",
       "47     [공동구매] 약사임당 X 파이토알엑스 이뮨 빌베리 / 2박스 4박스 8박스 12박스             n   \n",
       "86  [공동구매] 김약사TV X YDY 파이토 레드큐민(정제) & 퓨어레드큐민(분말) /...  534878280926   \n",
       "\n",
       "                    주문 확인일  \n",
       "47 2025-05-09 13:04:50.827  \n",
       "86 2025-05-08 13:04:46.610  "
      ]
     },
     "execution_count": 36,
     "metadata": {},
     "output_type": "execute_result"
    }
   ],
   "source": [
    "temp_df['송장 번호'] = temp_df['송장 번호'].astype(str)\n",
    "temp_df['송장 번호'] = temp_df['송장 번호'].apply(lambda x: x[:len(x) -2])\n",
    "temp_df[['주문 번호', '결제 번호', '상품명', '송장 번호', '주문 확인일']]"
   ]
  }
 ],
 "metadata": {
  "kernelspec": {
   "display_name": "Python 3 (ipykernel)",
   "language": "python",
   "name": "python3"
  },
  "language_info": {
   "codemirror_mode": {
    "name": "ipython",
    "version": 3
   },
   "file_extension": ".py",
   "mimetype": "text/x-python",
   "name": "python",
   "nbconvert_exporter": "python",
   "pygments_lexer": "ipython3",
   "version": "3.12.7"
  }
 },
 "nbformat": 4,
 "nbformat_minor": 5
}
