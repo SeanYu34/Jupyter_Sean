{
 "cells": [
  {
   "cell_type": "code",
   "execution_count": 36,
   "id": "0446b254-618e-4e07-8279-ecdfb986c25b",
   "metadata": {},
   "outputs": [],
   "source": [
    "import pandas as pd\n",
    "from datetime import datetime, timedelta\n",
    "\n",
    "df = pd.read_excel('/Users/seanyu_mac/Downloads/250108_베이지약사_팡팡쾌변젤리.xlsx')\n",
    "df.drop([0,1], inplace=True)\n",
    "df.reset_index(inplace=True)"
   ]
  },
  {
   "cell_type": "code",
   "execution_count": 50,
   "id": "fdb563e0-72ad-4ae0-be0c-ea900838496d",
   "metadata": {},
   "outputs": [
    {
     "data": {
      "text/plain": [
       "array([ 31000,  55000,  88000, 176000])"
      ]
     },
     "execution_count": 50,
     "metadata": {},
     "output_type": "execute_result"
    }
   ],
   "source": [
    "df['주문일시'] = pd.to_datetime(df['주문일시'])\n",
    "df['price'] = 0\n",
    "df['sales'] = 0\n",
    "df.loc[df['옵션정보'] == '구성: 15포 X 2박스', 'price'] = 31000\n",
    "df.loc[df['옵션정보'] == '구성: 15포 X 4박스', 'price'] = 55000\n",
    "df.loc[df['옵션정보'] == '구성: 15포 X 8박스', 'price'] = 88000\n",
    "df['sales'] = df['price'] * df['수량']\n",
    "df['sales'].unique()"
   ]
  },
  {
   "cell_type": "code",
   "execution_count": 60,
   "id": "93b0410d-7b18-4817-a432-f3fb140c2946",
   "metadata": {},
   "outputs": [
    {
     "name": "stderr",
     "output_type": "stream",
     "text": [
      "/var/folders/wl/txjbcgld2sngchsc7txxqppm0000gp/T/ipykernel_63334/1412171744.py:1: FutureWarning: 'T' is deprecated and will be removed in a future version, please use 'min' instead.\n",
      "  df_30 = pd.DataFrame(df.groupby(pd.Grouper(key='주문일시', freq='30T'))['sales'].sum().reset_index())\n",
      "/var/folders/wl/txjbcgld2sngchsc7txxqppm0000gp/T/ipykernel_63334/1412171744.py:2: FutureWarning: 'H' is deprecated and will be removed in a future version, please use 'h' instead.\n",
      "  df_60 = pd.DataFrame(df.groupby(pd.Grouper(key='주문일시', freq='1H'))['sales'].sum().reset_index())\n",
      "/var/folders/wl/txjbcgld2sngchsc7txxqppm0000gp/T/ipykernel_63334/1412171744.py:3: FutureWarning: 'H' is deprecated and will be removed in a future version, please use 'h' instead.\n",
      "  df_180 = pd.DataFrame(df.groupby(pd.Grouper(key='주문일시', freq='3H'))['sales'].sum().reset_index())\n",
      "/var/folders/wl/txjbcgld2sngchsc7txxqppm0000gp/T/ipykernel_63334/1412171744.py:4: FutureWarning: 'H' is deprecated and will be removed in a future version, please use 'h' instead.\n",
      "  df_360 = pd.DataFrame(df.groupby(pd.Grouper(key='주문일시', freq='6H'))['sales'].sum().reset_index())\n",
      "/var/folders/wl/txjbcgld2sngchsc7txxqppm0000gp/T/ipykernel_63334/1412171744.py:7: FutureWarning: 'M' is deprecated and will be removed in a future version, please use 'ME' instead.\n",
      "  df_1M = pd.DataFrame(df.groupby(pd.Grouper(key='주문일시', freq='M'))['sales'].sum().reset_index())\n"
     ]
    }
   ],
   "source": [
    "df_30 = pd.DataFrame(df.groupby(pd.Grouper(key='주문일시', freq='30T'))['sales'].sum().reset_index())\n",
    "df_60 = pd.DataFrame(df.groupby(pd.Grouper(key='주문일시', freq='1H'))['sales'].sum().reset_index())\n",
    "df_180 = pd.DataFrame(df.groupby(pd.Grouper(key='주문일시', freq='3H'))['sales'].sum().reset_index())\n",
    "df_360 = pd.DataFrame(df.groupby(pd.Grouper(key='주문일시', freq='6H'))['sales'].sum().reset_index())\n",
    "df_1D = pd.DataFrame(df.groupby(pd.Grouper(key='주문일시', freq='1D'))['sales'].sum().reset_index())\n",
    "df_1W = pd.DataFrame(df.groupby(pd.Grouper(key='주문일시', freq='W'))['sales'].sum().reset_index())\n",
    "df_1M = pd.DataFrame(df.groupby(pd.Grouper(key='주문일시', freq='M'))['sales'].sum().reset_index())"
   ]
  },
  {
   "cell_type": "code",
   "execution_count": 62,
   "id": "80f74af1-b52e-49a6-bfdd-432970679f51",
   "metadata": {},
   "outputs": [],
   "source": [
    "with pd.ExcelWriter('/Users/seanyu_mac/Downloads/베이지약사_팡팡쾌변젤리.xlsx') as writer:\n",
    "    df_30.to_excel(writer, sheet_name='df_30', index=False)\n",
    "    df_60.to_excel(writer, sheet_name='df_60', index=False)\n",
    "    df_180.to_excel(writer, sheet_name='df_180', index=False)\n",
    "    df_360.to_excel(writer, sheet_name='df_360', index=False)\n",
    "    df_1D.to_excel(writer, sheet_name='df_1D', index=False)\n",
    "    df_1W.to_excel(writer, sheet_name='df_1W', index=False)\n",
    "    df_1M.to_excel(writer, sheet_name='df_1M', index=False)"
   ]
  }
 ],
 "metadata": {
  "kernelspec": {
   "display_name": "Python 3 (ipykernel)",
   "language": "python",
   "name": "python3"
  },
  "language_info": {
   "codemirror_mode": {
    "name": "ipython",
    "version": 3
   },
   "file_extension": ".py",
   "mimetype": "text/x-python",
   "name": "python",
   "nbconvert_exporter": "python",
   "pygments_lexer": "ipython3",
   "version": "3.12.7"
  }
 },
 "nbformat": 4,
 "nbformat_minor": 5
}
