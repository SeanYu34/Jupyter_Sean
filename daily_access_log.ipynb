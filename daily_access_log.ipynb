{
 "cells": [
  {
   "cell_type": "code",
   "execution_count": 2,
   "id": "9c9e3e7c-465c-4392-a1c1-48f020f8ef61",
   "metadata": {},
   "outputs": [
    {
     "data": {
      "text/html": [
       "<div>\n",
       "<style scoped>\n",
       "    .dataframe tbody tr th:only-of-type {\n",
       "        vertical-align: middle;\n",
       "    }\n",
       "\n",
       "    .dataframe tbody tr th {\n",
       "        vertical-align: top;\n",
       "    }\n",
       "\n",
       "    .dataframe thead th {\n",
       "        text-align: right;\n",
       "    }\n",
       "</style>\n",
       "<table border=\"1\" class=\"dataframe\">\n",
       "  <thead>\n",
       "    <tr style=\"text-align: right;\">\n",
       "      <th></th>\n",
       "      <th>id</th>\n",
       "      <th>user_id</th>\n",
       "      <th>device_id</th>\n",
       "      <th>access_date</th>\n",
       "      <th>created_at</th>\n",
       "    </tr>\n",
       "  </thead>\n",
       "  <tbody>\n",
       "    <tr>\n",
       "      <th>0</th>\n",
       "      <td>1</td>\n",
       "      <td>c8313ed7-1dc9-4267-a9cd-f5ab98cfa03d</td>\n",
       "      <td>994087da-b2fc-4e4a-b1fb-b7d9f7689161</td>\n",
       "      <td>2024-10-07</td>\n",
       "      <td>2024-10-07 00:21:40.801</td>\n",
       "    </tr>\n",
       "    <tr>\n",
       "      <th>1</th>\n",
       "      <td>2</td>\n",
       "      <td>947e597c-776f-43d8-bf83-5724faae61f7</td>\n",
       "      <td>6cd11f67-bf2a-4a5a-8871-7c59b2dbbc4e</td>\n",
       "      <td>2024-10-07</td>\n",
       "      <td>2024-10-07 00:23:42.744</td>\n",
       "    </tr>\n",
       "    <tr>\n",
       "      <th>2</th>\n",
       "      <td>3</td>\n",
       "      <td>c3f1092d-2028-4d25-b533-ff4d6caf21ac</td>\n",
       "      <td>f58afcf3-8d51-4a3c-86e9-09d48c28b0d6</td>\n",
       "      <td>2024-10-07</td>\n",
       "      <td>2024-10-07 01:06:35.559</td>\n",
       "    </tr>\n",
       "  </tbody>\n",
       "</table>\n",
       "</div>"
      ],
      "text/plain": [
       "   id                               user_id  \\\n",
       "0   1  c8313ed7-1dc9-4267-a9cd-f5ab98cfa03d   \n",
       "1   2  947e597c-776f-43d8-bf83-5724faae61f7   \n",
       "2   3  c3f1092d-2028-4d25-b533-ff4d6caf21ac   \n",
       "\n",
       "                              device_id access_date               created_at  \n",
       "0  994087da-b2fc-4e4a-b1fb-b7d9f7689161  2024-10-07  2024-10-07 00:21:40.801  \n",
       "1  6cd11f67-bf2a-4a5a-8871-7c59b2dbbc4e  2024-10-07  2024-10-07 00:23:42.744  \n",
       "2  f58afcf3-8d51-4a3c-86e9-09d48c28b0d6  2024-10-07  2024-10-07 01:06:35.559  "
      ]
     },
     "execution_count": 2,
     "metadata": {},
     "output_type": "execute_result"
    }
   ],
   "source": [
    "import pandas as pd\n",
    "import numpy as np\n",
    "from datetime import datetime, timedelta\n",
    "\n",
    "df = pd.read_csv('/Users/seanyu_mac/Downloads/public_daily_access_log_export_2024-11-18_171614.csv')\n",
    "df.head(3)"
   ]
  },
  {
   "cell_type": "code",
   "execution_count": 22,
   "id": "ef84a2ac-288c-421f-b7de-06599ce498c7",
   "metadata": {},
   "outputs": [
    {
     "data": {
      "text/html": [
       "<div>\n",
       "<style scoped>\n",
       "    .dataframe tbody tr th:only-of-type {\n",
       "        vertical-align: middle;\n",
       "    }\n",
       "\n",
       "    .dataframe tbody tr th {\n",
       "        vertical-align: top;\n",
       "    }\n",
       "\n",
       "    .dataframe thead th {\n",
       "        text-align: right;\n",
       "    }\n",
       "</style>\n",
       "<table border=\"1\" class=\"dataframe\">\n",
       "  <thead>\n",
       "    <tr style=\"text-align: right;\">\n",
       "      <th></th>\n",
       "      <th>id</th>\n",
       "      <th>user_id</th>\n",
       "      <th>device_id</th>\n",
       "      <th>access_date</th>\n",
       "      <th>created_at</th>\n",
       "    </tr>\n",
       "  </thead>\n",
       "  <tbody>\n",
       "    <tr>\n",
       "      <th>0</th>\n",
       "      <td>1</td>\n",
       "      <td>c8313ed7-1dc9-4267-a9cd-f5ab98cfa03d</td>\n",
       "      <td>994087da-b2fc-4e4a-b1fb-b7d9f7689161</td>\n",
       "      <td>2024-10-07</td>\n",
       "      <td>2024-10-07 00:21:40.801</td>\n",
       "    </tr>\n",
       "    <tr>\n",
       "      <th>1</th>\n",
       "      <td>2</td>\n",
       "      <td>947e597c-776f-43d8-bf83-5724faae61f7</td>\n",
       "      <td>6cd11f67-bf2a-4a5a-8871-7c59b2dbbc4e</td>\n",
       "      <td>2024-10-07</td>\n",
       "      <td>2024-10-07 00:23:42.744</td>\n",
       "    </tr>\n",
       "    <tr>\n",
       "      <th>2</th>\n",
       "      <td>3</td>\n",
       "      <td>c3f1092d-2028-4d25-b533-ff4d6caf21ac</td>\n",
       "      <td>f58afcf3-8d51-4a3c-86e9-09d48c28b0d6</td>\n",
       "      <td>2024-10-07</td>\n",
       "      <td>2024-10-07 01:06:35.559</td>\n",
       "    </tr>\n",
       "    <tr>\n",
       "      <th>3</th>\n",
       "      <td>4</td>\n",
       "      <td>a51fdaca-f9eb-4d2a-a6c7-8eda11ee753e</td>\n",
       "      <td>d4d35d5b-4c8c-4a2e-ac28-f7eec85e7583</td>\n",
       "      <td>2024-10-07</td>\n",
       "      <td>2024-10-07 02:33:39.855</td>\n",
       "    </tr>\n",
       "    <tr>\n",
       "      <th>4</th>\n",
       "      <td>5</td>\n",
       "      <td>183b7feb-3cb1-4d13-b9ee-2b7730b7e5fa</td>\n",
       "      <td>d15a7fd3-0ac5-4e98-b898-b1a07e986c79</td>\n",
       "      <td>2024-10-07</td>\n",
       "      <td>2024-10-07 03:01:55.512</td>\n",
       "    </tr>\n",
       "    <tr>\n",
       "      <th>...</th>\n",
       "      <td>...</td>\n",
       "      <td>...</td>\n",
       "      <td>...</td>\n",
       "      <td>...</td>\n",
       "      <td>...</td>\n",
       "    </tr>\n",
       "    <tr>\n",
       "      <th>9309</th>\n",
       "      <td>9318</td>\n",
       "      <td>53c14a7c-dd25-4497-8a8b-57afb2b082d8</td>\n",
       "      <td>a84ac206-6b34-432d-8ebc-c854eed08653</td>\n",
       "      <td>2024-11-18</td>\n",
       "      <td>2024-11-18 08:06:32.520</td>\n",
       "    </tr>\n",
       "    <tr>\n",
       "      <th>9310</th>\n",
       "      <td>9319</td>\n",
       "      <td>019ad7b2-9287-485a-b205-7249cecd47ba</td>\n",
       "      <td>3ebddecc-4575-4d81-adc5-3ceb35d43f19</td>\n",
       "      <td>2024-11-18</td>\n",
       "      <td>2024-11-18 08:08:26.299</td>\n",
       "    </tr>\n",
       "    <tr>\n",
       "      <th>9311</th>\n",
       "      <td>9320</td>\n",
       "      <td>bd91fc2f-9142-403e-804b-1a18e2c61cc6</td>\n",
       "      <td>d6a20dc6-07bd-49bc-87e4-6b11af533055</td>\n",
       "      <td>2024-11-18</td>\n",
       "      <td>2024-11-18 08:10:41.694</td>\n",
       "    </tr>\n",
       "    <tr>\n",
       "      <th>9312</th>\n",
       "      <td>9321</td>\n",
       "      <td>c7d05680-001a-4f81-af40-08291351615f</td>\n",
       "      <td>8b61c122-c5fa-41ff-b98c-e734eb7c606c</td>\n",
       "      <td>2024-11-18</td>\n",
       "      <td>2024-11-18 08:11:38.729</td>\n",
       "    </tr>\n",
       "    <tr>\n",
       "      <th>9313</th>\n",
       "      <td>9322</td>\n",
       "      <td>19b75080-7eda-482b-bb58-6f6489700981</td>\n",
       "      <td>2d8d09b7-d88b-4ebc-84ed-462ed026f2d9</td>\n",
       "      <td>2024-11-18</td>\n",
       "      <td>2024-11-18 08:12:38.753</td>\n",
       "    </tr>\n",
       "  </tbody>\n",
       "</table>\n",
       "<p>9314 rows × 5 columns</p>\n",
       "</div>"
      ],
      "text/plain": [
       "        id                               user_id  \\\n",
       "0        1  c8313ed7-1dc9-4267-a9cd-f5ab98cfa03d   \n",
       "1        2  947e597c-776f-43d8-bf83-5724faae61f7   \n",
       "2        3  c3f1092d-2028-4d25-b533-ff4d6caf21ac   \n",
       "3        4  a51fdaca-f9eb-4d2a-a6c7-8eda11ee753e   \n",
       "4        5  183b7feb-3cb1-4d13-b9ee-2b7730b7e5fa   \n",
       "...    ...                                   ...   \n",
       "9309  9318  53c14a7c-dd25-4497-8a8b-57afb2b082d8   \n",
       "9310  9319  019ad7b2-9287-485a-b205-7249cecd47ba   \n",
       "9311  9320  bd91fc2f-9142-403e-804b-1a18e2c61cc6   \n",
       "9312  9321  c7d05680-001a-4f81-af40-08291351615f   \n",
       "9313  9322  19b75080-7eda-482b-bb58-6f6489700981   \n",
       "\n",
       "                                 device_id access_date              created_at  \n",
       "0     994087da-b2fc-4e4a-b1fb-b7d9f7689161  2024-10-07 2024-10-07 00:21:40.801  \n",
       "1     6cd11f67-bf2a-4a5a-8871-7c59b2dbbc4e  2024-10-07 2024-10-07 00:23:42.744  \n",
       "2     f58afcf3-8d51-4a3c-86e9-09d48c28b0d6  2024-10-07 2024-10-07 01:06:35.559  \n",
       "3     d4d35d5b-4c8c-4a2e-ac28-f7eec85e7583  2024-10-07 2024-10-07 02:33:39.855  \n",
       "4     d15a7fd3-0ac5-4e98-b898-b1a07e986c79  2024-10-07 2024-10-07 03:01:55.512  \n",
       "...                                    ...         ...                     ...  \n",
       "9309  a84ac206-6b34-432d-8ebc-c854eed08653  2024-11-18 2024-11-18 08:06:32.520  \n",
       "9310  3ebddecc-4575-4d81-adc5-3ceb35d43f19  2024-11-18 2024-11-18 08:08:26.299  \n",
       "9311  d6a20dc6-07bd-49bc-87e4-6b11af533055  2024-11-18 2024-11-18 08:10:41.694  \n",
       "9312  8b61c122-c5fa-41ff-b98c-e734eb7c606c  2024-11-18 2024-11-18 08:11:38.729  \n",
       "9313  2d8d09b7-d88b-4ebc-84ed-462ed026f2d9  2024-11-18 2024-11-18 08:12:38.753  \n",
       "\n",
       "[9314 rows x 5 columns]"
      ]
     },
     "execution_count": 22,
     "metadata": {},
     "output_type": "execute_result"
    }
   ],
   "source": [
    "df['access_date'] = pd.to_datetime(df['access_date'])\n",
    "df['created_at'] = pd.to_datetime(df['created_at'], format='mixed')\n",
    "df"
   ]
  },
  {
   "cell_type": "code",
   "execution_count": 66,
   "id": "88f14884-efc4-4c46-962c-b0ef5f44e7b8",
   "metadata": {},
   "outputs": [
    {
     "data": {
      "text/plain": [
       "6660"
      ]
     },
     "execution_count": 66,
     "metadata": {},
     "output_type": "execute_result"
    }
   ],
   "source": [
    "today = df.loc[0, 'access_date']\n",
    "today_minus_30 = today - timedelta(days=30)\n",
    "first_day = datetime(2024, 10, 7)\n",
    "last_day = datetime(2024, 11, 9)\n",
    "\n",
    "con1 = df['created_at'] > first_day\n",
    "con2 = df['created_at'] < last_day\n",
    "len(df.loc[con1 & con2, 'user_id'])"
   ]
  },
  {
   "cell_type": "code",
   "execution_count": 70,
   "id": "6ebd994b-36ed-4eea-8bdb-7f1ce4942efe",
   "metadata": {},
   "outputs": [
    {
     "data": {
      "text/plain": [
       "1627"
      ]
     },
     "execution_count": 70,
     "metadata": {},
     "output_type": "execute_result"
    }
   ],
   "source": [
    "con1 = df['created_at'] > first_day\n",
    "con2 = df['created_at'] < last_day\n",
    "len(df.loc[con1 & con2, 'user_id'].unique())"
   ]
  },
  {
   "cell_type": "code",
   "execution_count": 72,
   "id": "8c79fd1f-fd3c-4b84-8d1d-ad47effaa499",
   "metadata": {},
   "outputs": [
    {
     "data": {
      "text/plain": [
       "Timestamp('2024-10-07 00:00:00')"
      ]
     },
     "execution_count": 72,
     "metadata": {},
     "output_type": "execute_result"
    }
   ],
   "source": [
    "df['access_date'].min()"
   ]
  }
 ],
 "metadata": {
  "kernelspec": {
   "display_name": "Python 3 (ipykernel)",
   "language": "python",
   "name": "python3"
  },
  "language_info": {
   "codemirror_mode": {
    "name": "ipython",
    "version": 3
   },
   "file_extension": ".py",
   "mimetype": "text/x-python",
   "name": "python",
   "nbconvert_exporter": "python",
   "pygments_lexer": "ipython3",
   "version": "3.12.7"
  }
 },
 "nbformat": 4,
 "nbformat_minor": 5
}
