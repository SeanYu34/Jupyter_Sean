{
 "cells": [
  {
   "cell_type": "code",
   "execution_count": 234,
   "id": "9dbb7595-a000-430d-bed2-0230c1c3dd19",
   "metadata": {},
   "outputs": [],
   "source": [
    "import pandas as pd\n",
    "import numpy as np\n",
    "from datetime import datetime, timedelta\n",
    "import warnings\n",
    "import matplotlib.pyplot as plt\n",
    "warnings.simplefilter('ignore')"
   ]
  },
  {
   "cell_type": "code",
   "execution_count": 236,
   "id": "3e0db1ea-4502-4c95-bfc6-66e97fd77c57",
   "metadata": {},
   "outputs": [],
   "source": [
    "dfs = pd.read_excel('/Users/seanyu_mac/Downloads/[친한구매]약사별 판매링크 관리_Master.xlsx', sheet_name=None)\n",
    "create_df = pd.read_excel('/Users/seanyu_mac/Downloads/친한스토어_상품생성_스크립트 (1).xlsx')\n",
    "sheet_names = list(dfs.keys())\n",
    "\n",
    "# 각각의 DataFrame으로 저장\n",
    "df1, df2 = dfs[sheet_names[0]], dfs[sheet_names[1]]\n",
    "df1.columns = df1.loc[0]\n",
    "df1.drop(0, inplace=True)\n",
    "df1 = df1.reset_index()\n",
    "df2.columns = df2.loc[0]\n",
    "df2.drop(0, inplace=True)\n",
    "df2 = df2.reset_index()\n",
    "\n",
    "# 장무현 메디슨맨\n",
    "# 최길문 바른약\n",
    "# 정혜윤 유니약사\n",
    "# 이찬민 이찬민약사\n",
    "nicks = ['메디슨맨', '바른약', '유니약사', '이찬민약사']"
   ]
  },
  {
   "cell_type": "code",
   "execution_count": 238,
   "id": "6d31fa86-aa56-4b55-b573-d1d332c1871c",
   "metadata": {},
   "outputs": [],
   "source": [
    "# 다르게 추가해야하는 데이터 약사님, 상품명 = 인덱스 6,3\n",
    "# 나머지는 유니크값들을 추가\n",
    "df = pd.concat([df1, df2])\n",
    "df.loc[df['상품명'] == '코랄칼마디', '상품명'] =  '코랄칼마디K2'\n",
    "\n",
    "product_idx = df['어드민ID'].unique().tolist()\n",
    "products = df['상품명'].unique().tolist()\n",
    "price = df['정상가'].unique().tolist()\n",
    "discount = df['판매가'].unique().tolist()\n",
    "\n",
    "con = create_df['약사님'] == '삐약약사'\n",
    "\n",
    "new_row = []\n",
    "for j in range(4):\n",
    "    for i in range(len(create_df[create_df['약사님'] == '삐약약사'].values.tolist())):\n",
    "        new_row = create_df[create_df['약사님'] == '삐약약사'].values.tolist()[i]\n",
    "        new_row[6] = nicks[j]\n",
    "        product_name = new_row[3]\n",
    "        product_name = product_name.replace('삐약약사', nicks[j])\n",
    "        new_row[3] = product_name\n",
    "        create_df.loc[len(create_df)] = new_row\n",
    "\n",
    "result_df = create_df[create_df['약사님'].isin(nicks)]\n",
    "result_df = result_df.reset_index()\n",
    "result_df = result_df.sort_values(by='상품명')\n",
    "result_df.to_excel('/Users/seanyu_mac/Downloads/[1345234543.xlsx')"
   ]
  },
  {
   "cell_type": "code",
   "execution_count": 260,
   "id": "6a86567f-3bbc-4289-88fb-752901305076",
   "metadata": {},
   "outputs": [],
   "source": [
    "df = pd.read_csv('/Users/seanyu_mac/Downloads/친한스토어_상품생성_스크립트.xlsx - 25-3-21.csv')\n",
    "df = df.sort_values(by='상품명')\n",
    "df.to_excel('/Users/seanyu_mac/Downloads/[134523234543.xlsx')"
   ]
  }
 ],
 "metadata": {
  "kernelspec": {
   "display_name": "Python 3 (ipykernel)",
   "language": "python",
   "name": "python3"
  },
  "language_info": {
   "codemirror_mode": {
    "name": "ipython",
    "version": 3
   },
   "file_extension": ".py",
   "mimetype": "text/x-python",
   "name": "python",
   "nbconvert_exporter": "python",
   "pygments_lexer": "ipython3",
   "version": "3.12.7"
  }
 },
 "nbformat": 4,
 "nbformat_minor": 5
}
