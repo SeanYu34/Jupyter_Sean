{
 "cells": [
  {
   "cell_type": "code",
   "execution_count": 6,
   "id": "ccd86060-67db-4812-8778-f0b94363261b",
   "metadata": {},
   "outputs": [],
   "source": [
    "import pandas as pd\n",
    "import numpy as np\n",
    "from datetime import datetime, timedelta\n",
    "\n",
    "# 비교군 날짜 설정 start_day, mid_day, end_day\n",
    "start_day = datetime(2024, 9, 1)\n",
    "mid_day = datetime(2024, 10, 1)\n",
    "end_day = datetime(2024, 11, 1)\n",
    "\n",
    "start_date = start_day.strftime('%Y-%m-%d')\n",
    "temp_date = mid_day - pd.Timedelta(days=1)\n",
    "mid_date1 = temp_date.strftime('%Y-%m-%d')\n",
    "mid_date2 = mid_day.strftime('%Y-%m-%d')\n",
    "temp_date = end_day - pd.Timedelta(days=1)\n",
    "end_date = temp_date.strftime('%Y-%m-%d')\n",
    "\n",
    "# rate function\n",
    "def rate(before, after):\n",
    "    data = (after - before) / before * 100\n",
    "    data = np.round(data, 1)\n",
    "    return data\n",
    "\n",
    "# Read Dataframe and fine data\n",
    "user_df = pd.read_csv('/Users/seanyu_mac/Downloads/public_pb_user_export_2024-11-04_112746.csv')\n",
    "auth_df = pd.read_csv('/Users/seanyu_mac/Downloads/public_pb_user_auth_info_export_2024-11-04_112813.csv')\n",
    "\n",
    "user_df.rename(columns={'id': 'key'}, inplace=True)\n",
    "auth_df.rename(columns={'user_id': 'key'}, inplace=True)\n",
    "\n",
    "df = pd.merge(user_df[['key', 'email', 'reg_dt', 'last_login_dt', 'del_dt']], auth_df[['key', 'email', 'sex', 'updated_at', 'is_delete', 'birthday', 'sns_type']], on='key', how='left')\n",
    "\n",
    "pre_col_list = df.columns.tolist()\n",
    "post_col_list = ['key', 'email_x', 'email_y', 'reg_dt', 'last_login_dt', 'updated_at', 'del_dt', 'is_delete', 'sex', 'birthday', 'sns_type']\n",
    "df = df[post_col_list]\n",
    "df.rename(columns={'reg_dt': 'first_seen', 'last_login_dt': 'last_seen_x', 'updated_at': 'last_seen_y'}, inplace=True)\n",
    "\n",
    "del df['last_seen_y']\n",
    "df.rename(columns={'last_seen_x': 'last_seen'}, inplace=True)\n",
    "\n",
    "# read consult_df and groupby on monthly basis\n",
    "consult_df = pd.read_excel('/Users/seanyu_mac/Downloads/statics_result_20241104_122338.xlsx')\n",
    "consult_df = consult_df[consult_df['년도'] == 2024]\n",
    "temp_df = consult_df.groupby('월').sum()\n",
    "temp_df['num'] = temp_df['1:1 상담건수'] + temp_df['사진 분석 건수'] \n",
    "\n",
    "# total_sign_up_num, pre_sign_up_num, post_sign_up_num\n",
    "dates = []\n",
    "\n",
    "for i in df['first_seen'].tolist():\n",
    "    strftime = i[:10]\n",
    "    date = pd.to_datetime(strftime)\n",
    "    dates.append(date)\n",
    "\n",
    "df['first_seen'] = dates\n",
    "pre_con = (df['first_seen'] >= start_day) & (df['first_seen'] < mid_day)\n",
    "post_con = (df['first_seen'] >= mid_day) & (df['first_seen'] < end_day)\n",
    "all_con = df['first_seen'] < end_day\n",
    "\n",
    "total_sign_up_num = len(df[all_con].index)\n",
    "pre_sign_up_num = len(df[pre_con].index)\n",
    "post_sign_up_num = len(df[post_con].index)\n",
    "\n",
    "# total_consult_num, pre_consult_num, post_consult_num\n",
    "last_month = mid_day.strftime('%m')\n",
    "last_month = int(last_month)\n",
    "total_consult_num = 0\n",
    "\n",
    "for i in range(last_month):\n",
    "    i = i + 1\n",
    "    total_consult_num = total_consult_num + temp_df['num'][i]\n",
    "\n",
    "pre_consult_num = temp_df['num'][last_month - 1]\n",
    "post_consult_num = temp_df['num'][last_month]\n"
   ]
  },
  {
   "cell_type": "code",
   "execution_count": 7,
   "id": "1c7bd403-f8fb-4163-ba34-90c7c002ef0e",
   "metadata": {},
   "outputs": [
    {
     "name": "stdout",
     "output_type": "stream",
     "text": [
      "월별 상담수 추이\n"
     ]
    },
    {
     "data": {
      "text/plain": [
       "월\n",
       "1     2308\n",
       "2     1978\n",
       "3     3386\n",
       "4     2817\n",
       "5     2658\n",
       "6     2734\n",
       "7     2814\n",
       "8     2228\n",
       "9     1982\n",
       "10    2200\n",
       "11     181\n",
       "Name: num, dtype: int64"
      ]
     },
     "execution_count": 7,
     "metadata": {},
     "output_type": "execute_result"
    }
   ],
   "source": [
    "print('월별 상담수 추이')\n",
    "temp_df['num']"
   ]
  },
  {
   "cell_type": "code",
   "execution_count": 8,
   "id": "675018d3-ff1b-400f-b9c7-c46ba84019b6",
   "metadata": {},
   "outputs": [
    {
     "name": "stdout",
     "output_type": "stream",
     "text": [
      "월별 회원가입자수 추이\n"
     ]
    },
    {
     "name": "stderr",
     "output_type": "stream",
     "text": [
      "/var/folders/wl/txjbcgld2sngchsc7txxqppm0000gp/T/ipykernel_3981/3493840013.py:2: SettingWithCopyWarning: \n",
      "A value is trying to be set on a copy of a slice from a DataFrame.\n",
      "Try using .loc[row_indexer,col_indexer] = value instead\n",
      "\n",
      "See the caveats in the documentation: https://pandas.pydata.org/pandas-docs/stable/user_guide/indexing.html#returning-a-view-versus-a-copy\n",
      "  sign_up_df['month'] = sign_up_df['first_seen'].astype(str)\n",
      "/var/folders/wl/txjbcgld2sngchsc7txxqppm0000gp/T/ipykernel_3981/3493840013.py:7: SettingWithCopyWarning: \n",
      "A value is trying to be set on a copy of a slice from a DataFrame.\n",
      "Try using .loc[row_indexer,col_indexer] = value instead\n",
      "\n",
      "See the caveats in the documentation: https://pandas.pydata.org/pandas-docs/stable/user_guide/indexing.html#returning-a-view-versus-a-copy\n",
      "  sign_up_df['month'] = sign_months\n"
     ]
    },
    {
     "data": {
      "text/plain": [
       "month\n",
       "01    2413\n",
       "02    1297\n",
       "03    2281\n",
       "04    1839\n",
       "05    2009\n",
       "06    1988\n",
       "07    2075\n",
       "08    1495\n",
       "09    1169\n",
       "10    1560\n",
       "11     185\n",
       "dtype: int64"
      ]
     },
     "execution_count": 8,
     "metadata": {},
     "output_type": "execute_result"
    }
   ],
   "source": [
    "sign_up_df = df[df['first_seen'] >= datetime(2024, 1, 1)]\n",
    "sign_up_df['month'] = sign_up_df['first_seen'].astype(str)\n",
    "sign_months = []\n",
    "for i in sign_up_df['month']:\n",
    "    i = i[5:7]\n",
    "    sign_months.append(i)\n",
    "sign_up_df['month'] = sign_months\n",
    "print('월별 회원가입자수 추이')\n",
    "sign_up_df.groupby('month').size()"
   ]
  },
  {
   "cell_type": "code",
   "execution_count": 12,
   "id": "e49c6e2c-7883-404e-a539-8142e4ba30a1",
   "metadata": {},
   "outputs": [
    {
     "name": "stdout",
     "output_type": "stream",
     "text": [
      "1. 지지난달`(2024-09-01 ~ 2024-09-30)`과 지난달`(2024-10-01 ~ 2024-10-31)`을 비교\n",
      "2. 2024-10-31일 기준 총 회원 가입 유저 수는 24385명\n",
      "3. 09월 회원 가입자 수: 1169명 / 10월 회원 가입자 수: 1560명으로 전월 대비 33.4% 증감\n",
      "4. 10월 기준, 총 누적 상담 건수는 25105건\n",
      "5. 09월 상담 수: 1982건, 10월 상담 수: 2200건으로 전월 대비 11.0% 증감\n",
      "6. 평균 DAU 656명 (지난달 651명 대비 0.8% 증가)\n",
      "7. 평균 MAU 10511명 (지난달 9882명 대비 6.4% 증가)\n"
     ]
    }
   ],
   "source": [
    "print(f'1. 지지난달`({start_date} ~ {mid_date1})`과 지난달`({mid_date2} ~ {end_date})`을 비교')\n",
    "print(f'2. {end_date}일 기준 총 회원 가입 유저 수는 {total_sign_up_num}명')\n",
    "print(f'3. {start_day.strftime('%m')}월 회원 가입자 수: {pre_sign_up_num}명 / {mid_day.strftime('%m')}월 회원 가입자 수: {post_sign_up_num}명으로 전월 대비 {rate(pre_sign_up_num, post_sign_up_num)}% 증감')\n",
    "print(f'4. {mid_day.strftime('%m')}월 기준, 총 누적 상담 건수는 {total_consult_num}건')\n",
    "print(f'5. {start_day.strftime('%m')}월 상담 수: {pre_consult_num}건, {mid_day.strftime('%m')}월 상담 수: {post_consult_num}건으로 전월 대비 {rate(pre_consult_num, post_consult_num)}% 증감')\n",
    "print(f'6. 평균 DAU 656명 (지난달 651명 대비 {rate(651, 656)}% 증가)')\n",
    "print(f'7. 평균 MAU 10511명 (지난달 9882명 대비 {rate(9882, 10511)}% 증가)')"
   ]
  },
  {
   "cell_type": "code",
   "execution_count": 14,
   "id": "806087a0-19b2-4c95-9e84-c55d7e3e9291",
   "metadata": {},
   "outputs": [
    {
     "name": "stderr",
     "output_type": "stream",
     "text": [
      "/opt/anaconda3/lib/python3.12/site-packages/openpyxl/styles/stylesheet.py:237: UserWarning: Workbook contains no default style, apply openpyxl's default\n",
      "  warn(\"Workbook contains no default style, apply openpyxl's default\")\n",
      "/opt/anaconda3/lib/python3.12/site-packages/openpyxl/styles/stylesheet.py:237: UserWarning: Workbook contains no default style, apply openpyxl's default\n",
      "  warn(\"Workbook contains no default style, apply openpyxl's default\")\n",
      "/opt/anaconda3/lib/python3.12/site-packages/openpyxl/styles/stylesheet.py:237: UserWarning: Workbook contains no default style, apply openpyxl's default\n",
      "  warn(\"Workbook contains no default style, apply openpyxl's default\")\n"
     ]
    },
    {
     "data": {
      "text/plain": [
       "month\n",
       "01     4095420\n",
       "02     7531040\n",
       "03    10053580\n",
       "04    13277500\n",
       "05     9880280\n",
       "06     9561430\n",
       "07    11381060\n",
       "08     9907540\n",
       "09    10630040\n",
       "10     8953640\n",
       "11     1721730\n",
       "Name: sales, dtype: int64"
      ]
     },
     "execution_count": 14,
     "metadata": {},
     "output_type": "execute_result"
    }
   ],
   "source": [
    "# 8월 이후 카카오랑 친한스토어 매출파일 Read\n",
    "kakao_df = pd.read_excel('/Users/seanyu_mac/Downloads/20241104152401.xlsx')\n",
    "chinhan_df1 = pd.read_excel('/Users/seanyu_mac/Downloads/report.xlsx')\n",
    "chinhan_df2 = pd.read_excel('/Users/seanyu_mac/Downloads/report (1).xlsx')\n",
    "\n",
    "kakao_df[kakao_df['취소완료일'].isna() == False].index\n",
    "\n",
    "kakao_df.drop(kakao_df[kakao_df['취소완료일'].isna() == False].index, inplace=True)\n",
    "kakao_df['date'] = kakao_df['발송요청일']\n",
    "kakao_df['id'] = kakao_df['결제번호']\n",
    "kakao_df['name'] = kakao_df['상품명']\n",
    "kakao_df['quantity'] = kakao_df['수량']\n",
    "kakao_df['sales'] = kakao_df['정산기준금액']\n",
    "\n",
    "chinhan_df = pd.concat([chinhan_df1, chinhan_df2])\n",
    "chinhan_df.drop(chinhan_df[chinhan_df['취소 완료일'].isna() == False].index, inplace=True)\n",
    "chinhan_df['date'] = chinhan_df['결제 완료일']\n",
    "chinhan_df['id'] = chinhan_df['결제 번호']\n",
    "chinhan_df['name'] = chinhan_df['옵션명']\n",
    "chinhan_df['quantity'] = chinhan_df['수량']\n",
    "chinhan_df['sales'] = chinhan_df['정산가']\n",
    "\n",
    "kakao_df = kakao_df[['date', 'id', 'name' , 'quantity', 'sales']]\n",
    "kakao_df.drop(kakao_df[kakao_df['date'].isna()].index, inplace=True)\n",
    "chinhan_df = chinhan_df[['date', 'id', 'name' , 'quantity', 'sales']]\n",
    "sales_df = pd.concat([kakao_df, chinhan_df])\n",
    "\n",
    "sales_df['date'] = sales_df['date'].astype(str)\n",
    "sales_dates = []\n",
    "for i in sales_df['date']:\n",
    "    i = i[:10]\n",
    "    sales_dates.append(i)\n",
    "sales_df['date'] = sales_dates\n",
    "sales_df['date'] = pd.to_datetime(sales_df['date'])\n",
    "sales_df['month'] = sales_df['date'].dt.strftime('%m')\n",
    "sales_df.sort_values(by='month', ascending=True, inplace=True)\n",
    "sales_df.groupby('month')['sales'].sum()"
   ]
  },
  {
   "cell_type": "code",
   "execution_count": 18,
   "id": "10237713-9a09-4168-a21c-2dc52f0d50ed",
   "metadata": {},
   "outputs": [
    {
     "name": "stdout",
     "output_type": "stream",
     "text": [
      "1. 총 289 days 00:00:00일 동안 누적 판매금액 : 96,993,260원\n",
      "2. 일 평균 판매액 : 332168.69863013696원\n",
      "3. 객단가 : 51674.61907298881원\n",
      "4. 9월 매출 10,630,040원, 10월 매출 8,953,640원으로 -15.8% 증감\n",
      "5. 현재 상담 추천 제품 판매 관련 앱 리빌드 과정으로 정확한 전환율 측정 불가 (기존의 약 25% 내외 유지 중)\n"
     ]
    }
   ],
   "source": [
    "print(f'1. 총 {end_day - sales_df['date'].min()}일 동안 누적 판매금액 : {sales_df['sales'].sum():,}원')\n",
    "print(f'2. 일 평균 판매액 : {sales_df['sales'].sum() / len(sales_df['date'].unique())}원')\n",
    "print(f'3. 객단가 : {sales_df['sales'].sum() / len(sales_df['id'].unique())}원')\n",
    "print(f'4. 9월 매출 10,630,040원, 10월 매출 8,953,640원으로 {rate(10630040, 8953640)}% 증감')\n",
    "print(f'5. 현재 상담 추천 제품 판매 관련 앱 리빌드 과정으로 정확한 전환율 측정 불가 (기존의 약 25% 내외 유지 중)')"
   ]
  },
  {
   "cell_type": "code",
   "execution_count": 692,
   "id": "e9505152-3c17-4864-92a8-147d5f4dc53d",
   "metadata": {},
   "outputs": [
    {
     "data": {
      "text/plain": [
       "292"
      ]
     },
     "execution_count": 692,
     "metadata": {},
     "output_type": "execute_result"
    }
   ],
   "source": []
  }
 ],
 "metadata": {
  "kernelspec": {
   "display_name": "Python 3 (ipykernel)",
   "language": "python",
   "name": "python3"
  },
  "language_info": {
   "codemirror_mode": {
    "name": "ipython",
    "version": 3
   },
   "file_extension": ".py",
   "mimetype": "text/x-python",
   "name": "python",
   "nbconvert_exporter": "python",
   "pygments_lexer": "ipython3",
   "version": "3.12.7"
  }
 },
 "nbformat": 4,
 "nbformat_minor": 5
}
