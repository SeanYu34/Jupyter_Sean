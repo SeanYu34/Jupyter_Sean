{
 "cells": [
  {
   "cell_type": "code",
   "execution_count": 301,
   "id": "628aa9be-cc92-47f6-9f44-57ecafb0d2fa",
   "metadata": {},
   "outputs": [
    {
     "name": "stdout",
     "output_type": "stream",
     "text": [
      "휴대폰 번호 끝 4자리 비교 시, 친한스토어와 아워박스 간 발주 데이터가 일치합니다.\n",
      "\n",
      "우편번호 비교 시, 친한스토어와 아워박스 간 발주 데이터가 일치합니다.\n",
      "\n",
      "결제 시점으로 비교 시, 친한스토어와 아워박스 간 발주 데이터가 일치합니다.\n",
      "\n"
     ]
    },
    {
     "name": "stderr",
     "output_type": "stream",
     "text": [
      "/opt/anaconda3/lib/python3.12/site-packages/openpyxl/styles/stylesheet.py:237: UserWarning: Workbook contains no default style, apply openpyxl's default\n",
      "  warn(\"Workbook contains no default style, apply openpyxl's default\")\n"
     ]
    }
   ],
   "source": [
    "import pandas as pd\n",
    "import numpy as np\n",
    "from datetime import datetime, timedelta\n",
    "\n",
    "ob_df = pd.read_excel('/Users/seanyu_mac/Downloads/2025_02_21_ourbox.xlsx')\n",
    "fs_df = pd.read_excel('/Users/seanyu_mac/Downloads/주문내역 (1).xlsx')\n",
    "\n",
    "fs_df = fs_df[['수령인 연락처', '우편번호', '결제 완료일']]\n",
    "fs_df.rename(columns={'수령인 연락처': 'phone', '우편번호': 'zip_code', '결제 완료일': 'order_dt'}, inplace=True)\n",
    "\n",
    "fs_df['order_dt'] = fs_df['order_dt'].dt.strftime('%Y-%m-%d %H:%M:%S')\n",
    "ob_df['order_dt'] = ob_df['order_dt'].dt.strftime('%Y-%m-%d %H:%M:%S')\n",
    "\n",
    "ob_df.sort_values(by='order_dt', inplace=True)\n",
    "fs_df.sort_values(by='order_dt', inplace=True)\n",
    "\n",
    "fs_df.reset_index(drop=True, inplace=True)\n",
    "\n",
    "nums = []\n",
    "\n",
    "for i in fs_df['phone']:\n",
    "    nums.append(i[9:])\n",
    "\n",
    "fs_df['phone'] = nums\n",
    "\n",
    "nums = []\n",
    "\n",
    "for i in ob_df['phone']:\n",
    "    nums.append(i[9:])\n",
    "\n",
    "ob_df['phone'] = nums\n",
    "\n",
    "ob_phones = ob_df['phone'].tolist()\n",
    "fs_phones = fs_df['phone'].tolist()\n",
    "\n",
    "ob_zip = ob_df['zip_code'].tolist()\n",
    "fs_zip = fs_df['zip_code'].tolist()\n",
    "\n",
    "ob_order_dt = ob_df['order_dt'].tolist()\n",
    "fs_order_dt = fs_df['order_dt'].tolist()\n",
    "\n",
    "diff1 = []\n",
    "\n",
    "for i in ob_phones:\n",
    "    if i not in fs_phones:\n",
    "        diff1.append(i)\n",
    "\n",
    "if len(diff1) != 0:\n",
    "    print(f'휴대폰 번호 끝 4자리 중 {diff1} 값들은 친한스토어와 아워박스 간 발주 데이터가 일치하지 않습니다')\n",
    "else:\n",
    "    print(f'휴대폰 번호 끝 4자리 비교 시, 친한스토어와 아워박스 간 발주 데이터가 일치합니다.\\n')\n",
    "\n",
    "diff2 = []\n",
    "\n",
    "for i in ob_zip:\n",
    "    if i not in fs_zip:\n",
    "        diff2.append(i)\n",
    "\n",
    "if len(diff2) != 0:\n",
    "    print(f'우편번호 중 {diff2} 값들은 친한스토어와 아워박스 간 발주 데이터가 일치하지 않습니다')\n",
    "else:\n",
    "    print(f'우편번호 비교 시, 친한스토어와 아워박스 간 발주 데이터가 일치합니다.\\n')\n",
    "    \n",
    "diff3 = []\n",
    "\n",
    "for i in ob_order_dt:\n",
    "    if i not in fs_order_dt:\n",
    "        diff3.append(i)\n",
    "\n",
    "if len(diff3) != 0:\n",
    "    print(f'결제일 중 {diff3} 값들은 친한스토어와 아워박스 간 발주 데이터가 일치하지 않습니다')\n",
    "else:\n",
    "    print(f'결제 시점으로 비교 시, 친한스토어와 아워박스 간 발주 데이터가 일치합니다.\\n')"
   ]
  }
 ],
 "metadata": {
  "kernelspec": {
   "display_name": "Python 3 (ipykernel)",
   "language": "python",
   "name": "python3"
  },
  "language_info": {
   "codemirror_mode": {
    "name": "ipython",
    "version": 3
   },
   "file_extension": ".py",
   "mimetype": "text/x-python",
   "name": "python",
   "nbconvert_exporter": "python",
   "pygments_lexer": "ipython3",
   "version": "3.12.7"
  }
 },
 "nbformat": 4,
 "nbformat_minor": 5
}
