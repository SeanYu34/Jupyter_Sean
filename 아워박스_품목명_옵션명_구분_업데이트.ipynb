{
 "cells": [
  {
   "cell_type": "code",
   "execution_count": 1,
   "id": "0a8c8a59-812f-461f-ab3a-91fa84fd929a",
   "metadata": {},
   "outputs": [],
   "source": [
    "import pandas as pd\n",
    "import numpy as np\n",
    "from datetime import datetime, timedelta\n",
    "import warnings\n",
    "warnings.simplefilter('ignore')"
   ]
  },
  {
   "cell_type": "code",
   "execution_count": 2,
   "id": "5b60e861-0049-41ef-8c3e-8195b5b64ae3",
   "metadata": {},
   "outputs": [],
   "source": [
    "ob_df = pd.read_csv('/Users/mac/Downloads/아워박스_통합관리_조회_초안 - 시트1 (6).csv')\n",
    "fs_df = pd.read_excel('/Users/mac/Downloads/주문내역_2024-06-09~2025-06-13.xlsx')\n",
    "code_df = pd.read_csv('/Users/mac/Downloads/store_t_product_option_export_2025-06-12_174426.csv')"
   ]
  },
  {
   "cell_type": "code",
   "execution_count": 3,
   "id": "03ba5d37-0535-4e36-a249-8e55041b2e5d",
   "metadata": {},
   "outputs": [
    {
     "data": {
      "text/plain": [
       "215"
      ]
     },
     "execution_count": 3,
     "metadata": {},
     "output_type": "execute_result"
    }
   ],
   "source": [
    "ob_df.index.size"
   ]
  },
  {
   "cell_type": "code",
   "execution_count": 4,
   "id": "f31d95ba-10e5-4eb1-a30e-a110a1722210",
   "metadata": {},
   "outputs": [
    {
     "data": {
      "text/plain": [
       "['반품', '정상']"
      ]
     },
     "execution_count": 4,
     "metadata": {},
     "output_type": "execute_result"
    }
   ],
   "source": [
    "# ob_df의 주문서 상태의 html 코드 없애기\n",
    "ob_df['주문서상태'] = ob_df['주문서상태'].str.replace(\"<span class='square square-primary'>\",\"\")\n",
    "ob_df['주문서상태'] = ob_df['주문서상태'].str.replace(\"</span>\",\"\")\n",
    "ob_df['주문서상태'] = ob_df['주문서상태'].str.replace(\"<span class='square square-warning'>\",\"\")\n",
    "ob_df['주문서상태'].unique().tolist()"
   ]
  },
  {
   "cell_type": "code",
   "execution_count": 5,
   "id": "bf9bad80-3209-4349-8c06-7b62885349ea",
   "metadata": {},
   "outputs": [
    {
     "data": {
      "text/plain": [
       "['[YDY] 액티브헴철 (8EA)',\n",
       " '[YDY] 액티브헴철 (3EA)',\n",
       " '[YDY] 퓨어 리포좀 비타민C (6EA)',\n",
       " '[YDY] 액티브비큐텐',\n",
       " '[YDY] 퓨어 리포좀 비타민C (3EA)',\n",
       " '[YDY] 폴라초임계오메가3',\n",
       " '[YDY] 프로바이오 에스엘비(SLB) (2EA)',\n",
       " '[YDY] 프로바이오 에스엘비(SLB) (4EA)',\n",
       " '[YDY] 액티브헴철 (6EA)',\n",
       " '[YDY] 콜라겐 비오틴 듀오',\n",
       " '[YDY] 프로바이오 에스엘비(SLB) (6EA)',\n",
       " '[YDY] 퓨어 리포좀 비타민C (12EA)',\n",
       " '[YDY] 포스트바이오틱스 GX',\n",
       " '[YDY] 코랄칼마디 K2_R1',\n",
       " '[YDY] 프로바이오 에스엘비(SLB)',\n",
       " '[YDY] 액티브헴철 (12EA)',\n",
       " '[YDY] 썬 비타민D3 & K2_R1',\n",
       " '[YDY] 마그듀오 K2_R1',\n",
       " '[YDY] 퓨어 리포좀 비타민C',\n",
       " '[파이토알엑스] 이뮨 빌베리 (3EA)',\n",
       " '[파이토알엑스] 이뮨 빌베리 (6EA)',\n",
       " '[파이토알엑스] 이뮨 빌베리 (12EA)',\n",
       " '[파이토알엑스] 이뮨 빌베리 (8EA)',\n",
       " '[YDY] 퓨어 리포좀 글루타치온',\n",
       " '[YDY] 내몸에 효소가득',\n",
       " '[YDY] 파이토 레드큐민 (3EA)',\n",
       " '[YDY] 파이토 레드큐민 (12EA)',\n",
       " '[YDY] 오큐클리어 (6EA)',\n",
       " '[YDY] 오큐클리어 (3EA)',\n",
       " '[YDY] 퓨어 레드큐민 (3EA)',\n",
       " '[YDY] 액티브헴철',\n",
       " '[파이토알엑스] CBP 락토페린 플러스',\n",
       " '[YDY] 오큐클리어',\n",
       " '[YDY] 오마비 세트(폴라초임계오메가3 (1EA) + 마그듀오 (1EA) + 액티브비큐텐 (1EA)) + 쇼핑백 (1EA)']"
      ]
     },
     "execution_count": 5,
     "metadata": {},
     "output_type": "execute_result"
    }
   ],
   "source": [
    "# ob_df의 품목명 상태의 html 코드 없애기\n",
    "ob_df['품목명'] = ob_df['품목명'].apply(lambda x: x.split('</span> ')[1].split('</')[0].strip())\n",
    "ob_df['품목명'].unique().tolist()"
   ]
  },
  {
   "cell_type": "code",
   "execution_count": 6,
   "id": "6c9c1653-5558-4413-ba23-25d39d560686",
   "metadata": {},
   "outputs": [],
   "source": [
    "# fs_df 에서 테스트 상품은 제거\n",
    "fs_df = fs_df.drop(fs_df[fs_df['상품명'].str.contains('테스트')].index)\n",
    "fs_df = fs_df.drop(fs_df[fs_df['상품명'].str.contains('QA')].index)\n",
    "fs_df = fs_df.drop(fs_df[fs_df['옵션명'].str.contains('QA')].index)"
   ]
  },
  {
   "cell_type": "code",
   "execution_count": 7,
   "id": "36dff023-4e29-4df0-8e10-158d37fe47b4",
   "metadata": {},
   "outputs": [],
   "source": [
    "temp_df = pd.merge(fs_df, code_df[['option_name', 'fulfillment_item_code']], left_on='옵션명', right_on='option_name', how='left')\n",
    "temp_df.loc[temp_df['fulfillment_item_code'].isna(), '옵션명'].unique().tolist()\n",
    "\n",
    "\n",
    "temp_df.loc[temp_df['옵션명'] == '마그듀오', 'fulfillment_item_code'] = 202650000001\n",
    "temp_df.loc[temp_df['옵션명'] == '코랄칼마디', 'fulfillment_item_code'] = 201807000036\n",
    "temp_df.loc[temp_df['옵션명'] == '썬비타민D3&K2', 'fulfillment_item_code'] = 201067000008\n",
    "temp_df.loc[temp_df['옵션명'] == '[스페셜할인코드/형제약사] YDY 썬비타민D3 2500IU 1박스(60일분)', 'fulfillment_item_code'] = 201067000008\n",
    "temp_df.loc[temp_df['옵션명'] == '[스페셜할인코드/친한] YDY 코랄칼마디 1박스(1개월분) / 칼슘 마그네슘 비타민D', 'fulfillment_item_code'] = 201807000036\n",
    "temp_df.loc[temp_df['옵션명'] == '[스페셜할인코드/친한] YDY 썬비타민D3 2500IU 1박스(60일분)', 'fulfillment_item_code'] = 201067000008\n",
    "temp_df.loc[temp_df['옵션명'] == '[스페셜할인코드/친한] YDY 마그듀오 1박스(1개월분)', 'fulfillment_item_code'] = 202650000001\n",
    "temp_df.loc[temp_df['옵션명'] == '[스페셜할인코드/고상온약사] YDY 썬비타민D3 2500IU 1박스(60일분)', 'fulfillment_item_code'] = 201067000008\n",
    "temp_df.loc[temp_df['옵션명'] == '[스페셜할인코드/위키약사] YDY 코랄칼마디 1박스(1개월분) / 칼슘 마그네슘 비타민D', 'fulfillment_item_code'] = 201807000036\n",
    "temp_df.loc[temp_df['옵션명'] == '[스페셜할인코드/약사임당] YDY 코랄칼마디 1박스(1개월분) / 칼슘 마그네슘 비타민D', 'fulfillment_item_code'] = 201807000036\n",
    "temp_df.loc[temp_df['옵션명'] == '[스페셜할인코드/고상온약사] YDY 코랄칼마디 1박스(1개월분) / 칼슘 마그네슘 비타민D', 'fulfillment_item_code'] = 201807000036\n",
    "temp_df.loc[temp_df['옵션명'] == '[스페셜할인코드/남기헌약사] YDY 코랄칼마디 1박스(1개월분) / 칼슘 마그네슘 비타민D', 'fulfillment_item_code'] = 201807000036\n",
    "temp_df.loc[temp_df['옵션명'] == '[스페셜할인코드/이재연약사] YDY 코랄칼마디 1박스(1개월분) / 칼슘 마그네슘 비타민D', 'fulfillment_item_code'] = 201807000036\n",
    "temp_df.loc[temp_df['옵션명'] == '[스페셜할인코드/안재돈약사] YDY 코랄칼마디 1박스(1개월분) / 칼슘 마그네슘 비타민D', 'fulfillment_item_code'] = 201807000036\n",
    "temp_df.loc[temp_df['옵션명'] == '[스페셜할인코드/고상온약사] YDY 마그듀오 1박스(1개월분)', 'fulfillment_item_code'] = 202650000001\n",
    "temp_df.loc[temp_df['옵션명'] == '[스페셜할인코드/남기헌약사] YDY 마그듀오 1박스(1개월분)', 'fulfillment_item_code'] = 202650000001\n",
    "temp_df.loc[temp_df['옵션명'] == '풀스펙멀티비타민', 'fulfillment_item_code'] = 201067000013\n",
    "\n",
    "fs_df = temp_df"
   ]
  },
  {
   "cell_type": "code",
   "execution_count": 8,
   "id": "1e36efba-256d-4ffb-9cd7-491c6d1d661d",
   "metadata": {},
   "outputs": [
    {
     "data": {
      "text/plain": [
       "array(['[공동구매] 자신약사 X 파이토알엑스 이뮨 빌베리 / 3박스 6박스 8박스 12박스',\n",
       "       '[공동구매] 은하약사 X YDY 액티브헴철 / 3박스 6박스  12박스',\n",
       "       '[공동구매] 샤인약사 x YDY 콜라겐 비오틴 듀오 / 2박스 4박스 8박스',\n",
       "       '[공동구매] 두둥실팜 x 유트리션 와일드 알래스카 오메가3 미니 60캡슐 / 3 5 8박스',\n",
       "       '[공동구매] 몸짱약사 x YDY 콜라겐 비오틴 듀오 / 2박스 4박스 6박스'], dtype=object)"
      ]
     },
     "execution_count": 8,
     "metadata": {},
     "output_type": "execute_result"
    }
   ],
   "source": [
    "null_df = fs_df[fs_df['fulfillment_item_code'].isna()]\n",
    "null_df['상품명'].unique()"
   ]
  },
  {
   "cell_type": "code",
   "execution_count": 9,
   "id": "10172f42-4293-48a0-ab73-0baec91e8783",
   "metadata": {},
   "outputs": [],
   "source": [
    "fs_df.loc[fs_df['fulfillment_item_code'].isna(), 'fulfillment_item_code'] = 0"
   ]
  },
  {
   "cell_type": "code",
   "execution_count": 10,
   "id": "725defd2-af15-4772-96f7-f9a5f1d04a9b",
   "metadata": {},
   "outputs": [],
   "source": [
    "fs_df['fulfillment_item_code'] = fs_df['fulfillment_item_code'].astype(int)"
   ]
  },
  {
   "cell_type": "code",
   "execution_count": 11,
   "id": "9594dc72-83df-47d8-9945-4e20bd1733ab",
   "metadata": {},
   "outputs": [],
   "source": [
    "fs_df['결제 완료일'] = fs_df['결제 완료일'].dt.strftime('%Y-%m-%d %H:%M:%S')\n",
    "ob_df['주문일시'] = pd.to_datetime(ob_df['주문일시'])\n",
    "ob_df['주문일시'] = ob_df['주문일시'].dt.strftime('%Y-%m-%d %H:%M:%S')"
   ]
  },
  {
   "cell_type": "code",
   "execution_count": 12,
   "id": "2bd1e9e9-0f38-42e9-9c9f-1d34c129d0e2",
   "metadata": {},
   "outputs": [
    {
     "data": {
      "text/plain": [
       "215"
      ]
     },
     "execution_count": 12,
     "metadata": {},
     "output_type": "execute_result"
    }
   ],
   "source": [
    "ob_df.index.size"
   ]
  },
  {
   "cell_type": "code",
   "execution_count": 13,
   "id": "8042b8d9-ec3f-4167-be4b-ba1916734f5c",
   "metadata": {},
   "outputs": [],
   "source": [
    "fs_df = fs_df[fs_df.duplicated(subset=['결제 완료일', 'fulfillment_item_code'], keep=False)]"
   ]
  },
  {
   "cell_type": "code",
   "execution_count": 14,
   "id": "6e04f273-907a-4947-a306-4bc4de65797a",
   "metadata": {},
   "outputs": [],
   "source": [
    "temp_df = pd.merge(ob_df, fs_df[['결제 완료일', 'fulfillment_item_code', '옵션명', '상품명', '상품 번호']], left_on=['주문일시','업체품목코드'], right_on=['결제 완료일','fulfillment_item_code'], how='inner')"
   ]
  },
  {
   "cell_type": "code",
   "execution_count": 15,
   "id": "0cb0ebf3-9d48-4201-8249-44f3a5501a98",
   "metadata": {},
   "outputs": [],
   "source": [
    "temp_df['도서산간여부'] = temp_df['도서산간여부'].apply(lambda x: x.split(\"square-gray'>\")[1].split('<')[0]) "
   ]
  },
  {
   "cell_type": "code",
   "execution_count": 16,
   "id": "e41921f3-259c-4fbe-bdb6-ce444d9a7095",
   "metadata": {},
   "outputs": [],
   "source": [
    "temp_df['채널상품명'] = temp_df['상품명']\n",
    "temp_df['옵션1'] = temp_df['옵션명']\n",
    "temp_df['채널아이디'] = temp_df['상품 번호']\n",
    "\n",
    "del temp_df['결제 완료일']\n",
    "del temp_df['fulfillment_item_code']\n",
    "del temp_df['옵션명']\n",
    "del temp_df['상품명']\n",
    "del temp_df['상품 번호']"
   ]
  },
  {
   "cell_type": "code",
   "execution_count": 17,
   "id": "6b6ec309-1ca2-42bd-8a18-d8fc08b27274",
   "metadata": {},
   "outputs": [],
   "source": [
    "types = []\n",
    "temp_df.loc[temp_df['채널상품명'].isna(), '채널상품명'] = '없음'\n",
    "\n",
    "for i in temp_df['채널상품명']:\n",
    "    if '공동' in i:\n",
    "        types.append('공동구매')\n",
    "    elif '스페셜' in i:\n",
    "        types.append('친한구매')\n",
    "    elif '임직' in i:\n",
    "        types.append('임직원몰 상품')\n",
    "    else:\n",
    "        types.append('없음')\n",
    "\n",
    "temp_df['구분'] = types"
   ]
  },
  {
   "cell_type": "code",
   "execution_count": 18,
   "id": "2d8faf31-2967-4392-a8c2-ac2cd09901e1",
   "metadata": {},
   "outputs": [],
   "source": [
    "temp_df['주문번호'] = temp_df['주문번호'].apply(lambda x: x[:5])"
   ]
  },
  {
   "cell_type": "code",
   "execution_count": 19,
   "id": "6433afa4-ac33-4eda-947b-c757a215e7f5",
   "metadata": {},
   "outputs": [
    {
     "data": {
      "text/plain": [
       "361"
      ]
     },
     "execution_count": 19,
     "metadata": {},
     "output_type": "execute_result"
    }
   ],
   "source": [
    "temp_df.index.size"
   ]
  },
  {
   "cell_type": "code",
   "execution_count": 20,
   "id": "15752790-5aa7-4e59-9b52-b3a16447c035",
   "metadata": {},
   "outputs": [],
   "source": [
    "temp_df.to_excel(f'/Users/mac/Downloads/아워박스_업데이트_{datetime.now()}.xlsx')"
   ]
  }
 ],
 "metadata": {
  "kernelspec": {
   "display_name": "Python [conda env:base] *",
   "language": "python",
   "name": "conda-base-py"
  },
  "language_info": {
   "codemirror_mode": {
    "name": "ipython",
    "version": 3
   },
   "file_extension": ".py",
   "mimetype": "text/x-python",
   "name": "python",
   "nbconvert_exporter": "python",
   "pygments_lexer": "ipython3",
   "version": "3.12.7"
  }
 },
 "nbformat": 4,
 "nbformat_minor": 5
}
