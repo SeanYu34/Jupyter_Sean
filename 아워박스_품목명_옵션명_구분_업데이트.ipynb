{
 "cells": [
  {
   "cell_type": "code",
   "execution_count": 3,
   "id": "0a8c8a59-812f-461f-ab3a-91fa84fd929a",
   "metadata": {},
   "outputs": [],
   "source": [
    "import pandas as pd\n",
    "import numpy as np\n",
    "from datetime import datetime, timedelta\n",
    "import warnings\n",
    "warnings.simplefilter('ignore')"
   ]
  },
  {
   "cell_type": "code",
   "execution_count": 5,
   "id": "5b60e861-0049-41ef-8c3e-8195b5b64ae3",
   "metadata": {},
   "outputs": [],
   "source": [
    "ob_df = pd.read_csv('/Users/seanyu_mac/Downloads/아워박스_통합관리_조회_초안 - 시트1 (9).csv')\n",
    "fs_df = pd.read_excel('/Users/seanyu_mac/Downloads/주문내역_2024-05-12~2025-05-12 (2).xlsx')\n",
    "code_df = pd.read_csv('/Users/seanyu_mac/Downloads/store_t_product_option_export_2025-05-12_160047.csv')"
   ]
  },
  {
   "cell_type": "code",
   "execution_count": 7,
   "id": "f31d95ba-10e5-4eb1-a30e-a110a1722210",
   "metadata": {},
   "outputs": [
    {
     "data": {
      "text/plain": [
       "['정상', '반품']"
      ]
     },
     "execution_count": 7,
     "metadata": {},
     "output_type": "execute_result"
    }
   ],
   "source": [
    "# ob_df의 주문서 상태의 html 코드 없애기\n",
    "ob_df['주문서상태'] = ob_df['주문서상태'].str.replace(\"<span class='square square-primary'>\",\"\")\n",
    "ob_df['주문서상태'] = ob_df['주문서상태'].str.replace(\"</span>\",\"\")\n",
    "ob_df['주문서상태'] = ob_df['주문서상태'].str.replace(\"<span class='square square-warning'>\",\"\")\n",
    "ob_df['주문서상태'].unique().tolist()"
   ]
  },
  {
   "cell_type": "code",
   "execution_count": 9,
   "id": "bf9bad80-3209-4349-8c06-7b62885349ea",
   "metadata": {},
   "outputs": [
    {
     "data": {
      "text/plain": [
       "['[YDY] 포스트바이오틱스 GX (4EA)',\n",
       " '[YDY] 폴라초임계오메가3 (3EA)',\n",
       " '[YDY] 폴라초임계오메가3 (12EA)',\n",
       " '[YDY] 포스트바이오틱스 GX (2EA)',\n",
       " '[YDY] 폴라초임계오메가3 (6EA)',\n",
       " '[YDY] 퓨어 레드큐민 (4EA)',\n",
       " '[YDY] 마그듀오 K2_R1',\n",
       " '[YDY] 폴라초임계오메가3',\n",
       " '[YDY] 프로바이오 에스엘비(SLB)',\n",
       " '[YDY] 코랄칼마디 K2_R1',\n",
       " '[YDY] 콜라겐 비오틴 듀오 (2EA)',\n",
       " '[파이토알엑스] 이뮨 빌베리 (8EA)',\n",
       " '[YDY] 퓨어 레드큐민 (3EA)',\n",
       " '[YDY] 퓨어 레드큐민 (6EA)',\n",
       " '[YDY] 파이토 레드큐민 (6EA)',\n",
       " '[YDY] 파이토 레드큐민 (3EA)',\n",
       " '[파이토알엑스] 이뮨 빌베리 (12EA)',\n",
       " '[파이토알엑스] 이뮨 빌베리 (4EA)',\n",
       " '[YDY] 파이토 레드큐민 (12EA)',\n",
       " '[YDY] 퓨어 레드큐민 (12EA)',\n",
       " '[파이토알엑스] 이뮨 빌베리 (2EA)',\n",
       " '[YDY] 포스트바이오틱스 GX (12EA)',\n",
       " '[YDY] 퓨어 리포좀 비타민C',\n",
       " '[YDY] 포스트바이오틱스 GX (8EA)',\n",
       " '[YDY] 파이토 레드큐민',\n",
       " '[YDY] 포스트바이오틱스 GX']"
      ]
     },
     "execution_count": 9,
     "metadata": {},
     "output_type": "execute_result"
    }
   ],
   "source": [
    "# ob_df의 품목명 상태의 html 코드 없애기\n",
    "ob_df['품목명'] = ob_df['품목명'].apply(lambda x: x.split('</span> ')[1].split('</')[0].strip())\n",
    "ob_df['품목명'].unique().tolist()"
   ]
  },
  {
   "cell_type": "code",
   "execution_count": 11,
   "id": "6c9c1653-5558-4413-ba23-25d39d560686",
   "metadata": {},
   "outputs": [],
   "source": [
    "# fs_df 에서 테스트 상품은 제거\n",
    "fs_df = fs_df.drop(fs_df[fs_df['상품명'].str.contains('테스트')].index)\n",
    "fs_df = fs_df.drop(fs_df[fs_df['상품명'].str.contains('QA')].index)\n",
    "fs_df = fs_df.drop(fs_df[fs_df['옵션명'].str.contains('QA')].index)"
   ]
  },
  {
   "cell_type": "code",
   "execution_count": 13,
   "id": "36dff023-4e29-4df0-8e10-158d37fe47b4",
   "metadata": {},
   "outputs": [],
   "source": [
    "temp_df = pd.merge(fs_df, code_df[['option_name', 'fulfillment_item_code']], left_on='옵션명', right_on='option_name', how='left')\n",
    "temp_df.loc[temp_df['fulfillment_item_code'].isna(), '옵션명'].unique().tolist()\n",
    "\n",
    "\n",
    "temp_df.loc[temp_df['옵션명'] == '마그듀오', 'fulfillment_item_code'] = 202650000001\n",
    "temp_df.loc[temp_df['옵션명'] == '코랄칼마디', 'fulfillment_item_code'] = 201807000036\n",
    "temp_df.loc[temp_df['옵션명'] == '썬비타민D3&K2', 'fulfillment_item_code'] = 201067000008\n",
    "temp_df.loc[temp_df['옵션명'] == '[스페셜할인코드/형제약사] YDY 썬비타민D3 2500IU 1박스(60일분)', 'fulfillment_item_code'] = 201067000008\n",
    "temp_df.loc[temp_df['옵션명'] == '[스페셜할인코드/친한] YDY 코랄칼마디 1박스(1개월분) / 칼슘 마그네슘 비타민D', 'fulfillment_item_code'] = 201807000036\n",
    "temp_df.loc[temp_df['옵션명'] == '[스페셜할인코드/친한] YDY 썬비타민D3 2500IU 1박스(60일분)', 'fulfillment_item_code'] = 201067000008\n",
    "temp_df.loc[temp_df['옵션명'] == '[스페셜할인코드/친한] YDY 마그듀오 1박스(1개월분)', 'fulfillment_item_code'] = 202650000001\n",
    "temp_df.loc[temp_df['옵션명'] == '[스페셜할인코드/고상온약사] YDY 썬비타민D3 2500IU 1박스(60일분)', 'fulfillment_item_code'] = 201067000008\n",
    "temp_df.loc[temp_df['옵션명'] == '[스페셜할인코드/위키약사] YDY 코랄칼마디 1박스(1개월분) / 칼슘 마그네슘 비타민D', 'fulfillment_item_code'] = 201807000036\n",
    "temp_df.loc[temp_df['옵션명'] == '[스페셜할인코드/약사임당] YDY 코랄칼마디 1박스(1개월분) / 칼슘 마그네슘 비타민D', 'fulfillment_item_code'] = 201807000036\n",
    "temp_df.loc[temp_df['옵션명'] == '[스페셜할인코드/고상온약사] YDY 코랄칼마디 1박스(1개월분) / 칼슘 마그네슘 비타민D', 'fulfillment_item_code'] = 201807000036\n",
    "temp_df.loc[temp_df['옵션명'] == '[스페셜할인코드/남기헌약사] YDY 코랄칼마디 1박스(1개월분) / 칼슘 마그네슘 비타민D', 'fulfillment_item_code'] = 201807000036\n",
    "temp_df.loc[temp_df['옵션명'] == '[스페셜할인코드/이재연약사] YDY 코랄칼마디 1박스(1개월분) / 칼슘 마그네슘 비타민D', 'fulfillment_item_code'] = 201807000036\n",
    "temp_df.loc[temp_df['옵션명'] == '[스페셜할인코드/안재돈약사] YDY 코랄칼마디 1박스(1개월분) / 칼슘 마그네슘 비타민D', 'fulfillment_item_code'] = 201807000036\n",
    "temp_df.loc[temp_df['옵션명'] == '[스페셜할인코드/고상온약사] YDY 마그듀오 1박스(1개월분)', 'fulfillment_item_code'] = 202650000001\n",
    "temp_df.loc[temp_df['옵션명'] == '[스페셜할인코드/남기헌약사] YDY 마그듀오 1박스(1개월분)', 'fulfillment_item_code'] = 202650000001\n",
    "temp_df.loc[temp_df['옵션명'] == '풀스펙멀티비타민', 'fulfillment_item_code'] = 201067000013\n",
    "\n",
    "fs_df = temp_df"
   ]
  },
  {
   "cell_type": "code",
   "execution_count": 15,
   "id": "1e36efba-256d-4ffb-9cd7-491c6d1d661d",
   "metadata": {},
   "outputs": [
    {
     "data": {
      "text/html": [
       "<div>\n",
       "<style scoped>\n",
       "    .dataframe tbody tr th:only-of-type {\n",
       "        vertical-align: middle;\n",
       "    }\n",
       "\n",
       "    .dataframe tbody tr th {\n",
       "        vertical-align: top;\n",
       "    }\n",
       "\n",
       "    .dataframe thead th {\n",
       "        text-align: right;\n",
       "    }\n",
       "</style>\n",
       "<table border=\"1\" class=\"dataframe\">\n",
       "  <thead>\n",
       "    <tr style=\"text-align: right;\">\n",
       "      <th></th>\n",
       "      <th>결제 번호</th>\n",
       "      <th>상품 번호</th>\n",
       "      <th>주문 번호</th>\n",
       "      <th>결제 완료일</th>\n",
       "      <th>주문 상태</th>\n",
       "      <th>상품명</th>\n",
       "      <th>옵션명</th>\n",
       "      <th>수량</th>\n",
       "      <th>정상가</th>\n",
       "      <th>판매가</th>\n",
       "      <th>...</th>\n",
       "      <th>배송비</th>\n",
       "      <th>도서산간 배송비</th>\n",
       "      <th>취소 완료일</th>\n",
       "      <th>판매자 취소일</th>\n",
       "      <th>반품 요청일</th>\n",
       "      <th>수거 요청일</th>\n",
       "      <th>수거 완료일</th>\n",
       "      <th>반품 완료일</th>\n",
       "      <th>option_name</th>\n",
       "      <th>fulfillment_item_code</th>\n",
       "    </tr>\n",
       "  </thead>\n",
       "  <tbody>\n",
       "  </tbody>\n",
       "</table>\n",
       "<p>0 rows × 39 columns</p>\n",
       "</div>"
      ],
      "text/plain": [
       "Empty DataFrame\n",
       "Columns: [결제 번호, 상품 번호, 주문 번호, 결제 완료일, 주문 상태, 상품명, 옵션명, 수량, 정상가, 판매가, 쿠폰 할인, 포인트 할인, 적립금, 정산가, 수령인명, 수령인 연락처, 구매자명, 구매자 ID, 구매자 연락처, 주소, 우편번호, 배송 메모, 주문 확인일, 발주 요청일, 배송 완료일, 구매 확정일, 배송택배사, 송장 번호, 배송비 정책, 배송비, 도서산간 배송비, 취소 완료일, 판매자 취소일, 반품 요청일, 수거 요청일, 수거 완료일, 반품 완료일, option_name, fulfillment_item_code]\n",
       "Index: []\n",
       "\n",
       "[0 rows x 39 columns]"
      ]
     },
     "execution_count": 15,
     "metadata": {},
     "output_type": "execute_result"
    }
   ],
   "source": [
    "fs_df[fs_df['fulfillment_item_code'].isna()]"
   ]
  },
  {
   "cell_type": "code",
   "execution_count": 17,
   "id": "725defd2-af15-4772-96f7-f9a5f1d04a9b",
   "metadata": {},
   "outputs": [],
   "source": [
    "fs_df['fulfillment_item_code'] = fs_df['fulfillment_item_code'].astype(int)"
   ]
  },
  {
   "cell_type": "code",
   "execution_count": 19,
   "id": "9594dc72-83df-47d8-9945-4e20bd1733ab",
   "metadata": {},
   "outputs": [],
   "source": [
    "fs_df['결제 완료일'] = fs_df['결제 완료일'].dt.strftime('%Y-%m-%d %H:%M:%S')\n",
    "ob_df['주문일시'] = pd.to_datetime(ob_df['주문일시'])\n",
    "ob_df['주문일시'] = ob_df['주문일시'].dt.strftime('%Y-%m-%d %H:%M:%S')"
   ]
  },
  {
   "cell_type": "code",
   "execution_count": 21,
   "id": "6e04f273-907a-4947-a306-4bc4de65797a",
   "metadata": {},
   "outputs": [],
   "source": [
    "temp_df = pd.merge(ob_df, fs_df[['결제 완료일', 'fulfillment_item_code', '옵션명', '상품명', '상품 번호']], left_on=['주문일시','업체품목코드'], right_on=['결제 완료일','fulfillment_item_code'], how='left')"
   ]
  },
  {
   "cell_type": "code",
   "execution_count": 23,
   "id": "0cb0ebf3-9d48-4201-8249-44f3a5501a98",
   "metadata": {},
   "outputs": [],
   "source": [
    "temp_df['도서산간여부'] = temp_df['도서산간여부'].apply(lambda x: x.split(\"square-gray'>\")[1].split('<')[0]) "
   ]
  },
  {
   "cell_type": "code",
   "execution_count": 25,
   "id": "e41921f3-259c-4fbe-bdb6-ce444d9a7095",
   "metadata": {},
   "outputs": [],
   "source": [
    "temp_df['채널상품명'] = temp_df['상품명']\n",
    "temp_df['옵션1'] = temp_df['옵션명']\n",
    "temp_df['채널아이디'] = temp_df['상품 번호']\n",
    "\n",
    "del temp_df['결제 완료일']\n",
    "del temp_df['fulfillment_item_code']\n",
    "del temp_df['옵션명']\n",
    "del temp_df['상품명']\n",
    "del temp_df['상품 번호']"
   ]
  },
  {
   "cell_type": "code",
   "execution_count": 27,
   "id": "6b6ec309-1ca2-42bd-8a18-d8fc08b27274",
   "metadata": {},
   "outputs": [],
   "source": [
    "types = []\n",
    "temp_df.loc[temp_df['채널상품명'].isna(), '채널상품명'] = '없음'\n",
    "\n",
    "for i in temp_df['채널상품명']:\n",
    "    if '공동' in i:\n",
    "        types.append('공동구매')\n",
    "    elif '스페셜' in i:\n",
    "        types.append('친한구매')\n",
    "    elif '임직' in i:\n",
    "        types.append('임직원몰 상품')\n",
    "    else:\n",
    "        types.append('없음')\n",
    "\n",
    "temp_df['구분'] = types"
   ]
  },
  {
   "cell_type": "code",
   "execution_count": 29,
   "id": "2d8faf31-2967-4392-a8c2-ac2cd09901e1",
   "metadata": {},
   "outputs": [],
   "source": [
    "temp_df['주문번호'] = temp_df['주문번호'].apply(lambda x: x[:5])"
   ]
  },
  {
   "cell_type": "code",
   "execution_count": 31,
   "id": "15752790-5aa7-4e59-9b52-b3a16447c035",
   "metadata": {},
   "outputs": [],
   "source": [
    "temp_df.to_excel(f'/Users/seanyu_mac/Downloads/아워박스_업데이트_{datetime.now()}.xlsx')"
   ]
  }
 ],
 "metadata": {
  "kernelspec": {
   "display_name": "Python 3 (ipykernel)",
   "language": "python",
   "name": "python3"
  },
  "language_info": {
   "codemirror_mode": {
    "name": "ipython",
    "version": 3
   },
   "file_extension": ".py",
   "mimetype": "text/x-python",
   "name": "python",
   "nbconvert_exporter": "python",
   "pygments_lexer": "ipython3",
   "version": "3.12.7"
  }
 },
 "nbformat": 4,
 "nbformat_minor": 5
}
