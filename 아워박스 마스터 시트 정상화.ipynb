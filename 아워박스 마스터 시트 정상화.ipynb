{
 "cells": [
  {
   "cell_type": "code",
   "execution_count": 2,
   "id": "29e31479-d7fc-46a5-98a0-01823b74a071",
   "metadata": {},
   "outputs": [],
   "source": [
    "import pandas as pd\n",
    "import numpy as np\n",
    "from datetime import datetime, timedelta\n",
    "import warnings\n",
    "warnings.simplefilter('ignore')"
   ]
  },
  {
   "cell_type": "code",
   "execution_count": 5,
   "id": "fb6a392d-9e3a-4548-b39b-1f5a5409497c",
   "metadata": {},
   "outputs": [],
   "source": [
    "df = pd.read_csv('/Users/seanyu_mac/Downloads/아워박스_상품명_옵션명_업데이트_Master - raw (1).csv')\n",
    "fs_df = pd.read_excel('/Users/seanyu_mac/Downloads/주문내역_2024-04-22~2025-04-22.xlsx')\n",
    "code_df = pd.read_csv('/Users/seanyu_mac/Downloads/store_t_product_option_export_2025-04-15_115441.csv')"
   ]
  },
  {
   "cell_type": "code",
   "execution_count": 22,
   "id": "dd9fbfc1-f2d0-4cc7-bf9f-d072897e6491",
   "metadata": {},
   "outputs": [],
   "source": [
    "# fs_df 에서 테스트 상품은 제거\n",
    "fs_df = fs_df.drop(fs_df[fs_df['상품명'].str.contains('테스트')].index)\n",
    "fs_df = fs_df.drop(fs_df[fs_df['상품명'].str.contains('QA')].index)\n",
    "fs_df = fs_df.drop(fs_df[fs_df['옵션명'].str.contains('QA')].index)"
   ]
  },
  {
   "cell_type": "code",
   "execution_count": 25,
   "id": "e16bf572-7d8a-4eec-aed1-cffd1a64883c",
   "metadata": {},
   "outputs": [],
   "source": [
    "temp_df = pd.merge(fs_df, code_df[['option_name', 'fulfillment_item_code']], left_on='옵션명', right_on='option_name', how='left')\n",
    "temp_df.loc[temp_df['fulfillment_item_code'].isna(), '옵션명'].unique().tolist()\n",
    "\n",
    "\n",
    "temp_df.loc[temp_df['옵션명'] == '마그듀오', 'fulfillment_item_code'] = 202650000001\n",
    "temp_df.loc[temp_df['옵션명'] == '코랄칼마디', 'fulfillment_item_code'] = 201807000036\n",
    "temp_df.loc[temp_df['옵션명'] == '썬비타민D3&K2', 'fulfillment_item_code'] = 201067000008\n",
    "temp_df.loc[temp_df['옵션명'] == '[스페셜할인코드/형제약사] YDY 썬비타민D3 2500IU 1박스(60일분)', 'fulfillment_item_code'] = 201067000008\n",
    "temp_df.loc[temp_df['옵션명'] == '[스페셜할인코드/친한] YDY 코랄칼마디 1박스(1개월분) / 칼슘 마그네슘 비타민D', 'fulfillment_item_code'] = 201807000036\n",
    "temp_df.loc[temp_df['옵션명'] == '[스페셜할인코드/친한] YDY 썬비타민D3 2500IU 1박스(60일분)', 'fulfillment_item_code'] = 201067000008\n",
    "temp_df.loc[temp_df['옵션명'] == '[스페셜할인코드/친한] YDY 마그듀오 1박스(1개월분)', 'fulfillment_item_code'] = 202650000001\n",
    "temp_df.loc[temp_df['옵션명'] == '[스페셜할인코드/고상온약사] YDY 썬비타민D3 2500IU 1박스(60일분)', 'fulfillment_item_code'] = 201067000008\n",
    "temp_df.loc[temp_df['옵션명'] == '[스페셜할인코드/위키약사] YDY 코랄칼마디 1박스(1개월분) / 칼슘 마그네슘 비타민D', 'fulfillment_item_code'] = 201807000036\n",
    "temp_df.loc[temp_df['옵션명'] == '[스페셜할인코드/약사임당] YDY 코랄칼마디 1박스(1개월분) / 칼슘 마그네슘 비타민D', 'fulfillment_item_code'] = 201807000036\n",
    "temp_df.loc[temp_df['옵션명'] == '[스페셜할인코드/고상온약사] YDY 코랄칼마디 1박스(1개월분) / 칼슘 마그네슘 비타민D', 'fulfillment_item_code'] = 201807000036\n",
    "temp_df.loc[temp_df['옵션명'] == '[스페셜할인코드/남기헌약사] YDY 코랄칼마디 1박스(1개월분) / 칼슘 마그네슘 비타민D', 'fulfillment_item_code'] = 201807000036\n",
    "temp_df.loc[temp_df['옵션명'] == '[스페셜할인코드/이재연약사] YDY 코랄칼마디 1박스(1개월분) / 칼슘 마그네슘 비타민D', 'fulfillment_item_code'] = 201807000036\n",
    "temp_df.loc[temp_df['옵션명'] == '[스페셜할인코드/안재돈약사] YDY 코랄칼마디 1박스(1개월분) / 칼슘 마그네슘 비타민D', 'fulfillment_item_code'] = 201807000036\n",
    "temp_df.loc[temp_df['옵션명'] == '[스페셜할인코드/고상온약사] YDY 마그듀오 1박스(1개월분)', 'fulfillment_item_code'] = 202650000001\n",
    "temp_df.loc[temp_df['옵션명'] == '[스페셜할인코드/남기헌약사] YDY 마그듀오 1박스(1개월분)', 'fulfillment_item_code'] = 202650000001\n",
    "temp_df.loc[temp_df['옵션명'] == '풀스펙멀티비타민', 'fulfillment_item_code'] = 201067000013\n",
    "\n",
    "fs_df = temp_df"
   ]
  },
  {
   "cell_type": "code",
   "execution_count": 28,
   "id": "5f222565-962b-4f84-b8a3-5a6832026787",
   "metadata": {},
   "outputs": [],
   "source": [
    "fs_df['fulfillment_item_code'] = fs_df['fulfillment_item_code'].astype(int)"
   ]
  },
  {
   "cell_type": "code",
   "execution_count": 57,
   "id": "3a1c4a94-b388-4111-8b1f-5bf23179b5a9",
   "metadata": {},
   "outputs": [],
   "source": [
    "fs_df['결제 완료일'] = pd.to_datetime(fs_df['결제 완료일'])\n",
    "fs_df['결제 완료일'] = fs_df['결제 완료일'].dt.strftime('%Y-%m-%d %H:%M:%S')\n",
    "df['주문일시'] = pd.to_datetime(df['주문일시'])\n",
    "df['주문일시'] = df['주문일시'].dt.strftime('%Y-%m-%d %H:%M:%S')"
   ]
  },
  {
   "cell_type": "code",
   "execution_count": 62,
   "id": "99e82988-42fa-4922-9326-9b12a6a9039b",
   "metadata": {},
   "outputs": [],
   "source": [
    "temp_df = pd.merge(df, fs_df[['결제 완료일', 'fulfillment_item_code', '옵션명', '상품명', '상품 번호']], left_on=['주문일시','업체품목코드'], right_on=['결제 완료일','fulfillment_item_code'], how='left')"
   ]
  },
  {
   "cell_type": "code",
   "execution_count": 109,
   "id": "aeb3f04e-2568-43eb-8b38-1113cb5ce846",
   "metadata": {},
   "outputs": [
    {
     "data": {
      "text/plain": [
       "Index(['처리단계', '도서산간여부', '고유번호', '합포장번호', '주문서상태', '주문번호', '상품주문번호', '품목코드',\n",
       "       '업체품목코드', '품목추가정보', '품목명', '채널상품명', '옵션1', '채널명', '채널아이디', '쇼핑몰명', '수량',\n",
       "       '판매단가', '실결제금액', '할인금액', '수취인명', '수취인 전화번호', '수취인 핸드폰번호', '우편번호', '주소',\n",
       "       '상세주소', '(정제) 우편번호', '(정제) 주소', '(정제) 상세주소', '배송 메시지',\n",
       "       '(팀프레시 전용) 공동현관 비밀번호', '배송사', '송장번호', '배송비구분', '배송비', '추가운임', '발송인명',\n",
       "       '발송인 우편번호', '발송인 주소', '발송인 연락처', '판매처', '주문자명', '주문자ID', '주문자 연락처',\n",
       "       '주문일시', '결제일시', '등록일시', '출고등록일시', '출고완료일시', '출고 PLANT', '비고', '발송기한일',\n",
       "       '구분'],\n",
       "      dtype='object')"
      ]
     },
     "execution_count": 109,
     "metadata": {},
     "output_type": "execute_result"
    }
   ],
   "source": [
    "df.columns"
   ]
  },
  {
   "cell_type": "code",
   "execution_count": null,
   "id": "b69187ba-00af-4b34-94a2-c72602d99b5e",
   "metadata": {},
   "outputs": [],
   "source": []
  },
  {
   "cell_type": "code",
   "execution_count": 65,
   "id": "a25d54c6-e316-42f3-9806-41b6c3a05be7",
   "metadata": {},
   "outputs": [],
   "source": [
    "temp_df.to_excel('/Users/seanyu_mac/Downloads/134265tw4ret12312323y.xlsx')"
   ]
  }
 ],
 "metadata": {
  "kernelspec": {
   "display_name": "Python 3 (ipykernel)",
   "language": "python",
   "name": "python3"
  },
  "language_info": {
   "codemirror_mode": {
    "name": "ipython",
    "version": 3
   },
   "file_extension": ".py",
   "mimetype": "text/x-python",
   "name": "python",
   "nbconvert_exporter": "python",
   "pygments_lexer": "ipython3",
   "version": "3.12.7"
  }
 },
 "nbformat": 4,
 "nbformat_minor": 5
}
