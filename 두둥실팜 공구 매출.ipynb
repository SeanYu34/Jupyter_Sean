{
 "cells": [
  {
   "cell_type": "code",
   "execution_count": 1,
   "id": "c547bbbe-2639-4e08-aef9-099aaec957fc",
   "metadata": {},
   "outputs": [],
   "source": [
    "import pandas as pd\n",
    "import numpy as np\n",
    "from datetime import datetime, timedelta\n",
    "import warnings\n",
    "warnings.simplefilter('ignore')"
   ]
  },
  {
   "cell_type": "code",
   "execution_count": 35,
   "id": "a0ba983f-d3db-48b1-a525-60567e377ba0",
   "metadata": {},
   "outputs": [],
   "source": [
    "fs_df = pd.read_excel('/Users/seanyu_mac/Downloads/주문내역_51271_2024-05-02~2025-05-02 (1).xlsx')\n",
    "na_df = pd.read_csv('/Users/seanyu_mac/Downloads/네이버스마트스토어 공구 - 시트1.csv')"
   ]
  },
  {
   "cell_type": "code",
   "execution_count": 37,
   "id": "ab8dcf34-7278-41e9-833c-5a31c6b890d1",
   "metadata": {},
   "outputs": [],
   "source": [
    "fs_df = fs_df[fs_df['상품 번호'] == 51271]\n",
    "fs_df['박스수량'] = fs_df['옵션명'].apply(lambda x: x.split('박스')[0])\n",
    "fs_df['박스수량'] = fs_df['박스수량'].astype(int)\n",
    "fs_df = fs_df[['결제 번호', '주문 상태','결제 완료일', '옵션명', '수량', '박스수량', '정산가']]"
   ]
  },
  {
   "cell_type": "code",
   "execution_count": 39,
   "id": "e349c054-e79c-4dd0-9631-f690bd2a96af",
   "metadata": {},
   "outputs": [],
   "source": [
    "fs_df['구분'] = '친한스토어'"
   ]
  },
  {
   "cell_type": "code",
   "execution_count": 41,
   "id": "36f264e3-6d00-443b-aacd-4bb6a4135783",
   "metadata": {},
   "outputs": [],
   "source": [
    "na_df['박스수량'] = na_df['옵션정보'].apply(lambda x: x.split('박스')[0].split('선택: ')[1])\n",
    "na_df['박스수량'] = na_df['박스수량'].astype(int)\n",
    "na_df['정산가'] = 0\n",
    "con1 = na_df['박스수량'] == 3\n",
    "con2 = na_df['박스수량'] == 5\n",
    "con3 = na_df['박스수량'] == 8\n",
    "na_df.loc[con1, '정산가'] = na_df.loc[con1, '수량'] * 63000\n",
    "na_df.loc[con2, '정산가'] = na_df.loc[con2, '수량'] * 99000\n",
    "na_df.loc[con3, '정산가'] = na_df.loc[con3, '수량'] * 149000\n",
    "\n",
    "na_df = na_df[['상품주문번호', '주문상태', '주문일시', '옵션정보', '수량', '박스수량', '정산가']]"
   ]
  },
  {
   "cell_type": "code",
   "execution_count": 43,
   "id": "f893e461-fde7-454a-bdb5-b2a0bc0f2767",
   "metadata": {},
   "outputs": [
    {
     "data": {
      "text/plain": [
       "Index(['결제 번호', '주문 상태', '결제 완료일', '옵션명', '수량', '박스수량', '정산가', '구분'], dtype='object')"
      ]
     },
     "execution_count": 43,
     "metadata": {},
     "output_type": "execute_result"
    }
   ],
   "source": [
    "fs_df.columns"
   ]
  },
  {
   "cell_type": "code",
   "execution_count": 45,
   "id": "78e19d96-37d0-4b1b-bbf0-c64eec823786",
   "metadata": {},
   "outputs": [
    {
     "data": {
      "text/plain": [
       "Index(['상품주문번호', '주문상태', '주문일시', '옵션정보', '수량', '박스수량', '정산가'], dtype='object')"
      ]
     },
     "execution_count": 45,
     "metadata": {},
     "output_type": "execute_result"
    }
   ],
   "source": [
    "na_df.columns"
   ]
  },
  {
   "cell_type": "code",
   "execution_count": 47,
   "id": "7841d8cc-0bcf-4841-b5d6-d7a346bdd568",
   "metadata": {},
   "outputs": [],
   "source": [
    "na_df['구분'] = '네이버스토어'\n",
    "na_df.columns = fs_df.columns"
   ]
  },
  {
   "cell_type": "code",
   "execution_count": 49,
   "id": "a64b7ca4-682d-4e3a-8f52-2dd9a9cdf468",
   "metadata": {},
   "outputs": [],
   "source": [
    "temp_df = pd.concat([fs_df, na_df])"
   ]
  },
  {
   "cell_type": "code",
   "execution_count": 51,
   "id": "03e6a766-7e52-4156-80c4-2adac3509754",
   "metadata": {},
   "outputs": [
    {
     "data": {
      "text/plain": [
       "array(['결제완료', '취소완료', '배송완료'], dtype=object)"
      ]
     },
     "execution_count": 51,
     "metadata": {},
     "output_type": "execute_result"
    }
   ],
   "source": [
    "temp_df['주문 상태'].unique()"
   ]
  },
  {
   "cell_type": "code",
   "execution_count": 53,
   "id": "2de7fb9c-112c-4127-97d8-38406cdf77cc",
   "metadata": {},
   "outputs": [],
   "source": [
    "status = ['결제완료', '배송준비', '배송중', '배송완료']"
   ]
  },
  {
   "cell_type": "code",
   "execution_count": 55,
   "id": "0d0ed5e4-ba9c-4219-b3cf-f18ab6e69911",
   "metadata": {},
   "outputs": [
    {
     "data": {
      "text/html": [
       "<div>\n",
       "<style scoped>\n",
       "    .dataframe tbody tr th:only-of-type {\n",
       "        vertical-align: middle;\n",
       "    }\n",
       "\n",
       "    .dataframe tbody tr th {\n",
       "        vertical-align: top;\n",
       "    }\n",
       "\n",
       "    .dataframe thead th {\n",
       "        text-align: right;\n",
       "    }\n",
       "</style>\n",
       "<table border=\"1\" class=\"dataframe\">\n",
       "  <thead>\n",
       "    <tr style=\"text-align: right;\">\n",
       "      <th></th>\n",
       "      <th>결제 번호</th>\n",
       "      <th>주문 상태</th>\n",
       "      <th>결제 완료일</th>\n",
       "      <th>옵션명</th>\n",
       "      <th>수량</th>\n",
       "      <th>박스수량</th>\n",
       "      <th>정산가</th>\n",
       "      <th>구분</th>\n",
       "    </tr>\n",
       "  </thead>\n",
       "  <tbody>\n",
       "    <tr>\n",
       "      <th>1</th>\n",
       "      <td>parma20250429212411E9mZ1</td>\n",
       "      <td>취소완료</td>\n",
       "      <td>2025-04-29 21:25:32.107000</td>\n",
       "      <td>3박스</td>\n",
       "      <td>1</td>\n",
       "      <td>3</td>\n",
       "      <td>63000</td>\n",
       "      <td>친한스토어</td>\n",
       "    </tr>\n",
       "    <tr>\n",
       "      <th>14</th>\n",
       "      <td>parma20250425110502COti6</td>\n",
       "      <td>취소완료</td>\n",
       "      <td>2025-04-25 11:05:15.894000</td>\n",
       "      <td>3박스</td>\n",
       "      <td>1</td>\n",
       "      <td>3</td>\n",
       "      <td>63000</td>\n",
       "      <td>친한스토어</td>\n",
       "    </tr>\n",
       "  </tbody>\n",
       "</table>\n",
       "</div>"
      ],
      "text/plain": [
       "                       결제 번호 주문 상태                      결제 완료일  옵션명  수량  박스수량  \\\n",
       "1   parma20250429212411E9mZ1  취소완료  2025-04-29 21:25:32.107000  3박스   1     3   \n",
       "14  parma20250425110502COti6  취소완료  2025-04-25 11:05:15.894000  3박스   1     3   \n",
       "\n",
       "      정산가     구분  \n",
       "1   63000  친한스토어  \n",
       "14  63000  친한스토어  "
      ]
     },
     "execution_count": 55,
     "metadata": {},
     "output_type": "execute_result"
    }
   ],
   "source": [
    "temp_df[~(temp_df['주문 상태'].isin(status))]\n"
   ]
  },
  {
   "cell_type": "code",
   "execution_count": 57,
   "id": "29e37296-10c2-4beb-a295-b14c3e9ccedf",
   "metadata": {},
   "outputs": [],
   "source": [
    "temp_df = temp_df[temp_df['주문 상태'].isin(status)]"
   ]
  },
  {
   "cell_type": "code",
   "execution_count": 59,
   "id": "9363b0da-9be9-44a7-8393-2b111e08461c",
   "metadata": {},
   "outputs": [
    {
     "data": {
      "text/plain": [
       "array(['결제완료', '배송완료'], dtype=object)"
      ]
     },
     "execution_count": 59,
     "metadata": {},
     "output_type": "execute_result"
    }
   ],
   "source": [
    "temp_df['주문 상태'].unique()"
   ]
  },
  {
   "cell_type": "code",
   "execution_count": 61,
   "id": "5a6d5c44-b5b0-444c-8bb3-7bc3f57346ce",
   "metadata": {},
   "outputs": [
    {
     "data": {
      "text/html": [
       "<div>\n",
       "<style scoped>\n",
       "    .dataframe tbody tr th:only-of-type {\n",
       "        vertical-align: middle;\n",
       "    }\n",
       "\n",
       "    .dataframe tbody tr th {\n",
       "        vertical-align: top;\n",
       "    }\n",
       "\n",
       "    .dataframe thead th {\n",
       "        text-align: right;\n",
       "    }\n",
       "</style>\n",
       "<table border=\"1\" class=\"dataframe\">\n",
       "  <thead>\n",
       "    <tr style=\"text-align: right;\">\n",
       "      <th></th>\n",
       "      <th></th>\n",
       "      <th>매출</th>\n",
       "      <th>주문수량</th>\n",
       "      <th>박스수량</th>\n",
       "    </tr>\n",
       "    <tr>\n",
       "      <th>결제 완료일</th>\n",
       "      <th>옵션명</th>\n",
       "      <th></th>\n",
       "      <th></th>\n",
       "      <th></th>\n",
       "    </tr>\n",
       "  </thead>\n",
       "  <tbody>\n",
       "    <tr>\n",
       "      <th rowspan=\"3\" valign=\"top\">2025-04-24</th>\n",
       "      <th>3박스</th>\n",
       "      <td>315,000</td>\n",
       "      <td>5</td>\n",
       "      <td>15</td>\n",
       "    </tr>\n",
       "    <tr>\n",
       "      <th>5박스</th>\n",
       "      <td>99,000</td>\n",
       "      <td>1</td>\n",
       "      <td>5</td>\n",
       "    </tr>\n",
       "    <tr>\n",
       "      <th>8박스</th>\n",
       "      <td>447,000</td>\n",
       "      <td>3</td>\n",
       "      <td>24</td>\n",
       "    </tr>\n",
       "    <tr>\n",
       "      <th rowspan=\"2\" valign=\"top\">2025-04-25</th>\n",
       "      <th>3박스</th>\n",
       "      <td>189,000</td>\n",
       "      <td>3</td>\n",
       "      <td>9</td>\n",
       "    </tr>\n",
       "    <tr>\n",
       "      <th>8박스</th>\n",
       "      <td>149,000</td>\n",
       "      <td>1</td>\n",
       "      <td>8</td>\n",
       "    </tr>\n",
       "    <tr>\n",
       "      <th rowspan=\"3\" valign=\"top\">2025-04-26</th>\n",
       "      <th>5박스</th>\n",
       "      <td>99,000</td>\n",
       "      <td>1</td>\n",
       "      <td>5</td>\n",
       "    </tr>\n",
       "    <tr>\n",
       "      <th>8박스</th>\n",
       "      <td>149,000</td>\n",
       "      <td>1</td>\n",
       "      <td>8</td>\n",
       "    </tr>\n",
       "    <tr>\n",
       "      <th>선택: 8박스</th>\n",
       "      <td>149,000</td>\n",
       "      <td>1</td>\n",
       "      <td>8</td>\n",
       "    </tr>\n",
       "    <tr>\n",
       "      <th rowspan=\"3\" valign=\"top\">2025-04-27</th>\n",
       "      <th>3박스</th>\n",
       "      <td>189,000</td>\n",
       "      <td>3</td>\n",
       "      <td>9</td>\n",
       "    </tr>\n",
       "    <tr>\n",
       "      <th>8박스</th>\n",
       "      <td>149,000</td>\n",
       "      <td>1</td>\n",
       "      <td>8</td>\n",
       "    </tr>\n",
       "    <tr>\n",
       "      <th>선택: 8박스</th>\n",
       "      <td>149,000</td>\n",
       "      <td>1</td>\n",
       "      <td>8</td>\n",
       "    </tr>\n",
       "    <tr>\n",
       "      <th rowspan=\"3\" valign=\"top\">2025-04-28</th>\n",
       "      <th>3박스</th>\n",
       "      <td>63,000</td>\n",
       "      <td>1</td>\n",
       "      <td>3</td>\n",
       "    </tr>\n",
       "    <tr>\n",
       "      <th>5박스</th>\n",
       "      <td>99,000</td>\n",
       "      <td>1</td>\n",
       "      <td>5</td>\n",
       "    </tr>\n",
       "    <tr>\n",
       "      <th>선택: 5박스</th>\n",
       "      <td>99,000</td>\n",
       "      <td>1</td>\n",
       "      <td>5</td>\n",
       "    </tr>\n",
       "    <tr>\n",
       "      <th rowspan=\"2\" valign=\"top\">2025-04-29</th>\n",
       "      <th>3박스</th>\n",
       "      <td>63,000</td>\n",
       "      <td>1</td>\n",
       "      <td>3</td>\n",
       "    </tr>\n",
       "    <tr>\n",
       "      <th>5박스</th>\n",
       "      <td>99,000</td>\n",
       "      <td>1</td>\n",
       "      <td>5</td>\n",
       "    </tr>\n",
       "    <tr>\n",
       "      <th>총합</th>\n",
       "      <th></th>\n",
       "      <td>2,506,000</td>\n",
       "      <td>26</td>\n",
       "      <td>128</td>\n",
       "    </tr>\n",
       "  </tbody>\n",
       "</table>\n",
       "</div>"
      ],
      "text/plain": [
       "                           매출 주문수량 박스수량\n",
       "결제 완료일     옵션명                         \n",
       "2025-04-24 3박스        315,000    5   15\n",
       "           5박스         99,000    1    5\n",
       "           8박스        447,000    3   24\n",
       "2025-04-25 3박스        189,000    3    9\n",
       "           8박스        149,000    1    8\n",
       "2025-04-26 5박스         99,000    1    5\n",
       "           8박스        149,000    1    8\n",
       "           선택: 8박스    149,000    1    8\n",
       "2025-04-27 3박스        189,000    3    9\n",
       "           8박스        149,000    1    8\n",
       "           선택: 8박스    149,000    1    8\n",
       "2025-04-28 3박스         63,000    1    3\n",
       "           5박스         99,000    1    5\n",
       "           선택: 5박스     99,000    1    5\n",
       "2025-04-29 3박스         63,000    1    3\n",
       "           5박스         99,000    1    5\n",
       "총합                  2,506,000   26  128"
      ]
     },
     "execution_count": 61,
     "metadata": {},
     "output_type": "execute_result"
    }
   ],
   "source": [
    "temp_df['결제 완료일'] = pd.to_datetime(temp_df['결제 완료일'])\n",
    "temp_df['결제 완료일'] = temp_df['결제 완료일'].apply(lambda x: x.strftime('%Y-%m-%d'))\n",
    "pivot = pd.pivot_table(temp_df, index=['결제 완료일', '옵션명'], values=['정산가', '박스수량'], aggfunc='sum', fill_value=0, margins=True, margins_name='총합')\n",
    "data = pd.pivot_table(temp_df, index=['결제 완료일', '옵션명'], values=['결제 번호'], aggfunc='count', fill_value=0, margins=True, margins_name='총합')['결제 번호']\n",
    "pivot['주문수량'] = data\n",
    "pivot.columns = ['박스수량', '매출', '주문수량']\n",
    "result = pd.DataFrame(pivot)\n",
    "result = result[['매출', '주문수량', '박스수량']]\n",
    "result.applymap(lambda x: f'{x:,}')"
   ]
  },
  {
   "cell_type": "code",
   "execution_count": 63,
   "id": "b378d61c-e08c-46f8-8361-8906e2361833",
   "metadata": {},
   "outputs": [
    {
     "data": {
      "text/html": [
       "<div>\n",
       "<style scoped>\n",
       "    .dataframe tbody tr th:only-of-type {\n",
       "        vertical-align: middle;\n",
       "    }\n",
       "\n",
       "    .dataframe tbody tr th {\n",
       "        vertical-align: top;\n",
       "    }\n",
       "\n",
       "    .dataframe thead th {\n",
       "        text-align: right;\n",
       "    }\n",
       "</style>\n",
       "<table border=\"1\" class=\"dataframe\">\n",
       "  <thead>\n",
       "    <tr style=\"text-align: right;\">\n",
       "      <th></th>\n",
       "      <th></th>\n",
       "      <th>매출</th>\n",
       "      <th>주문수량</th>\n",
       "      <th>박스수량</th>\n",
       "    </tr>\n",
       "    <tr>\n",
       "      <th>결제 완료일</th>\n",
       "      <th>구분</th>\n",
       "      <th></th>\n",
       "      <th></th>\n",
       "      <th></th>\n",
       "    </tr>\n",
       "  </thead>\n",
       "  <tbody>\n",
       "    <tr>\n",
       "      <th>2025-04-24</th>\n",
       "      <th>친한스토어</th>\n",
       "      <td>861,000</td>\n",
       "      <td>9</td>\n",
       "      <td>44</td>\n",
       "    </tr>\n",
       "    <tr>\n",
       "      <th>2025-04-25</th>\n",
       "      <th>친한스토어</th>\n",
       "      <td>338,000</td>\n",
       "      <td>4</td>\n",
       "      <td>17</td>\n",
       "    </tr>\n",
       "    <tr>\n",
       "      <th rowspan=\"2\" valign=\"top\">2025-04-26</th>\n",
       "      <th>네이버스토어</th>\n",
       "      <td>149,000</td>\n",
       "      <td>1</td>\n",
       "      <td>8</td>\n",
       "    </tr>\n",
       "    <tr>\n",
       "      <th>친한스토어</th>\n",
       "      <td>248,000</td>\n",
       "      <td>2</td>\n",
       "      <td>13</td>\n",
       "    </tr>\n",
       "    <tr>\n",
       "      <th rowspan=\"2\" valign=\"top\">2025-04-27</th>\n",
       "      <th>네이버스토어</th>\n",
       "      <td>149,000</td>\n",
       "      <td>1</td>\n",
       "      <td>8</td>\n",
       "    </tr>\n",
       "    <tr>\n",
       "      <th>친한스토어</th>\n",
       "      <td>338,000</td>\n",
       "      <td>4</td>\n",
       "      <td>17</td>\n",
       "    </tr>\n",
       "    <tr>\n",
       "      <th rowspan=\"2\" valign=\"top\">2025-04-28</th>\n",
       "      <th>네이버스토어</th>\n",
       "      <td>99,000</td>\n",
       "      <td>1</td>\n",
       "      <td>5</td>\n",
       "    </tr>\n",
       "    <tr>\n",
       "      <th>친한스토어</th>\n",
       "      <td>162,000</td>\n",
       "      <td>2</td>\n",
       "      <td>8</td>\n",
       "    </tr>\n",
       "    <tr>\n",
       "      <th>2025-04-29</th>\n",
       "      <th>친한스토어</th>\n",
       "      <td>162,000</td>\n",
       "      <td>2</td>\n",
       "      <td>8</td>\n",
       "    </tr>\n",
       "    <tr>\n",
       "      <th>총합</th>\n",
       "      <th></th>\n",
       "      <td>2,506,000</td>\n",
       "      <td>26</td>\n",
       "      <td>128</td>\n",
       "    </tr>\n",
       "  </tbody>\n",
       "</table>\n",
       "</div>"
      ],
      "text/plain": [
       "                          매출 주문수량 박스수량\n",
       "결제 완료일     구분                         \n",
       "2025-04-24 친한스토어     861,000    9   44\n",
       "2025-04-25 친한스토어     338,000    4   17\n",
       "2025-04-26 네이버스토어    149,000    1    8\n",
       "           친한스토어     248,000    2   13\n",
       "2025-04-27 네이버스토어    149,000    1    8\n",
       "           친한스토어     338,000    4   17\n",
       "2025-04-28 네이버스토어     99,000    1    5\n",
       "           친한스토어     162,000    2    8\n",
       "2025-04-29 친한스토어     162,000    2    8\n",
       "총합                 2,506,000   26  128"
      ]
     },
     "execution_count": 63,
     "metadata": {},
     "output_type": "execute_result"
    }
   ],
   "source": [
    "pivot = pd.pivot_table(temp_df, index=['결제 완료일', '구분'], values=['정산가', '박스수량'], aggfunc='sum', fill_value=0, margins=True, margins_name='총합')\n",
    "data = pd.pivot_table(temp_df, index=['결제 완료일', '구분'], values=['결제 번호'], aggfunc='count', fill_value=0, margins=True, margins_name='총합')['결제 번호']\n",
    "pivot['주문수량'] = data\n",
    "pivot.columns = ['박스수량', '매출', '주문수량']\n",
    "result = pd.DataFrame(pivot)\n",
    "result = result[['매출', '주문수량', '박스수량']]\n",
    "result.applymap(lambda x: f'{x:,}')"
   ]
  }
 ],
 "metadata": {
  "kernelspec": {
   "display_name": "Python 3 (ipykernel)",
   "language": "python",
   "name": "python3"
  },
  "language_info": {
   "codemirror_mode": {
    "name": "ipython",
    "version": 3
   },
   "file_extension": ".py",
   "mimetype": "text/x-python",
   "name": "python",
   "nbconvert_exporter": "python",
   "pygments_lexer": "ipython3",
   "version": "3.12.7"
  }
 },
 "nbformat": 4,
 "nbformat_minor": 5
}
