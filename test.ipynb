{
 "cells": [
  {
   "cell_type": "code",
   "execution_count": 95,
   "id": "70adeab7-24f3-42ed-afe0-6490c4ec4104",
   "metadata": {},
   "outputs": [
    {
     "data": {
      "text/html": [
       "<div>\n",
       "<style scoped>\n",
       "    .dataframe tbody tr th:only-of-type {\n",
       "        vertical-align: middle;\n",
       "    }\n",
       "\n",
       "    .dataframe tbody tr th {\n",
       "        vertical-align: top;\n",
       "    }\n",
       "\n",
       "    .dataframe thead th {\n",
       "        text-align: right;\n",
       "    }\n",
       "</style>\n",
       "<table border=\"1\" class=\"dataframe\">\n",
       "  <thead>\n",
       "    <tr style=\"text-align: right;\">\n",
       "      <th></th>\n",
       "      <th>id</th>\n",
       "      <th>email</th>\n",
       "      <th>sns_type</th>\n",
       "      <th>sns_id</th>\n",
       "      <th>nickname</th>\n",
       "      <th>name</th>\n",
       "      <th>password</th>\n",
       "      <th>birthday</th>\n",
       "      <th>phone</th>\n",
       "      <th>sex</th>\n",
       "      <th>...</th>\n",
       "      <th>ci</th>\n",
       "      <th>is_connect</th>\n",
       "      <th>created_at</th>\n",
       "      <th>updated_at</th>\n",
       "      <th>is_delete</th>\n",
       "      <th>deleted_at</th>\n",
       "      <th>delete_reason</th>\n",
       "      <th>user_id</th>\n",
       "      <th>display_email</th>\n",
       "      <th>settings</th>\n",
       "    </tr>\n",
       "  </thead>\n",
       "  <tbody>\n",
       "    <tr>\n",
       "      <th>0</th>\n",
       "      <td>130549b7-128f-46ee-991f-75b35bebfa55</td>\n",
       "      <td>lover0422@naver.com</td>\n",
       "      <td>kakao</td>\n",
       "      <td>3198349564</td>\n",
       "      <td>배현우</td>\n",
       "      <td>배현우</td>\n",
       "      <td>NaN</td>\n",
       "      <td>19871019.0</td>\n",
       "      <td>1.077714e+09</td>\n",
       "      <td>남자</td>\n",
       "      <td>...</td>\n",
       "      <td>xHoltYhdt2IwyMl5k2YHxyza2orMmuvQjvoDUxVWzDV4xJ...</td>\n",
       "      <td>False</td>\n",
       "      <td>2024-07-31 15:56:23.226</td>\n",
       "      <td>2024-07-31 15:56:23.226</td>\n",
       "      <td>False</td>\n",
       "      <td>NaN</td>\n",
       "      <td>NaN</td>\n",
       "      <td>44d5e32d-507d-421e-821f-53462d7756b9</td>\n",
       "      <td>NaN</td>\n",
       "      <td>{\"sms\":{\"value\":true,\"updated_at\":\"2024-07-31T...</td>\n",
       "    </tr>\n",
       "  </tbody>\n",
       "</table>\n",
       "<p>1 rows × 21 columns</p>\n",
       "</div>"
      ],
      "text/plain": [
       "                                     id                email sns_type  \\\n",
       "0  130549b7-128f-46ee-991f-75b35bebfa55  lover0422@naver.com    kakao   \n",
       "\n",
       "       sns_id nickname name password    birthday         phone sex  ...  \\\n",
       "0  3198349564      배현우  배현우      NaN  19871019.0  1.077714e+09  남자  ...   \n",
       "\n",
       "                                                  ci is_connect  \\\n",
       "0  xHoltYhdt2IwyMl5k2YHxyza2orMmuvQjvoDUxVWzDV4xJ...      False   \n",
       "\n",
       "                created_at               updated_at is_delete  deleted_at  \\\n",
       "0  2024-07-31 15:56:23.226  2024-07-31 15:56:23.226     False         NaN   \n",
       "\n",
       "   delete_reason                               user_id display_email  \\\n",
       "0            NaN  44d5e32d-507d-421e-821f-53462d7756b9           NaN   \n",
       "\n",
       "                                            settings  \n",
       "0  {\"sms\":{\"value\":true,\"updated_at\":\"2024-07-31T...  \n",
       "\n",
       "[1 rows x 21 columns]"
      ]
     },
     "execution_count": 95,
     "metadata": {},
     "output_type": "execute_result"
    }
   ],
   "source": [
    "import pandas as pd\n",
    "import numpy as np\n",
    "from datetime import datetime, timedelta\n",
    "\n",
    "df = pd.read_csv('/Users/seanyu_mac/Downloads/public_pb_user_auth_info_export_2025-02-04_105514.csv')\n",
    "df.head(1)"
   ]
  },
  {
   "cell_type": "code",
   "execution_count": 107,
   "id": "26bc71ab-248f-4ac8-a1a2-bb6fe3fe4270",
   "metadata": {},
   "outputs": [
    {
     "name": "stderr",
     "output_type": "stream",
     "text": [
      "/var/folders/wl/txjbcgld2sngchsc7txxqppm0000gp/T/ipykernel_5749/692181866.py:1: FutureWarning: Series.__getitem__ treating keys as positions is deprecated. In a future version, integer keys will always be treated as labels (consistent with DataFrame behavior). To access a value by position, use `ser.iloc[pos]`\n",
      "  kakao = df['sns_type'].value_counts()[0]\n",
      "/var/folders/wl/txjbcgld2sngchsc7txxqppm0000gp/T/ipykernel_5749/692181866.py:2: FutureWarning: Series.__getitem__ treating keys as positions is deprecated. In a future version, integer keys will always be treated as labels (consistent with DataFrame behavior). To access a value by position, use `ser.iloc[pos]`\n",
      "  email = df['sns_type'].value_counts()[1]\n",
      "/var/folders/wl/txjbcgld2sngchsc7txxqppm0000gp/T/ipykernel_5749/692181866.py:3: FutureWarning: Series.__getitem__ treating keys as positions is deprecated. In a future version, integer keys will always be treated as labels (consistent with DataFrame behavior). To access a value by position, use `ser.iloc[pos]`\n",
      "  apple = df['sns_type'].value_counts()[2]\n"
     ]
    },
    {
     "data": {
      "text/plain": [
       "0.9366274509803921"
      ]
     },
     "execution_count": 107,
     "metadata": {},
     "output_type": "execute_result"
    }
   ],
   "source": [
    "kakao = df['sns_type'].value_counts()[0]\n",
    "email = df['sns_type'].value_counts()[1]\n",
    "apple = df['sns_type'].value_counts()[2]\n",
    "kakao / (kakao + email + apple)"
   ]
  },
  {
   "cell_type": "code",
   "execution_count": 84,
   "id": "3f7cbe82-842c-4ce4-ae6a-76e34c1b36b9",
   "metadata": {},
   "outputs": [
    {
     "data": {
      "text/plain": [
       "array(['kakao', 'email', 'apple'], dtype=object)"
      ]
     },
     "execution_count": 84,
     "metadata": {},
     "output_type": "execute_result"
    }
   ],
   "source": [
    "df['sns_type'].unique()"
   ]
  },
  {
   "cell_type": "code",
   "execution_count": 74,
   "id": "9c11fda9-6dbe-4005-9469-e797a68c6a91",
   "metadata": {},
   "outputs": [
    {
     "data": {
      "text/plain": [
       "array([], dtype=object)"
      ]
     },
     "execution_count": 74,
     "metadata": {},
     "output_type": "execute_result"
    }
   ],
   "source": [
    "apple_ci = df.loc[(df['phone'] == 1025807845) & (df['sns_type'] == 'apple'), 'ci']\n",
    "kakao_ci = df.loc[(df['email'] == 'gain0921@gmail.com') & (df['sns_type'] == 'kakao'), 'ci']\n",
    "email_ci = df.loc[(df['email'] == 'kainy2109@gmail.com') & (df['email'] == 'email'), 'ci']\n",
    "apple_ci.values"
   ]
  },
  {
   "cell_type": "code",
   "execution_count": 66,
   "id": "6fa8fd68-7242-4944-9820-7258ccee800c",
   "metadata": {},
   "outputs": [
    {
     "data": {
      "text/plain": [
       "array(['lqdMwFg9UfHIvkIY00H7TNEezGpf2QEjsN+47tzPwukE0vVDH66M80Nrcy9MCcjEKNk72O3wmmmT/YZQ1VRz3g=='],\n",
       "      dtype=object)"
      ]
     },
     "execution_count": 66,
     "metadata": {},
     "output_type": "execute_result"
    }
   ],
   "source": [
    "kakao_ci.values"
   ]
  },
  {
   "cell_type": "code",
   "execution_count": 76,
   "id": "e1cd7175-ddba-46e8-89b7-532191399a18",
   "metadata": {},
   "outputs": [
    {
     "data": {
      "text/plain": [
       "array([], dtype=object)"
      ]
     },
     "execution_count": 76,
     "metadata": {},
     "output_type": "execute_result"
    }
   ],
   "source": [
    "email_ci.values"
   ]
  },
  {
   "cell_type": "code",
   "execution_count": 8,
   "id": "ecf792b3-b50c-4271-8c55-cbcc9c6ff5ed",
   "metadata": {},
   "outputs": [
    {
     "data": {
      "text/plain": [
       "12285    lqdMwFg9UfHIvkIY00H7TNEezGpf2QEjsN+47tzPwukE0v...\n",
       "Name: ci, dtype: object"
      ]
     },
     "execution_count": 8,
     "metadata": {},
     "output_type": "execute_result"
    }
   ],
   "source": [
    "df.loc[df['phone'] == 1025807845, 'ci']"
   ]
  },
  {
   "cell_type": "code",
   "execution_count": 92,
   "id": "597afd61-6f29-40bb-9643-ce951d72711f",
   "metadata": {},
   "outputs": [
    {
     "data": {
      "text/html": [
       "<div>\n",
       "<style scoped>\n",
       "    .dataframe tbody tr th:only-of-type {\n",
       "        vertical-align: middle;\n",
       "    }\n",
       "\n",
       "    .dataframe tbody tr th {\n",
       "        vertical-align: top;\n",
       "    }\n",
       "\n",
       "    .dataframe thead th {\n",
       "        text-align: right;\n",
       "    }\n",
       "</style>\n",
       "<table border=\"1\" class=\"dataframe\">\n",
       "  <thead>\n",
       "    <tr style=\"text-align: right;\">\n",
       "      <th></th>\n",
       "      <th>id</th>\n",
       "      <th>email</th>\n",
       "      <th>sns_type</th>\n",
       "      <th>sns_id</th>\n",
       "      <th>nickname</th>\n",
       "      <th>name</th>\n",
       "      <th>password</th>\n",
       "      <th>birthday</th>\n",
       "      <th>phone</th>\n",
       "      <th>sex</th>\n",
       "      <th>...</th>\n",
       "      <th>ci</th>\n",
       "      <th>is_connect</th>\n",
       "      <th>created_at</th>\n",
       "      <th>updated_at</th>\n",
       "      <th>is_delete</th>\n",
       "      <th>deleted_at</th>\n",
       "      <th>delete_reason</th>\n",
       "      <th>user_id</th>\n",
       "      <th>display_email</th>\n",
       "      <th>settings</th>\n",
       "    </tr>\n",
       "  </thead>\n",
       "  <tbody>\n",
       "    <tr>\n",
       "      <th>12296</th>\n",
       "      <td>9e04c739-1795-40a3-801d-24a17ac09318</td>\n",
       "      <td>kainy2109@gmail.com</td>\n",
       "      <td>email</td>\n",
       "      <td>NaN</td>\n",
       "      <td>평화로운병아리6633</td>\n",
       "      <td>류가인</td>\n",
       "      <td>bd877cf94f1a63123c8bec5abdd126b988361989e473ef...</td>\n",
       "      <td>19930921.0</td>\n",
       "      <td>1.025808e+09</td>\n",
       "      <td>여자</td>\n",
       "      <td>...</td>\n",
       "      <td>lqdMwFg9UfHIvkIY00H7TNEezGpf2QEjsN+47tzPwukE0v...</td>\n",
       "      <td>False</td>\n",
       "      <td>2025-02-04 01:48:52.912</td>\n",
       "      <td>2025-02-04 01:48:52.912</td>\n",
       "      <td>False</td>\n",
       "      <td>NaN</td>\n",
       "      <td>NaN</td>\n",
       "      <td>504e4f85-4242-4b0e-b3e7-9eb43579047c</td>\n",
       "      <td>kainy2109@gmail.com</td>\n",
       "      <td>{}</td>\n",
       "    </tr>\n",
       "  </tbody>\n",
       "</table>\n",
       "<p>1 rows × 21 columns</p>\n",
       "</div>"
      ],
      "text/plain": [
       "                                         id                email sns_type  \\\n",
       "12296  9e04c739-1795-40a3-801d-24a17ac09318  kainy2109@gmail.com    email   \n",
       "\n",
       "      sns_id     nickname name  \\\n",
       "12296    NaN  평화로운병아리6633  류가인   \n",
       "\n",
       "                                                password    birthday  \\\n",
       "12296  bd877cf94f1a63123c8bec5abdd126b988361989e473ef...  19930921.0   \n",
       "\n",
       "              phone sex  ...  \\\n",
       "12296  1.025808e+09  여자  ...   \n",
       "\n",
       "                                                      ci is_connect  \\\n",
       "12296  lqdMwFg9UfHIvkIY00H7TNEezGpf2QEjsN+47tzPwukE0v...      False   \n",
       "\n",
       "                    created_at               updated_at is_delete  deleted_at  \\\n",
       "12296  2025-02-04 01:48:52.912  2025-02-04 01:48:52.912     False         NaN   \n",
       "\n",
       "       delete_reason                               user_id  \\\n",
       "12296            NaN  504e4f85-4242-4b0e-b3e7-9eb43579047c   \n",
       "\n",
       "             display_email settings  \n",
       "12296  kainy2109@gmail.com       {}  \n",
       "\n",
       "[1 rows x 21 columns]"
      ]
     },
     "execution_count": 92,
     "metadata": {},
     "output_type": "execute_result"
    }
   ],
   "source": [
    "df[df['name'] == '류가인']"
   ]
  },
  {
   "cell_type": "code",
   "execution_count": 88,
   "id": "b95fdf54-d48b-4cd6-94ab-0f5c9e87784b",
   "metadata": {},
   "outputs": [
    {
     "data": {
      "text/html": [
       "<div>\n",
       "<style scoped>\n",
       "    .dataframe tbody tr th:only-of-type {\n",
       "        vertical-align: middle;\n",
       "    }\n",
       "\n",
       "    .dataframe tbody tr th {\n",
       "        vertical-align: top;\n",
       "    }\n",
       "\n",
       "    .dataframe thead th {\n",
       "        text-align: right;\n",
       "    }\n",
       "</style>\n",
       "<table border=\"1\" class=\"dataframe\">\n",
       "  <thead>\n",
       "    <tr style=\"text-align: right;\">\n",
       "      <th></th>\n",
       "      <th>id</th>\n",
       "      <th>email</th>\n",
       "      <th>sns_type</th>\n",
       "      <th>sns_id</th>\n",
       "      <th>nickname</th>\n",
       "      <th>name</th>\n",
       "      <th>password</th>\n",
       "      <th>birthday</th>\n",
       "      <th>phone</th>\n",
       "      <th>sex</th>\n",
       "      <th>...</th>\n",
       "      <th>ci</th>\n",
       "      <th>is_connect</th>\n",
       "      <th>created_at</th>\n",
       "      <th>updated_at</th>\n",
       "      <th>is_delete</th>\n",
       "      <th>deleted_at</th>\n",
       "      <th>delete_reason</th>\n",
       "      <th>user_id</th>\n",
       "      <th>display_email</th>\n",
       "      <th>settings</th>\n",
       "    </tr>\n",
       "  </thead>\n",
       "  <tbody>\n",
       "    <tr>\n",
       "      <th>12279</th>\n",
       "      <td>9c7c16ea-eb1d-4fa3-9ef9-191278d9f897</td>\n",
       "      <td>gain0921@gmail.com</td>\n",
       "      <td>kakao</td>\n",
       "      <td>3436471607</td>\n",
       "      <td>감미로운코알라0034</td>\n",
       "      <td>NaN</td>\n",
       "      <td>NaN</td>\n",
       "      <td>NaN</td>\n",
       "      <td>NaN</td>\n",
       "      <td>NaN</td>\n",
       "      <td>...</td>\n",
       "      <td>lqdMwFg9UfHIvkIY00H7TNEezGpf2QEjsN+47tzPwukE0v...</td>\n",
       "      <td>False</td>\n",
       "      <td>2025-02-04 01:36:45.776</td>\n",
       "      <td>2025-02-04 01:36:45.776</td>\n",
       "      <td>False</td>\n",
       "      <td>NaN</td>\n",
       "      <td>NaN</td>\n",
       "      <td>d4febdc9-e9e4-423c-b6e4-51aba99cceda</td>\n",
       "      <td>gain0921@gmail.com</td>\n",
       "      <td>{}</td>\n",
       "    </tr>\n",
       "    <tr>\n",
       "      <th>12296</th>\n",
       "      <td>9e04c739-1795-40a3-801d-24a17ac09318</td>\n",
       "      <td>kainy2109@gmail.com</td>\n",
       "      <td>email</td>\n",
       "      <td>NaN</td>\n",
       "      <td>평화로운병아리6633</td>\n",
       "      <td>류가인</td>\n",
       "      <td>bd877cf94f1a63123c8bec5abdd126b988361989e473ef...</td>\n",
       "      <td>19930921.0</td>\n",
       "      <td>1.025808e+09</td>\n",
       "      <td>여자</td>\n",
       "      <td>...</td>\n",
       "      <td>lqdMwFg9UfHIvkIY00H7TNEezGpf2QEjsN+47tzPwukE0v...</td>\n",
       "      <td>False</td>\n",
       "      <td>2025-02-04 01:48:52.912</td>\n",
       "      <td>2025-02-04 01:48:52.912</td>\n",
       "      <td>False</td>\n",
       "      <td>NaN</td>\n",
       "      <td>NaN</td>\n",
       "      <td>504e4f85-4242-4b0e-b3e7-9eb43579047c</td>\n",
       "      <td>kainy2109@gmail.com</td>\n",
       "      <td>{}</td>\n",
       "    </tr>\n",
       "  </tbody>\n",
       "</table>\n",
       "<p>2 rows × 21 columns</p>\n",
       "</div>"
      ],
      "text/plain": [
       "                                         id                email sns_type  \\\n",
       "12279  9c7c16ea-eb1d-4fa3-9ef9-191278d9f897   gain0921@gmail.com    kakao   \n",
       "12296  9e04c739-1795-40a3-801d-24a17ac09318  kainy2109@gmail.com    email   \n",
       "\n",
       "           sns_id     nickname name  \\\n",
       "12279  3436471607  감미로운코알라0034  NaN   \n",
       "12296         NaN  평화로운병아리6633  류가인   \n",
       "\n",
       "                                                password    birthday  \\\n",
       "12279                                                NaN         NaN   \n",
       "12296  bd877cf94f1a63123c8bec5abdd126b988361989e473ef...  19930921.0   \n",
       "\n",
       "              phone  sex  ...  \\\n",
       "12279           NaN  NaN  ...   \n",
       "12296  1.025808e+09   여자  ...   \n",
       "\n",
       "                                                      ci is_connect  \\\n",
       "12279  lqdMwFg9UfHIvkIY00H7TNEezGpf2QEjsN+47tzPwukE0v...      False   \n",
       "12296  lqdMwFg9UfHIvkIY00H7TNEezGpf2QEjsN+47tzPwukE0v...      False   \n",
       "\n",
       "                    created_at               updated_at is_delete  deleted_at  \\\n",
       "12279  2025-02-04 01:36:45.776  2025-02-04 01:36:45.776     False         NaN   \n",
       "12296  2025-02-04 01:48:52.912  2025-02-04 01:48:52.912     False         NaN   \n",
       "\n",
       "       delete_reason                               user_id  \\\n",
       "12279            NaN  d4febdc9-e9e4-423c-b6e4-51aba99cceda   \n",
       "12296            NaN  504e4f85-4242-4b0e-b3e7-9eb43579047c   \n",
       "\n",
       "             display_email settings  \n",
       "12279   gain0921@gmail.com       {}  \n",
       "12296  kainy2109@gmail.com       {}  \n",
       "\n",
       "[2 rows x 21 columns]"
      ]
     },
     "execution_count": 88,
     "metadata": {},
     "output_type": "execute_result"
    }
   ],
   "source": [
    "df.loc[df['ci'] == 'lqdMwFg9UfHIvkIY00H7TNEezGpf2QEjsN+47tzPwukE0vVDH66M80Nrcy9MCcjEKNk72O3wmmmT/YZQ1VRz3g==']"
   ]
  }
 ],
 "metadata": {
  "kernelspec": {
   "display_name": "Python 3 (ipykernel)",
   "language": "python",
   "name": "python3"
  },
  "language_info": {
   "codemirror_mode": {
    "name": "ipython",
    "version": 3
   },
   "file_extension": ".py",
   "mimetype": "text/x-python",
   "name": "python",
   "nbconvert_exporter": "python",
   "pygments_lexer": "ipython3",
   "version": "3.12.7"
  }
 },
 "nbformat": 4,
 "nbformat_minor": 5
}
