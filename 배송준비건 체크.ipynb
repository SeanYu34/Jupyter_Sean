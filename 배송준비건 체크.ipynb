{
 "cells": [
  {
   "cell_type": "code",
   "execution_count": 2,
   "id": "c477f6ec-0a70-4ce4-89ad-50a8c4646b68",
   "metadata": {},
   "outputs": [],
   "source": [
    "import pandas as pd\n",
    "import numpy as np\n",
    "from datetime import datetime, timedelta\n",
    "import warnings\n",
    "warnings.simplefilter('ignore')"
   ]
  },
  {
   "cell_type": "code",
   "execution_count": 4,
   "id": "dc6d5d41-4783-48f7-bb36-4998cbf8dad4",
   "metadata": {},
   "outputs": [],
   "source": [
    "df = pd.read_excel('/Users/seanyu_mac/Downloads/주문내역_2024-04-14~2025-04-14.xlsx')"
   ]
  },
  {
   "cell_type": "code",
   "execution_count": 18,
   "id": "845bd606-8e3f-473a-8f22-a06f809d18d7",
   "metadata": {},
   "outputs": [
    {
     "data": {
      "text/html": [
       "<div>\n",
       "<style scoped>\n",
       "    .dataframe tbody tr th:only-of-type {\n",
       "        vertical-align: middle;\n",
       "    }\n",
       "\n",
       "    .dataframe tbody tr th {\n",
       "        vertical-align: top;\n",
       "    }\n",
       "\n",
       "    .dataframe thead th {\n",
       "        text-align: right;\n",
       "    }\n",
       "</style>\n",
       "<table border=\"1\" class=\"dataframe\">\n",
       "  <thead>\n",
       "    <tr style=\"text-align: right;\">\n",
       "      <th></th>\n",
       "      <th>결제 번호</th>\n",
       "      <th>상품 번호</th>\n",
       "      <th>주문 번호</th>\n",
       "      <th>결제 완료일</th>\n",
       "      <th>주문 상태</th>\n",
       "      <th>상품명</th>\n",
       "      <th>옵션명</th>\n",
       "      <th>수량</th>\n",
       "      <th>정상가</th>\n",
       "      <th>판매가</th>\n",
       "      <th>...</th>\n",
       "      <th>송장 번호</th>\n",
       "      <th>배송비 정책</th>\n",
       "      <th>배송비</th>\n",
       "      <th>도서산간 배송비</th>\n",
       "      <th>취소 완료일</th>\n",
       "      <th>판매자 취소일</th>\n",
       "      <th>반품 요청일</th>\n",
       "      <th>수거 요청일</th>\n",
       "      <th>수거 완료일</th>\n",
       "      <th>반품 완료일</th>\n",
       "    </tr>\n",
       "  </thead>\n",
       "  <tbody>\n",
       "    <tr>\n",
       "      <th>321</th>\n",
       "      <td>parma20250409152359RzWi4</td>\n",
       "      <td>51102</td>\n",
       "      <td>52453-51988</td>\n",
       "      <td>2025-04-09 15:24:23.500</td>\n",
       "      <td>배송준비</td>\n",
       "      <td>[스페셜할인코드/최명훈약사] YDY 파이토 레드큐민 1박스(1개월분) /커큐민</td>\n",
       "      <td>[스페셜할인코드/최명훈약사] YDY 파이토 레드큐민 1박스(1개월분) /커큐민</td>\n",
       "      <td>1</td>\n",
       "      <td>55000</td>\n",
       "      <td>48450</td>\n",
       "      <td>...</td>\n",
       "      <td>NaN</td>\n",
       "      <td>무료배송</td>\n",
       "      <td>0</td>\n",
       "      <td>0</td>\n",
       "      <td>NaT</td>\n",
       "      <td>NaT</td>\n",
       "      <td>NaT</td>\n",
       "      <td>NaT</td>\n",
       "      <td>NaT</td>\n",
       "      <td>NaT</td>\n",
       "    </tr>\n",
       "    <tr>\n",
       "      <th>506</th>\n",
       "      <td>parma20250404220401wvsZ1</td>\n",
       "      <td>51102</td>\n",
       "      <td>52172-51803</td>\n",
       "      <td>2025-04-04 22:04:17.770</td>\n",
       "      <td>배송준비</td>\n",
       "      <td>[스페셜할인코드/최명훈약사] YDY 파이토 레드큐민 1박스(1개월분) /커큐민</td>\n",
       "      <td>[스페셜할인코드/최명훈약사] YDY 파이토 레드큐민 1박스(1개월분) /커큐민</td>\n",
       "      <td>1</td>\n",
       "      <td>55000</td>\n",
       "      <td>48450</td>\n",
       "      <td>...</td>\n",
       "      <td>NaN</td>\n",
       "      <td>무료배송</td>\n",
       "      <td>0</td>\n",
       "      <td>0</td>\n",
       "      <td>NaT</td>\n",
       "      <td>NaT</td>\n",
       "      <td>NaT</td>\n",
       "      <td>NaT</td>\n",
       "      <td>NaT</td>\n",
       "      <td>NaT</td>\n",
       "    </tr>\n",
       "    <tr>\n",
       "      <th>650</th>\n",
       "      <td>parma20250327103912Cy8Y2</td>\n",
       "      <td>51109</td>\n",
       "      <td>51959-51659</td>\n",
       "      <td>2025-03-27 10:39:52.087</td>\n",
       "      <td>배송준비</td>\n",
       "      <td>[스페셜할인코드/최명훈약사] YDY 마그듀오 K2 1박스(1개월분)</td>\n",
       "      <td>[스페셜할인코드/최명훈약사] YDY 마그듀오 1박스(1개월분)</td>\n",
       "      <td>2</td>\n",
       "      <td>25000</td>\n",
       "      <td>23750</td>\n",
       "      <td>...</td>\n",
       "      <td>NaN</td>\n",
       "      <td>무료배송</td>\n",
       "      <td>0</td>\n",
       "      <td>0</td>\n",
       "      <td>NaT</td>\n",
       "      <td>NaT</td>\n",
       "      <td>NaT</td>\n",
       "      <td>NaT</td>\n",
       "      <td>NaT</td>\n",
       "      <td>NaT</td>\n",
       "    </tr>\n",
       "  </tbody>\n",
       "</table>\n",
       "<p>3 rows × 37 columns</p>\n",
       "</div>"
      ],
      "text/plain": [
       "                        결제 번호  상품 번호        주문 번호                  결제 완료일  \\\n",
       "321  parma20250409152359RzWi4  51102  52453-51988 2025-04-09 15:24:23.500   \n",
       "506  parma20250404220401wvsZ1  51102  52172-51803 2025-04-04 22:04:17.770   \n",
       "650  parma20250327103912Cy8Y2  51109  51959-51659 2025-03-27 10:39:52.087   \n",
       "\n",
       "    주문 상태                                          상품명  \\\n",
       "321  배송준비  [스페셜할인코드/최명훈약사] YDY 파이토 레드큐민 1박스(1개월분) /커큐민   \n",
       "506  배송준비  [스페셜할인코드/최명훈약사] YDY 파이토 레드큐민 1박스(1개월분) /커큐민   \n",
       "650  배송준비        [스페셜할인코드/최명훈약사] YDY 마그듀오 K2 1박스(1개월분)   \n",
       "\n",
       "                                             옵션명  수량    정상가    판매가  ...  \\\n",
       "321  [스페셜할인코드/최명훈약사] YDY 파이토 레드큐민 1박스(1개월분) /커큐민   1  55000  48450  ...   \n",
       "506  [스페셜할인코드/최명훈약사] YDY 파이토 레드큐민 1박스(1개월분) /커큐민   1  55000  48450  ...   \n",
       "650           [스페셜할인코드/최명훈약사] YDY 마그듀오 1박스(1개월분)   2  25000  23750  ...   \n",
       "\n",
       "     송장 번호  배송비 정책  배송비  도서산간 배송비 취소 완료일 판매자 취소일 반품 요청일 수거 요청일  수거 완료일 반품 완료일  \n",
       "321    NaN    무료배송    0         0    NaT     NaT    NaT    NaT     NaT    NaT  \n",
       "506    NaN    무료배송    0         0    NaT     NaT    NaT    NaT     NaT    NaT  \n",
       "650    NaN    무료배송    0         0    NaT     NaT    NaT    NaT     NaT    NaT  \n",
       "\n",
       "[3 rows x 37 columns]"
      ]
     },
     "execution_count": 18,
     "metadata": {},
     "output_type": "execute_result"
    }
   ],
   "source": [
    "df = df[df['주문 상태'].isin(['배송준비'])]\n",
    "df = df[df['송장 번호'].isna()]\n",
    "df"
   ]
  },
  {
   "cell_type": "code",
   "execution_count": 26,
   "id": "75088876-6e13-4510-ac8b-8a0c3a0a27ae",
   "metadata": {},
   "outputs": [
    {
     "name": "stdout",
     "output_type": "stream",
     "text": [
      "아워박스로 발주되었으나, 송장번호가 업데이트되지 않은 건들입니다.\n",
      "\n",
      "52453-51988    [스페셜할인코드/최명훈약사] YDY 파이토 레드큐민 1박스(1개월분) /커큐민    [스페셜할인코드/최명훈약사] YDY 파이토 레드큐민 1박스(1개월분) /커큐민\n",
      "52172-51803    [스페셜할인코드/최명훈약사] YDY 파이토 레드큐민 1박스(1개월분) /커큐민    [스페셜할인코드/최명훈약사] YDY 파이토 레드큐민 1박스(1개월분) /커큐민\n",
      "51959-51659    [스페셜할인코드/최명훈약사] YDY 마그듀오 K2 1박스(1개월분)    [스페셜할인코드/최명훈약사] YDY 마그듀오 1박스(1개월분)\n"
     ]
    }
   ],
   "source": [
    "print(f'아워박스로 발주되었으나, 송장번호가 업데이트되지 않은 건들입니다.\\n')\n",
    "for i in df.index:\n",
    "    name1 = df.loc[i, '주문 번호']\n",
    "    name2 = df.loc[i, '상품명']\n",
    "    name3 = df.loc[i, '옵션명']\n",
    "    print(f'{name1}    {name2}    {name3}')"
   ]
  },
  {
   "cell_type": "code",
   "execution_count": null,
   "id": "154bac12-aca9-4041-b1fc-a6f9c1c59cc7",
   "metadata": {},
   "outputs": [],
   "source": [
    "\n"
   ]
  }
 ],
 "metadata": {
  "kernelspec": {
   "display_name": "Python 3 (ipykernel)",
   "language": "python",
   "name": "python3"
  },
  "language_info": {
   "codemirror_mode": {
    "name": "ipython",
    "version": 3
   },
   "file_extension": ".py",
   "mimetype": "text/x-python",
   "name": "python",
   "nbconvert_exporter": "python",
   "pygments_lexer": "ipython3",
   "version": "3.12.7"
  }
 },
 "nbformat": 4,
 "nbformat_minor": 5
}
