{
 "cells": [
  {
   "cell_type": "code",
   "execution_count": 2,
   "id": "e286f839-ac67-44e1-9844-1347646316ce",
   "metadata": {},
   "outputs": [],
   "source": [
    "import pandas as pd\n",
    "import numpy as np\n",
    "from datetime import datetime, timedelta\n",
    "import warnings\n",
    "warnings.simplefilter('ignore')"
   ]
  },
  {
   "cell_type": "code",
   "execution_count": 4,
   "id": "cd534266-c5b5-4a38-a297-4ecf4a462a15",
   "metadata": {},
   "outputs": [],
   "source": [
    "pb_df = pd.read_csv('/Users/seanyu_mac/Downloads/public_pb_product_export_2025-04-28_200040.csv')\n",
    "cm_df = pd.read_csv('/Users/seanyu_mac/Downloads/[공구] 일정 신청 및 관리 시트의 사본 - 공구제품리스트.csv')\n",
    "fs_df = pd.read_csv('/Users/seanyu_mac/Downloads/공동구매 상품 메인 정보 - 점검.csv')"
   ]
  }
 ],
 "metadata": {
  "kernelspec": {
   "display_name": "Python 3 (ipykernel)",
   "language": "python",
   "name": "python3"
  },
  "language_info": {
   "codemirror_mode": {
    "name": "ipython",
    "version": 3
   },
   "file_extension": ".py",
   "mimetype": "text/x-python",
   "name": "python",
   "nbconvert_exporter": "python",
   "pygments_lexer": "ipython3",
   "version": "3.12.7"
  }
 },
 "nbformat": 4,
 "nbformat_minor": 5
}
