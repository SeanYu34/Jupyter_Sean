{
 "cells": [
  {
   "cell_type": "code",
   "execution_count": 76,
   "id": "b4b62180-9bac-4033-858d-e67e7a9d853d",
   "metadata": {},
   "outputs": [],
   "source": [
    "import pandas as pd\n",
    "import numpy as np\n",
    "from datetime import datetime, timedelta\n",
    "import warnings\n",
    "import matplotlib.pyplot as plt\n",
    "warnings.simplefilter('ignore')"
   ]
  },
  {
   "cell_type": "code",
   "execution_count": 354,
   "id": "b7e1014d-688e-4a60-89cc-8ab29debefd2",
   "metadata": {},
   "outputs": [],
   "source": [
    "ob_df = pd.read_csv('/Users/seanyu_mac/Downloads/아워박스_통합관리_조회_250327 - 시트1.csv')\n",
    "fs_df = pd.read_excel('/Users/seanyu_mac/Downloads/주문내역_2024-03-27~2025-03-27 (1).xlsx')"
   ]
  },
  {
   "cell_type": "code",
   "execution_count": 356,
   "id": "d3657701-8427-4a57-be9a-097668a99e98",
   "metadata": {},
   "outputs": [],
   "source": [
    "# 두개 테이블의 주문 일시와 결제 완료일은 datetime 형식으로 변환 후 str 타입으로 변환\n",
    "ob_df['주문일시'] = pd.to_datetime(ob_df['주문일시'])\n",
    "ob_df = ob_df.sort_values(by='주문일시', ascending=False)\n",
    "ob_df = ob_df.reset_index()\n",
    "fs_df['결제 완료일'] = pd.to_datetime(fs_df['결제 완료일'])\n",
    "fs_df = fs_df.sort_values(by='결제 완료일', ascending=False)\n",
    "fs_df = fs_df.reset_index()\n",
    "\n",
    "fs_df['결제 완료일'] = fs_df['결제 완료일'].dt.strftime('%Y-%m-%d %H:%M:%S')\n",
    "fs_df['결제 완료일']\n",
    "ob_df['주문일시'] = ob_df['주문일시'].astype(str)\n",
    "ob_df['주문일시']\n",
    "\n",
    "# 두 테이블의 우편번호를 str 타입으로 변환\n",
    "ob_df['우편번호'] = ob_df['우편번호'].astype(str)\n",
    "fs_df['우편번호'] = fs_df['우편번호'].fillna(0)\n",
    "fs_df['우편번호'] = fs_df['우편번호'].astype(int)\n",
    "fs_df['우편번호'] = fs_df['우편번호'].astype(str)\n",
    "fs_df['우편번호']\n",
    "\n",
    "# 두 테이블의 주문번호를 앞 5자리 추출 후 str 타입으로 변환\n",
    "ob_df['주문번호'] = ob_df['주문번호'].apply(lambda x: x[:5])\n",
    "ob_df['주문번호']\n",
    "fs_df['주문 번호'] = fs_df['주문 번호'].apply(lambda x: x[:5])\n",
    "\n",
    "# 아워박스 데이터의 결제 금액을 뜻하는 sales 컬럼 생성 후 str 타입으로 변환\n",
    "ob_df['sales'] = ob_df['수량'] * ob_df['판매단가']\n",
    "ob_df['sales'] = ob_df['sales'].astype(str)\n",
    "fs_df['정산가'] = fs_df['정산가'].astype(str)\n",
    "\n",
    "# 머지하기 위한 key 컬럼을 생성 : 주문일시 + 우편번호 + 주문번호 + 결제금액\n",
    "# ob_df['key'] = ob_df['주문일시'] + ob_df['우편번호'] + ob_df['주문번호'] + ob_df['sales']\n",
    "ob_df['key'] = ob_df['우편번호'] + ob_df['주문번호'] + ob_df['sales']\n",
    "# fs_df['key'] = fs_df['결제 완료일'] + fs_df['우편번호'] + fs_df['주문 번호'] + fs_df['정산가']\n",
    "fs_df['key'] = fs_df['우편번호'] + fs_df['주문 번호'] + fs_df['정산가']\n",
    "\n",
    "\n",
    "# 머지하여 temp_df 생성하고 html 태그 제거 후 엑셀 다운로드\n",
    "temp_df = pd.merge(ob_df, fs_df[['key', '옵션명','상품명']], on='key', how='left')\n",
    "datas = []\n",
    "\n",
    "for i in temp_df['품목명']:\n",
    "    if '>S' in i:\n",
    "        data = i.split('>S')[1].strip()\n",
    "    elif '>D' in i:\n",
    "        data = i.split('>D')[1].strip()\n",
    "    datas.append(data)\n",
    "temp_df['품목명'] = datas\n",
    "temp_df['채널상품명'] = temp_df['상품명']\n",
    "temp_df['옵션1'] = temp_df['옵션명']\n",
    "\n",
    "temp_df['품목명'] = temp_df['품목명'].str.replace('</span>', '')\n",
    "temp_df['품목명'] = temp_df['품목명'].apply(lambda x: x.strip())\n",
    "\n",
    "temp_df['도서산간여부'] = temp_df['도서산간여부'].str.replace(\"<span class='square square-gray'>\", '')\n",
    "temp_df['도서산간여부'] = temp_df['도서산간여부'].str.replace(\"</span>\", '')\n",
    "temp_df['도서산간여부'] = temp_df['도서산간여부'].apply(lambda x: x.strip())\n",
    "\n",
    "temp_df['주문서상태'] = temp_df['주문서상태'].str.replace(\"<span class='square square-primary'>\", '')\n",
    "temp_df['주문서상태'] = temp_df['주문서상태'].str.replace(\"<span class='square square-warning'>\", '')\n",
    "temp_df['주문서상태'] = temp_df['주문서상태'].str.replace(\"</span>\", '')\n",
    "temp_df['주문서상태'] = temp_df['주문서상태'].apply(lambda x: x.strip())\n",
    "temp_df['주문서상태']\n",
    "\n",
    "del temp_df['key']\n",
    "del temp_df['상품명']\n",
    "del temp_df['옵션명']\n",
    "del temp_df['sales']\n",
    "del temp_df['index']\n",
    "\n",
    "today = datetime.now().strftime('%Y-%m-%d')\n",
    "temp_df.to_excel(f'/Users/seanyu_mac/Downloads/아워박스_상품명_옵션명_업데이트_{today}.xlsx')"
   ]
  },
  {
   "cell_type": "code",
   "execution_count": 366,
   "id": "1d1e56e4-946a-4370-bf9e-71362731d96a",
   "metadata": {},
   "outputs": [
    {
     "data": {
      "text/plain": [
       "125822940"
      ]
     },
     "execution_count": 366,
     "metadata": {},
     "output_type": "execute_result"
    }
   ],
   "source": [
    "fs_df['주문 상태'].isin(['배송준비', '배송중', '배송완료', '구매확정'])\n",
    "fs_df['정산가'] = fs_df['정산가'].astype(int)\n",
    "fs_df['정산가'].sum()"
   ]
  }
 ],
 "metadata": {
  "kernelspec": {
   "display_name": "Python 3 (ipykernel)",
   "language": "python",
   "name": "python3"
  },
  "language_info": {
   "codemirror_mode": {
    "name": "ipython",
    "version": 3
   },
   "file_extension": ".py",
   "mimetype": "text/x-python",
   "name": "python",
   "nbconvert_exporter": "python",
   "pygments_lexer": "ipython3",
   "version": "3.12.7"
  }
 },
 "nbformat": 4,
 "nbformat_minor": 5
}
