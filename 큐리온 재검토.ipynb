{
 "cells": [
  {
   "cell_type": "code",
   "execution_count": 2,
   "id": "a4d8d1f9-6c7d-4f31-a0f6-5271b278bfeb",
   "metadata": {},
   "outputs": [],
   "source": [
    "import pandas as pd\n",
    "import numpy as np\n",
    "from datetime import datetime, timedelta\n",
    "\n",
    "df1 = pd.read_excel('/Users/seanyu_mac/Downloads/20241023_2300/원부_이미지_성분인식_결합_split_1.xlsx')\n",
    "df2 = pd.read_excel('/Users/seanyu_mac/Downloads/20241023_2300/원부_이미지_성분인식_결합_split_2.xlsx')\n",
    "df3 = pd.read_excel('/Users/seanyu_mac/Downloads/20241023_2300/원부_이미지_성분인식_결합_split_3.xlsx')\n",
    "df4 = pd.read_excel('/Users/seanyu_mac/Downloads/20241023_2300/원부_이미지_성분인식_결합_split_4.xlsx')\n",
    "\n",
    "df = pd.concat([df1, df2, df3, df4])"
   ]
  },
  {
   "cell_type": "code",
   "execution_count": null,
   "id": "0e0a28f1-553a-42b7-a1ff-3b3f6a5e3558",
   "metadata": {},
   "outputs": [],
   "source": [
    "df.loc[df[df['pname'].duplicated()].index, 'pname'].values[1]"
   ]
  },
  {
   "cell_type": "code",
   "execution_count": null,
   "id": "04d280b7-b944-497b-acbf-8f8c0ead2981",
   "metadata": {},
   "outputs": [],
   "source": [
    "for name in df.loc[df['pname'].duplicated(), 'pname']:\n",
    "    con = df['pname'] == name\n",
    "    print(f'{name} / {df.loc[con, 'nutri']}')\n",
    "    print()"
   ]
  }
 ],
 "metadata": {
  "kernelspec": {
   "display_name": "Python 3 (ipykernel)",
   "language": "python",
   "name": "python3"
  },
  "language_info": {
   "codemirror_mode": {
    "name": "ipython",
    "version": 3
   },
   "file_extension": ".py",
   "mimetype": "text/x-python",
   "name": "python",
   "nbconvert_exporter": "python",
   "pygments_lexer": "ipython3",
   "version": "3.12.7"
  }
 },
 "nbformat": 4,
 "nbformat_minor": 5
}
