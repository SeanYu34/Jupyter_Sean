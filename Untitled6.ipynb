{
 "cells": [
  {
   "cell_type": "code",
   "execution_count": 1,
   "id": "19a6d230-c8b8-4d63-b3ee-d4921a6cf4bc",
   "metadata": {},
   "outputs": [],
   "source": [
    "import pandas as pd\n",
    "import numpy as np\n",
    "from datetime import datetime, timedelta\n",
    "import warnings\n",
    "warnings.simplefilter('ignore')"
   ]
  },
  {
   "cell_type": "code",
   "execution_count": 72,
   "id": "5c715e6a-d5db-4afa-a05d-ac852f4a7653",
   "metadata": {},
   "outputs": [],
   "source": [
    "payment_df = pd.read_csv('/Users/mac/Downloads/[2025.05]정산데이터체크-20250602 - 시트1 (1).csv')"
   ]
  },
  {
   "cell_type": "code",
   "execution_count": 73,
   "id": "eafdcee9-ff96-4919-bf70-629b0c8d5c0d",
   "metadata": {},
   "outputs": [],
   "source": [
    "toss_df = pd.read_excel('/Users/mac/Downloads/정산내역_건별_2025.05.01-2025.05.31_88655257-9247-4cbe-8b15-5432df782f4d.xlsx')"
   ]
  },
  {
   "cell_type": "code",
   "execution_count": 74,
   "id": "9435eca8-8ce7-4a41-9e6f-6725088660a7",
   "metadata": {},
   "outputs": [],
   "source": [
    "payment_df.drop(0, inplace=True)"
   ]
  },
  {
   "cell_type": "code",
   "execution_count": 75,
   "id": "969c5d6a-0427-44f4-bb8a-d889b64fbd8e",
   "metadata": {},
   "outputs": [
    {
     "name": "stdout",
     "output_type": "stream",
     "text": [
      "토스 어드민의 정산입금일 기준 5월 데이터 총 건수는\n"
     ]
    },
    {
     "data": {
      "text/plain": [
       "879"
      ]
     },
     "execution_count": 75,
     "metadata": {},
     "output_type": "execute_result"
    }
   ],
   "source": [
    "print('토스 어드민의 정산입금일 기준 5월 데이터 총 건수는')\n",
    "toss_df.index.size"
   ]
  },
  {
   "cell_type": "code",
   "execution_count": 85,
   "id": "4ff3d312-2c4e-4ef6-a290-350df04e6f77",
   "metadata": {},
   "outputs": [
    {
     "name": "stdout",
     "output_type": "stream",
     "text": [
      "토스 어드민의 정산입금일 기준 5월 데이터 중 중복되는 결제 키 건수는\n"
     ]
    },
    {
     "data": {
      "text/plain": [
       "12"
      ]
     },
     "execution_count": 85,
     "metadata": {},
     "output_type": "execute_result"
    }
   ],
   "source": [
    "print('토스 어드민의 정산입금일 기준 5월 데이터 중 중복되는 결제 키 건수는')\n",
    "toss_df[toss_df['TID'].duplicated()].index.size"
   ]
  },
  {
   "cell_type": "code",
   "execution_count": 76,
   "id": "1f5a9f41-ba57-4be5-bb23-c2a1aa17e36e",
   "metadata": {},
   "outputs": [
    {
     "name": "stdout",
     "output_type": "stream",
     "text": [
      "토스 어드민의 정산입금일 기준 5월 데이터 중 중복제거한 결제 키 건수는\n"
     ]
    },
    {
     "data": {
      "text/plain": [
       "867"
      ]
     },
     "execution_count": 76,
     "metadata": {},
     "output_type": "execute_result"
    }
   ],
   "source": [
    "print('토스 어드민의 정산입금일 기준 5월 데이터 중 중복제거한 결제 키 건수는')\n",
    "toss_keys = toss_df['TID'].unique().tolist()\n",
    "toss_df['TID'].unique().size"
   ]
  },
  {
   "cell_type": "code",
   "execution_count": 82,
   "id": "6582d27e-1d72-4689-8481-07576b237159",
   "metadata": {},
   "outputs": [
    {
     "name": "stdout",
     "output_type": "stream",
     "text": [
      "앤써니가 뽑아주신 정산 데이터 중 중복 제거된 결제 키 건수는\n"
     ]
    },
    {
     "data": {
      "text/plain": [
       "874"
      ]
     },
     "execution_count": 82,
     "metadata": {},
     "output_type": "execute_result"
    }
   ],
   "source": [
    "print('앤써니가 뽑아주신 정산 데이터 중 중복 제거된 결제 키 건수는')\n",
    "payment_keys = payment_df['결제 Key'].unique().tolist()\n",
    "payment_df['결제 Key'].unique().size"
   ]
  },
  {
   "cell_type": "code",
   "execution_count": 88,
   "id": "c2bba45c-d3c9-4c02-aeac-658a5e13f162",
   "metadata": {},
   "outputs": [
    {
     "name": "stdout",
     "output_type": "stream",
     "text": [
      "앤써니 데이터에는 있고, 토스데이터에는 없는 7개 결제키들은\n",
      "\n",
      "parma20250417103936yxpX1\n",
      "parma20250417123532DqTQ6\n",
      "parma20250417105124r9jv5\n",
      "parma20250417101918tYof3\n",
      "parma20250417114114x7564\n",
      "parma20250417110719GKKK2\n",
      "parma20250423221225p33g4\n"
     ]
    }
   ],
   "source": [
    "print('앤써니 데이터에는 있고, 토스데이터에는 없는 7개 결제키들은\\n')\n",
    "for i in payment_keys:\n",
    "    if i not in toss_keys:\n",
    "        print(i)"
   ]
  },
  {
   "cell_type": "code",
   "execution_count": null,
   "id": "dd31fc4d-56ed-4941-b926-2cc98654416f",
   "metadata": {},
   "outputs": [],
   "source": [
    "parma20250417103936yxpX1\n",
    "parma20250417123532DqTQ6\n",
    "parma20250417101918tYof3\n",
    "parma20250417114114x7564\n",
    "parma20250417110719GKKK2\n",
    "parma20250507164411mues6\n",
    "parma20250506202136VJYf5\n",
    "parma20250522113252byzq2"
   ]
  },
  {
   "cell_type": "code",
   "execution_count": 89,
   "id": "535b93b2-a003-4814-9e9d-160e997ec0bb",
   "metadata": {},
   "outputs": [],
   "source": [
    "fs_df = pd.read_excel('/Users/mac/Downloads/주문내역_2024-06-02~2025-06-02 (1).xlsx')"
   ]
  },
  {
   "cell_type": "code",
   "execution_count": 92,
   "id": "5745a71d-622b-4612-afdb-2814681f89b0",
   "metadata": {},
   "outputs": [
    {
     "data": {
      "text/html": [
       "<div>\n",
       "<style scoped>\n",
       "    .dataframe tbody tr th:only-of-type {\n",
       "        vertical-align: middle;\n",
       "    }\n",
       "\n",
       "    .dataframe tbody tr th {\n",
       "        vertical-align: top;\n",
       "    }\n",
       "\n",
       "    .dataframe thead th {\n",
       "        text-align: right;\n",
       "    }\n",
       "</style>\n",
       "<table border=\"1\" class=\"dataframe\">\n",
       "  <thead>\n",
       "    <tr style=\"text-align: right;\">\n",
       "      <th></th>\n",
       "      <th>결제 번호</th>\n",
       "      <th>상품 번호</th>\n",
       "      <th>주문 번호</th>\n",
       "      <th>결제 완료일</th>\n",
       "      <th>주문 상태</th>\n",
       "      <th>상품명</th>\n",
       "      <th>옵션명</th>\n",
       "      <th>수량</th>\n",
       "      <th>정상가</th>\n",
       "      <th>판매가</th>\n",
       "      <th>...</th>\n",
       "      <th>송장 번호</th>\n",
       "      <th>배송비 정책</th>\n",
       "      <th>배송비</th>\n",
       "      <th>도서산간 배송비</th>\n",
       "      <th>취소 완료일</th>\n",
       "      <th>판매자 취소일</th>\n",
       "      <th>반품 요청일</th>\n",
       "      <th>수거 요청일</th>\n",
       "      <th>수거 완료일</th>\n",
       "      <th>반품 완료일</th>\n",
       "    </tr>\n",
       "  </thead>\n",
       "  <tbody>\n",
       "    <tr>\n",
       "      <th>1056</th>\n",
       "      <td>parma20250423221225p33g4</td>\n",
       "      <td>51268</td>\n",
       "      <td>54362-53205</td>\n",
       "      <td>2025-04-23 22:12:46.143</td>\n",
       "      <td>반품완료(반품완료)</td>\n",
       "      <td>[공동구매] 약사비책 X YDY 파이토 레드큐민(정제) &amp; 퓨어레드큐민(분말) / ...</td>\n",
       "      <td>파이토레드큐민(정제)_12박스(45%할인)</td>\n",
       "      <td>1</td>\n",
       "      <td>660000</td>\n",
       "      <td>363000</td>\n",
       "      <td>...</td>\n",
       "      <td>5.348036e+11</td>\n",
       "      <td>무료배송</td>\n",
       "      <td>0</td>\n",
       "      <td>0</td>\n",
       "      <td>NaT</td>\n",
       "      <td>NaT</td>\n",
       "      <td>2025-04-28 11:07:40.597</td>\n",
       "      <td>2025-04-29 13:06:09.669</td>\n",
       "      <td>2025-05-07 16:19:30.688</td>\n",
       "      <td>2025-05-07 16:19:46.939</td>\n",
       "    </tr>\n",
       "    <tr>\n",
       "      <th>1718</th>\n",
       "      <td>parma20250417123532DqTQ6</td>\n",
       "      <td>51260</td>\n",
       "      <td>53310-52543</td>\n",
       "      <td>2025-04-17 12:36:00.440</td>\n",
       "      <td>반품완료(반품완료)</td>\n",
       "      <td>[공동구매] 릴리약사 X 파이토알엑스 이뮨 빌베리 / 4박스 6박스 8박스</td>\n",
       "      <td>30포X4박스</td>\n",
       "      <td>1</td>\n",
       "      <td>112000</td>\n",
       "      <td>65000</td>\n",
       "      <td>...</td>\n",
       "      <td>5.347622e+11</td>\n",
       "      <td>무료배송</td>\n",
       "      <td>0</td>\n",
       "      <td>0</td>\n",
       "      <td>NaT</td>\n",
       "      <td>NaT</td>\n",
       "      <td>2025-04-21 15:26:15.689</td>\n",
       "      <td>2025-04-22 14:59:27.520</td>\n",
       "      <td>2025-04-28 18:07:30.300</td>\n",
       "      <td>2025-04-28 18:07:37.810</td>\n",
       "    </tr>\n",
       "    <tr>\n",
       "      <th>1746</th>\n",
       "      <td>parma20250417114114x7564</td>\n",
       "      <td>51260</td>\n",
       "      <td>53271-52515</td>\n",
       "      <td>2025-04-17 11:41:51.946</td>\n",
       "      <td>반품완료(반품완료)</td>\n",
       "      <td>[공동구매] 릴리약사 X 파이토알엑스 이뮨 빌베리 / 4박스 6박스 8박스</td>\n",
       "      <td>30포X4박스</td>\n",
       "      <td>1</td>\n",
       "      <td>112000</td>\n",
       "      <td>65000</td>\n",
       "      <td>...</td>\n",
       "      <td>5.347622e+11</td>\n",
       "      <td>무료배송</td>\n",
       "      <td>0</td>\n",
       "      <td>0</td>\n",
       "      <td>NaT</td>\n",
       "      <td>NaT</td>\n",
       "      <td>2025-04-22 15:20:47.486</td>\n",
       "      <td>2025-04-23 11:55:11.620</td>\n",
       "      <td>2025-04-29 18:41:57.972</td>\n",
       "      <td>2025-04-29 18:42:04.613</td>\n",
       "    </tr>\n",
       "    <tr>\n",
       "      <th>1772</th>\n",
       "      <td>parma20250417110719GKKK2</td>\n",
       "      <td>51260</td>\n",
       "      <td>53235-52489</td>\n",
       "      <td>2025-04-17 11:09:42.404</td>\n",
       "      <td>반품완료(반품완료)</td>\n",
       "      <td>[공동구매] 릴리약사 X 파이토알엑스 이뮨 빌베리 / 4박스 6박스 8박스</td>\n",
       "      <td>30포X4박스</td>\n",
       "      <td>1</td>\n",
       "      <td>112000</td>\n",
       "      <td>65000</td>\n",
       "      <td>...</td>\n",
       "      <td>5.347622e+11</td>\n",
       "      <td>무료배송</td>\n",
       "      <td>0</td>\n",
       "      <td>0</td>\n",
       "      <td>NaT</td>\n",
       "      <td>NaT</td>\n",
       "      <td>2025-04-23 11:09:29.706</td>\n",
       "      <td>2025-04-25 13:06:37.610</td>\n",
       "      <td>2025-04-29 20:02:27.435</td>\n",
       "      <td>2025-04-29 20:02:31.867</td>\n",
       "    </tr>\n",
       "    <tr>\n",
       "      <th>1789</th>\n",
       "      <td>parma20250417105124r9jv5</td>\n",
       "      <td>51260</td>\n",
       "      <td>53216-52472</td>\n",
       "      <td>2025-04-17 10:51:54.912</td>\n",
       "      <td>반품완료(반품완료)</td>\n",
       "      <td>[공동구매] 릴리약사 X 파이토알엑스 이뮨 빌베리 / 4박스 6박스 8박스</td>\n",
       "      <td>30포X4박스</td>\n",
       "      <td>1</td>\n",
       "      <td>112000</td>\n",
       "      <td>65000</td>\n",
       "      <td>...</td>\n",
       "      <td>5.347622e+11</td>\n",
       "      <td>무료배송</td>\n",
       "      <td>0</td>\n",
       "      <td>0</td>\n",
       "      <td>NaT</td>\n",
       "      <td>NaT</td>\n",
       "      <td>2025-04-23 10:55:49.537</td>\n",
       "      <td>2025-04-25 13:06:18.807</td>\n",
       "      <td>2025-04-28 18:08:01.263</td>\n",
       "      <td>2025-04-28 18:08:06.052</td>\n",
       "    </tr>\n",
       "    <tr>\n",
       "      <th>1797</th>\n",
       "      <td>parma20250417103936yxpX1</td>\n",
       "      <td>51260</td>\n",
       "      <td>53204-52464</td>\n",
       "      <td>2025-04-17 10:39:49.483</td>\n",
       "      <td>반품완료(반품완료)</td>\n",
       "      <td>[공동구매] 릴리약사 X 파이토알엑스 이뮨 빌베리 / 4박스 6박스 8박스</td>\n",
       "      <td>30포X4박스</td>\n",
       "      <td>1</td>\n",
       "      <td>112000</td>\n",
       "      <td>65000</td>\n",
       "      <td>...</td>\n",
       "      <td>5.347622e+11</td>\n",
       "      <td>무료배송</td>\n",
       "      <td>0</td>\n",
       "      <td>0</td>\n",
       "      <td>NaT</td>\n",
       "      <td>NaT</td>\n",
       "      <td>2025-04-21 15:27:00.050</td>\n",
       "      <td>2025-04-22 14:59:44.869</td>\n",
       "      <td>2025-04-24 11:53:25.958</td>\n",
       "      <td>2025-04-24 11:53:32.906</td>\n",
       "    </tr>\n",
       "    <tr>\n",
       "      <th>1817</th>\n",
       "      <td>parma20250417101918tYof3</td>\n",
       "      <td>51260</td>\n",
       "      <td>53180-52444</td>\n",
       "      <td>2025-04-17 10:19:44.977</td>\n",
       "      <td>반품완료(반품완료)</td>\n",
       "      <td>[공동구매] 릴리약사 X 파이토알엑스 이뮨 빌베리 / 4박스 6박스 8박스</td>\n",
       "      <td>30포X4박스</td>\n",
       "      <td>1</td>\n",
       "      <td>112000</td>\n",
       "      <td>65000</td>\n",
       "      <td>...</td>\n",
       "      <td>5.347622e+11</td>\n",
       "      <td>무료배송</td>\n",
       "      <td>0</td>\n",
       "      <td>0</td>\n",
       "      <td>NaT</td>\n",
       "      <td>NaT</td>\n",
       "      <td>2025-04-22 13:22:37.071</td>\n",
       "      <td>2025-04-23 11:55:56.420</td>\n",
       "      <td>2025-04-28 18:08:18.544</td>\n",
       "      <td>2025-04-28 18:08:26.131</td>\n",
       "    </tr>\n",
       "  </tbody>\n",
       "</table>\n",
       "<p>7 rows × 37 columns</p>\n",
       "</div>"
      ],
      "text/plain": [
       "                         결제 번호  상품 번호        주문 번호                  결제 완료일  \\\n",
       "1056  parma20250423221225p33g4  51268  54362-53205 2025-04-23 22:12:46.143   \n",
       "1718  parma20250417123532DqTQ6  51260  53310-52543 2025-04-17 12:36:00.440   \n",
       "1746  parma20250417114114x7564  51260  53271-52515 2025-04-17 11:41:51.946   \n",
       "1772  parma20250417110719GKKK2  51260  53235-52489 2025-04-17 11:09:42.404   \n",
       "1789  parma20250417105124r9jv5  51260  53216-52472 2025-04-17 10:51:54.912   \n",
       "1797  parma20250417103936yxpX1  51260  53204-52464 2025-04-17 10:39:49.483   \n",
       "1817  parma20250417101918tYof3  51260  53180-52444 2025-04-17 10:19:44.977   \n",
       "\n",
       "           주문 상태                                                상품명  \\\n",
       "1056  반품완료(반품완료)  [공동구매] 약사비책 X YDY 파이토 레드큐민(정제) & 퓨어레드큐민(분말) / ...   \n",
       "1718  반품완료(반품완료)          [공동구매] 릴리약사 X 파이토알엑스 이뮨 빌베리 / 4박스 6박스 8박스   \n",
       "1746  반품완료(반품완료)          [공동구매] 릴리약사 X 파이토알엑스 이뮨 빌베리 / 4박스 6박스 8박스   \n",
       "1772  반품완료(반품완료)          [공동구매] 릴리약사 X 파이토알엑스 이뮨 빌베리 / 4박스 6박스 8박스   \n",
       "1789  반품완료(반품완료)          [공동구매] 릴리약사 X 파이토알엑스 이뮨 빌베리 / 4박스 6박스 8박스   \n",
       "1797  반품완료(반품완료)          [공동구매] 릴리약사 X 파이토알엑스 이뮨 빌베리 / 4박스 6박스 8박스   \n",
       "1817  반품완료(반품완료)          [공동구매] 릴리약사 X 파이토알엑스 이뮨 빌베리 / 4박스 6박스 8박스   \n",
       "\n",
       "                          옵션명  수량     정상가     판매가  ...         송장 번호  배송비 정책  \\\n",
       "1056  파이토레드큐민(정제)_12박스(45%할인)   1  660000  363000  ...  5.348036e+11    무료배송   \n",
       "1718                  30포X4박스   1  112000   65000  ...  5.347622e+11    무료배송   \n",
       "1746                  30포X4박스   1  112000   65000  ...  5.347622e+11    무료배송   \n",
       "1772                  30포X4박스   1  112000   65000  ...  5.347622e+11    무료배송   \n",
       "1789                  30포X4박스   1  112000   65000  ...  5.347622e+11    무료배송   \n",
       "1797                  30포X4박스   1  112000   65000  ...  5.347622e+11    무료배송   \n",
       "1817                  30포X4박스   1  112000   65000  ...  5.347622e+11    무료배송   \n",
       "\n",
       "      배송비  도서산간 배송비 취소 완료일 판매자 취소일                  반품 요청일  \\\n",
       "1056    0         0    NaT     NaT 2025-04-28 11:07:40.597   \n",
       "1718    0         0    NaT     NaT 2025-04-21 15:26:15.689   \n",
       "1746    0         0    NaT     NaT 2025-04-22 15:20:47.486   \n",
       "1772    0         0    NaT     NaT 2025-04-23 11:09:29.706   \n",
       "1789    0         0    NaT     NaT 2025-04-23 10:55:49.537   \n",
       "1797    0         0    NaT     NaT 2025-04-21 15:27:00.050   \n",
       "1817    0         0    NaT     NaT 2025-04-22 13:22:37.071   \n",
       "\n",
       "                      수거 요청일                  수거 완료일                  반품 완료일  \n",
       "1056 2025-04-29 13:06:09.669 2025-05-07 16:19:30.688 2025-05-07 16:19:46.939  \n",
       "1718 2025-04-22 14:59:27.520 2025-04-28 18:07:30.300 2025-04-28 18:07:37.810  \n",
       "1746 2025-04-23 11:55:11.620 2025-04-29 18:41:57.972 2025-04-29 18:42:04.613  \n",
       "1772 2025-04-25 13:06:37.610 2025-04-29 20:02:27.435 2025-04-29 20:02:31.867  \n",
       "1789 2025-04-25 13:06:18.807 2025-04-28 18:08:01.263 2025-04-28 18:08:06.052  \n",
       "1797 2025-04-22 14:59:44.869 2025-04-24 11:53:25.958 2025-04-24 11:53:32.906  \n",
       "1817 2025-04-23 11:55:56.420 2025-04-28 18:08:18.544 2025-04-28 18:08:26.131  \n",
       "\n",
       "[7 rows x 37 columns]"
      ]
     },
     "execution_count": 92,
     "metadata": {},
     "output_type": "execute_result"
    }
   ],
   "source": [
    "dupl_list = ['parma20250417103936yxpX1','parma20250417123532DqTQ6','parma20250417105124r9jv5','parma20250417101918tYof3','parma20250417114114x7564','parma20250417110719GKKK2','parma20250423221225p33g4']\n",
    "fs_df[fs_df['결제 번호'].isin(dupl_list)]"
   ]
  },
  {
   "cell_type": "code",
   "execution_count": 93,
   "id": "e2eaeaaf-34bc-4db2-a96f-ff28ca22e840",
   "metadata": {},
   "outputs": [
    {
     "data": {
      "text/html": [
       "<div>\n",
       "<style scoped>\n",
       "    .dataframe tbody tr th:only-of-type {\n",
       "        vertical-align: middle;\n",
       "    }\n",
       "\n",
       "    .dataframe tbody tr th {\n",
       "        vertical-align: top;\n",
       "    }\n",
       "\n",
       "    .dataframe thead th {\n",
       "        text-align: right;\n",
       "    }\n",
       "</style>\n",
       "<table border=\"1\" class=\"dataframe\">\n",
       "  <thead>\n",
       "    <tr style=\"text-align: right;\">\n",
       "      <th></th>\n",
       "      <th>결제 번호</th>\n",
       "      <th>상품 번호</th>\n",
       "      <th>주문 번호</th>\n",
       "      <th>결제 완료일</th>\n",
       "      <th>주문 상태</th>\n",
       "      <th>상품명</th>\n",
       "      <th>옵션명</th>\n",
       "      <th>수량</th>\n",
       "      <th>정상가</th>\n",
       "      <th>판매가</th>\n",
       "      <th>...</th>\n",
       "      <th>송장 번호</th>\n",
       "      <th>배송비 정책</th>\n",
       "      <th>배송비</th>\n",
       "      <th>도서산간 배송비</th>\n",
       "      <th>취소 완료일</th>\n",
       "      <th>판매자 취소일</th>\n",
       "      <th>반품 요청일</th>\n",
       "      <th>수거 요청일</th>\n",
       "      <th>수거 완료일</th>\n",
       "      <th>반품 완료일</th>\n",
       "    </tr>\n",
       "  </thead>\n",
       "  <tbody>\n",
       "    <tr>\n",
       "      <th>632</th>\n",
       "      <td>parma20250507164411mues6</td>\n",
       "      <td>50425</td>\n",
       "      <td>54996-53629</td>\n",
       "      <td>2025-05-07 16:44:31.679</td>\n",
       "      <td>반품완료(반품완료)</td>\n",
       "      <td>임직원용 PB 상품 구매 페이지</td>\n",
       "      <td>오큐클리어</td>\n",
       "      <td>1</td>\n",
       "      <td>45000</td>\n",
       "      <td>18300</td>\n",
       "      <td>...</td>\n",
       "      <td>12313425.0</td>\n",
       "      <td>무료배송</td>\n",
       "      <td>0</td>\n",
       "      <td>0</td>\n",
       "      <td>NaT</td>\n",
       "      <td>NaT</td>\n",
       "      <td>2025-05-07 16:50:07.831</td>\n",
       "      <td>2025-05-07 16:50:40.718</td>\n",
       "      <td>2025-05-07 16:50:51.751</td>\n",
       "      <td>2025-05-07 16:50:55.407</td>\n",
       "    </tr>\n",
       "  </tbody>\n",
       "</table>\n",
       "<p>1 rows × 37 columns</p>\n",
       "</div>"
      ],
      "text/plain": [
       "                        결제 번호  상품 번호        주문 번호                  결제 완료일  \\\n",
       "632  parma20250507164411mues6  50425  54996-53629 2025-05-07 16:44:31.679   \n",
       "\n",
       "          주문 상태                상품명    옵션명  수량    정상가    판매가  ...       송장 번호  \\\n",
       "632  반품완료(반품완료)  임직원용 PB 상품 구매 페이지  오큐클리어   1  45000  18300  ...  12313425.0   \n",
       "\n",
       "     배송비 정책  배송비  도서산간 배송비 취소 완료일 판매자 취소일                  반품 요청일  \\\n",
       "632    무료배송    0         0    NaT     NaT 2025-05-07 16:50:07.831   \n",
       "\n",
       "                     수거 요청일                  수거 완료일                  반품 완료일  \n",
       "632 2025-05-07 16:50:40.718 2025-05-07 16:50:51.751 2025-05-07 16:50:55.407  \n",
       "\n",
       "[1 rows x 37 columns]"
      ]
     },
     "execution_count": 93,
     "metadata": {},
     "output_type": "execute_result"
    }
   ],
   "source": [
    "fs_df[fs_df['결제 번호'] == 'parma20250507164411mues6']"
   ]
  },
  {
   "cell_type": "code",
   "execution_count": 96,
   "id": "e929c2ac-087e-4c5c-89a9-87e894bb5570",
   "metadata": {},
   "outputs": [
    {
     "data": {
      "text/html": [
       "<div>\n",
       "<style scoped>\n",
       "    .dataframe tbody tr th:only-of-type {\n",
       "        vertical-align: middle;\n",
       "    }\n",
       "\n",
       "    .dataframe tbody tr th {\n",
       "        vertical-align: top;\n",
       "    }\n",
       "\n",
       "    .dataframe thead th {\n",
       "        text-align: right;\n",
       "    }\n",
       "</style>\n",
       "<table border=\"1\" class=\"dataframe\">\n",
       "  <thead>\n",
       "    <tr style=\"text-align: right;\">\n",
       "      <th></th>\n",
       "      <th>상점아이디(MID)</th>\n",
       "      <th>정산액 입금일</th>\n",
       "      <th>매출일</th>\n",
       "      <th>결제/취소일</th>\n",
       "      <th>원거래승인일</th>\n",
       "      <th>주문번호</th>\n",
       "      <th>결제수단</th>\n",
       "      <th>결제상태</th>\n",
       "      <th>결제기관</th>\n",
       "      <th>구매자명</th>\n",
       "      <th>...</th>\n",
       "      <th>PG수수료 (B)</th>\n",
       "      <th>공급가액</th>\n",
       "      <th>부가세</th>\n",
       "      <th>당일 정산액 (C) = (A-B)</th>\n",
       "      <th>카드 매입상태</th>\n",
       "      <th>휴대폰요금 수납여부</th>\n",
       "      <th>구매상품</th>\n",
       "      <th>상품코드</th>\n",
       "      <th>카드 승인번호</th>\n",
       "      <th>TID</th>\n",
       "    </tr>\n",
       "  </thead>\n",
       "  <tbody>\n",
       "    <tr>\n",
       "      <th>263</th>\n",
       "      <td>parmarujdr</td>\n",
       "      <td>2025-05-14</td>\n",
       "      <td>2025-05-07</td>\n",
       "      <td>2025-05-07</td>\n",
       "      <td>2025-05-07</td>\n",
       "      <td>6b98b499-9691-4305-95c6-51ff03395fcf</td>\n",
       "      <td>신용·체크카드</td>\n",
       "      <td>완료</td>\n",
       "      <td>네이버페이</td>\n",
       "      <td>-</td>\n",
       "      <td>...</td>\n",
       "      <td>704</td>\n",
       "      <td>640</td>\n",
       "      <td>64</td>\n",
       "      <td>17596</td>\n",
       "      <td>매입</td>\n",
       "      <td>NaN</td>\n",
       "      <td>임직원용 PB 상품 구매 페이지</td>\n",
       "      <td>NaN</td>\n",
       "      <td>NaN</td>\n",
       "      <td>parma20250507164411mues6</td>\n",
       "    </tr>\n",
       "  </tbody>\n",
       "</table>\n",
       "<p>1 rows × 22 columns</p>\n",
       "</div>"
      ],
      "text/plain": [
       "     상점아이디(MID)     정산액 입금일         매출일      결제/취소일      원거래승인일  \\\n",
       "263  parmarujdr  2025-05-14  2025-05-07  2025-05-07  2025-05-07   \n",
       "\n",
       "                                     주문번호     결제수단 결제상태   결제기관 구매자명  ...  \\\n",
       "263  6b98b499-9691-4305-95c6-51ff03395fcf  신용·체크카드   완료  네이버페이    -  ...   \n",
       "\n",
       "    PG수수료 (B)  공급가액   부가세   당일 정산액 (C) = (A-B)  카드 매입상태  휴대폰요금 수납여부  \\\n",
       "263       704    640    64               17596       매입         NaN   \n",
       "\n",
       "                  구매상품  상품코드 카드 승인번호                       TID  \n",
       "263  임직원용 PB 상품 구매 페이지   NaN     NaN  parma20250507164411mues6  \n",
       "\n",
       "[1 rows x 22 columns]"
      ]
     },
     "execution_count": 96,
     "metadata": {},
     "output_type": "execute_result"
    }
   ],
   "source": [
    "toss_df[toss_df['TID'] == 'parma20250507164411mues6']"
   ]
  }
 ],
 "metadata": {
  "kernelspec": {
   "display_name": "Python [conda env:base] *",
   "language": "python",
   "name": "conda-base-py"
  },
  "language_info": {
   "codemirror_mode": {
    "name": "ipython",
    "version": 3
   },
   "file_extension": ".py",
   "mimetype": "text/x-python",
   "name": "python",
   "nbconvert_exporter": "python",
   "pygments_lexer": "ipython3",
   "version": "3.12.7"
  }
 },
 "nbformat": 4,
 "nbformat_minor": 5
}
