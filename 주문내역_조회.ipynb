{
 "cells": [
  {
   "cell_type": "code",
   "execution_count": 5,
   "id": "f659bd6b-33d2-4715-b1cf-08f4b93516a6",
   "metadata": {},
   "outputs": [],
   "source": [
    "import pandas as pd\n",
    "import numpy as np\n",
    "from datetime import datetime, timedelta\n",
    "import warnings\n",
    "warnings.simplefilter('ignore')"
   ]
  },
  {
   "cell_type": "code",
   "execution_count": 7,
   "id": "799ce7ab-1040-4267-ab0d-ae9cbb504bc7",
   "metadata": {},
   "outputs": [],
   "source": [
    "df = pd.read_excel('/Users/seanyu_mac/Downloads/주문내역_2024-05-12~2025-05-12 (1).xlsx')"
   ]
  },
  {
   "cell_type": "code",
   "execution_count": 17,
   "id": "1b10506a-a6e4-44bd-b253-c4630e52c455",
   "metadata": {},
   "outputs": [],
   "source": [
    "df = df[df['상품 번호'].isin([51271, \n",
    "51269, \n",
    "51268, \n",
    "51267, \n",
    "51260, \n",
    "51258, \n",
    "51259, \n",
    "51254, \n",
    "51257, \n",
    "51253, \n",
    "51256, \n",
    "51255])]"
   ]
  },
  {
   "cell_type": "code",
   "execution_count": 29,
   "id": "800b38cd-0719-4f96-a7b0-5942b8ace626",
   "metadata": {},
   "outputs": [
    {
     "data": {
      "text/plain": [
       "1319"
      ]
     },
     "execution_count": 29,
     "metadata": {},
     "output_type": "execute_result"
    }
   ],
   "source": [
    "df['구매자 연락처'].unique().size"
   ]
  },
  {
   "cell_type": "code",
   "execution_count": 32,
   "id": "d1c03818-bc6e-448b-b223-d3b63369de3a",
   "metadata": {},
   "outputs": [
    {
     "data": {
      "text/plain": [
       "119.9090909090909"
      ]
     },
     "execution_count": 32,
     "metadata": {},
     "output_type": "execute_result"
    }
   ],
   "source": [
    "1319/11"
   ]
  }
 ],
 "metadata": {
  "kernelspec": {
   "display_name": "Python 3 (ipykernel)",
   "language": "python",
   "name": "python3"
  },
  "language_info": {
   "codemirror_mode": {
    "name": "ipython",
    "version": 3
   },
   "file_extension": ".py",
   "mimetype": "text/x-python",
   "name": "python",
   "nbconvert_exporter": "python",
   "pygments_lexer": "ipython3",
   "version": "3.12.7"
  }
 },
 "nbformat": 4,
 "nbformat_minor": 5
}
