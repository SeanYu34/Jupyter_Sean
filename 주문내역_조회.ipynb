{
 "cells": [
  {
   "cell_type": "code",
   "execution_count": 2,
   "id": "f659bd6b-33d2-4715-b1cf-08f4b93516a6",
   "metadata": {},
   "outputs": [],
   "source": [
    "import pandas as pd\n",
    "import numpy as np\n",
    "from datetime import datetime, timedelta\n",
    "import warnings\n",
    "warnings.simplefilter('ignore')"
   ]
  },
  {
   "cell_type": "code",
   "execution_count": 56,
   "id": "799ce7ab-1040-4267-ab0d-ae9cbb504bc7",
   "metadata": {},
   "outputs": [],
   "source": [
    "df = pd.read_excel('/Users/seanyu_mac/Downloads/주문내역_51260_2024-04-21~2025-04-21 (1).xlsx')"
   ]
  },
  {
   "cell_type": "code",
   "execution_count": 58,
   "id": "77436c77-c1bb-4369-8b2d-65d93038c3b1",
   "metadata": {},
   "outputs": [],
   "source": [
    "temp_df = df[df['옵션명'] == '30포X4박스']"
   ]
  },
  {
   "cell_type": "code",
   "execution_count": 60,
   "id": "e1328413-b4e0-4690-aa27-57a3e4e411da",
   "metadata": {},
   "outputs": [
    {
     "data": {
      "text/plain": [
       "array(['결제완료', '취소완료', '배송완료', '배송중'], dtype=object)"
      ]
     },
     "execution_count": 60,
     "metadata": {},
     "output_type": "execute_result"
    }
   ],
   "source": [
    "temp_df['주문 상태'].unique()"
   ]
  },
  {
   "cell_type": "code",
   "execution_count": 62,
   "id": "45542a2a-d8b4-4209-8659-e5012d00436b",
   "metadata": {},
   "outputs": [],
   "source": [
    "temp_df = temp_df[temp_df['판매가'] == 65000]"
   ]
  },
  {
   "cell_type": "code",
   "execution_count": 64,
   "id": "ebd20249-590e-49d0-9a3b-0928f5ded738",
   "metadata": {},
   "outputs": [],
   "source": [
    "temp_df.to_excel('/Users/seanyu_mac/Downloads/릴리약사님_4박스_주문내역.xlsx')"
   ]
  },
  {
   "cell_type": "code",
   "execution_count": 68,
   "id": "676d50d8-fb4e-4af2-8e38-95f0b9561dc8",
   "metadata": {},
   "outputs": [],
   "source": [
    "temp_df = temp_df[~temp_df['주문 상태'].isin(['취소완료'])]"
   ]
  },
  {
   "cell_type": "code",
   "execution_count": 70,
   "id": "26d741a7-a916-4093-b189-61e68a30a47f",
   "metadata": {},
   "outputs": [
    {
     "data": {
      "text/plain": [
       "77"
      ]
     },
     "execution_count": 70,
     "metadata": {},
     "output_type": "execute_result"
    }
   ],
   "source": [
    "temp_df.index.size"
   ]
  },
  {
   "cell_type": "code",
   "execution_count": 78,
   "id": "d93fc2d8-ff05-4c8e-b1f6-baef0f69ca9f",
   "metadata": {},
   "outputs": [],
   "source": [
    "temp_df.to_excel('/Users/seanyu_mac/Downloads/릴리약사님_4박스_주문내역_v2.xlsx')"
   ]
  }
 ],
 "metadata": {
  "kernelspec": {
   "display_name": "Python 3 (ipykernel)",
   "language": "python",
   "name": "python3"
  },
  "language_info": {
   "codemirror_mode": {
    "name": "ipython",
    "version": 3
   },
   "file_extension": ".py",
   "mimetype": "text/x-python",
   "name": "python",
   "nbconvert_exporter": "python",
   "pygments_lexer": "ipython3",
   "version": "3.12.7"
  }
 },
 "nbformat": 4,
 "nbformat_minor": 5
}
