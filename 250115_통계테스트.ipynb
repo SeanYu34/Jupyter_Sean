{
 "cells": [
  {
   "cell_type": "code",
   "execution_count": 2,
   "id": "0ded3733-610d-4fac-aaa8-11b4a2e1de05",
   "metadata": {},
   "outputs": [],
   "source": [
    "import pandas as pd\n",
    "import numpy as np\n",
    "from datetime import datetime, timedelta\n",
    "\n",
    "dream_df = pd.read_excel('/Users/seanyu_mac/Downloads/0115_드림약사 오메가3 매출데이터_250115.xlsx')\n",
    "mh_df = pd.read_excel('/Users/seanyu_mac/Downloads/명훈약사 slb 매출데이터.xlsx')\n",
    "ue_df = pd.read_excel('/Users/seanyu_mac/Downloads/유이약사x헬스베버리지 250115 (1).xlsx')"
   ]
  },
  {
   "cell_type": "code",
   "execution_count": 24,
   "id": "302e638c-707f-46d9-8a1c-d3f1fb8fee03",
   "metadata": {},
   "outputs": [],
   "source": [
    "# 2박스 70,900 / 8박스 222,000 / 4박스 125,600\n",
    "\n",
    "four_box = dream_df['옵션정보'].unique()[0]\n",
    "two_box = dream_df['옵션정보'].unique()[1]\n",
    "eight_box = dream_df['옵션정보'].unique()[2]\n",
    "\n",
    "dream_df['price'] = 0\n",
    "dream_df.loc[dream_df['옵션정보'] == two_box, 'price'] = 70900\n",
    "dream_df.loc[dream_df['옵션정보'] == four_box, 'price'] = 125600\n",
    "dream_df.loc[dream_df['옵션정보'] == eight_box, 'price'] = 222000\n",
    "\n",
    "dream_df['sales'] = dream_df['price'] * dream_df['수량']"
   ]
  },
  {
   "cell_type": "code",
   "execution_count": 26,
   "id": "a3dfbaad-3b4d-46ab-b6ad-693c68334f9e",
   "metadata": {},
   "outputs": [
    {
     "name": "stderr",
     "output_type": "stream",
     "text": [
      "/var/folders/wl/txjbcgld2sngchsc7txxqppm0000gp/T/ipykernel_41200/583606636.py:2: SettingWithCopyWarning: \n",
      "A value is trying to be set on a copy of a slice from a DataFrame\n",
      "\n",
      "See the caveats in the documentation: https://pandas.pydata.org/pandas-docs/stable/user_guide/indexing.html#returning-a-view-versus-a-copy\n",
      "  df_dream.rename(columns={'주문일시': 'time'}, inplace=True)\n"
     ]
    },
    {
     "data": {
      "text/html": [
       "<div>\n",
       "<style scoped>\n",
       "    .dataframe tbody tr th:only-of-type {\n",
       "        vertical-align: middle;\n",
       "    }\n",
       "\n",
       "    .dataframe tbody tr th {\n",
       "        vertical-align: top;\n",
       "    }\n",
       "\n",
       "    .dataframe thead th {\n",
       "        text-align: right;\n",
       "    }\n",
       "</style>\n",
       "<table border=\"1\" class=\"dataframe\">\n",
       "  <thead>\n",
       "    <tr style=\"text-align: right;\">\n",
       "      <th></th>\n",
       "      <th>time</th>\n",
       "      <th>sales</th>\n",
       "    </tr>\n",
       "  </thead>\n",
       "  <tbody>\n",
       "    <tr>\n",
       "      <th>0</th>\n",
       "      <td>2025-01-15 15:27:00</td>\n",
       "      <td>125600</td>\n",
       "    </tr>\n",
       "    <tr>\n",
       "      <th>1</th>\n",
       "      <td>2025-01-15 15:19:00</td>\n",
       "      <td>70900</td>\n",
       "    </tr>\n",
       "    <tr>\n",
       "      <th>2</th>\n",
       "      <td>2025-01-15 15:19:00</td>\n",
       "      <td>70900</td>\n",
       "    </tr>\n",
       "    <tr>\n",
       "      <th>3</th>\n",
       "      <td>2025-01-15 15:18:00</td>\n",
       "      <td>125600</td>\n",
       "    </tr>\n",
       "    <tr>\n",
       "      <th>4</th>\n",
       "      <td>2025-01-15 15:16:00</td>\n",
       "      <td>125600</td>\n",
       "    </tr>\n",
       "    <tr>\n",
       "      <th>...</th>\n",
       "      <td>...</td>\n",
       "      <td>...</td>\n",
       "    </tr>\n",
       "    <tr>\n",
       "      <th>358</th>\n",
       "      <td>2025-01-15 10:00:00</td>\n",
       "      <td>222000</td>\n",
       "    </tr>\n",
       "    <tr>\n",
       "      <th>359</th>\n",
       "      <td>2025-01-15 10:00:00</td>\n",
       "      <td>125600</td>\n",
       "    </tr>\n",
       "    <tr>\n",
       "      <th>360</th>\n",
       "      <td>2025-01-15 10:00:00</td>\n",
       "      <td>70900</td>\n",
       "    </tr>\n",
       "    <tr>\n",
       "      <th>361</th>\n",
       "      <td>2025-01-15 10:00:00</td>\n",
       "      <td>70900</td>\n",
       "    </tr>\n",
       "    <tr>\n",
       "      <th>362</th>\n",
       "      <td>2025-01-15 10:00:00</td>\n",
       "      <td>70900</td>\n",
       "    </tr>\n",
       "  </tbody>\n",
       "</table>\n",
       "<p>363 rows × 2 columns</p>\n",
       "</div>"
      ],
      "text/plain": [
       "                   time   sales\n",
       "0   2025-01-15 15:27:00  125600\n",
       "1   2025-01-15 15:19:00   70900\n",
       "2   2025-01-15 15:19:00   70900\n",
       "3   2025-01-15 15:18:00  125600\n",
       "4   2025-01-15 15:16:00  125600\n",
       "..                  ...     ...\n",
       "358 2025-01-15 10:00:00  222000\n",
       "359 2025-01-15 10:00:00  125600\n",
       "360 2025-01-15 10:00:00   70900\n",
       "361 2025-01-15 10:00:00   70900\n",
       "362 2025-01-15 10:00:00   70900\n",
       "\n",
       "[363 rows x 2 columns]"
      ]
     },
     "execution_count": 26,
     "metadata": {},
     "output_type": "execute_result"
    }
   ],
   "source": [
    "df_dream = dream_df[['주문일시', 'sales']]\n",
    "df_dream.rename(columns={'주문일시': 'time'}, inplace=True)\n",
    "df_dream"
   ]
  },
  {
   "cell_type": "code",
   "execution_count": 28,
   "id": "32248194-deb8-4df5-a899-c15ffd6895c3",
   "metadata": {},
   "outputs": [
    {
     "name": "stderr",
     "output_type": "stream",
     "text": [
      "/var/folders/wl/txjbcgld2sngchsc7txxqppm0000gp/T/ipykernel_41200/1190186150.py:1: FutureWarning: 'T' is deprecated and will be removed in a future version, please use 'min' instead.\n",
      "  df_dream.groupby(pd.Grouper(key='time', freq='30T'))['sales'].sum()\n"
     ]
    },
    {
     "data": {
      "text/plain": [
       "time\n",
       "2025-01-15 10:00:00    14500800\n",
       "2025-01-15 10:30:00     5445500\n",
       "2025-01-15 11:00:00     4221600\n",
       "2025-01-15 11:30:00     3374800\n",
       "2025-01-15 12:00:00     2789000\n",
       "2025-01-15 12:30:00     2739900\n",
       "2025-01-15 13:00:00     2581900\n",
       "2025-01-15 13:30:00     1815800\n",
       "2025-01-15 14:00:00     1342600\n",
       "2025-01-15 14:30:00     1877400\n",
       "2025-01-15 15:00:00     1249900\n",
       "Freq: 30min, Name: sales, dtype: int64"
      ]
     },
     "execution_count": 28,
     "metadata": {},
     "output_type": "execute_result"
    }
   ],
   "source": [
    "df_dream.groupby(pd.Grouper(key='time', freq='30T'))['sales'].sum()"
   ]
  },
  {
   "cell_type": "code",
   "execution_count": 30,
   "id": "45062f01-c042-4328-9fb5-c09a5212d73d",
   "metadata": {},
   "outputs": [
    {
     "name": "stderr",
     "output_type": "stream",
     "text": [
      "/var/folders/wl/txjbcgld2sngchsc7txxqppm0000gp/T/ipykernel_41200/1666673863.py:1: FutureWarning: 'H' is deprecated and will be removed in a future version, please use 'h' instead.\n",
      "  df_dream.groupby(pd.Grouper(key='time', freq='1H'))['sales'].sum()\n"
     ]
    },
    {
     "data": {
      "text/plain": [
       "time\n",
       "2025-01-15 10:00:00    19946300\n",
       "2025-01-15 11:00:00     7596400\n",
       "2025-01-15 12:00:00     5528900\n",
       "2025-01-15 13:00:00     4397700\n",
       "2025-01-15 14:00:00     3220000\n",
       "2025-01-15 15:00:00     1249900\n",
       "Freq: h, Name: sales, dtype: int64"
      ]
     },
     "execution_count": 30,
     "metadata": {},
     "output_type": "execute_result"
    }
   ],
   "source": [
    "df_dream.groupby(pd.Grouper(key='time', freq='1H'))['sales'].sum()"
   ]
  },
  {
   "cell_type": "code",
   "execution_count": 32,
   "id": "87af4b8b-8f2d-4883-95bb-41d2b3ac839d",
   "metadata": {},
   "outputs": [
    {
     "name": "stderr",
     "output_type": "stream",
     "text": [
      "/var/folders/wl/txjbcgld2sngchsc7txxqppm0000gp/T/ipykernel_41200/1262616481.py:1: FutureWarning: 'H' is deprecated and will be removed in a future version, please use 'h' instead.\n",
      "  df_dream.groupby(pd.Grouper(key='time', freq='3H'))['sales'].sum()\n"
     ]
    },
    {
     "data": {
      "text/plain": [
       "time\n",
       "2025-01-15 09:00:00    27542700\n",
       "2025-01-15 12:00:00    13146600\n",
       "2025-01-15 15:00:00     1249900\n",
       "Freq: 3h, Name: sales, dtype: int64"
      ]
     },
     "execution_count": 32,
     "metadata": {},
     "output_type": "execute_result"
    }
   ],
   "source": [
    "df_dream.groupby(pd.Grouper(key='time', freq='3H'))['sales'].sum()"
   ]
  },
  {
   "cell_type": "code",
   "execution_count": 34,
   "id": "3f8592b8-a867-4559-9393-e8cc39bad77e",
   "metadata": {},
   "outputs": [
    {
     "name": "stderr",
     "output_type": "stream",
     "text": [
      "/var/folders/wl/txjbcgld2sngchsc7txxqppm0000gp/T/ipykernel_41200/3745953493.py:1: FutureWarning: 'H' is deprecated and will be removed in a future version, please use 'h' instead.\n",
      "  df_dream.groupby(pd.Grouper(key='time', freq='6H'))['sales'].sum()\n"
     ]
    },
    {
     "data": {
      "text/plain": [
       "time\n",
       "2025-01-15 06:00:00    27542700\n",
       "2025-01-15 12:00:00    14396500\n",
       "Freq: 6h, Name: sales, dtype: int64"
      ]
     },
     "execution_count": 34,
     "metadata": {},
     "output_type": "execute_result"
    }
   ],
   "source": [
    "df_dream.groupby(pd.Grouper(key='time', freq='6H'))['sales'].sum()"
   ]
  },
  {
   "cell_type": "code",
   "execution_count": 36,
   "id": "1bcfdd3b-3f1f-41ac-80df-01d7e8b46154",
   "metadata": {},
   "outputs": [
    {
     "data": {
      "text/plain": [
       "time\n",
       "2025-01-15    41939200\n",
       "Freq: D, Name: sales, dtype: int64"
      ]
     },
     "execution_count": 36,
     "metadata": {},
     "output_type": "execute_result"
    }
   ],
   "source": [
    "df_dream.groupby(pd.Grouper(key='time', freq='1D'))['sales'].sum()"
   ]
  },
  {
   "cell_type": "code",
   "execution_count": 44,
   "id": "770f8c96-bb86-4e37-9e40-edcbf9cd582b",
   "metadata": {},
   "outputs": [
    {
     "data": {
      "text/plain": [
       "Index(['결제번호', '최초배송비번호', '주문번호', '주문상태', '채널', '발송요청일', '채널상품번호', '상품명', '옵션',\n",
       "       '수량', '상품금액', '옵션금액', '판매자할인금액', '판매자쿠폰할인금액', '정산기준금액', '기본수수료',\n",
       "       '노출추가수수료', '추천리워드수수료', '수수료할인금액', '주문일', '송장입력일', '취소완료일', '환불완료일',\n",
       "       '배송예정일', '판매자상품번호', '배송방법', '택배사', '송장번호', '배송비지불방법', '기본배송비 유형',\n",
       "       '기본배송비 금액', '도서산간 추가 배송비 금액', '리워드율', '리워드금액', '브랜드', '모델명', '유입경로',\n",
       "       '옵션코드', '톡딜여부', '상품유형', 'biz판매여부 '],\n",
       "      dtype='object')"
      ]
     },
     "execution_count": 44,
     "metadata": {},
     "output_type": "execute_result"
    }
   ],
   "source": [
    "mh_df.columns"
   ]
  },
  {
   "cell_type": "code",
   "execution_count": 48,
   "id": "1c6d2094-5a51-48d0-be2a-a25963a14194",
   "metadata": {},
   "outputs": [
    {
     "data": {
      "text/html": [
       "<div>\n",
       "<style scoped>\n",
       "    .dataframe tbody tr th:only-of-type {\n",
       "        vertical-align: middle;\n",
       "    }\n",
       "\n",
       "    .dataframe tbody tr th {\n",
       "        vertical-align: top;\n",
       "    }\n",
       "\n",
       "    .dataframe thead th {\n",
       "        text-align: right;\n",
       "    }\n",
       "</style>\n",
       "<table border=\"1\" class=\"dataframe\">\n",
       "  <thead>\n",
       "    <tr style=\"text-align: right;\">\n",
       "      <th></th>\n",
       "      <th>price</th>\n",
       "      <th>sales</th>\n",
       "      <th>수량</th>\n",
       "      <th>time</th>\n",
       "    </tr>\n",
       "  </thead>\n",
       "  <tbody>\n",
       "    <tr>\n",
       "      <th>0</th>\n",
       "      <td>88000</td>\n",
       "      <td>88000</td>\n",
       "      <td>1</td>\n",
       "      <td>2025-01-15 16:23:28</td>\n",
       "    </tr>\n",
       "    <tr>\n",
       "      <th>1</th>\n",
       "      <td>88000</td>\n",
       "      <td>88000</td>\n",
       "      <td>1</td>\n",
       "      <td>2025-01-15 12:55:20</td>\n",
       "    </tr>\n",
       "    <tr>\n",
       "      <th>2</th>\n",
       "      <td>88000</td>\n",
       "      <td>88000</td>\n",
       "      <td>1</td>\n",
       "      <td>2025-01-15 12:52:50</td>\n",
       "    </tr>\n",
       "  </tbody>\n",
       "</table>\n",
       "</div>"
      ],
      "text/plain": [
       "   price  sales  수량                 time\n",
       "0  88000  88000   1  2025-01-15 16:23:28\n",
       "1  88000  88000   1  2025-01-15 12:55:20\n",
       "2  88000  88000   1  2025-01-15 12:52:50"
      ]
     },
     "execution_count": 48,
     "metadata": {},
     "output_type": "execute_result"
    }
   ],
   "source": [
    "mh_df = pd.read_csv('/Users/seanyu_mac/Downloads/명훈약사 slb 매출데이터.xlsx - Sheet0.csv')\n",
    "mh_df.head(3)"
   ]
  },
  {
   "cell_type": "code",
   "execution_count": 58,
   "id": "98f2ca05-b6f6-4fb7-9008-207fdf16b606",
   "metadata": {},
   "outputs": [
    {
     "name": "stderr",
     "output_type": "stream",
     "text": [
      "/var/folders/wl/txjbcgld2sngchsc7txxqppm0000gp/T/ipykernel_41200/300721707.py:2: FutureWarning: 'T' is deprecated and will be removed in a future version, please use 'min' instead.\n",
      "  df = pd.DataFrame(mh_df.groupby(pd.Grouper(key='time', freq='30T'))['sales'].sum())\n"
     ]
    }
   ],
   "source": [
    "mh_df['time'] = pd.to_datetime(mh_df['time'])\n",
    "df = pd.DataFrame(mh_df.groupby(pd.Grouper(key='time', freq='30T'))['sales'].sum())\n",
    "df.to_excel('/Users/seanyu_mac/Downloads/명훈약사 slb 매출데이터111.xlsx')"
   ]
  }
 ],
 "metadata": {
  "kernelspec": {
   "display_name": "Python 3 (ipykernel)",
   "language": "python",
   "name": "python3"
  },
  "language_info": {
   "codemirror_mode": {
    "name": "ipython",
    "version": 3
   },
   "file_extension": ".py",
   "mimetype": "text/x-python",
   "name": "python",
   "nbconvert_exporter": "python",
   "pygments_lexer": "ipython3",
   "version": "3.12.7"
  }
 },
 "nbformat": 4,
 "nbformat_minor": 5
}
