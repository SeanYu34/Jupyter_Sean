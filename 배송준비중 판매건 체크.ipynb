{
 "cells": [
  {
   "cell_type": "code",
   "execution_count": 25,
   "id": "881ebdd8-dcef-4628-b363-dc44118f4b72",
   "metadata": {},
   "outputs": [],
   "source": [
    "import pandas as pd\n",
    "import numpy as np\n",
    "from datetime import datetime, timedelta\n",
    "import warnings\n",
    "import matplotlib.pyplot as plt\n",
    "warnings.simplefilter('ignore')"
   ]
  },
  {
   "cell_type": "code",
   "execution_count": 27,
   "id": "3c225ecc-bbdd-4893-92d9-c5413954a873",
   "metadata": {},
   "outputs": [],
   "source": [
    "df = pd.read_excel('/Users/seanyu_mac/Downloads/주문내역_2024-02-01~2025-02-28.xlsx')"
   ]
  },
  {
   "cell_type": "code",
   "execution_count": 39,
   "id": "1bbb8353-e66b-4f20-ab4f-950546a7136c",
   "metadata": {},
   "outputs": [],
   "source": [
    "df = df.loc[df['상품명'].str.contains('남기헌'), '정산가'].sum()"
   ]
  },
  {
   "cell_type": "code",
   "execution_count": 43,
   "id": "c8aeee81-f1ed-4ec0-a3ee-05087f9b10d9",
   "metadata": {},
   "outputs": [
    {
     "ename": "IndexError",
     "evalue": "invalid index to scalar variable.",
     "output_type": "error",
     "traceback": [
      "\u001b[0;31m---------------------------------------------------------------------------\u001b[0m",
      "\u001b[0;31mIndexError\u001b[0m                                Traceback (most recent call last)",
      "Cell \u001b[0;32mIn[43], line 1\u001b[0m\n\u001b[0;32m----> 1\u001b[0m df[\u001b[38;5;124m'\u001b[39m\u001b[38;5;124m결제 완료일\u001b[39m\u001b[38;5;124m'\u001b[39m] \u001b[38;5;241m=\u001b[39m pd\u001b[38;5;241m.\u001b[39mto_datetime(df[\u001b[38;5;124m'\u001b[39m\u001b[38;5;124m결제 완료일\u001b[39m\u001b[38;5;124m'\u001b[39m])\n\u001b[1;32m      2\u001b[0m con1 \u001b[38;5;241m=\u001b[39m df[\u001b[38;5;124m'\u001b[39m\u001b[38;5;124m결제 완료일\u001b[39m\u001b[38;5;124m'\u001b[39m] \u001b[38;5;241m>\u001b[39m datetime(\u001b[38;5;241m2025\u001b[39m,\u001b[38;5;241m2\u001b[39m, \u001b[38;5;241m1\u001b[39m)\n\u001b[1;32m      3\u001b[0m con2 \u001b[38;5;241m=\u001b[39m df[\u001b[38;5;124m'\u001b[39m\u001b[38;5;124m결제 완료일\u001b[39m\u001b[38;5;124m'\u001b[39m] \u001b[38;5;241m<\u001b[39m datetime(\u001b[38;5;241m2025\u001b[39m,\u001b[38;5;241m3\u001b[39m, \u001b[38;5;241m1\u001b[39m)\n",
      "\u001b[0;31mIndexError\u001b[0m: invalid index to scalar variable."
     ]
    }
   ],
   "source": [
    "df['결제 완료일'] = pd.to_datetime(df['결제 완료일'])\n",
    "con1 = df['결제 완료일'] > datetime(2025,2, 1)\n",
    "con2 = df['결제 완료일'] < datetime(2025,3, 1)\n",
    "\n",
    "df[con1 & con2]"
   ]
  },
  {
   "cell_type": "code",
   "execution_count": 4,
   "id": "047b0e0f-fd86-4c51-985e-dda368aaa5d5",
   "metadata": {},
   "outputs": [],
   "source": [
    "df = pd.read_excel('/Users/seanyu_mac/Downloads/주문내역_2025-04-11~2025-04-18.xlsx')"
   ]
  },
  {
   "cell_type": "code",
   "execution_count": 14,
   "id": "45a49969-6a22-41b3-aa4d-5be48e3954de",
   "metadata": {},
   "outputs": [
    {
     "data": {
      "text/plain": [
       "Timestamp('2025-04-17 13:22:08.204000')"
      ]
     },
     "execution_count": 14,
     "metadata": {},
     "output_type": "execute_result"
    }
   ],
   "source": [
    "df['결제 완료일'].min()"
   ]
  },
  {
   "cell_type": "code",
   "execution_count": 18,
   "id": "d416fc41-4fb3-4b3c-aa2a-ab0976c61e28",
   "metadata": {},
   "outputs": [
    {
     "data": {
      "text/plain": [
       "143"
      ]
     },
     "execution_count": 18,
     "metadata": {},
     "output_type": "execute_result"
    }
   ],
   "source": [
    "df.index.size"
   ]
  },
  {
   "cell_type": "code",
   "execution_count": 22,
   "id": "5f5c9912-5b98-4011-9077-f0a5fd08501c",
   "metadata": {},
   "outputs": [
    {
     "data": {
      "text/plain": [
       "<DatetimeArray>\n",
       "['2025-04-18 13:15:01.849000']\n",
       "Length: 1, dtype: datetime64[ns]"
      ]
     },
     "execution_count": 22,
     "metadata": {},
     "output_type": "execute_result"
    }
   ],
   "source": [
    "df['주문 확인일'].unique()"
   ]
  }
 ],
 "metadata": {
  "kernelspec": {
   "display_name": "Python 3 (ipykernel)",
   "language": "python",
   "name": "python3"
  },
  "language_info": {
   "codemirror_mode": {
    "name": "ipython",
    "version": 3
   },
   "file_extension": ".py",
   "mimetype": "text/x-python",
   "name": "python",
   "nbconvert_exporter": "python",
   "pygments_lexer": "ipython3",
   "version": "3.12.7"
  }
 },
 "nbformat": 4,
 "nbformat_minor": 5
}
