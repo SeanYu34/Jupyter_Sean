{
 "cells": [
  {
   "cell_type": "code",
   "execution_count": 2,
   "id": "7bba9550-ef69-4783-b1e4-a39c94073f83",
   "metadata": {},
   "outputs": [],
   "source": [
    "import pandas as pd\n",
    "import numpy as np\n",
    "from datetime import datetime, timedelta\n",
    "import warnings\n",
    "warnings.simplefilter('ignore')\n",
    "\n",
    "single_prodict_id_df = pd.read_excel('/Users/seanyu_mac/Downloads/품목_현황-250320.xlsx')\n",
    "multi_prodict_id_df = pd.read_excel('/Users/seanyu_mac/Downloads/세트_품목_현황-250320.xlsx')\n"
   ]
  },
  {
   "cell_type": "code",
   "execution_count": 12,
   "id": "87111bb4-d680-4ca5-a08d-6569afa733d6",
   "metadata": {},
   "outputs": [],
   "source": [
    "single_prodict_id_df = single_prodict_id_df[single_prodict_id_df['업체품목코드'].isna() == False]\n",
    "multi_prodict_id_df = multi_prodict_id_df[multi_prodict_id_df['업체품목코드'].isna() == False]"
   ]
  },
  {
   "cell_type": "code",
   "execution_count": 20,
   "id": "effeea47-805d-4bd9-bdd7-428668d1d55e",
   "metadata": {},
   "outputs": [
    {
     "name": "stdout",
     "output_type": "stream",
     "text": [
      "<class 'pandas.core.frame.DataFrame'>\n",
      "Index: 42 entries, 0 to 196\n",
      "Data columns (total 21 columns):\n",
      " #   Column    Non-Null Count  Dtype  \n",
      "---  ------    --------------  -----  \n",
      " 0   관리        0 non-null      float64\n",
      " 1   입수량기준 출고  42 non-null     object \n",
      " 2   품목코드      42 non-null     int64  \n",
      " 3   구분        42 non-null     object \n",
      " 4   품목명       42 non-null     object \n",
      " 5   업체품목코드    42 non-null     float64\n",
      " 6   입수량       42 non-null     int64  \n",
      " 7   품목추가정보    0 non-null      float64\n",
      " 8   바코드       0 non-null      float64\n",
      " 9   매입처       0 non-null      float64\n",
      " 10  판매처       42 non-null     object \n",
      " 11  판매채널      0 non-null      float64\n",
      " 12  매입단가      42 non-null     int64  \n",
      " 13  판매단가      42 non-null     int64  \n",
      " 14  보관온도      42 non-null     object \n",
      " 15  사용여부      42 non-null     object \n",
      " 16  너비        18 non-null     float64\n",
      " 17  높이        18 non-null     float64\n",
      " 18  깊이        18 non-null     float64\n",
      " 19  무게        0 non-null      float64\n",
      " 20  등록일       42 non-null     object \n",
      "dtypes: float64(10), int64(4), object(7)\n",
      "memory usage: 7.2+ KB\n",
      "<class 'pandas.core.frame.DataFrame'>\n",
      "Index: 30 entries, 11 to 243\n",
      "Data columns (total 22 columns):\n",
      " #   Column       Non-Null Count  Dtype  \n",
      "---  ------       --------------  -----  \n",
      " 0   품목코드         30 non-null     int64  \n",
      " 1   구분           30 non-null     object \n",
      " 2   품목명          30 non-null     object \n",
      " 3   업체품목코드       30 non-null     float64\n",
      " 4   품목추가정보       0 non-null      float64\n",
      " 5   매입가          30 non-null     int64  \n",
      " 6   판매가          30 non-null     int64  \n",
      " 7   구성상품코드       30 non-null     int64  \n",
      " 8   구성상품 업체품목코드  27 non-null     float64\n",
      " 9   구성상품명        30 non-null     object \n",
      " 10  구성수량         30 non-null     int64  \n",
      " 11  구성상품 가격      30 non-null     int64  \n",
      " 12  보관온도         30 non-null     object \n",
      " 13  매입처          0 non-null      float64\n",
      " 14  판매처          30 non-null     object \n",
      " 15  판매채널         0 non-null      float64\n",
      " 16  사용여부         30 non-null     object \n",
      " 17  너비           0 non-null      float64\n",
      " 18  높이           0 non-null      float64\n",
      " 19  깊이           0 non-null      float64\n",
      " 20  무게           30 non-null     float64\n",
      " 21  등록일          30 non-null     object \n",
      "dtypes: float64(9), int64(6), object(7)\n",
      "memory usage: 5.4+ KB\n"
     ]
    }
   ],
   "source": [
    "single_prodict_id_df.info()\n",
    "multi_prodict_id_df.info()\n"
   ]
  }
 ],
 "metadata": {
  "kernelspec": {
   "display_name": "Python 3 (ipykernel)",
   "language": "python",
   "name": "python3"
  },
  "language_info": {
   "codemirror_mode": {
    "name": "ipython",
    "version": 3
   },
   "file_extension": ".py",
   "mimetype": "text/x-python",
   "name": "python",
   "nbconvert_exporter": "python",
   "pygments_lexer": "ipython3",
   "version": "3.12.7"
  }
 },
 "nbformat": 4,
 "nbformat_minor": 5
}
