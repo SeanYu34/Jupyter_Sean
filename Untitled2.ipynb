{
 "cells": [
  {
   "cell_type": "code",
   "execution_count": 43,
   "id": "9b885391-d540-453d-994a-cd8fe5291f29",
   "metadata": {},
   "outputs": [],
   "source": [
    "import pandas as pd\n",
    "from datetime import datetime\n",
    "\n",
    "pb_df = pd.read_csv('/Users/seanyu_mac/Downloads/public_pb_user_export_2025-02-27_095829.csv')\n",
    "auth_df = pd.read_csv('/Users/seanyu_mac/Downloads/public_pb_user_auth_info_export_2025-02-27_100459.csv')\n",
    "\n",
    "merged_df = pb_df.merge(auth_df, left_on='id', right_on='user_id', how='inner')"
   ]
  },
  {
   "cell_type": "code",
   "execution_count": 67,
   "id": "973bc3bf-aa39-467d-bf41-7a53e5e5ac5b",
   "metadata": {},
   "outputs": [
    {
     "data": {
      "text/plain": [
       "Index(['id_x', 'reg_type', 'email_x', 'name_x', 'sns_id_x', 'password_x',\n",
       "       'last_login_dt', 'reg_dt', 'upd_dt', 'profile_img', 'verify_yn',\n",
       "       'del_yn', 'delete_type', 'delete_message', 'del_dt', 'user_tag',\n",
       "       'mobile_origin', 'gender', 'birthyear', 'mobile', 'reg_types',\n",
       "       'social_reg_info', 'pharmacy_title_codes', 'agreement_status', 'id_y',\n",
       "       'email_y', 'sns_type', 'sns_id_y', 'nickname', 'name_y', 'password_y',\n",
       "       'birthday', 'phone', 'sex', 'di', 'ci', 'is_connect', 'created_at',\n",
       "       'updated_at', 'is_delete', 'deleted_at', 'delete_reason', 'user_id',\n",
       "       'display_email', 'settings'],\n",
       "      dtype='object')"
      ]
     },
     "execution_count": 67,
     "metadata": {},
     "output_type": "execute_result"
    }
   ],
   "source": [
    "merged_df.columns"
   ]
  },
  {
   "cell_type": "code",
   "execution_count": 65,
   "id": "486318ba-3247-44d6-a192-ead96fe5966a",
   "metadata": {},
   "outputs": [
    {
     "data": {
      "text/plain": [
       "626"
      ]
     },
     "execution_count": 65,
     "metadata": {},
     "output_type": "execute_result"
    }
   ],
   "source": [
    "merged_df = pb_df.merge(auth_df, left_on='id', right_on='user_id', how='inner')\n",
    "merged_df['reg_dt'] = pd.to_datetime(merged_df['reg_dt'], format='mixed')\n",
    "con1 = merged_df['reg_dt'] >= datetime(2025, 2, 17)\n",
    "con2 = merged_df['reg_dt'] < datetime(2025, 2, 24)\n",
    "merged_df[con1 & con2].index.size"
   ]
  },
  {
   "cell_type": "code",
   "execution_count": 5,
   "id": "1dc40214-b8c6-437a-911b-cbb5d1faaa28",
   "metadata": {},
   "outputs": [],
   "source": [
    "from datetime import datetime\n",
    "df['reg_dt'] = pd.to_datetime(df['reg_dt'], format='mixed')"
   ]
  },
  {
   "cell_type": "code",
   "execution_count": 15,
   "id": "4b89833f-11f8-4f16-805f-f97737c01872",
   "metadata": {},
   "outputs": [],
   "source": [
    "con1 = df['reg_dt'] >= datetime(2025, 2, 17)\n",
    "con2 = df['reg_dt'] < datetime(2025, 2, 24)\n",
    "df = df[con1 & con2]"
   ]
  },
  {
   "cell_type": "code",
   "execution_count": 21,
   "id": "8a08545b-b07e-4551-b0ac-7f3d49a62531",
   "metadata": {},
   "outputs": [
    {
     "data": {
      "text/plain": [
       "631"
      ]
     },
     "execution_count": 21,
     "metadata": {},
     "output_type": "execute_result"
    }
   ],
   "source": [
    "len(df['id'].unique())"
   ]
  },
  {
   "cell_type": "code",
   "execution_count": 33,
   "id": "4f48b0a5-fcae-40a8-98d9-fd10c9505a92",
   "metadata": {},
   "outputs": [],
   "source": [
    "df = pd.read_csv('/Users/seanyu_mac/Downloads/public_pb_user_auth_info_export_2025-02-27_100459.csv')"
   ]
  },
  {
   "cell_type": "code",
   "execution_count": 39,
   "id": "1e7269e0-0a7b-40a4-8033-908ab76a8770",
   "metadata": {},
   "outputs": [
    {
     "data": {
      "text/plain": [
       "662"
      ]
     },
     "execution_count": 39,
     "metadata": {},
     "output_type": "execute_result"
    }
   ],
   "source": [
    "df['created_at'] = pd.to_datetime(df['created_at'], format='mixed')\n",
    "con1 = df['created_at'] >= datetime(2025, 2, 17)\n",
    "con2 = df['created_at'] < datetime(2025, 2, 24)\n",
    "df = df[con1 & con2]\n",
    "len(df['id'].unique())"
   ]
  },
  {
   "cell_type": "code",
   "execution_count": 41,
   "id": "46ca3891-2af9-471b-bec2-9a0136f50015",
   "metadata": {},
   "outputs": [
    {
     "data": {
      "text/plain": [
       "0.9531722054380665"
      ]
     },
     "execution_count": 41,
     "metadata": {},
     "output_type": "execute_result"
    }
   ],
   "source": [
    "631/662"
   ]
  }
 ],
 "metadata": {
  "kernelspec": {
   "display_name": "Python 3 (ipykernel)",
   "language": "python",
   "name": "python3"
  },
  "language_info": {
   "codemirror_mode": {
    "name": "ipython",
    "version": 3
   },
   "file_extension": ".py",
   "mimetype": "text/x-python",
   "name": "python",
   "nbconvert_exporter": "python",
   "pygments_lexer": "ipython3",
   "version": "3.12.7"
  }
 },
 "nbformat": 4,
 "nbformat_minor": 5
}
